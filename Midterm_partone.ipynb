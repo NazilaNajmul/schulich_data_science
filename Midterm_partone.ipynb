{
 "cells": [
  {
   "cell_type": "code",
   "execution_count": 1,
   "metadata": {},
   "outputs": [],
   "source": [
    "import pandas as pd\n",
    "import numpy as np\n",
    "from statsmodels.sandbox.regression.gmm import GMM\n",
    "from scipy.optimize import minimize"
   ]
  },
  {
   "cell_type": "code",
   "execution_count": 2,
   "metadata": {},
   "outputs": [],
   "source": [
    "# Load the dataset\n",
    "data = pd.read_csv(\"/MBAN- Schulich/MBAN- Sem 2/Predictive Modeling/Mid term Project/midterm_partone.csv\")"
   ]
  },
  {
   "cell_type": "code",
   "execution_count": 3,
   "metadata": {},
   "outputs": [
    {
     "name": "stdout",
     "output_type": "stream",
     "text": [
      "   Constant  Stock Change  Inventory Turnover  Operating Profit  \\\n",
      "0         1      0.870332            1.795946          0.115846   \n",
      "1         1     -0.047347            1.395501          0.436967   \n",
      "2         1      0.001176            1.664563          0.541016   \n",
      "3         1     -0.901200            1.605738          0.539399   \n",
      "4         1     -0.176353            1.591451          0.539938   \n",
      "\n",
      "   Interaction Effect  Current Ratio  Quick Ratio  Debt Asset Ratio  \n",
      "0            0.208053       1.672527     0.255171          0.473317  \n",
      "1            0.609788       1.637261     0.221763          0.489967  \n",
      "2            0.900555       1.640619     0.189141          0.374269  \n",
      "3            0.866133       1.436221     0.131944          0.224399  \n",
      "4            0.859285       1.433140     0.183095          0.213446  \n"
     ]
    }
   ],
   "source": [
    "# Display the first few rows to understand its structure\n",
    "print(data.head())"
   ]
  },
  {
   "cell_type": "code",
   "execution_count": 4,
   "metadata": {},
   "outputs": [],
   "source": [
    "# Define dependent, independent, and instrumental variables\n",
    "y_vals = np.array(data[\"Stock Change\"])  # Dependent variable\n",
    "x_vals = np.array(data[[\"Inventory Turnover\", \"Operating Profit\", \"Interaction Effect\"]])  # Endogenous variables\n",
    "iv_vals = np.array(data[[\"Current Ratio\", \"Quick Ratio\", \"Debt Asset Ratio\"]])  # Instrumental variables"
   ]
  },
  {
   "cell_type": "code",
   "execution_count": 22,
   "metadata": {},
   "outputs": [],
   "source": [
    "# Define the custom GMM class to handle the moment conditions with delta\n",
    "class GMMWithBias:\n",
    "    def __init__(self, y_vals, x_vals, iv_vals):\n",
    "        self.y_vals = y_vals\n",
    "        self.x_vals = x_vals\n",
    "        self.iv_vals = iv_vals\n",
    "\n",
    "    # Define the moment conditions with optional data arguments\n",
    "    def moment_conditions(self, params, y_vals=None, x_vals=None, iv_vals=None):\n",
    "        if y_vals is None:\n",
    "            y_vals = self.y_vals\n",
    "        if x_vals is None:\n",
    "            x_vals = self.x_vals\n",
    "        if iv_vals is None:\n",
    "            iv_vals = self.iv_vals\n",
    "\n",
    "        # Unpack parameters (coefficients and delta)\n",
    "        p0, p1, p2, p3, delta = params\n",
    "        # Calculate residuals with delta\n",
    "        residuals = y_vals - (p0 + p1 * x_vals[:, 0] + p2 * x_vals[:, 1] + p3 * x_vals[:, 2]) - delta\n",
    "        \n",
    "        # Moment conditions with residuals and instruments\n",
    "        g = np.column_stack((residuals,\n",
    "                             residuals * x_vals[:, 0],\n",
    "                             residuals * x_vals[:, 1],\n",
    "                             residuals * x_vals[:, 2],\n",
    "                             residuals * iv_vals[:, 0],\n",
    "                             residuals * iv_vals[:, 1],\n",
    "                             residuals * iv_vals[:, 2]))\n",
    "        return g\n",
    "\n",
    "    # Define the GMM objective function to minimize\n",
    "    def gmm_objective(self, params, y_vals=None, x_vals=None, iv_vals=None):\n",
    "        moments = self.moment_conditions(params, y_vals, x_vals, iv_vals)\n",
    "        return np.sum(moments ** 2)"
   ]
  },
  {
   "cell_type": "code",
   "execution_count": 23,
   "metadata": {},
   "outputs": [],
   "source": [
    "# Initialize parameters\n",
    "initial_params = np.array([0.1, 0.1, 0.1, 0.1, 0.1])"
   ]
  },
  {
   "cell_type": "code",
   "execution_count": 24,
   "metadata": {},
   "outputs": [],
   "source": [
    "# Fit the GMM model\n",
    "gmm_model = GMMWithBias(y_vals, x_vals, iv_vals)"
   ]
  },
  {
   "cell_type": "code",
   "execution_count": 25,
   "metadata": {},
   "outputs": [],
   "source": [
    "# Optimize to find the best-fit parameters\n",
    "result = minimize(gmm_model.gmm_objective, initial_params)"
   ]
  },
  {
   "cell_type": "code",
   "execution_count": 26,
   "metadata": {},
   "outputs": [],
   "source": [
    "# Extract and print the estimated parameters\n",
    "B_estimated = result.x[:-1]  # Estimated coefficients for x_vals\n",
    "delta_estimated = result.x[-1]  # Estimated bias term delta"
   ]
  },
  {
   "cell_type": "code",
   "execution_count": 27,
   "metadata": {},
   "outputs": [
    {
     "name": "stdout",
     "output_type": "stream",
     "text": [
      "Estimated Coefficients (B): [-0.02226153  0.00066278 -0.03505035  0.00049336]\n",
      "Estimated Bias Term (Delta): -0.022261532077181536\n",
      "Optimization Success: False\n",
      "Objective Function Value: 1250539.0814367211\n"
     ]
    }
   ],
   "source": [
    "# Display the results\n",
    "print(\"Estimated Coefficients (B):\", B_estimated)\n",
    "print(\"Estimated Bias Term (Delta):\", delta_estimated)\n",
    "print(\"Optimization Success:\", result.success)\n",
    "print(\"Objective Function Value:\", result.fun)"
   ]
  },
  {
   "cell_type": "code",
   "execution_count": 28,
   "metadata": {},
   "outputs": [],
   "source": [
    "# Bootstrap for standard errors and confidence intervals\n",
    "bootstrap_samples = 1000\n",
    "delta_estimates = []"
   ]
  },
  {
   "cell_type": "code",
   "execution_count": 29,
   "metadata": {},
   "outputs": [],
   "source": [
    "from sklearn.utils import resample\n",
    "\n",
    "for _ in range(bootstrap_samples):\n",
    "    y_sample, x_sample, iv_sample = resample(y_vals, x_vals, iv_vals, random_state=None)\n",
    "    result_boot = minimize(gmm_model.gmm_objective, initial_params, args=(y_sample, x_sample, iv_sample))\n",
    "    if result_boot.success:\n",
    "        delta_estimates.append(result_boot.x[-1])"
   ]
  },
  {
   "cell_type": "code",
   "execution_count": 30,
   "metadata": {},
   "outputs": [],
   "source": [
    "# Calculate statistics for delta\n",
    "delta_std_error = np.std(delta_estimates)\n",
    "delta_confidence_interval = (np.percentile(delta_estimates, 2.5), np.percentile(delta_estimates, 97.5))"
   ]
  },
  {
   "cell_type": "code",
   "execution_count": 31,
   "metadata": {},
   "outputs": [
    {
     "name": "stdout",
     "output_type": "stream",
     "text": [
      "Standard Error of Delta: 0.044055179831660365\n",
      "95% Confidence Interval for Delta: (np.float64(-0.08561923067701317), np.float64(0.06488949197560152))\n"
     ]
    }
   ],
   "source": [
    "print(\"Standard Error of Delta:\", delta_std_error)\n",
    "print(\"95% Confidence Interval for Delta:\", delta_confidence_interval)"
   ]
  }
 ],
 "metadata": {
  "kernelspec": {
   "display_name": "Python 3",
   "language": "python",
   "name": "python3"
  },
  "language_info": {
   "codemirror_mode": {
    "name": "ipython",
    "version": 3
   },
   "file_extension": ".py",
   "mimetype": "text/x-python",
   "name": "python",
   "nbconvert_exporter": "python",
   "pygments_lexer": "ipython3",
   "version": "3.12.3"
  }
 },
 "nbformat": 4,
 "nbformat_minor": 2
}
