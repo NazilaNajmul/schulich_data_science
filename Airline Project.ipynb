{
 "cells": [
  {
   "cell_type": "code",
   "execution_count": 1,
   "metadata": {},
   "outputs": [],
   "source": [
    "import pandas as pd"
   ]
  },
  {
   "cell_type": "code",
   "execution_count": 3,
   "metadata": {},
   "outputs": [],
   "source": [
    "df= pd.read_csv(\"/Users/nazil/Downloads/fabricated_data.csv\")"
   ]
  },
  {
   "cell_type": "code",
   "execution_count": 6,
   "metadata": {},
   "outputs": [
    {
     "data": {
      "text/html": [
       "<div>\n",
       "<style scoped>\n",
       "    .dataframe tbody tr th:only-of-type {\n",
       "        vertical-align: middle;\n",
       "    }\n",
       "\n",
       "    .dataframe tbody tr th {\n",
       "        vertical-align: top;\n",
       "    }\n",
       "\n",
       "    .dataframe thead th {\n",
       "        text-align: right;\n",
       "    }\n",
       "</style>\n",
       "<table border=\"1\" class=\"dataframe\">\n",
       "  <thead>\n",
       "    <tr style=\"text-align: right;\">\n",
       "      <th></th>\n",
       "      <th>Passenger_ID</th>\n",
       "      <th>Transaction_Date</th>\n",
       "      <th>Transaction_Amount</th>\n",
       "      <th>Transaction_Type</th>\n",
       "      <th>Flight_Class</th>\n",
       "      <th>Destination</th>\n",
       "      <th>Booking_Channel</th>\n",
       "      <th>Loyalty_Member</th>\n",
       "    </tr>\n",
       "  </thead>\n",
       "  <tbody>\n",
       "    <tr>\n",
       "      <th>0</th>\n",
       "      <td>P05872</td>\n",
       "      <td>2022-01-13</td>\n",
       "      <td>48.33</td>\n",
       "      <td>Meal Purchase</td>\n",
       "      <td>First</td>\n",
       "      <td>NaN</td>\n",
       "      <td>Travel Agent</td>\n",
       "      <td>False</td>\n",
       "    </tr>\n",
       "    <tr>\n",
       "      <th>1</th>\n",
       "      <td>P03757</td>\n",
       "      <td>2024-07-18</td>\n",
       "      <td>137.58</td>\n",
       "      <td>Baggage Fee</td>\n",
       "      <td>Economy</td>\n",
       "      <td>NaN</td>\n",
       "      <td>Call Center</td>\n",
       "      <td>False</td>\n",
       "    </tr>\n",
       "    <tr>\n",
       "      <th>2</th>\n",
       "      <td>P09319</td>\n",
       "      <td>2022-09-11</td>\n",
       "      <td>21.38</td>\n",
       "      <td>In-flight Purchase</td>\n",
       "      <td>Premium Economy</td>\n",
       "      <td>NaN</td>\n",
       "      <td>Travel Agent</td>\n",
       "      <td>False</td>\n",
       "    </tr>\n",
       "    <tr>\n",
       "      <th>3</th>\n",
       "      <td>P06960</td>\n",
       "      <td>2023-11-11</td>\n",
       "      <td>1025.04</td>\n",
       "      <td>Flight Booking</td>\n",
       "      <td>Premium Economy</td>\n",
       "      <td>Singapore</td>\n",
       "      <td>Website</td>\n",
       "      <td>False</td>\n",
       "    </tr>\n",
       "    <tr>\n",
       "      <th>4</th>\n",
       "      <td>P04193</td>\n",
       "      <td>2023-03-05</td>\n",
       "      <td>74.24</td>\n",
       "      <td>Lounge Access</td>\n",
       "      <td>First</td>\n",
       "      <td>NaN</td>\n",
       "      <td>Mobile App</td>\n",
       "      <td>False</td>\n",
       "    </tr>\n",
       "  </tbody>\n",
       "</table>\n",
       "</div>"
      ],
      "text/plain": [
       "  Passenger_ID Transaction_Date  Transaction_Amount    Transaction_Type  \\\n",
       "0       P05872       2022-01-13               48.33       Meal Purchase   \n",
       "1       P03757       2024-07-18              137.58         Baggage Fee   \n",
       "2       P09319       2022-09-11               21.38  In-flight Purchase   \n",
       "3       P06960       2023-11-11             1025.04      Flight Booking   \n",
       "4       P04193       2023-03-05               74.24       Lounge Access   \n",
       "\n",
       "      Flight_Class Destination Booking_Channel  Loyalty_Member  \n",
       "0            First         NaN    Travel Agent           False  \n",
       "1          Economy         NaN     Call Center           False  \n",
       "2  Premium Economy         NaN    Travel Agent           False  \n",
       "3  Premium Economy   Singapore         Website           False  \n",
       "4            First         NaN      Mobile App           False  "
      ]
     },
     "execution_count": 6,
     "metadata": {},
     "output_type": "execute_result"
    }
   ],
   "source": [
    "df.head()"
   ]
  },
  {
   "cell_type": "code",
   "execution_count": 8,
   "metadata": {},
   "outputs": [
    {
     "name": "stdout",
     "output_type": "stream",
     "text": [
      "Collecting faker\n",
      "  Downloading Faker-33.0.0-py3-none-any.whl.metadata (15 kB)\n",
      "Requirement already satisfied: python-dateutil>=2.4 in c:\\users\\nazil\\appdata\\roaming\\python\\python312\\site-packages (from faker) (2.9.0.post0)\n",
      "Requirement already satisfied: typing-extensions in c:\\users\\nazil\\appdata\\local\\programs\\python\\python312\\lib\\site-packages (from faker) (4.12.2)\n",
      "Requirement already satisfied: six>=1.5 in c:\\users\\nazil\\appdata\\roaming\\python\\python312\\site-packages (from python-dateutil>=2.4->faker) (1.16.0)\n",
      "Downloading Faker-33.0.0-py3-none-any.whl (1.9 MB)\n",
      "   ---------------------------------------- 0.0/1.9 MB ? eta -:--:--\n",
      "   ----------- ---------------------------- 0.5/1.9 MB 3.4 MB/s eta 0:00:01\n",
      "   --------------------------- ------------ 1.3/1.9 MB 3.7 MB/s eta 0:00:01\n",
      "   ---------------------------------------- 1.9/1.9 MB 3.5 MB/s eta 0:00:00\n",
      "Installing collected packages: faker\n",
      "Successfully installed faker-33.0.0\n"
     ]
    }
   ],
   "source": [
    "!pip install faker"
   ]
  },
  {
   "cell_type": "code",
   "execution_count": 9,
   "metadata": {},
   "outputs": [],
   "source": [
    "import random\n",
    "from faker import Faker\n",
    "from datetime import timedelta"
   ]
  },
  {
   "cell_type": "code",
   "execution_count": 10,
   "metadata": {},
   "outputs": [],
   "source": [
    "# Initialize Faker\n",
    "fake = Faker()"
   ]
  },
  {
   "cell_type": "code",
   "execution_count": null,
   "metadata": {},
   "outputs": [],
   "source": [
    "# Seasonal Trends with 5 destinations from each continent\n",
    "seasonal_trends = {\n",
    "    \"Winter\": [\"Aspen (USA)\", \"Whistler (Canada)\", \"Reykjavik (Iceland)\", \"Zurich (Switzerland)\", \"Banff (Canada)\"],\n",
    "    \"Spring\": [\"Kyoto (Japan)\", \"Paris (France)\", \"Amsterdam (Netherlands)\", \"Florence (Italy)\", \"Cape Town (South Africa)\"],\n",
    "    \"Summer\": [\"Maui (USA)\", \"Barcelona (Spain)\", \"Santorini (Greece)\", \"Bali (Indonesia)\", \"Rio de Janeiro (Brazil)\"],\n",
    "    \"Fall\": [\"New York (USA)\", \"Munich (Germany)\", \"Vancouver (Canada)\", \"Edinburgh (Scotland)\", \"Tokyo (Japan)\"]\n",
    "}"
   ]
  },
  {
   "cell_type": "code",
   "execution_count": 12,
   "metadata": {},
   "outputs": [],
   "source": [
    "# Generate Customer Data\n",
    "def generate_customer_data(num_records):\n",
    "    customers = []\n",
    "    for _ in range(num_records):\n",
    "        customer = {\n",
    "            \"customer_id\": fake.uuid4(),\n",
    "            \"name\": fake.name(),\n",
    "            \"age\": random.randint(18, 70),\n",
    "            \"income_level\": random.choice([\"Low\", \"Medium\", \"High\"]),\n",
    "            \"location\": fake.city(),\n",
    "            \"travel_purpose\": random.choice([\"Business\", \"Leisure\"]),\n",
    "        }\n",
    "        customers.append(customer)\n",
    "    return customers"
   ]
  },
  {
   "cell_type": "code",
   "execution_count": null,
   "metadata": {},
   "outputs": [],
   "source": [
    "# Generate Seasonal Booking Data\n",
    "def generate_seasonal_booking_data(num_records, customer_ids):\n",
    "    bookings = []\n",
    "    for _ in range(num_records):\n",
    "        season = random.choice(list(seasonal_trends.keys()))\n",
    "        destination = random.choice(seasonal_trends[season])\n",
    "        booking_date = fake.date_this_year()\n",
    "        travel_date = pd.to_datetime(booking_date) + timedelta(days=random.randint(1, 60))\n",
    "        booking = {\n",
    "            \"transaction_id\": fake.uuid4(),\n",
    "            \"customer_id\": random.choice(customer_ids),\n",
    "            \"destination\": destination,\n",
    "            \"season\": season,\n",
    "            \"booking_date\": booking_date,\n",
    "            \"travel_date\": travel_date.strftime(\"%Y-%m-%d\"),\n",
    "            \"airfare\": round(random.uniform(100, 2000), 2),\n",
    "            \"promotion_used\": random.choice([True, False]),\n",
    "        }\n",
    "        bookings.append(booking)\n",
    "    return bookings"
   ]
  },
  {
   "cell_type": "code",
   "execution_count": 14,
   "metadata": {},
   "outputs": [],
   "source": [
    "# Generate Economic Indicators\n",
    "def generate_economic_indicators(num_records):\n",
    "    indicators = []\n",
    "    for _ in range(num_records):\n",
    "        indicator = {\n",
    "            \"date\": fake.date_this_year(),\n",
    "            \"region\": fake.country(),\n",
    "            \"gdp_growth_rate\": round(random.uniform(-2.0, 5.0), 2),\n",
    "            \"unemployment_rate\": round(random.uniform(2.0, 12.0), 2),\n",
    "        }\n",
    "        indicators.append(indicator)\n",
    "    return indicators"
   ]
  },
  {
   "cell_type": "code",
   "execution_count": 15,
   "metadata": {},
   "outputs": [],
   "source": [
    "# Generate Time-Series Booking Data\n",
    "def generate_time_series_booking_data(num_records, customer_ids):\n",
    "    bookings = []\n",
    "    start_date = fake.date_this_year()\n",
    "    for _ in range(num_records):\n",
    "        date = pd.to_datetime(start_date) + timedelta(days=random.randint(0, 180))\n",
    "        booking = {\n",
    "            \"transaction_id\": fake.uuid4(),\n",
    "            \"customer_id\": random.choice(customer_ids),\n",
    "            \"destination\": fake.city(),\n",
    "            \"booking_date\": date.strftime(\"%Y-%m-%d\"),\n",
    "            \"travel_date\": (date + timedelta(days=random.randint(1, 60))).strftime(\"%Y-%m-%d\"),\n",
    "            \"airfare\": round(random.uniform(100, 2000), 2),\n",
    "            \"promotion_used\": random.choice([True, False]),\n",
    "        }\n",
    "        bookings.append(booking)\n",
    "    return bookings"
   ]
  },
  {
   "cell_type": "code",
   "execution_count": 16,
   "metadata": {},
   "outputs": [],
   "source": [
    "# Generate Data\n",
    "num_customers = 100\n",
    "num_bookings = 300\n",
    "num_economic_records = 50\n",
    "\n",
    "customer_data = generate_customer_data(num_customers)\n",
    "customer_df = pd.DataFrame(customer_data)\n",
    "\n",
    "seasonal_booking_data = generate_seasonal_booking_data(num_bookings, customer_df['customer_id'].tolist())\n",
    "seasonal_booking_df = pd.DataFrame(seasonal_booking_data)\n",
    "\n",
    "economic_data = generate_economic_indicators(num_economic_records)\n",
    "economic_df = pd.DataFrame(economic_data)\n",
    "\n",
    "time_series_booking_data = generate_time_series_booking_data(num_bookings, customer_df['customer_id'].tolist())\n",
    "time_series_booking_df = pd.DataFrame(time_series_booking_data)"
   ]
  },
  {
   "cell_type": "code",
   "execution_count": 17,
   "metadata": {},
   "outputs": [],
   "source": [
    "# Combine All Data into One File\n",
    "combined_data = {\n",
    "    \"Customers\": customer_df,\n",
    "    \"Seasonal_Bookings\": seasonal_booking_df,\n",
    "    \"Economic_Indicators\": economic_df,\n",
    "    \"Time_Series_Bookings\": time_series_booking_df,\n",
    "}"
   ]
  },
  {
   "cell_type": "code",
   "execution_count": 25,
   "metadata": {},
   "outputs": [],
   "source": [
    "output_file = \"/Users/nazil/Downloads/combined_data.csv\""
   ]
  }
 ],
 "metadata": {
  "kernelspec": {
   "display_name": "Python 3",
   "language": "python",
   "name": "python3"
  },
  "language_info": {
   "codemirror_mode": {
    "name": "ipython",
    "version": 3
   },
   "file_extension": ".py",
   "mimetype": "text/x-python",
   "name": "python",
   "nbconvert_exporter": "python",
   "pygments_lexer": "ipython3",
   "version": "3.12.3"
  }
 },
 "nbformat": 4,
 "nbformat_minor": 2
}
