{
 "cells": [
  {
   "cell_type": "markdown",
   "metadata": {},
   "source": [
    "1. Understing the Dataset structure:"
   ]
  },
  {
   "cell_type": "code",
   "execution_count": 3,
   "metadata": {},
   "outputs": [],
   "source": [
    "import pandas as pd"
   ]
  },
  {
   "cell_type": "code",
   "execution_count": 4,
   "metadata": {},
   "outputs": [],
   "source": [
    "df= pd.read_csv(\"c:/MBAN- Schulich/MBAN- Sem 2/Data Science 2/Final Exam/Recipe Reviews and User Feedback Dataset.csv\")"
   ]
  },
  {
   "cell_type": "code",
   "execution_count": 5,
   "metadata": {},
   "outputs": [
    {
     "name": "stdout",
     "output_type": "stream",
     "text": [
      "<class 'pandas.core.frame.DataFrame'>\n",
      "RangeIndex: 18182 entries, 0 to 18181\n",
      "Data columns (total 15 columns):\n",
      " #   Column           Non-Null Count  Dtype \n",
      "---  ------           --------------  ----- \n",
      " 0   Unnamed: 0       18182 non-null  int64 \n",
      " 1   recipe_number    18182 non-null  int64 \n",
      " 2   recipe_code      18182 non-null  int64 \n",
      " 3   recipe_name      18182 non-null  object\n",
      " 4   comment_id       18182 non-null  object\n",
      " 5   user_id          18182 non-null  object\n",
      " 6   user_name        18182 non-null  object\n",
      " 7   user_reputation  18182 non-null  int64 \n",
      " 8   created_at       18182 non-null  int64 \n",
      " 9   reply_count      18182 non-null  int64 \n",
      " 10  thumbs_up        18182 non-null  int64 \n",
      " 11  thumbs_down      18182 non-null  int64 \n",
      " 12  stars            18182 non-null  int64 \n",
      " 13  best_score       18182 non-null  int64 \n",
      " 14  text             18180 non-null  object\n",
      "dtypes: int64(10), object(5)\n",
      "memory usage: 2.1+ MB\n",
      "None\n"
     ]
    }
   ],
   "source": [
    "print(df.info())"
   ]
  },
  {
   "cell_type": "code",
   "execution_count": 6,
   "metadata": {},
   "outputs": [
    {
     "data": {
      "text/html": [
       "<div>\n",
       "<style scoped>\n",
       "    .dataframe tbody tr th:only-of-type {\n",
       "        vertical-align: middle;\n",
       "    }\n",
       "\n",
       "    .dataframe tbody tr th {\n",
       "        vertical-align: top;\n",
       "    }\n",
       "\n",
       "    .dataframe thead th {\n",
       "        text-align: right;\n",
       "    }\n",
       "</style>\n",
       "<table border=\"1\" class=\"dataframe\">\n",
       "  <thead>\n",
       "    <tr style=\"text-align: right;\">\n",
       "      <th></th>\n",
       "      <th>Unnamed: 0</th>\n",
       "      <th>recipe_number</th>\n",
       "      <th>recipe_code</th>\n",
       "      <th>user_reputation</th>\n",
       "      <th>created_at</th>\n",
       "      <th>reply_count</th>\n",
       "      <th>thumbs_up</th>\n",
       "      <th>thumbs_down</th>\n",
       "      <th>stars</th>\n",
       "      <th>best_score</th>\n",
       "    </tr>\n",
       "  </thead>\n",
       "  <tbody>\n",
       "    <tr>\n",
       "      <th>count</th>\n",
       "      <td>18182.000000</td>\n",
       "      <td>18182.000000</td>\n",
       "      <td>18182.000000</td>\n",
       "      <td>18182.000000</td>\n",
       "      <td>1.818200e+04</td>\n",
       "      <td>18182.000000</td>\n",
       "      <td>18182.000000</td>\n",
       "      <td>18182.000000</td>\n",
       "      <td>18182.000000</td>\n",
       "      <td>18182.000000</td>\n",
       "    </tr>\n",
       "    <tr>\n",
       "      <th>mean</th>\n",
       "      <td>121.465295</td>\n",
       "      <td>38.689363</td>\n",
       "      <td>21773.667253</td>\n",
       "      <td>2.159608</td>\n",
       "      <td>1.623710e+09</td>\n",
       "      <td>0.014630</td>\n",
       "      <td>1.089264</td>\n",
       "      <td>0.549335</td>\n",
       "      <td>4.288802</td>\n",
       "      <td>153.162138</td>\n",
       "    </tr>\n",
       "    <tr>\n",
       "      <th>std</th>\n",
       "      <td>116.747893</td>\n",
       "      <td>29.786647</td>\n",
       "      <td>23965.109637</td>\n",
       "      <td>10.014666</td>\n",
       "      <td>5.468697e+06</td>\n",
       "      <td>0.137974</td>\n",
       "      <td>4.201004</td>\n",
       "      <td>3.470124</td>\n",
       "      <td>1.544786</td>\n",
       "      <td>141.075316</td>\n",
       "    </tr>\n",
       "    <tr>\n",
       "      <th>min</th>\n",
       "      <td>0.000000</td>\n",
       "      <td>1.000000</td>\n",
       "      <td>386.000000</td>\n",
       "      <td>0.000000</td>\n",
       "      <td>1.613035e+09</td>\n",
       "      <td>0.000000</td>\n",
       "      <td>0.000000</td>\n",
       "      <td>0.000000</td>\n",
       "      <td>0.000000</td>\n",
       "      <td>0.000000</td>\n",
       "    </tr>\n",
       "    <tr>\n",
       "      <th>25%</th>\n",
       "      <td>45.000000</td>\n",
       "      <td>12.000000</td>\n",
       "      <td>6086.000000</td>\n",
       "      <td>1.000000</td>\n",
       "      <td>1.622717e+09</td>\n",
       "      <td>0.000000</td>\n",
       "      <td>0.000000</td>\n",
       "      <td>0.000000</td>\n",
       "      <td>5.000000</td>\n",
       "      <td>100.000000</td>\n",
       "    </tr>\n",
       "    <tr>\n",
       "      <th>50%</th>\n",
       "      <td>91.000000</td>\n",
       "      <td>33.000000</td>\n",
       "      <td>14600.000000</td>\n",
       "      <td>1.000000</td>\n",
       "      <td>1.622718e+09</td>\n",
       "      <td>0.000000</td>\n",
       "      <td>0.000000</td>\n",
       "      <td>0.000000</td>\n",
       "      <td>5.000000</td>\n",
       "      <td>100.000000</td>\n",
       "    </tr>\n",
       "    <tr>\n",
       "      <th>75%</th>\n",
       "      <td>150.000000</td>\n",
       "      <td>64.000000</td>\n",
       "      <td>33121.000000</td>\n",
       "      <td>1.000000</td>\n",
       "      <td>1.622718e+09</td>\n",
       "      <td>0.000000</td>\n",
       "      <td>0.000000</td>\n",
       "      <td>0.000000</td>\n",
       "      <td>5.000000</td>\n",
       "      <td>100.000000</td>\n",
       "    </tr>\n",
       "    <tr>\n",
       "      <th>max</th>\n",
       "      <td>724.000000</td>\n",
       "      <td>100.000000</td>\n",
       "      <td>191775.000000</td>\n",
       "      <td>520.000000</td>\n",
       "      <td>1.665756e+09</td>\n",
       "      <td>3.000000</td>\n",
       "      <td>106.000000</td>\n",
       "      <td>126.000000</td>\n",
       "      <td>5.000000</td>\n",
       "      <td>946.000000</td>\n",
       "    </tr>\n",
       "  </tbody>\n",
       "</table>\n",
       "</div>"
      ],
      "text/plain": [
       "         Unnamed: 0  recipe_number    recipe_code  user_reputation  \\\n",
       "count  18182.000000   18182.000000   18182.000000     18182.000000   \n",
       "mean     121.465295      38.689363   21773.667253         2.159608   \n",
       "std      116.747893      29.786647   23965.109637        10.014666   \n",
       "min        0.000000       1.000000     386.000000         0.000000   \n",
       "25%       45.000000      12.000000    6086.000000         1.000000   \n",
       "50%       91.000000      33.000000   14600.000000         1.000000   \n",
       "75%      150.000000      64.000000   33121.000000         1.000000   \n",
       "max      724.000000     100.000000  191775.000000       520.000000   \n",
       "\n",
       "         created_at   reply_count     thumbs_up   thumbs_down         stars  \\\n",
       "count  1.818200e+04  18182.000000  18182.000000  18182.000000  18182.000000   \n",
       "mean   1.623710e+09      0.014630      1.089264      0.549335      4.288802   \n",
       "std    5.468697e+06      0.137974      4.201004      3.470124      1.544786   \n",
       "min    1.613035e+09      0.000000      0.000000      0.000000      0.000000   \n",
       "25%    1.622717e+09      0.000000      0.000000      0.000000      5.000000   \n",
       "50%    1.622718e+09      0.000000      0.000000      0.000000      5.000000   \n",
       "75%    1.622718e+09      0.000000      0.000000      0.000000      5.000000   \n",
       "max    1.665756e+09      3.000000    106.000000    126.000000      5.000000   \n",
       "\n",
       "         best_score  \n",
       "count  18182.000000  \n",
       "mean     153.162138  \n",
       "std      141.075316  \n",
       "min        0.000000  \n",
       "25%      100.000000  \n",
       "50%      100.000000  \n",
       "75%      100.000000  \n",
       "max      946.000000  "
      ]
     },
     "execution_count": 6,
     "metadata": {},
     "output_type": "execute_result"
    }
   ],
   "source": [
    "df.describe()"
   ]
  },
  {
   "cell_type": "code",
   "execution_count": 7,
   "metadata": {},
   "outputs": [
    {
     "name": "stdout",
     "output_type": "stream",
     "text": [
      "    Unnamed: 0  recipe_number  recipe_code         recipe_name  \\\n",
      "0            0              1        14299  Creamy White Chili   \n",
      "1            1              1        14299  Creamy White Chili   \n",
      "2            2              1        14299  Creamy White Chili   \n",
      "3            3              1        14299  Creamy White Chili   \n",
      "4            4              1        14299  Creamy White Chili   \n",
      "5            5              1        14299  Creamy White Chili   \n",
      "6            6              1        14299  Creamy White Chili   \n",
      "7            7              1        14299  Creamy White Chili   \n",
      "8            8              1        14299  Creamy White Chili   \n",
      "9            9              1        14299  Creamy White Chili   \n",
      "10          10              1        14299  Creamy White Chili   \n",
      "11          11              1        14299  Creamy White Chili   \n",
      "12          12              1        14299  Creamy White Chili   \n",
      "13          13              1        14299  Creamy White Chili   \n",
      "14          14              1        14299  Creamy White Chili   \n",
      "15          15              1        14299  Creamy White Chili   \n",
      "16          16              1        14299  Creamy White Chili   \n",
      "17          17              1        14299  Creamy White Chili   \n",
      "18          18              1        14299  Creamy White Chili   \n",
      "19          19              1        14299  Creamy White Chili   \n",
      "20          20              1        14299  Creamy White Chili   \n",
      "21          21              1        14299  Creamy White Chili   \n",
      "22          22              1        14299  Creamy White Chili   \n",
      "23          23              1        14299  Creamy White Chili   \n",
      "24          24              1        14299  Creamy White Chili   \n",
      "25          25              1        14299  Creamy White Chili   \n",
      "26          26              1        14299  Creamy White Chili   \n",
      "27          27              1        14299  Creamy White Chili   \n",
      "28          28              1        14299  Creamy White Chili   \n",
      "29          29              1        14299  Creamy White Chili   \n",
      "\n",
      "                                         comment_id  \\\n",
      "0   sp_aUSaElGf_14299_c_2G3aneMRgRMZwXqIHmSdXSG1hEM   \n",
      "1   sp_aUSaElGf_14299_c_2FsPC83HtzCsQAtOxlbL6RcaPbY   \n",
      "2   sp_aUSaElGf_14299_c_2FPrSGyTv7PQkZq37j92r9mYGkP   \n",
      "3   sp_aUSaElGf_14299_c_2DzdSIgV9qNiuBaLoZ7JQaartoC   \n",
      "4   sp_aUSaElGf_14299_c_2DtZJuRQYeTFwXBoZRfRhBPEXjI   \n",
      "5   sp_aUSaElGf_14299_c_2Do918IutExN0pWEOFMU4cbiT8v   \n",
      "6   sp_aUSaElGf_14299_c_24hhcbywpsgGqG7yeDFH1IPZCb8   \n",
      "7   sp_aUSaElGf_14299_c_24cuIEu6UoJvd5VRMAoqnTPR9wd   \n",
      "8   sp_aUSaElGf_14299_c_24cc4VZR87RR5vdkYAnsnq6YaOS   \n",
      "9   sp_aUSaElGf_14299_c_24Fso1ApihQ91uCmNvhBDDO1k2P   \n",
      "10  sp_aUSaElGf_14299_c_24CHX0TVqhA9SivP1tam6CXh8j5   \n",
      "11  sp_aUSaElGf_14299_c_244ayUAqmLa9HURYpjXxAQCSPt0   \n",
      "12  sp_aUSaElGf_14299_c_23myjWRG0SSgODziT76nAoXVMFf   \n",
      "13  sp_aUSaElGf_14299_c_23hew17f9HfA1oRd8VozLDaxUsa   \n",
      "14  sp_aUSaElGf_14299_c_23WqtSRlqxKmvHp4xbsD9zNMIPd   \n",
      "15  sp_aUSaElGf_14299_c_23Vi81AY4vz93vga2QKFIXzVyQ9   \n",
      "16  sp_aUSaElGf_14299_c_23Nduv3AAGtX0cmKaxLpQIOtGQz   \n",
      "17  sp_aUSaElGf_14299_c_21bPbjHfpjkRMvMnaaaRcgeCqBD   \n",
      "18  sp_aUSaElGf_14299_c_21EzLhl4PhZN6cZMX6WBgleYgfb   \n",
      "19  sp_aUSaElGf_14299_c_21COxu6lQy4mVUfo0e4uTZ3CeiA   \n",
      "20  sp_aUSaElGf_14299_c_20HIfMEUR4vjBklhgkRbBe2PULd   \n",
      "21  sp_aUSaElGf_14299_c_1zVXg73HxKzPyRnHhWnLjRWSfUz   \n",
      "22  sp_aUSaElGf_14299_c_1z15nE2Ee6anVDFLfmOW1FjbyeR   \n",
      "23  sp_aUSaElGf_14299_c_1vFabyuTl4d81ivTsJDdxKOnb0c   \n",
      "24  sp_aUSaElGf_14299_c_1s3CMHvWubnpTd45lmoBC8c0X3X   \n",
      "25                       sp_aUSaElGf_14299_c_432402   \n",
      "26                       sp_aUSaElGf_14299_c_432389   \n",
      "27                       sp_aUSaElGf_14299_c_432496   \n",
      "28                       sp_aUSaElGf_14299_c_432393   \n",
      "29                       sp_aUSaElGf_14299_c_429116   \n",
      "\n",
      "                          user_id         user_name  user_reputation  \\\n",
      "0                  u_9iFLIhMa8QaG           Jeri326                1   \n",
      "1                  u_Lu6p25tmE77j           Mark467               50   \n",
      "2                  u_s0LwgpZ8Jsqq        Barbara566               10   \n",
      "3                  u_fqrybAdYjgjG        jeansch123                1   \n",
      "4                  u_XXWKwVhKZD69          camper77               10   \n",
      "5                  u_BALTQJIvWtYr           nikhita                1   \n",
      "6                  u_HuJVXMzQqJoI         Sandy1256                1   \n",
      "7                  u_uj79hCc4xVhm           Towanka                1   \n",
      "8                  u_xDTU4BqIVIc9             Quest                1   \n",
      "9                  u_cDoX9ujcQEoc       Susannah953                1   \n",
      "10                 u_a1kMC63ejmcn  jillanglemyer810                1   \n",
      "11                 u_rLDRFmNx35zU         Leslie126                1   \n",
      "12                 u_lPW6uyGJNSN0         Cindy4876                1   \n",
      "13                 u_EXBl66u7yYkp           Xzercie                1   \n",
      "14                 u_tOkZoHuF5wQW         TERESA062                1   \n",
      "15                 u_pTdidnO4Qvj9        Mary-Lynne                1   \n",
      "16                 u_zSpLgUzFZKjk             Petri                1   \n",
      "17                 u_DAo1aayKpI6d        Marilyn034                1   \n",
      "18                 u_YTq5zXIY38wL      Jeannette653                1   \n",
      "19                 u_xwWa3ShkvfPQ          Scott967                1   \n",
      "20                 u_jAZf8u0DcVIY           Jane601                1   \n",
      "21                 u_233rxDaYVN0g         Brenda349                1   \n",
      "22                 u_wYANTnDQZ8Ud          Sandy326                1   \n",
      "23                 u_PbmqE1O8NisP         Carole368                1   \n",
      "24                 u_Ql2KDKx6gJCZ         Kimosaabe                1   \n",
      "25  u_1tOHulxur36Qa3Syd86jfXIlyVh         OliveCorn                0   \n",
      "26  u_1oKdEIiXn8FQOeAMtgAGCRMIDur    LindaHernandez                1   \n",
      "27  u_1oKVZT7bnHOk8MH7Aom0wkTCJNo             ahmom                1   \n",
      "28  u_1tOHuffz9O9dMHnRmMVpX92GMtm       BlueBattery                0   \n",
      "29  u_1oKdQHNslBwfe7Rqe9Sg1ihg9Fs               Sue                1   \n",
      "\n",
      "    created_at  reply_count  thumbs_up  thumbs_down  stars  best_score  \\\n",
      "0   1665619889            0          0            0      5         527   \n",
      "1   1665277687            0          7            0      5         724   \n",
      "2   1664404557            0          3            0      5         710   \n",
      "3   1661787808            2          2            0      0         581   \n",
      "4   1664913823            1          7            0      0         820   \n",
      "5   1661354351            0          3            1      5         518   \n",
      "6   1644088805            0         11            0      5         833   \n",
      "7   1643942114            0         28            2      0         891   \n",
      "8   1643933124            0          6            0      5         693   \n",
      "9   1643237839            0          0            0      5         404   \n",
      "10  1643127683            0          3            0      5         706   \n",
      "11  1642892566            0          2            1      5         617   \n",
      "12  1642353692            0          1            0      5         633   \n",
      "13  1645506015            0          4            2      5         672   \n",
      "14  1641956093            0          5            1      5         585   \n",
      "15  1641825491            0          1            0      5         608   \n",
      "16  1641578704            0          0            0      4         449   \n",
      "17  1638206887            0          3            0      5         637   \n",
      "18  1637520980            0          3            0      5         602   \n",
      "19  1637441853            1         11            1      5         820   \n",
      "20  1635695189            0          6            1      5         673   \n",
      "21  1634234362            0          7            0      5         793   \n",
      "22  1633371450            2          5            5      5         650   \n",
      "23  1626160365            1          5           29      0         530   \n",
      "24  1620091837            0         15            1      5         786   \n",
      "25  1622648873            0         16            5      5         347   \n",
      "26  1622648873            0         17            1      5         433   \n",
      "27  1622648873            0          4            0      5         329   \n",
      "28  1622648873            0         19            5      5         367   \n",
      "29  1622648882            0          3            0      0         297   \n",
      "\n",
      "                                                 text  \n",
      "0   I tweaked it a little, removed onions because ...  \n",
      "1   Bush used to have a white chili bean and it ma...  \n",
      "2   I have a very complicated white chicken chili ...  \n",
      "3   In your introduction, you mentioned cream chee...  \n",
      "4   Wonderful! I made this for a &#34;Chili/Stew&#...  \n",
      "5   amazing! my boyfriend loved it so much! going ...  \n",
      "6   Wow!!!  This recipe is excellent as written!! ...  \n",
      "7   This is delicious and I make it often. One suc...  \n",
      "8   I absolutely love this recipe. I&#39;ve tweake...  \n",
      "9   I make this a lot … my kids and there friends ...  \n",
      "10               Best and easiest white chili recipe.  \n",
      "11  Best white chili recipe I&#39;ve had! I served...  \n",
      "12  This recipe was excellent!! I added the cream ...  \n",
      "13  I made this alongside a traditional chili for ...  \n",
      "14  Fantastic, but mild. I added half a Carolina R...  \n",
      "15                         This is a fabulous recipe!  \n",
      "16  Delicious, If you like a mild chilli taste thi...  \n",
      "17           made according to directions, DELISH!!!!  \n",
      "18         My new favorite soup! Oh my! So delicious!  \n",
      "19  This is a hit in my house. I have been making ...  \n",
      "20  Delicious!!!   A huge hit with family and frie...  \n",
      "21  This is our go-to chicken chili recipe and has...  \n",
      "22  Very good!! Easy recipe … first time followed ...  \n",
      "23  This is just White Chicken Chili with I first ...  \n",
      "24   WOW! Total WOW! Totally delicious. 5 stars plus.  \n",
      "25  Wonderful recipe as written! Only change I mad...  \n",
      "26  I make this for my son-in-law for when he has ...  \n",
      "27  EXCELLENT RECIPE!! This will be on regular rot...  \n",
      "28  I don&#39;t change a thing in this recipe, it&...  \n",
      "29  I would make this soup again.  It was a hit.  ...  \n"
     ]
    }
   ],
   "source": [
    "print(df.head(30))"
   ]
  },
  {
   "cell_type": "code",
   "execution_count": 8,
   "metadata": {},
   "outputs": [
    {
     "name": "stdout",
     "output_type": "stream",
     "text": [
      "Requirement already satisfied: tensorflow in c:\\users\\nazil\\appdata\\local\\programs\\python\\python312\\lib\\site-packages (2.18.0)\n",
      "Requirement already satisfied: tensorflow-intel==2.18.0 in c:\\users\\nazil\\appdata\\local\\programs\\python\\python312\\lib\\site-packages (from tensorflow) (2.18.0)\n",
      "Requirement already satisfied: absl-py>=1.0.0 in c:\\users\\nazil\\appdata\\local\\programs\\python\\python312\\lib\\site-packages (from tensorflow-intel==2.18.0->tensorflow) (2.1.0)\n",
      "Requirement already satisfied: astunparse>=1.6.0 in c:\\users\\nazil\\appdata\\local\\programs\\python\\python312\\lib\\site-packages (from tensorflow-intel==2.18.0->tensorflow) (1.6.3)\n",
      "Requirement already satisfied: flatbuffers>=24.3.25 in c:\\users\\nazil\\appdata\\local\\programs\\python\\python312\\lib\\site-packages (from tensorflow-intel==2.18.0->tensorflow) (24.3.25)\n",
      "Requirement already satisfied: gast!=0.5.0,!=0.5.1,!=0.5.2,>=0.2.1 in c:\\users\\nazil\\appdata\\local\\programs\\python\\python312\\lib\\site-packages (from tensorflow-intel==2.18.0->tensorflow) (0.6.0)\n",
      "Requirement already satisfied: google-pasta>=0.1.1 in c:\\users\\nazil\\appdata\\local\\programs\\python\\python312\\lib\\site-packages (from tensorflow-intel==2.18.0->tensorflow) (0.2.0)\n",
      "Requirement already satisfied: libclang>=13.0.0 in c:\\users\\nazil\\appdata\\local\\programs\\python\\python312\\lib\\site-packages (from tensorflow-intel==2.18.0->tensorflow) (18.1.1)\n",
      "Requirement already satisfied: opt-einsum>=2.3.2 in c:\\users\\nazil\\appdata\\local\\programs\\python\\python312\\lib\\site-packages (from tensorflow-intel==2.18.0->tensorflow) (3.4.0)\n",
      "Requirement already satisfied: packaging in c:\\users\\nazil\\appdata\\roaming\\python\\python312\\site-packages (from tensorflow-intel==2.18.0->tensorflow) (24.0)\n",
      "Requirement already satisfied: protobuf!=4.21.0,!=4.21.1,!=4.21.2,!=4.21.3,!=4.21.4,!=4.21.5,<6.0.0dev,>=3.20.3 in c:\\users\\nazil\\appdata\\local\\programs\\python\\python312\\lib\\site-packages (from tensorflow-intel==2.18.0->tensorflow) (5.28.3)\n",
      "Requirement already satisfied: requests<3,>=2.21.0 in c:\\users\\nazil\\appdata\\local\\programs\\python\\python312\\lib\\site-packages (from tensorflow-intel==2.18.0->tensorflow) (2.32.3)\n",
      "Requirement already satisfied: setuptools in c:\\users\\nazil\\appdata\\local\\programs\\python\\python312\\lib\\site-packages (from tensorflow-intel==2.18.0->tensorflow) (70.3.0)\n",
      "Requirement already satisfied: six>=1.12.0 in c:\\users\\nazil\\appdata\\roaming\\python\\python312\\site-packages (from tensorflow-intel==2.18.0->tensorflow) (1.16.0)\n",
      "Requirement already satisfied: termcolor>=1.1.0 in c:\\users\\nazil\\appdata\\local\\programs\\python\\python312\\lib\\site-packages (from tensorflow-intel==2.18.0->tensorflow) (2.5.0)\n",
      "Requirement already satisfied: typing-extensions>=3.6.6 in c:\\users\\nazil\\appdata\\local\\programs\\python\\python312\\lib\\site-packages (from tensorflow-intel==2.18.0->tensorflow) (4.12.2)\n",
      "Requirement already satisfied: wrapt>=1.11.0 in c:\\users\\nazil\\appdata\\local\\programs\\python\\python312\\lib\\site-packages (from tensorflow-intel==2.18.0->tensorflow) (1.16.0)\n",
      "Requirement already satisfied: grpcio<2.0,>=1.24.3 in c:\\users\\nazil\\appdata\\local\\programs\\python\\python312\\lib\\site-packages (from tensorflow-intel==2.18.0->tensorflow) (1.67.1)\n",
      "Requirement already satisfied: tensorboard<2.19,>=2.18 in c:\\users\\nazil\\appdata\\local\\programs\\python\\python312\\lib\\site-packages (from tensorflow-intel==2.18.0->tensorflow) (2.18.0)\n",
      "Requirement already satisfied: keras>=3.5.0 in c:\\users\\nazil\\appdata\\local\\programs\\python\\python312\\lib\\site-packages (from tensorflow-intel==2.18.0->tensorflow) (3.7.0)\n",
      "Requirement already satisfied: numpy<2.1.0,>=1.26.0 in c:\\users\\nazil\\appdata\\local\\programs\\python\\python312\\lib\\site-packages (from tensorflow-intel==2.18.0->tensorflow) (2.0.2)\n",
      "Requirement already satisfied: h5py>=3.11.0 in c:\\users\\nazil\\appdata\\local\\programs\\python\\python312\\lib\\site-packages (from tensorflow-intel==2.18.0->tensorflow) (3.12.1)\n",
      "Requirement already satisfied: ml-dtypes<0.5.0,>=0.4.0 in c:\\users\\nazil\\appdata\\local\\programs\\python\\python312\\lib\\site-packages (from tensorflow-intel==2.18.0->tensorflow) (0.4.1)\n",
      "Requirement already satisfied: wheel<1.0,>=0.23.0 in c:\\users\\nazil\\appdata\\local\\programs\\python\\python312\\lib\\site-packages (from astunparse>=1.6.0->tensorflow-intel==2.18.0->tensorflow) (0.45.0)\n",
      "Requirement already satisfied: rich in c:\\users\\nazil\\appdata\\local\\programs\\python\\python312\\lib\\site-packages (from keras>=3.5.0->tensorflow-intel==2.18.0->tensorflow) (13.9.4)\n",
      "Requirement already satisfied: namex in c:\\users\\nazil\\appdata\\local\\programs\\python\\python312\\lib\\site-packages (from keras>=3.5.0->tensorflow-intel==2.18.0->tensorflow) (0.0.8)\n",
      "Requirement already satisfied: optree in c:\\users\\nazil\\appdata\\local\\programs\\python\\python312\\lib\\site-packages (from keras>=3.5.0->tensorflow-intel==2.18.0->tensorflow) (0.13.1)\n",
      "Requirement already satisfied: charset-normalizer<4,>=2 in c:\\users\\nazil\\appdata\\local\\programs\\python\\python312\\lib\\site-packages (from requests<3,>=2.21.0->tensorflow-intel==2.18.0->tensorflow) (3.3.2)\n",
      "Requirement already satisfied: idna<4,>=2.5 in c:\\users\\nazil\\appdata\\local\\programs\\python\\python312\\lib\\site-packages (from requests<3,>=2.21.0->tensorflow-intel==2.18.0->tensorflow) (3.7)\n",
      "Requirement already satisfied: urllib3<3,>=1.21.1 in c:\\users\\nazil\\appdata\\local\\programs\\python\\python312\\lib\\site-packages (from requests<3,>=2.21.0->tensorflow-intel==2.18.0->tensorflow) (2.2.2)\n",
      "Requirement already satisfied: certifi>=2017.4.17 in c:\\users\\nazil\\appdata\\local\\programs\\python\\python312\\lib\\site-packages (from requests<3,>=2.21.0->tensorflow-intel==2.18.0->tensorflow) (2024.7.4)\n",
      "Requirement already satisfied: markdown>=2.6.8 in c:\\users\\nazil\\appdata\\local\\programs\\python\\python312\\lib\\site-packages (from tensorboard<2.19,>=2.18->tensorflow-intel==2.18.0->tensorflow) (3.7)\n",
      "Requirement already satisfied: tensorboard-data-server<0.8.0,>=0.7.0 in c:\\users\\nazil\\appdata\\local\\programs\\python\\python312\\lib\\site-packages (from tensorboard<2.19,>=2.18->tensorflow-intel==2.18.0->tensorflow) (0.7.2)\n",
      "Requirement already satisfied: werkzeug>=1.0.1 in c:\\users\\nazil\\appdata\\local\\programs\\python\\python312\\lib\\site-packages (from tensorboard<2.19,>=2.18->tensorflow-intel==2.18.0->tensorflow) (3.1.3)\n",
      "Requirement already satisfied: MarkupSafe>=2.1.1 in c:\\users\\nazil\\appdata\\local\\programs\\python\\python312\\lib\\site-packages (from werkzeug>=1.0.1->tensorboard<2.19,>=2.18->tensorflow-intel==2.18.0->tensorflow) (2.1.5)\n",
      "Requirement already satisfied: markdown-it-py>=2.2.0 in c:\\users\\nazil\\appdata\\local\\programs\\python\\python312\\lib\\site-packages (from rich->keras>=3.5.0->tensorflow-intel==2.18.0->tensorflow) (3.0.0)\n",
      "Requirement already satisfied: pygments<3.0.0,>=2.13.0 in c:\\users\\nazil\\appdata\\roaming\\python\\python312\\site-packages (from rich->keras>=3.5.0->tensorflow-intel==2.18.0->tensorflow) (2.18.0)\n",
      "Requirement already satisfied: mdurl~=0.1 in c:\\users\\nazil\\appdata\\local\\programs\\python\\python312\\lib\\site-packages (from markdown-it-py>=2.2.0->rich->keras>=3.5.0->tensorflow-intel==2.18.0->tensorflow) (0.1.2)\n",
      "Requirement already satisfied: keras in c:\\users\\nazil\\appdata\\local\\programs\\python\\python312\\lib\\site-packages (3.7.0)\n",
      "Requirement already satisfied: absl-py in c:\\users\\nazil\\appdata\\local\\programs\\python\\python312\\lib\\site-packages (from keras) (2.1.0)\n",
      "Requirement already satisfied: numpy in c:\\users\\nazil\\appdata\\local\\programs\\python\\python312\\lib\\site-packages (from keras) (2.0.2)\n",
      "Requirement already satisfied: rich in c:\\users\\nazil\\appdata\\local\\programs\\python\\python312\\lib\\site-packages (from keras) (13.9.4)\n",
      "Requirement already satisfied: namex in c:\\users\\nazil\\appdata\\local\\programs\\python\\python312\\lib\\site-packages (from keras) (0.0.8)\n",
      "Requirement already satisfied: h5py in c:\\users\\nazil\\appdata\\local\\programs\\python\\python312\\lib\\site-packages (from keras) (3.12.1)\n",
      "Requirement already satisfied: optree in c:\\users\\nazil\\appdata\\local\\programs\\python\\python312\\lib\\site-packages (from keras) (0.13.1)\n",
      "Requirement already satisfied: ml-dtypes in c:\\users\\nazil\\appdata\\local\\programs\\python\\python312\\lib\\site-packages (from keras) (0.4.1)\n",
      "Requirement already satisfied: packaging in c:\\users\\nazil\\appdata\\roaming\\python\\python312\\site-packages (from keras) (24.0)\n",
      "Requirement already satisfied: typing-extensions>=4.5.0 in c:\\users\\nazil\\appdata\\local\\programs\\python\\python312\\lib\\site-packages (from optree->keras) (4.12.2)\n",
      "Requirement already satisfied: markdown-it-py>=2.2.0 in c:\\users\\nazil\\appdata\\local\\programs\\python\\python312\\lib\\site-packages (from rich->keras) (3.0.0)\n",
      "Requirement already satisfied: pygments<3.0.0,>=2.13.0 in c:\\users\\nazil\\appdata\\roaming\\python\\python312\\site-packages (from rich->keras) (2.18.0)\n",
      "Requirement already satisfied: mdurl~=0.1 in c:\\users\\nazil\\appdata\\local\\programs\\python\\python312\\lib\\site-packages (from markdown-it-py>=2.2.0->rich->keras) (0.1.2)\n"
     ]
    }
   ],
   "source": [
    "!pip install --upgrade tensorflow\n",
    "!pip install --upgrade keras"
   ]
  },
  {
   "cell_type": "code",
   "execution_count": 9,
   "metadata": {},
   "outputs": [],
   "source": [
    "import numpy as np\n",
    "import re\n",
    "import string\n",
    "from sklearn.model_selection import train_test_split\n",
    "from tensorflow.keras.preprocessing.text import Tokenizer\n",
    "from tensorflow.keras.preprocessing.sequence import pad_sequences\n",
    "from tensorflow.keras.utils import to_categorical\n",
    "import tensorflow as tf\n",
    "from tensorflow.keras import layers, Model, Input\n",
    "import nltk\n",
    "from tensorflow.keras.callbacks import EarlyStopping\n",
    "from nltk.tokenize import word_tokenize\n",
    "from nltk.corpus import stopwords"
   ]
  },
  {
   "cell_type": "markdown",
   "metadata": {},
   "source": [
    "2. Preprocessing for the model:"
   ]
  },
  {
   "cell_type": "code",
   "execution_count": null,
   "metadata": {},
   "outputs": [
    {
     "name": "stderr",
     "output_type": "stream",
     "text": [
      "[nltk_data] Downloading package stopwords to\n",
      "[nltk_data]     C:\\Users\\nazil\\AppData\\Roaming\\nltk_data...\n",
      "[nltk_data]   Package stopwords is already up-to-date!\n",
      "[nltk_data] Downloading package punkt to\n",
      "[nltk_data]     C:\\Users\\nazil\\AppData\\Roaming\\nltk_data...\n",
      "[nltk_data]   Package punkt is already up-to-date!\n"
     ]
    },
    {
     "data": {
      "text/plain": [
       "True"
      ]
     },
     "execution_count": 10,
     "metadata": {},
     "output_type": "execute_result"
    }
   ],
   "source": [
    "# Downloading stopwords and punkt tokenizer\n",
    "nltk.download('stopwords')\n",
    "nltk.download('punkt')"
   ]
  },
  {
   "cell_type": "code",
   "execution_count": null,
   "metadata": {},
   "outputs": [],
   "source": [
    "# Filling missing values in the 'text' column\n",
    "df['text'] = df['text'].fillna(\"no_comment\")\n",
    "\n",
    "# Performing Text cleaning function\n",
    "def clean_text(t):\n",
    "    t = t.lower()  \n",
    "    t = re.sub(r'<.*?>', '', t) \n",
    "    t = re.sub(r'[^a-z0-9\\s]', '', t) \n",
    "    t = re.sub(r'\\d+', '', t) \n",
    "    tokens = word_tokenize(t)  \n",
    "    stop_words = set(stopwords.words('english'))\n",
    "    tokens = [word for word in tokens if word not in stop_words]  \n",
    "    t = \" \".join(tokens) \n",
    "    return t\n",
    "\n",
    "# Applying cleaning function to the text data\n",
    "df['clean_text'] = df['text'].apply(clean_text)"
   ]
  },
  {
   "cell_type": "code",
   "execution_count": null,
   "metadata": {},
   "outputs": [
    {
     "name": "stdout",
     "output_type": "stream",
     "text": [
      "Stars distribution:\n",
      "stars\n",
      "5    13829\n",
      "0     1696\n",
      "4     1655\n",
      "3      490\n",
      "1      280\n",
      "2      232\n",
      "Name: count, dtype: int64\n"
     ]
    }
   ],
   "source": [
    "# Checking the distribution of stars\n",
    "print(\"Stars distribution:\")\n",
    "print(df['stars'].value_counts())"
   ]
  },
  {
   "cell_type": "markdown",
   "metadata": {},
   "source": [
    "3. Preparing the Target Variable:"
   ]
  },
  {
   "cell_type": "code",
   "execution_count": null,
   "metadata": {},
   "outputs": [],
   "source": [
    "# Preparing features (X) and target (y)\n",
    "X = df['clean_text'].values\n",
    "y = df['stars'].values  # Assuming 'stars' is the target variable (0 to 5)\n",
    "\n",
    "# Convert target to categorical (for multi-class classification)\n",
    "y_cat = to_categorical(y, num_classes=6)  # Assuming 6 classes (0-5 stars)"
   ]
  },
  {
   "cell_type": "markdown",
   "metadata": {},
   "source": [
    "4. Spliting the dataset in Train-Test Split:"
   ]
  },
  {
   "cell_type": "code",
   "execution_count": 14,
   "metadata": {},
   "outputs": [],
   "source": [
    "X_train, X_test, y_train, y_test = train_test_split(X, y_cat, test_size=0.2, random_state=42, stratify=y_cat)\n",
    "X_train, X_val, y_train, y_val = train_test_split(X_train, y_train, test_size=0.25, random_state=42, stratify=y_train)"
   ]
  },
  {
   "cell_type": "code",
   "execution_count": 15,
   "metadata": {},
   "outputs": [
    {
     "name": "stdout",
     "output_type": "stream",
     "text": [
      "Train size: 10908 Val size: 3637 Test size: 3637\n"
     ]
    }
   ],
   "source": [
    "print(\"Train size:\", len(X_train), \"Val size:\", len(X_val), \"Test size:\", len(X_test))"
   ]
  },
  {
   "cell_type": "markdown",
   "metadata": {},
   "source": [
    "5. Setting up Text Tokenization and Padding:"
   ]
  },
  {
   "cell_type": "code",
   "execution_count": null,
   "metadata": {},
   "outputs": [],
   "source": [
    "# Tokenizer setup\n",
    "vocabulary_size = 20000\n",
    "max_len = 100\n",
    "\n",
    "tokenizer = Tokenizer(num_words=vocabulary_size, oov_token=\"<UNK>\")\n",
    "tokenizer.fit_on_texts(X_train)\n",
    "\n",
    "# Convert text to sequences\n",
    "def preprocess_text_data(X, tokenizer, max_len):\n",
    "    seq = tokenizer.texts_to_sequences(X)\n",
    "    seq = pad_sequences(seq, maxlen=max_len, padding='post', truncating='post')\n",
    "    return seq\n",
    "\n",
    "# Preprocess the training, validation, and test data\n",
    "X_train_seq = preprocess_text_data(X_train, tokenizer, max_len)\n",
    "X_val_seq = preprocess_text_data(X_val, tokenizer, max_len)\n",
    "X_test_seq = preprocess_text_data(X_test, tokenizer, max_len)"
   ]
  },
  {
   "cell_type": "markdown",
   "metadata": {},
   "source": [
    "6. Build the Deep Learning Model- Multi-Class Classification:"
   ]
  },
  {
   "cell_type": "code",
   "execution_count": null,
   "metadata": {},
   "outputs": [
    {
     "name": "stderr",
     "output_type": "stream",
     "text": [
      "c:\\Users\\nazil\\AppData\\Local\\Programs\\Python\\Python312\\Lib\\site-packages\\keras\\src\\layers\\core\\embedding.py:90: UserWarning: Argument `input_length` is deprecated. Just remove it.\n",
      "  warnings.warn(\n"
     ]
    },
    {
     "data": {
      "text/html": [
       "<pre style=\"white-space:pre;overflow-x:auto;line-height:normal;font-family:Menlo,'DejaVu Sans Mono',consolas,'Courier New',monospace\"><span style=\"font-weight: bold\">Model: \"functional\"</span>\n",
       "</pre>\n"
      ],
      "text/plain": [
       "\u001b[1mModel: \"functional\"\u001b[0m\n"
      ]
     },
     "metadata": {},
     "output_type": "display_data"
    },
    {
     "data": {
      "text/html": [
       "<pre style=\"white-space:pre;overflow-x:auto;line-height:normal;font-family:Menlo,'DejaVu Sans Mono',consolas,'Courier New',monospace\">┏━━━━━━━━━━━━━━━━━━━━━━━━━━━━━━━━━┳━━━━━━━━━━━━━━━━━━━━━━━━┳━━━━━━━━━━━━━━━┓\n",
       "┃<span style=\"font-weight: bold\"> Layer (type)                    </span>┃<span style=\"font-weight: bold\"> Output Shape           </span>┃<span style=\"font-weight: bold\">       Param # </span>┃\n",
       "┡━━━━━━━━━━━━━━━━━━━━━━━━━━━━━━━━━╇━━━━━━━━━━━━━━━━━━━━━━━━╇━━━━━━━━━━━━━━━┩\n",
       "│ input_layer (<span style=\"color: #0087ff; text-decoration-color: #0087ff\">InputLayer</span>)        │ (<span style=\"color: #00d7ff; text-decoration-color: #00d7ff\">None</span>, <span style=\"color: #00af00; text-decoration-color: #00af00\">100</span>)            │             <span style=\"color: #00af00; text-decoration-color: #00af00\">0</span> │\n",
       "├─────────────────────────────────┼────────────────────────┼───────────────┤\n",
       "│ embedding (<span style=\"color: #0087ff; text-decoration-color: #0087ff\">Embedding</span>)           │ (<span style=\"color: #00d7ff; text-decoration-color: #00d7ff\">None</span>, <span style=\"color: #00af00; text-decoration-color: #00af00\">100</span>, <span style=\"color: #00af00; text-decoration-color: #00af00\">64</span>)        │     <span style=\"color: #00af00; text-decoration-color: #00af00\">1,280,000</span> │\n",
       "├─────────────────────────────────┼────────────────────────┼───────────────┤\n",
       "│ bidirectional (<span style=\"color: #0087ff; text-decoration-color: #0087ff\">Bidirectional</span>)   │ (<span style=\"color: #00d7ff; text-decoration-color: #00d7ff\">None</span>, <span style=\"color: #00af00; text-decoration-color: #00af00\">100</span>, <span style=\"color: #00af00; text-decoration-color: #00af00\">128</span>)       │        <span style=\"color: #00af00; text-decoration-color: #00af00\">66,048</span> │\n",
       "├─────────────────────────────────┼────────────────────────┼───────────────┤\n",
       "│ bidirectional_1 (<span style=\"color: #0087ff; text-decoration-color: #0087ff\">Bidirectional</span>) │ (<span style=\"color: #00d7ff; text-decoration-color: #00d7ff\">None</span>, <span style=\"color: #00af00; text-decoration-color: #00af00\">64</span>)             │        <span style=\"color: #00af00; text-decoration-color: #00af00\">41,216</span> │\n",
       "├─────────────────────────────────┼────────────────────────┼───────────────┤\n",
       "│ dense (<span style=\"color: #0087ff; text-decoration-color: #0087ff\">Dense</span>)                   │ (<span style=\"color: #00d7ff; text-decoration-color: #00d7ff\">None</span>, <span style=\"color: #00af00; text-decoration-color: #00af00\">32</span>)             │         <span style=\"color: #00af00; text-decoration-color: #00af00\">2,080</span> │\n",
       "├─────────────────────────────────┼────────────────────────┼───────────────┤\n",
       "│ dense_1 (<span style=\"color: #0087ff; text-decoration-color: #0087ff\">Dense</span>)                 │ (<span style=\"color: #00d7ff; text-decoration-color: #00d7ff\">None</span>, <span style=\"color: #00af00; text-decoration-color: #00af00\">6</span>)              │           <span style=\"color: #00af00; text-decoration-color: #00af00\">198</span> │\n",
       "└─────────────────────────────────┴────────────────────────┴───────────────┘\n",
       "</pre>\n"
      ],
      "text/plain": [
       "┏━━━━━━━━━━━━━━━━━━━━━━━━━━━━━━━━━┳━━━━━━━━━━━━━━━━━━━━━━━━┳━━━━━━━━━━━━━━━┓\n",
       "┃\u001b[1m \u001b[0m\u001b[1mLayer (type)                   \u001b[0m\u001b[1m \u001b[0m┃\u001b[1m \u001b[0m\u001b[1mOutput Shape          \u001b[0m\u001b[1m \u001b[0m┃\u001b[1m \u001b[0m\u001b[1m      Param #\u001b[0m\u001b[1m \u001b[0m┃\n",
       "┡━━━━━━━━━━━━━━━━━━━━━━━━━━━━━━━━━╇━━━━━━━━━━━━━━━━━━━━━━━━╇━━━━━━━━━━━━━━━┩\n",
       "│ input_layer (\u001b[38;5;33mInputLayer\u001b[0m)        │ (\u001b[38;5;45mNone\u001b[0m, \u001b[38;5;34m100\u001b[0m)            │             \u001b[38;5;34m0\u001b[0m │\n",
       "├─────────────────────────────────┼────────────────────────┼───────────────┤\n",
       "│ embedding (\u001b[38;5;33mEmbedding\u001b[0m)           │ (\u001b[38;5;45mNone\u001b[0m, \u001b[38;5;34m100\u001b[0m, \u001b[38;5;34m64\u001b[0m)        │     \u001b[38;5;34m1,280,000\u001b[0m │\n",
       "├─────────────────────────────────┼────────────────────────┼───────────────┤\n",
       "│ bidirectional (\u001b[38;5;33mBidirectional\u001b[0m)   │ (\u001b[38;5;45mNone\u001b[0m, \u001b[38;5;34m100\u001b[0m, \u001b[38;5;34m128\u001b[0m)       │        \u001b[38;5;34m66,048\u001b[0m │\n",
       "├─────────────────────────────────┼────────────────────────┼───────────────┤\n",
       "│ bidirectional_1 (\u001b[38;5;33mBidirectional\u001b[0m) │ (\u001b[38;5;45mNone\u001b[0m, \u001b[38;5;34m64\u001b[0m)             │        \u001b[38;5;34m41,216\u001b[0m │\n",
       "├─────────────────────────────────┼────────────────────────┼───────────────┤\n",
       "│ dense (\u001b[38;5;33mDense\u001b[0m)                   │ (\u001b[38;5;45mNone\u001b[0m, \u001b[38;5;34m32\u001b[0m)             │         \u001b[38;5;34m2,080\u001b[0m │\n",
       "├─────────────────────────────────┼────────────────────────┼───────────────┤\n",
       "│ dense_1 (\u001b[38;5;33mDense\u001b[0m)                 │ (\u001b[38;5;45mNone\u001b[0m, \u001b[38;5;34m6\u001b[0m)              │           \u001b[38;5;34m198\u001b[0m │\n",
       "└─────────────────────────────────┴────────────────────────┴───────────────┘\n"
      ]
     },
     "metadata": {},
     "output_type": "display_data"
    },
    {
     "data": {
      "text/html": [
       "<pre style=\"white-space:pre;overflow-x:auto;line-height:normal;font-family:Menlo,'DejaVu Sans Mono',consolas,'Courier New',monospace\"><span style=\"font-weight: bold\"> Total params: </span><span style=\"color: #00af00; text-decoration-color: #00af00\">1,389,542</span> (5.30 MB)\n",
       "</pre>\n"
      ],
      "text/plain": [
       "\u001b[1m Total params: \u001b[0m\u001b[38;5;34m1,389,542\u001b[0m (5.30 MB)\n"
      ]
     },
     "metadata": {},
     "output_type": "display_data"
    },
    {
     "data": {
      "text/html": [
       "<pre style=\"white-space:pre;overflow-x:auto;line-height:normal;font-family:Menlo,'DejaVu Sans Mono',consolas,'Courier New',monospace\"><span style=\"font-weight: bold\"> Trainable params: </span><span style=\"color: #00af00; text-decoration-color: #00af00\">1,389,542</span> (5.30 MB)\n",
       "</pre>\n"
      ],
      "text/plain": [
       "\u001b[1m Trainable params: \u001b[0m\u001b[38;5;34m1,389,542\u001b[0m (5.30 MB)\n"
      ]
     },
     "metadata": {},
     "output_type": "display_data"
    },
    {
     "data": {
      "text/html": [
       "<pre style=\"white-space:pre;overflow-x:auto;line-height:normal;font-family:Menlo,'DejaVu Sans Mono',consolas,'Courier New',monospace\"><span style=\"font-weight: bold\"> Non-trainable params: </span><span style=\"color: #00af00; text-decoration-color: #00af00\">0</span> (0.00 B)\n",
       "</pre>\n"
      ],
      "text/plain": [
       "\u001b[1m Non-trainable params: \u001b[0m\u001b[38;5;34m0\u001b[0m (0.00 B)\n"
      ]
     },
     "metadata": {},
     "output_type": "display_data"
    }
   ],
   "source": [
    "# Define the model architecture with Early Stopping\n",
    "embedding_dim = 64\n",
    "input_text = Input(shape=(max_len,))\n",
    "x = layers.Embedding(input_dim=vocabulary_size, output_dim=embedding_dim, input_length=max_len)(input_text)\n",
    "x = layers.Bidirectional(layers.LSTM(64, return_sequences=True))(x)\n",
    "x = layers.Bidirectional(layers.LSTM(32))(x)\n",
    "x = layers.Dense(32, activation='relu')(x)\n",
    "output = layers.Dense(6, activation='softmax')(x)\n",
    "\n",
    "# Compile the model\n",
    "model = Model(inputs=input_text, outputs=output)\n",
    "model.compile(optimizer='adam', loss='categorical_crossentropy', metrics=['accuracy'])\n",
    "\n",
    "model.summary()"
   ]
  },
  {
   "cell_type": "markdown",
   "metadata": {},
   "source": [
    "7. Training the Model:"
   ]
  },
  {
   "cell_type": "code",
   "execution_count": null,
   "metadata": {},
   "outputs": [
    {
     "name": "stdout",
     "output_type": "stream",
     "text": [
      "Epoch 1/10\n",
      "\u001b[1m86/86\u001b[0m \u001b[32m━━━━━━━━━━━━━━━━━━━━\u001b[0m\u001b[37m\u001b[0m \u001b[1m22s\u001b[0m 198ms/step - accuracy: 0.7233 - loss: 1.1115 - val_accuracy: 0.7608 - val_loss: 0.8510\n",
      "Epoch 2/10\n",
      "\u001b[1m86/86\u001b[0m \u001b[32m━━━━━━━━━━━━━━━━━━━━\u001b[0m\u001b[37m\u001b[0m \u001b[1m16s\u001b[0m 185ms/step - accuracy: 0.7571 - loss: 0.8201 - val_accuracy: 0.7517 - val_loss: 0.7618\n",
      "Epoch 3/10\n",
      "\u001b[1m86/86\u001b[0m \u001b[32m━━━━━━━━━━━━━━━━━━━━\u001b[0m\u001b[37m\u001b[0m \u001b[1m17s\u001b[0m 196ms/step - accuracy: 0.7761 - loss: 0.6919 - val_accuracy: 0.7655 - val_loss: 0.7285\n",
      "Epoch 4/10\n",
      "\u001b[1m86/86\u001b[0m \u001b[32m━━━━━━━━━━━━━━━━━━━━\u001b[0m\u001b[37m\u001b[0m \u001b[1m21s\u001b[0m 249ms/step - accuracy: 0.8087 - loss: 0.5864 - val_accuracy: 0.7663 - val_loss: 0.7327\n",
      "Epoch 5/10\n",
      "\u001b[1m86/86\u001b[0m \u001b[32m━━━━━━━━━━━━━━━━━━━━\u001b[0m\u001b[37m\u001b[0m \u001b[1m22s\u001b[0m 255ms/step - accuracy: 0.8329 - loss: 0.5169 - val_accuracy: 0.7476 - val_loss: 0.7790\n",
      "Epoch 6/10\n",
      "\u001b[1m86/86\u001b[0m \u001b[32m━━━━━━━━━━━━━━━━━━━━\u001b[0m\u001b[37m\u001b[0m \u001b[1m21s\u001b[0m 244ms/step - accuracy: 0.8731 - loss: 0.4172 - val_accuracy: 0.7589 - val_loss: 0.8304\n"
     ]
    }
   ],
   "source": [
    "from tensorflow.keras.callbacks import EarlyStopping\n",
    "\n",
    "early_stopping = tf.keras.callbacks.EarlyStopping(monitor='val_loss', patience=3, restore_best_weights=True)\n",
    "\n",
    "\n",
    "history = model.fit(\n",
    "    X_train_seq, y_train,\n",
    "    validation_data=(X_val_seq, y_val),\n",
    "    epochs=10,\n",
    "    batch_size=128,\n",
    "    callbacks=[early_stopping]\n",
    ")"
   ]
  },
  {
   "cell_type": "markdown",
   "metadata": {},
   "source": [
    "8. Evaluating the Model on Test Set:"
   ]
  },
  {
   "cell_type": "code",
   "execution_count": 19,
   "metadata": {},
   "outputs": [
    {
     "name": "stdout",
     "output_type": "stream",
     "text": [
      "\u001b[1m114/114\u001b[0m \u001b[32m━━━━━━━━━━━━━━━━━━━━\u001b[0m\u001b[37m\u001b[0m \u001b[1m3s\u001b[0m 24ms/step - accuracy: 0.7685 - loss: 0.7211\n",
      "Test Accuracy: 0.7610667943954468\n"
     ]
    }
   ],
   "source": [
    "test_loss, test_acc = model.evaluate(X_test_seq, y_test)\n",
    "print(f'Test Accuracy: {test_acc}')"
   ]
  },
  {
   "cell_type": "markdown",
   "metadata": {},
   "source": [
    "9. Visualizing the Training/Validation Accuracy and Loss:"
   ]
  },
  {
   "cell_type": "code",
   "execution_count": 20,
   "metadata": {},
   "outputs": [],
   "source": [
    "import matplotlib.pyplot as plt"
   ]
  },
  {
   "cell_type": "code",
   "execution_count": 21,
   "metadata": {},
   "outputs": [
    {
     "data": {
      "image/png": "[encoded data removed]",
      "text/plain": [
       "<Figure size 640x480 with 1 Axes>"
      ]
     },
     "metadata": {},
     "output_type": "display_data"
    },
    {
     "data": {
      "image/png": "[encoded data removed]",
      "text/plain": [
       "<Figure size 640x480 with 1 Axes>"
      ]
     },
     "metadata": {},
     "output_type": "display_data"
    }
   ],
   "source": [
    "# Plot accuracy over epochs\n",
    "plt.plot(history.history['val_accuracy'], label='Validation Accuracy')\n",
    "plt.plot(history.history['accuracy'], label='Training Accuracy')\n",
    "plt.title('Model Accuracy Over Epochs')\n",
    "plt.ylabel('Accuracy')\n",
    "plt.xlabel('Epoch')\n",
    "plt.legend(loc='upper left')\n",
    "plt.show()\n",
    "\n",
    "# Plot loss over epochs\n",
    "plt.plot(history.history['val_loss'], label='Validation Loss')\n",
    "plt.plot(history.history['loss'], label='Training Loss')\n",
    "plt.title('Model Loss Over Epochs')\n",
    "plt.ylabel('Loss')\n",
    "plt.xlabel('Epoch')\n",
    "plt.legend(loc='upper left')\n",
    "plt.show()\n"
   ]
  }
 ],
 "metadata": {
  "kernelspec": {
   "display_name": "Python 3",
   "language": "python",
   "name": "python3"
  },
  "language_info": {
   "codemirror_mode": {
    "name": "ipython",
    "version": 3
   },
   "file_extension": ".py",
   "mimetype": "text/x-python",
   "name": "python",
   "nbconvert_exporter": "python",
   "pygments_lexer": "ipython3",
   "version": "3.12.3"
  }
 },
 "nbformat": 4,
 "nbformat_minor": 2
}
