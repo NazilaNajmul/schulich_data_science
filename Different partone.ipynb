{
 "cells": [
  {
   "cell_type": "code",
   "execution_count": 1,
   "metadata": {},
   "outputs": [
    {
     "name": "stdout",
     "output_type": "stream",
     "text": [
      "Optimization terminated successfully.\n",
      "         Current function value: 0.000095\n",
      "         Iterations: 12\n",
      "         Function evaluations: 16\n",
      "         Gradient evaluations: 16\n",
      "Optimization terminated successfully.\n",
      "         Current function value: 0.001753\n",
      "         Iterations: 8\n",
      "         Function evaluations: 11\n",
      "         Gradient evaluations: 11\n",
      "Optimization terminated successfully.\n",
      "         Current function value: 0.001735\n",
      "         Iterations: 7\n",
      "         Function evaluations: 12\n",
      "         Gradient evaluations: 12\n",
      "Optimization terminated successfully.\n",
      "         Current function value: 0.001735\n",
      "         Iterations: 5\n",
      "         Function evaluations: 9\n",
      "         Gradient evaluations: 9\n",
      "Optimization terminated successfully.\n",
      "         Current function value: 0.001735\n",
      "         Iterations: 0\n",
      "         Function evaluations: 1\n",
      "         Gradient evaluations: 1\n",
      "                              CustomGMM Results                               \n",
      "==============================================================================\n",
      "Dep. Variable:                      y   Hansen J:                        2.942\n",
      "Model:                      CustomGMM   Prob (Hansen J):                 0.230\n",
      "Method:                           GMM                                         \n",
      "Date:                Tue, 05 Nov 2024                                         \n",
      "Time:                        16:39:09                                         \n",
      "No. Observations:                1696                                         \n",
      "==============================================================================\n",
      "                 coef    std err          z      P>|z|      [0.025      0.975]\n",
      "------------------------------------------------------------------------------\n",
      "p 0           -0.0011      0.017     -0.063      0.949      -0.034       0.032\n",
      "p 1            0.0004      0.000      1.001      0.317      -0.000       0.001\n",
      "p 2           -0.1191      0.031     -3.860      0.000      -0.180      -0.059\n",
      "p 3            0.0014      0.000      3.640      0.000       0.001       0.002\n",
      "p 4            0.0003      0.003      0.132      0.895      -0.005       0.006\n",
      "==============================================================================\n"
     ]
    }
   ],
   "source": [
    "import numpy as np\n",
    "import pandas as pd\n",
    "from statsmodels.sandbox.regression.gmm import GMM\n",
    "\n",
    "# Load the dataset\n",
    "data = pd.read_csv(\"/MBAN- Schulich/MBAN- Sem 2/Predictive Modeling/Mid term Project/midterm_partone.csv\")\n",
    "\n",
    "# Extract variables\n",
    "y = data[\"Stock Change\"].values\n",
    "X = data[[\"Inventory Turnover\", \"Operating Profit\", \"Interaction Effect\"]].values\n",
    "Z = data[[\"Current Ratio\", \"Quick Ratio\", \"Debt Asset Ratio\"]].values\n",
    "\n",
    "# Define the GMM model with updated moment conditions\n",
    "class CustomGMM(GMM):\n",
    "    def momcond(self, params):\n",
    "        p0, p1, p2, p3, delta = params\n",
    "        residual = self.endog - p0 - p1 * self.exog[:, 0] - p2 * self.exog[:, 1] - p3 * self.exog[:, 2]\n",
    "        \n",
    "        # Moment conditions\n",
    "        moment_conditions = np.column_stack((\n",
    "            residual,\n",
    "            residual[:, None] * self.instrument - delta,\n",
    "            residual[:, None] * self.exog\n",
    "        ))\n",
    "        return moment_conditions\n",
    "\n",
    "# Initial parameter estimates\n",
    "initial_params = np.full(5, 0.1)\n",
    "\n",
    "# Fit the GMM model\n",
    "model = CustomGMM(endog=y, exog=X, instrument=Z, k_moms=7, k_params=5)\n",
    "results = model.fit(start_params=initial_params)\n",
    "\n",
    "# Display the summary of the GMM model\n",
    "print(results.summary())"
   ]
  }
 ],
 "metadata": {
  "kernelspec": {
   "display_name": "Python 3",
   "language": "python",
   "name": "python3"
  },
  "language_info": {
   "codemirror_mode": {
    "name": "ipython",
    "version": 3
   },
   "file_extension": ".py",
   "mimetype": "text/x-python",
   "name": "python",
   "nbconvert_exporter": "python",
   "pygments_lexer": "ipython3",
   "version": "3.12.3"
  }
 },
 "nbformat": 4,
 "nbformat_minor": 2
}
