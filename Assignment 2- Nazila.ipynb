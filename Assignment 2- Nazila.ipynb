{
<<<<<<< HEAD
 "cells": [
  {
   "cell_type": "code",
   "execution_count": 1,
   "metadata": {},
   "outputs": [
=======
  "cells": [
>>>>>>> 7e988b133b8c5dfc4cb8184243c14e3acd674373
    {
<<<<<<< HEAD
     "name": "stdout",
     "output_type": "stream",
     "text": [
      "Requirement already satisfied: pip in c:\\users\\nazil\\appdata\\local\\programs\\python\\python312\\lib\\site-packages (24.1.2)\n",
      "Note: you may need to restart the kernel to use updated packages.\n"
     ]
    }
   ],
   "source": [
    "pip install --upgrade pip"
   ]
  },
  {
   "cell_type": "code",
   "execution_count": 2,
   "metadata": {},
   "outputs": [
=======
      "cell_type": "code",
      "execution_count": 1,
      "metadata": {
        "colab": {
          "base_uri": "https://localhost:8080/"
        },
        "id": "im_PARIOxsBy",
        "outputId": "d831cdd2-2169-438c-9e23-f0bc40c4e6ed"
      },
      "outputs": [
        {
          "output_type": "stream",
          "name": "stdout",
          "text": [
            "Requirement already satisfied: statsmodels in /usr/local/lib/python3.10/dist-packages (0.14.2)\n",
            "Requirement already satisfied: numpy>=1.22.3 in /usr/local/lib/python3.10/dist-packages (from statsmodels) (1.25.2)\n",
            "Requirement already satisfied: scipy!=1.9.2,>=1.8 in /usr/local/lib/python3.10/dist-packages (from statsmodels) (1.11.4)\n",
            "Requirement already satisfied: pandas!=2.1.0,>=1.4 in /usr/local/lib/python3.10/dist-packages (from statsmodels) (2.0.3)\n",
            "Requirement already satisfied: patsy>=0.5.6 in /usr/local/lib/python3.10/dist-packages (from statsmodels) (0.5.6)\n",
            "Requirement already satisfied: packaging>=21.3 in /usr/local/lib/python3.10/dist-packages (from statsmodels) (24.1)\n",
            "Requirement already satisfied: python-dateutil>=2.8.2 in /usr/local/lib/python3.10/dist-packages (from pandas!=2.1.0,>=1.4->statsmodels) (2.8.2)\n",
            "Requirement already satisfied: pytz>=2020.1 in /usr/local/lib/python3.10/dist-packages (from pandas!=2.1.0,>=1.4->statsmodels) (2023.4)\n",
            "Requirement already satisfied: tzdata>=2022.1 in /usr/local/lib/python3.10/dist-packages (from pandas!=2.1.0,>=1.4->statsmodels) (2024.1)\n",
            "Requirement already satisfied: six in /usr/local/lib/python3.10/dist-packages (from patsy>=0.5.6->statsmodels) (1.16.0)\n"
          ]
        }
      ],
      "source": [
        "pip install statsmodels"
      ]
    },
>>>>>>> 7e988b133b8c5dfc4cb8184243c14e3acd674373
    {
<<<<<<< HEAD
     "name": "stdout",
     "output_type": "stream",
     "text": [
      "Requirement already satisfied: statsmodels in c:\\users\\nazil\\appdata\\local\\programs\\python\\python312\\lib\\site-packages (0.14.2)\n",
      "Requirement already satisfied: numpy>=1.22.3 in c:\\users\\nazil\\appdata\\local\\programs\\python\\python312\\lib\\site-packages (from statsmodels) (1.26.4)\n",
      "Requirement already satisfied: scipy!=1.9.2,>=1.8 in c:\\users\\nazil\\appdata\\local\\programs\\python\\python312\\lib\\site-packages (from statsmodels) (1.13.0)\n",
      "Requirement already satisfied: pandas!=2.1.0,>=1.4 in c:\\users\\nazil\\appdata\\local\\programs\\python\\python312\\lib\\site-packages (from statsmodels) (2.2.2)\n",
      "Requirement already satisfied: patsy>=0.5.6 in c:\\users\\nazil\\appdata\\local\\programs\\python\\python312\\lib\\site-packages (from statsmodels) (0.5.6)\n",
      "Requirement already satisfied: packaging>=21.3 in c:\\users\\nazil\\appdata\\roaming\\python\\python312\\site-packages (from statsmodels) (24.0)\n",
      "Requirement already satisfied: python-dateutil>=2.8.2 in c:\\users\\nazil\\appdata\\roaming\\python\\python312\\site-packages (from pandas!=2.1.0,>=1.4->statsmodels) (2.9.0.post0)\n",
      "Requirement already satisfied: pytz>=2020.1 in c:\\users\\nazil\\appdata\\local\\programs\\python\\python312\\lib\\site-packages (from pandas!=2.1.0,>=1.4->statsmodels) (2024.1)\n",
      "Requirement already satisfied: tzdata>=2022.7 in c:\\users\\nazil\\appdata\\local\\programs\\python\\python312\\lib\\site-packages (from pandas!=2.1.0,>=1.4->statsmodels) (2024.1)\n",
      "Requirement already satisfied: six in c:\\users\\nazil\\appdata\\roaming\\python\\python312\\site-packages (from patsy>=0.5.6->statsmodels) (1.16.0)\n",
      "Note: you may need to restart the kernel to use updated packages.\n"
     ]
    }
   ],
   "source": [
    "pip install statsmodels"
   ]
  },
  {
   "cell_type": "code",
   "execution_count": 3,
   "metadata": {},
   "outputs": [
=======
      "cell_type": "code",
      "execution_count": 2,
      "metadata": {
        "colab": {
          "base_uri": "https://localhost:8080/"
        },
        "id": "GhZzuv11xsB1",
        "outputId": "d71b204a-914c-40a2-801f-fd497a825f1b"
      },
      "outputs": [
        {
          "output_type": "stream",
          "name": "stdout",
          "text": [
            "Requirement already satisfied: scikit-learn in /usr/local/lib/python3.10/dist-packages (1.2.2)\n",
            "Requirement already satisfied: numpy>=1.17.3 in /usr/local/lib/python3.10/dist-packages (from scikit-learn) (1.25.2)\n",
            "Requirement already satisfied: scipy>=1.3.2 in /usr/local/lib/python3.10/dist-packages (from scikit-learn) (1.11.4)\n",
            "Requirement already satisfied: joblib>=1.1.1 in /usr/local/lib/python3.10/dist-packages (from scikit-learn) (1.4.2)\n",
            "Requirement already satisfied: threadpoolctl>=2.0.0 in /usr/local/lib/python3.10/dist-packages (from scikit-learn) (3.5.0)\n"
          ]
        }
      ],
      "source": [
        "pip install scikit-learn"
      ]
    },
    {
      "cell_type": "code",
      "execution_count": 3,
      "metadata": {
        "id": "Mp8Y46R0xsB1"
      },
      "outputs": [],
      "source": [
        "import pandas as pd\n",
        "import numpy as np"
      ]
    },
>>>>>>> 7e988b133b8c5dfc4cb8184243c14e3acd674373
    {
<<<<<<< HEAD
     "name": "stdout",
     "output_type": "stream",
     "text": [
      "Requirement already satisfied: scikit-learn in c:\\users\\nazil\\appdata\\local\\programs\\python\\python312\\lib\\site-packages (1.5.0)\n",
      "Requirement already satisfied: numpy>=1.19.5 in c:\\users\\nazil\\appdata\\local\\programs\\python\\python312\\lib\\site-packages (from scikit-learn) (1.26.4)\n",
      "Requirement already satisfied: scipy>=1.6.0 in c:\\users\\nazil\\appdata\\local\\programs\\python\\python312\\lib\\site-packages (from scikit-learn) (1.13.0)\n",
      "Requirement already satisfied: joblib>=1.2.0 in c:\\users\\nazil\\appdata\\local\\programs\\python\\python312\\lib\\site-packages (from scikit-learn) (1.4.2)\n",
      "Requirement already satisfied: threadpoolctl>=3.1.0 in c:\\users\\nazil\\appdata\\local\\programs\\python\\python312\\lib\\site-packages (from scikit-learn) (3.5.0)\n",
      "Note: you may need to restart the kernel to use updated packages.\n"
     ]
    }
   ],
   "source": [
    "pip install scikit-learn"
   ]
  },
  {
   "cell_type": "code",
   "execution_count": 4,
   "metadata": {},
   "outputs": [],
   "source": [
    "import pandas as pd\n",
    "import numpy as np"
   ]
  },
  {
   "cell_type": "code",
   "execution_count": 5,
   "metadata": {},
   "outputs": [],
   "source": [
    "#loading all the csv files\n",
    "customer= pd.read_csv(\"C:/MBAN- Schulich/MBAN- Sem 1/Data Science 1- MBAN 6110/Assignment 2/customers_final.csv\")\n",
    "engagements= pd.read_csv(\"C:/MBAN- Schulich/MBAN- Sem 1/Data Science 1- MBAN 6110/Assignment 2/engagements_final.csv\")\n",
    "marketing= pd.read_csv(\"C:/MBAN- Schulich/MBAN- Sem 1/Data Science 1- MBAN 6110/Assignment 2/marketing_final.csv\")\n",
    "transactions= pd.read_csv(\"C:/MBAN- Schulich/MBAN- Sem 1/Data Science 1- MBAN 6110/Assignment 2/transactions_final.csv\")"
   ]
  },
  {
   "cell_type": "code",
   "execution_count": 6,
   "metadata": {},
   "outputs": [
=======
      "cell_type": "code",
      "execution_count": 7,
      "metadata": {
        "id": "Kw1OQXWDxsB2"
      },
      "outputs": [],
      "source": [
        "#load all the csv files\n",
        "customer= pd.read_csv('https://raw.githubusercontent.com/delinai/schulich_ds1_2024/main/Datasets/customers_final.csv')\n",
        "engagements= pd.read_csv(\"https://raw.githubusercontent.com/delinai/schulich_ds1_2024/main/Datasets/engagements_final.csv\")\n",
        "marketing= pd.read_csv(\"https://raw.githubusercontent.com/delinai/schulich_ds1_2024/main/Datasets/marketing_final.csv\")\n",
        "transactions= pd.read_csv(\"https://raw.githubusercontent.com/delinai/schulich_ds1_2024/main/Datasets/transactions_final.csv\")"
      ]
    },
    {
      "cell_type": "code",
      "execution_count": 8,
      "metadata": {
        "colab": {
          "base_uri": "https://localhost:8080/"
        },
        "id": "1vhLcco5xsB2",
        "outputId": "d21afcc3-cec4-4672-996b-c3d78e9180fa"
      },
      "outputs": [
        {
          "output_type": "stream",
          "name": "stdout",
          "text": [
            "   customer_id   join_date last_purchase_date   age  gender           location\n",
            "0            1  2023-11-20         2024-03-17  56.0  Female  North Shannonbury\n",
            "1            2  2021-09-08         2023-10-25   NaN    Male          Hillville\n",
            "2            3  2021-06-01         2022-11-27   NaN     NaN   North Latoyatown\n",
            "3            4  2022-01-01         2022-09-01  29.0    Male          Grossstad\n",
            "4            5  2022-01-24         2023-06-02   NaN    Male   East Matthewfort\n",
            "   customer_id  number_of_site_visits  number_of_emails_opened  \\\n",
            "0            1                     10                       15   \n",
            "1            2                    285                       49   \n",
            "2            3                    192                       73   \n",
            "3            4                    110                       30   \n",
            "4            5                    161                        2   \n",
            "\n",
            "   number_of_clicks  \n",
            "0                 1  \n",
            "1                51  \n",
            "2                25  \n",
            "3                17  \n",
            "4                 7  \n",
            "   campaign_id  customer_id response   promotion_type campaign_date\n",
            "0            1            1       No  Buy One Get One    2024-02-29\n",
            "1            2            1       No         Discount    2024-01-24\n",
            "2            3            1       No    Free Shipping    2024-03-05\n",
            "3            4            1      Yes  Buy One Get One    2024-01-10\n",
            "4            5            2      Yes    Free Shipping    2022-07-08\n",
            "   transaction_id  customer_id transaction_date  transaction_amount  \\\n",
            "0               1            1       2024-02-03              165.56   \n",
            "1               2            1       2024-03-02              699.01   \n",
            "2               3            1       2024-03-12              146.86   \n",
            "3               4            1       2024-01-20              927.46   \n",
            "4               5            1       2024-02-25             1395.87   \n",
            "\n",
            "  product_category  \n",
            "0         Clothing  \n",
            "1       Home Goods  \n",
            "2       Home Goods  \n",
            "3      Electronics  \n",
            "4      Electronics  \n"
          ]
        }
      ],
      "source": [
        "#Heads of each dataset\n",
        "print(customer.head())\n",
        "print(engagements.head())\n",
        "print(marketing.head())\n",
        "print(transactions.head())"
      ]
    },
>>>>>>> 7e988b133b8c5dfc4cb8184243c14e3acd674373
    {
<<<<<<< HEAD
     "name": "stdout",
     "output_type": "stream",
     "text": [
      "   customer_id   join_date last_purchase_date   age  gender           location\n",
      "0            1  2023-11-20         2024-03-17  56.0  Female  North Shannonbury\n",
      "1            2  2021-09-08         2023-10-25   NaN    Male          Hillville\n",
      "2            3  2021-06-01         2022-11-27   NaN     NaN   North Latoyatown\n",
      "3            4  2022-01-01         2022-09-01  29.0    Male          Grossstad\n",
      "4            5  2022-01-24         2023-06-02   NaN    Male   East Matthewfort\n",
      "   customer_id  number_of_site_visits  number_of_emails_opened  \\\n",
      "0            1                     10                       15   \n",
      "1            2                    285                       49   \n",
      "2            3                    192                       73   \n",
      "3            4                    110                       30   \n",
      "4            5                    161                        2   \n",
      "\n",
      "   number_of_clicks  \n",
      "0                 1  \n",
      "1                51  \n",
      "2                25  \n",
      "3                17  \n",
      "4                 7  \n",
      "   campaign_id  customer_id response   promotion_type campaign_date\n",
      "0            1            1       No  Buy One Get One    2024-02-29\n",
      "1            2            1       No         Discount    2024-01-24\n",
      "2            3            1       No    Free Shipping    2024-03-05\n",
      "3            4            1      Yes  Buy One Get One    2024-01-10\n",
      "4            5            2      Yes    Free Shipping    2022-07-08\n",
      "   transaction_id  customer_id transaction_date  transaction_amount  \\\n",
      "0               1            1       2024-02-03              165.56   \n",
      "1               2            1       2024-03-02              699.01   \n",
      "2               3            1       2024-03-12              146.86   \n",
      "3               4            1       2024-01-20              927.46   \n",
      "4               5            1       2024-02-25             1395.87   \n",
      "\n",
      "  product_category  \n",
      "0         Clothing  \n",
      "1       Home Goods  \n",
      "2       Home Goods  \n",
      "3      Electronics  \n",
      "4      Electronics  \n"
     ]
    }
   ],
   "source": [
    "#Heads of each dataset\n",
    "print(customer.head())\n",
    "print(engagements.head())\n",
    "print(marketing.head())\n",
    "print(transactions.head())"
   ]
  },
  {
   "cell_type": "code",
   "execution_count": 7,
   "metadata": {},
   "outputs": [],
   "source": [
    "# Merging customer with engagement\n",
    "merged_df = pd.merge(customer, engagements, on='customer_id', how='left')"
   ]
  },
  {
   "cell_type": "code",
   "execution_count": 8,
   "metadata": {},
   "outputs": [
=======
      "cell_type": "code",
      "execution_count": 9,
      "metadata": {
        "id": "RRTCiPIuxsB3"
      },
      "outputs": [],
      "source": [
        "# Merge customer with engagement\n",
        "merged_df = pd.merge(customer, engagements, on='customer_id', how='inner')"
      ]
    },
>>>>>>> 7e988b133b8c5dfc4cb8184243c14e3acd674373
    {
<<<<<<< HEAD
     "name": "stdout",
     "output_type": "stream",
     "text": [
      "   customer_id   join_date last_purchase_date   age  gender  \\\n",
      "0            1  2023-11-20         2024-03-17  56.0  Female   \n",
      "1            2  2021-09-08         2023-10-25   NaN    Male   \n",
      "2            3  2021-06-01         2022-11-27   NaN     NaN   \n",
      "3            4  2022-01-01         2022-09-01  29.0    Male   \n",
      "4            5  2022-01-24         2023-06-02   NaN    Male   \n",
      "\n",
      "            location  number_of_site_visits  number_of_emails_opened  \\\n",
      "0  North Shannonbury                     10                       15   \n",
      "1          Hillville                    285                       49   \n",
      "2   North Latoyatown                    192                       73   \n",
      "3          Grossstad                    110                       30   \n",
      "4   East Matthewfort                    161                        2   \n",
      "\n",
      "   number_of_clicks  \n",
      "0                 1  \n",
      "1                51  \n",
      "2                25  \n",
      "3                17  \n",
      "4                 7  \n"
     ]
    }
   ],
   "source": [
    "print(merged_df.head())"
   ]
  },
  {
   "cell_type": "code",
   "execution_count": 9,
   "metadata": {},
   "outputs": [],
   "source": [
    "# Merging new df with marketing\n",
    "merged_df2 = pd.merge(merged_df, marketing, on='customer_id', how='left')"
   ]
  },
  {
   "cell_type": "code",
   "execution_count": 10,
   "metadata": {},
   "outputs": [
=======
      "cell_type": "code",
      "execution_count": 10,
      "metadata": {
        "colab": {
          "base_uri": "https://localhost:8080/"
        },
        "id": "T9Ja5y68xsB3",
        "outputId": "7a5f19fd-f172-41cc-845e-dc6c3fc72f9e"
      },
      "outputs": [
        {
          "output_type": "stream",
          "name": "stdout",
          "text": [
            "   customer_id   join_date last_purchase_date   age  gender  \\\n",
            "0            1  2023-11-20         2024-03-17  56.0  Female   \n",
            "1            2  2021-09-08         2023-10-25   NaN    Male   \n",
            "2            3  2021-06-01         2022-11-27   NaN     NaN   \n",
            "3            4  2022-01-01         2022-09-01  29.0    Male   \n",
            "4            5  2022-01-24         2023-06-02   NaN    Male   \n",
            "\n",
            "            location  number_of_site_visits  number_of_emails_opened  \\\n",
            "0  North Shannonbury                     10                       15   \n",
            "1          Hillville                    285                       49   \n",
            "2   North Latoyatown                    192                       73   \n",
            "3          Grossstad                    110                       30   \n",
            "4   East Matthewfort                    161                        2   \n",
            "\n",
            "   number_of_clicks  \n",
            "0                 1  \n",
            "1                51  \n",
            "2                25  \n",
            "3                17  \n",
            "4                 7  \n"
          ]
        }
      ],
      "source": [
        "print(merged_df.head())"
      ]
    },
>>>>>>> 7e988b133b8c5dfc4cb8184243c14e3acd674373
    {
<<<<<<< HEAD
     "name": "stdout",
     "output_type": "stream",
     "text": [
      "   customer_id   join_date last_purchase_date   age  gender  \\\n",
      "0            1  2023-11-20         2024-03-17  56.0  Female   \n",
      "1            1  2023-11-20         2024-03-17  56.0  Female   \n",
      "2            1  2023-11-20         2024-03-17  56.0  Female   \n",
      "3            1  2023-11-20         2024-03-17  56.0  Female   \n",
      "4            2  2021-09-08         2023-10-25   NaN    Male   \n",
      "\n",
      "            location  number_of_site_visits  number_of_emails_opened  \\\n",
      "0  North Shannonbury                     10                       15   \n",
      "1  North Shannonbury                     10                       15   \n",
      "2  North Shannonbury                     10                       15   \n",
      "3  North Shannonbury                     10                       15   \n",
      "4          Hillville                    285                       49   \n",
      "\n",
      "   number_of_clicks  campaign_id response   promotion_type campaign_date  \n",
      "0                 1            1       No  Buy One Get One    2024-02-29  \n",
      "1                 1            2       No         Discount    2024-01-24  \n",
      "2                 1            3       No    Free Shipping    2024-03-05  \n",
      "3                 1            4      Yes  Buy One Get One    2024-01-10  \n",
      "4                51            5      Yes    Free Shipping    2022-07-08  \n"
     ]
    }
   ],
   "source": [
    "print(merged_df2.head())"
   ]
  },
  {
   "cell_type": "code",
   "execution_count": 11,
   "metadata": {},
   "outputs": [],
   "source": [
    "# Merging df2 with transactions\n",
    "df = pd.merge(merged_df2, transactions, on='customer_id', how='left')"
   ]
  },
  {
   "cell_type": "code",
   "execution_count": 12,
   "metadata": {},
   "outputs": [
=======
      "cell_type": "code",
      "execution_count": 11,
      "metadata": {
        "id": "VEbzIC42xsB3"
      },
      "outputs": [],
      "source": [
        "# Merge the result with marketing\n",
        "merged_df2 = pd.merge(merged_df, marketing, on='customer_id', how='inner')"
      ]
    },
>>>>>>> 7e988b133b8c5dfc4cb8184243c14e3acd674373
    {
<<<<<<< HEAD
     "name": "stdout",
     "output_type": "stream",
     "text": [
      "   customer_id   join_date last_purchase_date   age  gender  \\\n",
      "0            1  2023-11-20         2024-03-17  56.0  Female   \n",
      "1            1  2023-11-20         2024-03-17  56.0  Female   \n",
      "2            1  2023-11-20         2024-03-17  56.0  Female   \n",
      "3            1  2023-11-20         2024-03-17  56.0  Female   \n",
      "4            1  2023-11-20         2024-03-17  56.0  Female   \n",
      "\n",
      "            location  number_of_site_visits  number_of_emails_opened  \\\n",
      "0  North Shannonbury                     10                       15   \n",
      "1  North Shannonbury                     10                       15   \n",
      "2  North Shannonbury                     10                       15   \n",
      "3  North Shannonbury                     10                       15   \n",
      "4  North Shannonbury                     10                       15   \n",
      "\n",
      "   number_of_clicks  campaign_id response   promotion_type campaign_date  \\\n",
      "0                 1            1       No  Buy One Get One    2024-02-29   \n",
      "1                 1            1       No  Buy One Get One    2024-02-29   \n",
      "2                 1            1       No  Buy One Get One    2024-02-29   \n",
      "3                 1            1       No  Buy One Get One    2024-02-29   \n",
      "4                 1            1       No  Buy One Get One    2024-02-29   \n",
      "\n",
      "   transaction_id transaction_date  transaction_amount product_category  \n",
      "0               1       2024-02-03              165.56         Clothing  \n",
      "1               2       2024-03-02              699.01       Home Goods  \n",
      "2               3       2024-03-12              146.86       Home Goods  \n",
      "3               4       2024-01-20              927.46      Electronics  \n",
      "4               5       2024-02-25             1395.87      Electronics  \n"
     ]
    }
   ],
   "source": [
    "print(df.head())"
   ]
  },
  {
   "cell_type": "code",
   "execution_count": 13,
   "metadata": {},
   "outputs": [
=======
      "cell_type": "code",
      "execution_count": 12,
      "metadata": {
        "colab": {
          "base_uri": "https://localhost:8080/"
        },
        "id": "21O5B_HkxsB3",
        "outputId": "ec107245-bc5c-4821-ee4a-1c1c0846ec1d"
      },
      "outputs": [
        {
          "output_type": "stream",
          "name": "stdout",
          "text": [
            "   customer_id   join_date last_purchase_date   age  gender  \\\n",
            "0            1  2023-11-20         2024-03-17  56.0  Female   \n",
            "1            1  2023-11-20         2024-03-17  56.0  Female   \n",
            "2            1  2023-11-20         2024-03-17  56.0  Female   \n",
            "3            1  2023-11-20         2024-03-17  56.0  Female   \n",
            "4            2  2021-09-08         2023-10-25   NaN    Male   \n",
            "\n",
            "            location  number_of_site_visits  number_of_emails_opened  \\\n",
            "0  North Shannonbury                     10                       15   \n",
            "1  North Shannonbury                     10                       15   \n",
            "2  North Shannonbury                     10                       15   \n",
            "3  North Shannonbury                     10                       15   \n",
            "4          Hillville                    285                       49   \n",
            "\n",
            "   number_of_clicks  campaign_id response   promotion_type campaign_date  \n",
            "0                 1            1       No  Buy One Get One    2024-02-29  \n",
            "1                 1            2       No         Discount    2024-01-24  \n",
            "2                 1            3       No    Free Shipping    2024-03-05  \n",
            "3                 1            4      Yes  Buy One Get One    2024-01-10  \n",
            "4                51            5      Yes    Free Shipping    2022-07-08  \n"
          ]
        }
      ],
      "source": [
        "print(merged_df2.head())"
      ]
    },
>>>>>>> 7e988b133b8c5dfc4cb8184243c14e3acd674373
    {
<<<<<<< HEAD
     "name": "stdout",
     "output_type": "stream",
     "text": [
      "<class 'pandas.core.frame.DataFrame'>\n",
      "RangeIndex: 327251 entries, 0 to 327250\n",
      "Data columns (total 17 columns):\n",
      " #   Column                   Non-Null Count   Dtype  \n",
      "---  ------                   --------------   -----  \n",
      " 0   customer_id              327251 non-null  int64  \n",
      " 1   join_date                327251 non-null  object \n",
      " 2   last_purchase_date       327251 non-null  object \n",
      " 3   age                      293971 non-null  float64\n",
      " 4   gender                   309405 non-null  object \n",
      " 5   location                 327251 non-null  object \n",
      " 6   number_of_site_visits    327251 non-null  int64  \n",
      " 7   number_of_emails_opened  327251 non-null  int64  \n",
      " 8   number_of_clicks         327251 non-null  int64  \n",
      " 9   campaign_id              327251 non-null  int64  \n",
      " 10  response                 327251 non-null  object \n",
      " 11  promotion_type           327251 non-null  object \n",
      " 12  campaign_date            327251 non-null  object \n",
      " 13  transaction_id           327251 non-null  int64  \n",
      " 14  transaction_date         327251 non-null  object \n",
      " 15  transaction_amount       327251 non-null  float64\n",
      " 16  product_category         327251 non-null  object \n",
      "dtypes: float64(2), int64(6), object(9)\n",
      "memory usage: 42.4+ MB\n"
     ]
    }
   ],
   "source": [
    "df.info()"
   ]
  },
  {
   "cell_type": "code",
   "execution_count": 14,
   "metadata": {},
   "outputs": [
    {
     "name": "stdout",
     "output_type": "stream",
     "text": [
      "Number of rows: 327251\n"
     ]
    }
   ],
   "source": [
    "num_rows = len(df)\n",
    "print(\"Number of rows:\", num_rows)"
   ]
  },
  {
   "cell_type": "code",
   "execution_count": 15,
   "metadata": {},
   "outputs": [],
   "source": [
    "import seaborn as sns\n",
    "import matplotlib.pyplot as plt"
   ]
  },
  {
   "cell_type": "code",
   "execution_count": 16,
   "metadata": {},
   "outputs": [
    {
     "data": {
      "text/plain": [
       "<Axes: xlabel='age', ylabel='Count'>"
      ]
     },
     "execution_count": 16,
     "metadata": {},
     "output_type": "execute_result"
    },
    {
     "data": {
      "image/png": "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",
      "text/plain": [
       "<Figure size 640x480 with 1 Axes>"
      ]
     },
     "metadata": {},
     "output_type": "display_data"
    }
   ],
   "source": [
    "sns.histplot(df['age'])"
   ]
  },
  {
   "cell_type": "code",
   "execution_count": 17,
   "metadata": {},
   "outputs": [],
   "source": [
    "# Converting date columns to datetime\n",
    "date_columns = ['join_date', 'last_purchase_date', 'campaign_date', 'transaction_date']\n",
    "for col in date_columns:\n",
    "    df[col] = pd.to_datetime(df[col])\n",
    "\n",
    "# Extract year, month, day from each date column\n",
    "for col in date_columns:\n",
    "    df[f'{col}_year'] = df[col].dt.year\n",
    "    df[f'{col}_month'] = df[col].dt.month\n",
    "    df[f'{col}_day'] = df[col].dt.day"
   ]
  },
  {
   "cell_type": "code",
   "execution_count": 18,
   "metadata": {},
   "outputs": [
=======
      "cell_type": "code",
      "execution_count": 13,
      "metadata": {
        "id": "sha0hcHnxsB4"
      },
      "outputs": [],
      "source": [
        "# Merge the result with transactions\n",
        "df = pd.merge(merged_df2, transactions, on='customer_id', how='inner')"
      ]
    },
>>>>>>> 7e988b133b8c5dfc4cb8184243c14e3acd674373
    {
<<<<<<< HEAD
     "name": "stdout",
     "output_type": "stream",
     "text": [
      "customer_id                     0\n",
      "join_date                       0\n",
      "last_purchase_date              0\n",
      "age                         33280\n",
      "gender                      17846\n",
      "location                        0\n",
      "number_of_site_visits           0\n",
      "number_of_emails_opened         0\n",
      "number_of_clicks                0\n",
      "campaign_id                     0\n",
      "response                        0\n",
      "promotion_type                  0\n",
      "campaign_date                   0\n",
      "transaction_id                  0\n",
      "transaction_date                0\n",
      "transaction_amount              0\n",
      "product_category                0\n",
      "join_date_year                  0\n",
      "join_date_month                 0\n",
      "join_date_day                   0\n",
      "last_purchase_date_year         0\n",
      "last_purchase_date_month        0\n",
      "last_purchase_date_day          0\n",
      "campaign_date_year              0\n",
      "campaign_date_month             0\n",
      "campaign_date_day               0\n",
      "transaction_date_year           0\n",
      "transaction_date_month          0\n",
      "transaction_date_day            0\n",
      "dtype: int64\n"
     ]
    }
   ],
   "source": [
    "# Checking for missing values\n",
    "missing_values = df.isnull().sum()\n",
    "\n",
    "print(missing_values)"
   ]
  },
  {
   "cell_type": "code",
   "execution_count": 19,
   "metadata": {},
   "outputs": [
=======
      "cell_type": "code",
      "execution_count": 14,
      "metadata": {
        "colab": {
          "base_uri": "https://localhost:8080/"
        },
        "id": "xE_IENV6xsB4",
        "outputId": "deb3523f-39f1-4b6d-b810-71a62f117449"
      },
      "outputs": [
        {
          "output_type": "stream",
          "name": "stdout",
          "text": [
            "   customer_id   join_date last_purchase_date   age  gender  \\\n",
            "0            1  2023-11-20         2024-03-17  56.0  Female   \n",
            "1            1  2023-11-20         2024-03-17  56.0  Female   \n",
            "2            1  2023-11-20         2024-03-17  56.0  Female   \n",
            "3            1  2023-11-20         2024-03-17  56.0  Female   \n",
            "4            1  2023-11-20         2024-03-17  56.0  Female   \n",
            "\n",
            "            location  number_of_site_visits  number_of_emails_opened  \\\n",
            "0  North Shannonbury                     10                       15   \n",
            "1  North Shannonbury                     10                       15   \n",
            "2  North Shannonbury                     10                       15   \n",
            "3  North Shannonbury                     10                       15   \n",
            "4  North Shannonbury                     10                       15   \n",
            "\n",
            "   number_of_clicks  campaign_id response   promotion_type campaign_date  \\\n",
            "0                 1            1       No  Buy One Get One    2024-02-29   \n",
            "1                 1            1       No  Buy One Get One    2024-02-29   \n",
            "2                 1            1       No  Buy One Get One    2024-02-29   \n",
            "3                 1            1       No  Buy One Get One    2024-02-29   \n",
            "4                 1            1       No  Buy One Get One    2024-02-29   \n",
            "\n",
            "   transaction_id transaction_date  transaction_amount product_category  \n",
            "0               1       2024-02-03              165.56         Clothing  \n",
            "1               2       2024-03-02              699.01       Home Goods  \n",
            "2               3       2024-03-12              146.86       Home Goods  \n",
            "3               4       2024-01-20              927.46      Electronics  \n",
            "4               5       2024-02-25             1395.87      Electronics  \n"
          ]
        }
      ],
      "source": [
        "print(df.head())"
      ]
    },
>>>>>>> 7e988b133b8c5dfc4cb8184243c14e3acd674373
    {
<<<<<<< HEAD
     "name": "stdout",
     "output_type": "stream",
     "text": [
      "customer_id                 False\n",
      "join_date                   False\n",
      "last_purchase_date          False\n",
      "age                          True\n",
      "gender                       True\n",
      "location                    False\n",
      "number_of_site_visits       False\n",
      "number_of_emails_opened     False\n",
      "number_of_clicks            False\n",
      "campaign_id                 False\n",
      "response                    False\n",
      "promotion_type              False\n",
      "campaign_date               False\n",
      "transaction_id              False\n",
      "transaction_date            False\n",
      "transaction_amount          False\n",
      "product_category            False\n",
      "join_date_year              False\n",
      "join_date_month             False\n",
      "join_date_day               False\n",
      "last_purchase_date_year     False\n",
      "last_purchase_date_month    False\n",
      "last_purchase_date_day      False\n",
      "campaign_date_year          False\n",
      "campaign_date_month         False\n",
      "campaign_date_day           False\n",
      "transaction_date_year       False\n",
      "transaction_date_month      False\n",
      "transaction_date_day        False\n",
      "dtype: bool\n"
     ]
    }
   ],
   "source": [
    "# Checking if there are any missing values in each column\n",
    "missing_any = df.isnull().any()\n",
    "\n",
    "print(missing_any)"
   ]
  },
  {
   "cell_type": "code",
   "execution_count": 20,
   "metadata": {},
   "outputs": [],
   "source": [
    "from sklearn.model_selection import train_test_split\n",
    "from sklearn.linear_model import LinearRegression, LogisticRegression\n",
    "from sklearn.metrics import mean_squared_error, accuracy_score\n",
    "from sklearn.impute import SimpleImputer"
   ]
  },
  {
   "cell_type": "code",
   "execution_count": 21,
   "metadata": {},
   "outputs": [],
   "source": [
    "# Data preparation\n",
    "df_age_present = df.dropna(subset=['age'])\n",
    "df_age_missing = df[df['age'].isnull()]"
   ]
  },
  {
   "cell_type": "code",
   "execution_count": 22,
   "metadata": {},
   "outputs": [],
   "source": [
    "# Selecting relevant features for predicting age\n",
    "X_age_present = df_age_present[['number_of_site_visits', 'number_of_emails_opened', 'number_of_clicks', 'transaction_amount']]\n",
    "y_age_present = df_age_present['age']\n",
    "X_age_missing = df_age_missing[['number_of_site_visits', 'number_of_emails_opened', 'number_of_clicks', 'transaction_amount']]"
   ]
  },
  {
   "cell_type": "code",
   "execution_count": 23,
   "metadata": {},
   "outputs": [
=======
      "cell_type": "code",
      "execution_count": 15,
      "metadata": {
        "colab": {
          "base_uri": "https://localhost:8080/"
        },
        "id": "cLp0NoAOxsB4",
        "outputId": "25661d92-dfbf-4e43-a6f8-b1aab3dc5d1c"
      },
      "outputs": [
        {
          "output_type": "stream",
          "name": "stdout",
          "text": [
            "<class 'pandas.core.frame.DataFrame'>\n",
            "RangeIndex: 327251 entries, 0 to 327250\n",
            "Data columns (total 17 columns):\n",
            " #   Column                   Non-Null Count   Dtype  \n",
            "---  ------                   --------------   -----  \n",
            " 0   customer_id              327251 non-null  int64  \n",
            " 1   join_date                327251 non-null  object \n",
            " 2   last_purchase_date       327251 non-null  object \n",
            " 3   age                      293971 non-null  float64\n",
            " 4   gender                   309405 non-null  object \n",
            " 5   location                 327251 non-null  object \n",
            " 6   number_of_site_visits    327251 non-null  int64  \n",
            " 7   number_of_emails_opened  327251 non-null  int64  \n",
            " 8   number_of_clicks         327251 non-null  int64  \n",
            " 9   campaign_id              327251 non-null  int64  \n",
            " 10  response                 327251 non-null  object \n",
            " 11  promotion_type           327251 non-null  object \n",
            " 12  campaign_date            327251 non-null  object \n",
            " 13  transaction_id           327251 non-null  int64  \n",
            " 14  transaction_date         327251 non-null  object \n",
            " 15  transaction_amount       327251 non-null  float64\n",
            " 16  product_category         327251 non-null  object \n",
            "dtypes: float64(2), int64(6), object(9)\n",
            "memory usage: 42.4+ MB\n"
          ]
        }
      ],
      "source": [
        "df.info()"
      ]
    },
>>>>>>> 7e988b133b8c5dfc4cb8184243c14e3acd674373
    {
      "cell_type": "code",
      "execution_count": 16,
      "metadata": {
        "id": "zdmeRC1vxsB5"
      },
      "outputs": [],
      "source": [
        "# Convert date columns to datetime\n",
        "date_columns = ['join_date', 'last_purchase_date', 'campaign_date', 'transaction_date']\n",
        "for col in date_columns:\n",
        "    df[col] = pd.to_datetime(df[col])\n",
        "\n",
        "# Extract year, month, day from each date column\n",
        "for col in date_columns:\n",
        "    df[f'{col}_year'] = df[col].dt.year\n",
        "    df[f'{col}_month'] = df[col].dt.month\n",
        "    df[f'{col}_day'] = df[col].dt.day"
      ]
    },
    {
      "cell_type": "code",
      "execution_count": 17,
      "metadata": {
        "colab": {
          "base_uri": "https://localhost:8080/"
        },
        "id": "-3iZyDZJxsB5",
        "outputId": "ee5b6862-4c18-4dc1-ffc4-e3373953583c"
      },
      "outputs": [
        {
          "output_type": "stream",
          "name": "stdout",
          "text": [
            "customer_id                     0\n",
            "join_date                       0\n",
            "last_purchase_date              0\n",
            "age                         33280\n",
            "gender                      17846\n",
            "location                        0\n",
            "number_of_site_visits           0\n",
            "number_of_emails_opened         0\n",
            "number_of_clicks                0\n",
            "campaign_id                     0\n",
            "response                        0\n",
            "promotion_type                  0\n",
            "campaign_date                   0\n",
            "transaction_id                  0\n",
            "transaction_date                0\n",
            "transaction_amount              0\n",
            "product_category                0\n",
            "join_date_year                  0\n",
            "join_date_month                 0\n",
            "join_date_day                   0\n",
            "last_purchase_date_year         0\n",
            "last_purchase_date_month        0\n",
            "last_purchase_date_day          0\n",
            "campaign_date_year              0\n",
            "campaign_date_month             0\n",
            "campaign_date_day               0\n",
            "transaction_date_year           0\n",
            "transaction_date_month          0\n",
            "transaction_date_day            0\n",
            "dtype: int64\n"
          ]
        }
      ],
      "source": [
        "# Check for missing values\n",
        "missing_values = df.isnull().sum()\n",
        "\n",
        "print(missing_values)"
      ]
<<<<<<< HEAD
     },
     "execution_count": 23,
     "metadata": {},
     "output_type": "execute_result"
    }
   ],
   "source": [
    "# Training a Linear Regression model for age prediction\n",
    "model_age = LinearRegression()\n",
    "model_age.fit(X_age_present, y_age_present)"
   ]
  },
  {
   "cell_type": "code",
   "execution_count": 24,
   "metadata": {},
   "outputs": [],
   "source": [
    "# Predicting missing ages\n",
    "predicted_age = model_age.predict(X_age_missing)"
   ]
  },
  {
   "cell_type": "code",
   "execution_count": 25,
   "metadata": {},
   "outputs": [],
   "source": [
    "# Replacing missing ages in original dataframe\n",
    "df.loc[df['age'].isnull(), 'age'] = predicted_age"
   ]
  },
  {
   "cell_type": "code",
   "execution_count": 26,
   "metadata": {},
   "outputs": [
=======
    },
>>>>>>> 7e988b133b8c5dfc4cb8184243c14e3acd674373
    {
<<<<<<< HEAD
     "name": "stdout",
     "output_type": "stream",
     "text": [
      "<class 'pandas.core.frame.DataFrame'>\n",
      "RangeIndex: 327251 entries, 0 to 327250\n",
      "Data columns (total 29 columns):\n",
      " #   Column                    Non-Null Count   Dtype         \n",
      "---  ------                    --------------   -----         \n",
      " 0   customer_id               327251 non-null  int64         \n",
      " 1   join_date                 327251 non-null  datetime64[ns]\n",
      " 2   last_purchase_date        327251 non-null  datetime64[ns]\n",
      " 3   age                       327251 non-null  float64       \n",
      " 4   gender                    309405 non-null  object        \n",
      " 5   location                  327251 non-null  object        \n",
      " 6   number_of_site_visits     327251 non-null  int64         \n",
      " 7   number_of_emails_opened   327251 non-null  int64         \n",
      " 8   number_of_clicks          327251 non-null  int64         \n",
      " 9   campaign_id               327251 non-null  int64         \n",
      " 10  response                  327251 non-null  object        \n",
      " 11  promotion_type            327251 non-null  object        \n",
      " 12  campaign_date             327251 non-null  datetime64[ns]\n",
      " 13  transaction_id            327251 non-null  int64         \n",
      " 14  transaction_date          327251 non-null  datetime64[ns]\n",
      " 15  transaction_amount        327251 non-null  float64       \n",
      " 16  product_category          327251 non-null  object        \n",
      " 17  join_date_year            327251 non-null  int32         \n",
      " 18  join_date_month           327251 non-null  int32         \n",
      " 19  join_date_day             327251 non-null  int32         \n",
      " 20  last_purchase_date_year   327251 non-null  int32         \n",
      " 21  last_purchase_date_month  327251 non-null  int32         \n",
      " 22  last_purchase_date_day    327251 non-null  int32         \n",
      " 23  campaign_date_year        327251 non-null  int32         \n",
      " 24  campaign_date_month       327251 non-null  int32         \n",
      " 25  campaign_date_day         327251 non-null  int32         \n",
      " 26  transaction_date_year     327251 non-null  int32         \n",
      " 27  transaction_date_month    327251 non-null  int32         \n",
      " 28  transaction_date_day      327251 non-null  int32         \n",
      "dtypes: datetime64[ns](4), float64(2), int32(12), int64(6), object(5)\n",
      "memory usage: 57.4+ MB\n",
      "None\n"
     ]
    }
   ],
   "source": [
    "print(df.info())"
   ]
  },
  {
   "cell_type": "code",
   "execution_count": 27,
   "metadata": {},
   "outputs": [],
   "source": [
    "# Handling categorical variables using one-hot encoding\n",
    "categorical_columns = ['location', 'response', 'promotion_type', 'product_category']\n",
    "df = pd.get_dummies(df, columns=categorical_columns, drop_first=True)"
   ]
  },
  {
   "cell_type": "code",
   "execution_count": 28,
   "metadata": {},
   "outputs": [
=======
      "cell_type": "code",
      "execution_count": 18,
      "metadata": {
        "colab": {
          "base_uri": "https://localhost:8080/"
        },
        "id": "EuMaTG48xsB5",
        "outputId": "4ba4efb0-7454-431c-d228-2f2007cbf02a"
      },
      "outputs": [
        {
          "output_type": "stream",
          "name": "stdout",
          "text": [
            "customer_id                 False\n",
            "join_date                   False\n",
            "last_purchase_date          False\n",
            "age                          True\n",
            "gender                       True\n",
            "location                    False\n",
            "number_of_site_visits       False\n",
            "number_of_emails_opened     False\n",
            "number_of_clicks            False\n",
            "campaign_id                 False\n",
            "response                    False\n",
            "promotion_type              False\n",
            "campaign_date               False\n",
            "transaction_id              False\n",
            "transaction_date            False\n",
            "transaction_amount          False\n",
            "product_category            False\n",
            "join_date_year              False\n",
            "join_date_month             False\n",
            "join_date_day               False\n",
            "last_purchase_date_year     False\n",
            "last_purchase_date_month    False\n",
            "last_purchase_date_day      False\n",
            "campaign_date_year          False\n",
            "campaign_date_month         False\n",
            "campaign_date_day           False\n",
            "transaction_date_year       False\n",
            "transaction_date_month      False\n",
            "transaction_date_day        False\n",
            "dtype: bool\n"
          ]
        }
      ],
      "source": [
        "# Check if there are any missing values in each column\n",
        "missing_any = df.isnull().any()\n",
        "\n",
        "print(missing_any)"
      ]
    },
>>>>>>> 7e988b133b8c5dfc4cb8184243c14e3acd674373
    {
<<<<<<< HEAD
     "name": "stdout",
     "output_type": "stream",
     "text": [
      "        customer_id  join_date last_purchase_date   age  gender  \\\n",
      "0                 1 2023-11-20         2024-03-17  56.0  Female   \n",
      "1                 1 2023-11-20         2024-03-17  56.0  Female   \n",
      "2                 1 2023-11-20         2024-03-17  56.0  Female   \n",
      "3                 1 2023-11-20         2024-03-17  56.0  Female   \n",
      "4                 1 2023-11-20         2024-03-17  56.0  Female   \n",
      "...             ...        ...                ...   ...     ...   \n",
      "327246        10000 2023-05-26         2023-09-01  67.0    Male   \n",
      "327247        10000 2023-05-26         2023-09-01  67.0    Male   \n",
      "327248        10000 2023-05-26         2023-09-01  67.0    Male   \n",
      "327249        10000 2023-05-26         2023-09-01  67.0    Male   \n",
      "327250        10000 2023-05-26         2023-09-01  67.0    Male   \n",
      "\n",
      "        number_of_site_visits  number_of_emails_opened  number_of_clicks  \\\n",
      "0                          10                       15                 1   \n",
      "1                          10                       15                 1   \n",
      "2                          10                       15                 1   \n",
      "3                          10                       15                 1   \n",
      "4                          10                       15                 1   \n",
      "...                       ...                      ...               ...   \n",
      "327246                     12                       12                 7   \n",
      "327247                     12                       12                 7   \n",
      "327248                     12                       12                 7   \n",
      "327249                     12                       12                 7   \n",
      "327250                     12                       12                 7   \n",
      "\n",
      "        campaign_id campaign_date  ...  location_Zimmermanfort  \\\n",
      "0                 1    2024-02-29  ...                   False   \n",
      "1                 1    2024-02-29  ...                   False   \n",
      "2                 1    2024-02-29  ...                   False   \n",
      "3                 1    2024-02-29  ...                   False   \n",
      "4                 1    2024-02-29  ...                   False   \n",
      "...             ...           ...  ...                     ...   \n",
      "327246        25200    2023-06-18  ...                   False   \n",
      "327247        25200    2023-06-18  ...                   False   \n",
      "327248        25200    2023-06-18  ...                   False   \n",
      "327249        25200    2023-06-18  ...                   False   \n",
      "327250        25200    2023-06-18  ...                   False   \n",
      "\n",
      "       location_Zimmermanland  location_Zimmermanmouth  location_Zoeshire  \\\n",
      "0                       False                    False              False   \n",
      "1                       False                    False              False   \n",
      "2                       False                    False              False   \n",
      "3                       False                    False              False   \n",
      "4                       False                    False              False   \n",
      "...                       ...                      ...                ...   \n",
      "327246                  False                    False              False   \n",
      "327247                  False                    False              False   \n",
      "327248                  False                    False              False   \n",
      "327249                  False                    False              False   \n",
      "327250                  False                    False              False   \n",
      "\n",
      "        location_Zunigaburgh  response_Yes  promotion_type_Discount  \\\n",
      "0                      False         False                    False   \n",
      "1                      False         False                    False   \n",
      "2                      False         False                    False   \n",
      "3                      False         False                    False   \n",
      "4                      False         False                    False   \n",
      "...                      ...           ...                      ...   \n",
      "327246                 False          True                     True   \n",
      "327247                 False          True                     True   \n",
      "327248                 False          True                     True   \n",
      "327249                 False          True                     True   \n",
      "327250                 False          True                     True   \n",
      "\n",
      "        promotion_type_Free Shipping  product_category_Electronics  \\\n",
      "0                              False                         False   \n",
      "1                              False                         False   \n",
      "2                              False                         False   \n",
      "3                              False                          True   \n",
      "4                              False                          True   \n",
      "...                              ...                           ...   \n",
      "327246                         False                         False   \n",
      "327247                         False                          True   \n",
      "327248                         False                          True   \n",
      "327249                         False                         False   \n",
      "327250                         False                         False   \n",
      "\n",
      "        product_category_Home Goods  \n",
      "0                             False  \n",
      "1                              True  \n",
      "2                              True  \n",
      "3                             False  \n",
      "4                             False  \n",
      "...                             ...  \n",
      "327246                         True  \n",
      "327247                        False  \n",
      "327248                        False  \n",
      "327249                         True  \n",
      "327250                         True  \n",
      "\n",
      "[327251 rows x 7724 columns]\n"
     ]
    }
   ],
   "source": [
    "print(df)"
   ]
  },
  {
   "cell_type": "code",
   "execution_count": 29,
   "metadata": {},
   "outputs": [
=======
      "cell_type": "code",
      "execution_count": 19,
      "metadata": {
        "id": "EHcenT_5xsB6"
      },
      "outputs": [],
      "source": [
        "from sklearn.model_selection import train_test_split\n",
        "from sklearn.linear_model import LinearRegression, LogisticRegression\n",
        "from sklearn.metrics import mean_squared_error, accuracy_score\n",
        "from sklearn.impute import SimpleImputer"
      ]
    },
>>>>>>> 7e988b133b8c5dfc4cb8184243c14e3acd674373
    {
      "cell_type": "code",
      "execution_count": 20,
      "metadata": {
        "id": "PetZpJ30xsB6"
      },
      "outputs": [],
      "source": [
        "# Example data preparation\n",
        "df_age_present = df.dropna(subset=['age'])\n",
        "df_age_missing = df[df['age'].isnull()]"
      ]
<<<<<<< HEAD
     },
     "execution_count": 29,
     "metadata": {},
     "output_type": "execute_result"
    }
   ],
   "source": [
    "df['gender'].value_counts()"
   ]
  },
  {
   "cell_type": "code",
   "execution_count": 30,
   "metadata": {},
   "outputs": [
=======
    },
>>>>>>> 7e988b133b8c5dfc4cb8184243c14e3acd674373
    {
      "cell_type": "code",
      "execution_count": 21,
      "metadata": {
        "id": "73UwAxC1xsB7"
      },
      "outputs": [],
      "source": [
        "# Select relevant features for predicting age\n",
        "X_age_present = df_age_present[['number_of_site_visits', 'number_of_emails_opened', 'number_of_clicks', 'transaction_amount']]\n",
        "y_age_present = df_age_present['age']\n",
        "X_age_missing = df_age_missing[['number_of_site_visits', 'number_of_emails_opened', 'number_of_clicks', 'transaction_amount']]"
      ]
<<<<<<< HEAD
     },
     "execution_count": 30,
     "metadata": {},
     "output_type": "execute_result"
    }
   ],
   "source": [
    "df.shape"
   ]
  },
  {
   "cell_type": "code",
   "execution_count": 31,
   "metadata": {},
   "outputs": [],
   "source": [
    "# Creating a mapping to replace specific values in the 'gender' column\n",
    "df.replace({'gender': {'female': True, 'male': False}}, inplace=True)"
   ]
  },
  {
   "cell_type": "code",
   "execution_count": 32,
   "metadata": {},
   "outputs": [
=======
    },
>>>>>>> 7e988b133b8c5dfc4cb8184243c14e3acd674373
    {
<<<<<<< HEAD
     "name": "stderr",
     "output_type": "stream",
     "text": [
      "C:\\Users\\nazil\\AppData\\Local\\Temp\\ipykernel_14644\\678960283.py:2: FutureWarning: A value is trying to be set on a copy of a DataFrame or Series through chained assignment using an inplace method.\n",
      "The behavior will change in pandas 3.0. This inplace method will never work because the intermediate object on which we are setting values always behaves as a copy.\n",
      "\n",
      "For example, when doing 'df[col].method(value, inplace=True)', try using 'df.method({col: value}, inplace=True)' or df[col] = df[col].method(value) instead, to perform the operation inplace on the original object.\n",
      "\n",
      "\n",
      "  df['gender'].interpolate(method='nearest', inplace= True)\n",
      "C:\\Users\\nazil\\AppData\\Local\\Temp\\ipykernel_14644\\678960283.py:2: FutureWarning: Series.interpolate with object dtype is deprecated and will raise in a future version. Call obj.infer_objects(copy=False) before interpolating instead.\n",
      "  df['gender'].interpolate(method='nearest', inplace= True)\n"
     ]
    }
   ],
   "source": [
    "# Handling missing value using interpolation \n",
    "df['gender'].interpolate(method='nearest', inplace= True)"
   ]
  },
  {
   "cell_type": "code",
   "execution_count": 33,
   "metadata": {},
   "outputs": [
=======
      "cell_type": "code",
      "execution_count": 22,
      "metadata": {
        "colab": {
          "base_uri": "https://localhost:8080/",
          "height": 74
        },
        "id": "yRCUjAYZxsB7",
        "outputId": "154927ff-0fbe-44d2-b394-8055d3c55f82"
      },
      "outputs": [
        {
          "output_type": "execute_result",
          "data": {
            "text/plain": [
              "LinearRegression()"
            ],
            "text/html": [
              "<style>#sk-container-id-1 {color: black;background-color: white;}#sk-container-id-1 pre{padding: 0;}#sk-container-id-1 div.sk-toggleable {background-color: white;}#sk-container-id-1 label.sk-toggleable__label {cursor: pointer;display: block;width: 100%;margin-bottom: 0;padding: 0.3em;box-sizing: border-box;text-align: center;}#sk-container-id-1 label.sk-toggleable__label-arrow:before {content: \"▸\";float: left;margin-right: 0.25em;color: #696969;}#sk-container-id-1 label.sk-toggleable__label-arrow:hover:before {color: black;}#sk-container-id-1 div.sk-estimator:hover label.sk-toggleable__label-arrow:before {color: black;}#sk-container-id-1 div.sk-toggleable__content {max-height: 0;max-width: 0;overflow: hidden;text-align: left;background-color: #f0f8ff;}#sk-container-id-1 div.sk-toggleable__content pre {margin: 0.2em;color: black;border-radius: 0.25em;background-color: #f0f8ff;}#sk-container-id-1 input.sk-toggleable__control:checked~div.sk-toggleable__content {max-height: 200px;max-width: 100%;overflow: auto;}#sk-container-id-1 input.sk-toggleable__control:checked~label.sk-toggleable__label-arrow:before {content: \"▾\";}#sk-container-id-1 div.sk-estimator input.sk-toggleable__control:checked~label.sk-toggleable__label {background-color: #d4ebff;}#sk-container-id-1 div.sk-label input.sk-toggleable__control:checked~label.sk-toggleable__label {background-color: #d4ebff;}#sk-container-id-1 input.sk-hidden--visually {border: 0;clip: rect(1px 1px 1px 1px);clip: rect(1px, 1px, 1px, 1px);height: 1px;margin: -1px;overflow: hidden;padding: 0;position: absolute;width: 1px;}#sk-container-id-1 div.sk-estimator {font-family: monospace;background-color: #f0f8ff;border: 1px dotted black;border-radius: 0.25em;box-sizing: border-box;margin-bottom: 0.5em;}#sk-container-id-1 div.sk-estimator:hover {background-color: #d4ebff;}#sk-container-id-1 div.sk-parallel-item::after {content: \"\";width: 100%;border-bottom: 1px solid gray;flex-grow: 1;}#sk-container-id-1 div.sk-label:hover label.sk-toggleable__label {background-color: #d4ebff;}#sk-container-id-1 div.sk-serial::before {content: \"\";position: absolute;border-left: 1px solid gray;box-sizing: border-box;top: 0;bottom: 0;left: 50%;z-index: 0;}#sk-container-id-1 div.sk-serial {display: flex;flex-direction: column;align-items: center;background-color: white;padding-right: 0.2em;padding-left: 0.2em;position: relative;}#sk-container-id-1 div.sk-item {position: relative;z-index: 1;}#sk-container-id-1 div.sk-parallel {display: flex;align-items: stretch;justify-content: center;background-color: white;position: relative;}#sk-container-id-1 div.sk-item::before, #sk-container-id-1 div.sk-parallel-item::before {content: \"\";position: absolute;border-left: 1px solid gray;box-sizing: border-box;top: 0;bottom: 0;left: 50%;z-index: -1;}#sk-container-id-1 div.sk-parallel-item {display: flex;flex-direction: column;z-index: 1;position: relative;background-color: white;}#sk-container-id-1 div.sk-parallel-item:first-child::after {align-self: flex-end;width: 50%;}#sk-container-id-1 div.sk-parallel-item:last-child::after {align-self: flex-start;width: 50%;}#sk-container-id-1 div.sk-parallel-item:only-child::after {width: 0;}#sk-container-id-1 div.sk-dashed-wrapped {border: 1px dashed gray;margin: 0 0.4em 0.5em 0.4em;box-sizing: border-box;padding-bottom: 0.4em;background-color: white;}#sk-container-id-1 div.sk-label label {font-family: monospace;font-weight: bold;display: inline-block;line-height: 1.2em;}#sk-container-id-1 div.sk-label-container {text-align: center;}#sk-container-id-1 div.sk-container {/* jupyter's `normalize.less` sets `[hidden] { display: none; }` but bootstrap.min.css set `[hidden] { display: none !important; }` so we also need the `!important` here to be able to override the default hidden behavior on the sphinx rendered scikit-learn.org. See: https://github.com/scikit-learn/scikit-learn/issues/21755 */display: inline-block !important;position: relative;}#sk-container-id-1 div.sk-text-repr-fallback {display: none;}</style><div id=\"sk-container-id-1\" class=\"sk-top-container\"><div class=\"sk-text-repr-fallback\"><pre>LinearRegression()</pre><b>In a Jupyter environment, please rerun this cell to show the HTML representation or trust the notebook. <br />On GitHub, the HTML representation is unable to render, please try loading this page with nbviewer.org.</b></div><div class=\"sk-container\" hidden><div class=\"sk-item\"><div class=\"sk-estimator sk-toggleable\"><input class=\"sk-toggleable__control sk-hidden--visually\" id=\"sk-estimator-id-1\" type=\"checkbox\" checked><label for=\"sk-estimator-id-1\" class=\"sk-toggleable__label sk-toggleable__label-arrow\">LinearRegression</label><div class=\"sk-toggleable__content\"><pre>LinearRegression()</pre></div></div></div></div></div>"
            ]
          },
          "metadata": {},
          "execution_count": 22
        }
      ],
      "source": [
        "# Train a Linear Regression model for age prediction\n",
        "model_age = LinearRegression()\n",
        "model_age.fit(X_age_present, y_age_present)"
      ]
    },
>>>>>>> 7e988b133b8c5dfc4cb8184243c14e3acd674373
    {
<<<<<<< HEAD
     "name": "stdout",
     "output_type": "stream",
     "text": [
      "customer_id                     False\n",
      "join_date                       False\n",
      "last_purchase_date              False\n",
      "age                             False\n",
      "gender                           True\n",
      "                                ...  \n",
      "response_Yes                    False\n",
      "promotion_type_Discount         False\n",
      "promotion_type_Free Shipping    False\n",
      "product_category_Electronics    False\n",
      "product_category_Home Goods     False\n",
      "Length: 7724, dtype: bool\n"
     ]
    }
   ],
   "source": [
    "# Checking if there are any missing values in each column\n",
    "missing_any = df.isnull().any()\n",
    "\n",
    "print(missing_any)"
   ]
  },
  {
   "cell_type": "code",
   "execution_count": 34,
   "metadata": {},
   "outputs": [
=======
      "cell_type": "code",
      "execution_count": 23,
      "metadata": {
        "id": "ga_hwuAhxsB7"
      },
      "outputs": [],
      "source": [
        "# Predict missing ages\n",
        "predicted_age = model_age.predict(X_age_missing)"
      ]
    },
>>>>>>> 7e988b133b8c5dfc4cb8184243c14e3acd674373
    {
<<<<<<< HEAD
     "name": "stdout",
     "output_type": "stream",
     "text": [
      "   customer_id  join_date last_purchase_date   age  gender  \\\n",
      "0            1 2023-11-20         2024-03-17  56.0  Female   \n",
      "1            1 2023-11-20         2024-03-17  56.0  Female   \n",
      "2            1 2023-11-20         2024-03-17  56.0  Female   \n",
      "3            1 2023-11-20         2024-03-17  56.0  Female   \n",
      "4            1 2023-11-20         2024-03-17  56.0  Female   \n",
      "\n",
      "   number_of_site_visits  number_of_emails_opened  number_of_clicks  \\\n",
      "0                     10                       15                 1   \n",
      "1                     10                       15                 1   \n",
      "2                     10                       15                 1   \n",
      "3                     10                       15                 1   \n",
      "4                     10                       15                 1   \n",
      "\n",
      "   campaign_id campaign_date  ...  location_Zimmermanfort  \\\n",
      "0            1    2024-02-29  ...                   False   \n",
      "1            1    2024-02-29  ...                   False   \n",
      "2            1    2024-02-29  ...                   False   \n",
      "3            1    2024-02-29  ...                   False   \n",
      "4            1    2024-02-29  ...                   False   \n",
      "\n",
      "  location_Zimmermanland  location_Zimmermanmouth  location_Zoeshire  \\\n",
      "0                  False                    False              False   \n",
      "1                  False                    False              False   \n",
      "2                  False                    False              False   \n",
      "3                  False                    False              False   \n",
      "4                  False                    False              False   \n",
      "\n",
      "   location_Zunigaburgh  response_Yes  promotion_type_Discount  \\\n",
      "0                 False         False                    False   \n",
      "1                 False         False                    False   \n",
      "2                 False         False                    False   \n",
      "3                 False         False                    False   \n",
      "4                 False         False                    False   \n",
      "\n",
      "   promotion_type_Free Shipping  product_category_Electronics  \\\n",
      "0                         False                         False   \n",
      "1                         False                         False   \n",
      "2                         False                         False   \n",
      "3                         False                          True   \n",
      "4                         False                          True   \n",
      "\n",
      "   product_category_Home Goods  \n",
      "0                        False  \n",
      "1                         True  \n",
      "2                         True  \n",
      "3                        False  \n",
      "4                        False  \n",
      "\n",
      "[5 rows x 7724 columns]\n"
     ]
    }
   ],
   "source": [
    "print(df.head())"
   ]
  },
  {
   "cell_type": "code",
   "execution_count": 35,
   "metadata": {},
   "outputs": [],
   "source": [
    "# Separating df into present and missing gender\n",
    "df_gender_present = df.dropna(subset=['gender'])\n",
    "df_gender_missing = df[df['gender'].isnull()]"
   ]
  },
  {
   "cell_type": "code",
   "execution_count": 36,
   "metadata": {},
   "outputs": [],
   "source": [
    "# Selecting relevant features for predicting gender\n",
    "X_gender_present = df_gender_present[['location_Zimmermanfort', 'location_Zimmermanland', 'location_Zimmermanmouth', 'location_Zoeshire', 'location_Zunigaburgh', 'number_of_site_visits', 'number_of_emails_opened', 'number_of_clicks', 'response_Yes']]\n",
    "y_gender_present = df_gender_present['gender']\n",
    "\n",
    "X_gender_missing = df_gender_missing[['location_Zimmermanfort', 'location_Zimmermanland', 'location_Zimmermanmouth', 'location_Zoeshire', 'location_Zunigaburgh', 'number_of_site_visits', 'number_of_emails_opened', 'number_of_clicks', 'response_Yes']]"
   ]
  },
  {
   "cell_type": "code",
   "execution_count": 37,
   "metadata": {},
   "outputs": [
=======
      "cell_type": "code",
      "execution_count": 24,
      "metadata": {
        "id": "fSIuNQYuxsB7"
      },
      "outputs": [],
      "source": [
        "# Replace missing ages in original dataframe\n",
        "df.loc[df['age'].isnull(), 'age'] = predicted_age"
      ]
    },
>>>>>>> 7e988b133b8c5dfc4cb8184243c14e3acd674373
    {
      "cell_type": "code",
      "execution_count": 25,
      "metadata": {
        "colab": {
          "base_uri": "https://localhost:8080/"
        },
        "id": "cJnzLq4vxsB8",
        "outputId": "8d6ce7a7-e74d-4f61-b482-9bd1f0a28c13"
      },
      "outputs": [
        {
          "output_type": "stream",
          "name": "stdout",
          "text": [
            "<class 'pandas.core.frame.DataFrame'>\n",
            "RangeIndex: 327251 entries, 0 to 327250\n",
            "Data columns (total 29 columns):\n",
            " #   Column                    Non-Null Count   Dtype         \n",
            "---  ------                    --------------   -----         \n",
            " 0   customer_id               327251 non-null  int64         \n",
            " 1   join_date                 327251 non-null  datetime64[ns]\n",
            " 2   last_purchase_date        327251 non-null  datetime64[ns]\n",
            " 3   age                       327251 non-null  float64       \n",
            " 4   gender                    309405 non-null  object        \n",
            " 5   location                  327251 non-null  object        \n",
            " 6   number_of_site_visits     327251 non-null  int64         \n",
            " 7   number_of_emails_opened   327251 non-null  int64         \n",
            " 8   number_of_clicks          327251 non-null  int64         \n",
            " 9   campaign_id               327251 non-null  int64         \n",
            " 10  response                  327251 non-null  object        \n",
            " 11  promotion_type            327251 non-null  object        \n",
            " 12  campaign_date             327251 non-null  datetime64[ns]\n",
            " 13  transaction_id            327251 non-null  int64         \n",
            " 14  transaction_date          327251 non-null  datetime64[ns]\n",
            " 15  transaction_amount        327251 non-null  float64       \n",
            " 16  product_category          327251 non-null  object        \n",
            " 17  join_date_year            327251 non-null  int32         \n",
            " 18  join_date_month           327251 non-null  int32         \n",
            " 19  join_date_day             327251 non-null  int32         \n",
            " 20  last_purchase_date_year   327251 non-null  int32         \n",
            " 21  last_purchase_date_month  327251 non-null  int32         \n",
            " 22  last_purchase_date_day    327251 non-null  int32         \n",
            " 23  campaign_date_year        327251 non-null  int32         \n",
            " 24  campaign_date_month       327251 non-null  int32         \n",
            " 25  campaign_date_day         327251 non-null  int32         \n",
            " 26  transaction_date_year     327251 non-null  int32         \n",
            " 27  transaction_date_month    327251 non-null  int32         \n",
            " 28  transaction_date_day      327251 non-null  int32         \n",
            "dtypes: datetime64[ns](4), float64(2), int32(12), int64(6), object(5)\n",
            "memory usage: 57.4+ MB\n",
            "None\n"
          ]
        }
      ],
      "source": [
        "print(df.info())"
      ]
<<<<<<< HEAD
     },
     "execution_count": 37,
     "metadata": {},
     "output_type": "execute_result"
    }
   ],
   "source": [
    "# Training a Logistic Regression model for gender prediction\n",
    "model_gender = LogisticRegression()\n",
    "model_gender.fit(X_gender_present, y_gender_present)"
   ]
  },
  {
   "cell_type": "code",
   "execution_count": 38,
   "metadata": {},
   "outputs": [],
   "source": [
    "# Predicting missing genders\n",
    "predicted_gender = model_gender.predict(X_gender_missing)"
   ]
  },
  {
   "cell_type": "code",
   "execution_count": 39,
   "metadata": {},
   "outputs": [
=======
    },
>>>>>>> 7e988b133b8c5dfc4cb8184243c14e3acd674373
    {
<<<<<<< HEAD
     "name": "stdout",
     "output_type": "stream",
     "text": [
      "        customer_id  join_date last_purchase_date   age  gender  \\\n",
      "0                 1 2023-11-20         2024-03-17  56.0  Female   \n",
      "1                 1 2023-11-20         2024-03-17  56.0  Female   \n",
      "2                 1 2023-11-20         2024-03-17  56.0  Female   \n",
      "3                 1 2023-11-20         2024-03-17  56.0  Female   \n",
      "4                 1 2023-11-20         2024-03-17  56.0  Female   \n",
      "...             ...        ...                ...   ...     ...   \n",
      "327246        10000 2023-05-26         2023-09-01  67.0    Male   \n",
      "327247        10000 2023-05-26         2023-09-01  67.0    Male   \n",
      "327248        10000 2023-05-26         2023-09-01  67.0    Male   \n",
      "327249        10000 2023-05-26         2023-09-01  67.0    Male   \n",
      "327250        10000 2023-05-26         2023-09-01  67.0    Male   \n",
      "\n",
      "        number_of_site_visits  number_of_emails_opened  number_of_clicks  \\\n",
      "0                          10                       15                 1   \n",
      "1                          10                       15                 1   \n",
      "2                          10                       15                 1   \n",
      "3                          10                       15                 1   \n",
      "4                          10                       15                 1   \n",
      "...                       ...                      ...               ...   \n",
      "327246                     12                       12                 7   \n",
      "327247                     12                       12                 7   \n",
      "327248                     12                       12                 7   \n",
      "327249                     12                       12                 7   \n",
      "327250                     12                       12                 7   \n",
      "\n",
      "        campaign_id campaign_date  ...  location_Zimmermanfort  \\\n",
      "0                 1    2024-02-29  ...                   False   \n",
      "1                 1    2024-02-29  ...                   False   \n",
      "2                 1    2024-02-29  ...                   False   \n",
      "3                 1    2024-02-29  ...                   False   \n",
      "4                 1    2024-02-29  ...                   False   \n",
      "...             ...           ...  ...                     ...   \n",
      "327246        25200    2023-06-18  ...                   False   \n",
      "327247        25200    2023-06-18  ...                   False   \n",
      "327248        25200    2023-06-18  ...                   False   \n",
      "327249        25200    2023-06-18  ...                   False   \n",
      "327250        25200    2023-06-18  ...                   False   \n",
      "\n",
      "       location_Zimmermanland  location_Zimmermanmouth  location_Zoeshire  \\\n",
      "0                       False                    False              False   \n",
      "1                       False                    False              False   \n",
      "2                       False                    False              False   \n",
      "3                       False                    False              False   \n",
      "4                       False                    False              False   \n",
      "...                       ...                      ...                ...   \n",
      "327246                  False                    False              False   \n",
      "327247                  False                    False              False   \n",
      "327248                  False                    False              False   \n",
      "327249                  False                    False              False   \n",
      "327250                  False                    False              False   \n",
      "\n",
      "        location_Zunigaburgh  response_Yes  promotion_type_Discount  \\\n",
      "0                      False         False                    False   \n",
      "1                      False         False                    False   \n",
      "2                      False         False                    False   \n",
      "3                      False         False                    False   \n",
      "4                      False         False                    False   \n",
      "...                      ...           ...                      ...   \n",
      "327246                 False          True                     True   \n",
      "327247                 False          True                     True   \n",
      "327248                 False          True                     True   \n",
      "327249                 False          True                     True   \n",
      "327250                 False          True                     True   \n",
      "\n",
      "        promotion_type_Free Shipping  product_category_Electronics  \\\n",
      "0                              False                         False   \n",
      "1                              False                         False   \n",
      "2                              False                         False   \n",
      "3                              False                          True   \n",
      "4                              False                          True   \n",
      "...                              ...                           ...   \n",
      "327246                         False                         False   \n",
      "327247                         False                          True   \n",
      "327248                         False                          True   \n",
      "327249                         False                         False   \n",
      "327250                         False                         False   \n",
      "\n",
      "        product_category_Home Goods  \n",
      "0                             False  \n",
      "1                              True  \n",
      "2                              True  \n",
      "3                             False  \n",
      "4                             False  \n",
      "...                             ...  \n",
      "327246                         True  \n",
      "327247                        False  \n",
      "327248                        False  \n",
      "327249                         True  \n",
      "327250                         True  \n",
      "\n",
      "[327251 rows x 7724 columns]\n"
     ]
    }
   ],
   "source": [
    "# Replacing missing genders in original dataframe\n",
    "df.loc[df['gender'].isnull(), 'gender'] = predicted_gender\n",
    "\n",
    "# Print the updated dataset\n",
    "print(df)"
   ]
  },
  {
   "cell_type": "code",
   "execution_count": 40,
   "metadata": {},
   "outputs": [
=======
      "cell_type": "code",
      "execution_count": 26,
      "metadata": {
        "id": "FZDUI7WWxsB8"
      },
      "outputs": [],
      "source": [
        "# Handle categorical variables using one-hot encoding\n",
        "categorical_columns = ['location', 'response', 'promotion_type', 'product_category']\n",
        "df = pd.get_dummies(df, columns=categorical_columns, drop_first=True)"
      ]
    },
>>>>>>> 7e988b133b8c5dfc4cb8184243c14e3acd674373
    {
<<<<<<< HEAD
     "name": "stdout",
     "output_type": "stream",
     "text": [
      "customer_id                     False\n",
      "join_date                       False\n",
      "last_purchase_date              False\n",
      "age                             False\n",
      "gender                          False\n",
      "                                ...  \n",
      "response_Yes                    False\n",
      "promotion_type_Discount         False\n",
      "promotion_type_Free Shipping    False\n",
      "product_category_Electronics    False\n",
      "product_category_Home Goods     False\n",
      "Length: 7724, dtype: bool\n"
     ]
    }
   ],
   "source": [
    "# Checking if there are any missing values in each column\n",
    "missing_any = df.isnull().any()\n",
    "\n",
    "print(missing_any)"
   ]
  },
  {
   "cell_type": "code",
   "execution_count": 41,
   "metadata": {},
   "outputs": [],
   "source": [
    "# Handling categorical variables using one-hot encoding\n",
    "categorical_gender = ['gender']\n",
    "df = pd.get_dummies(df, columns=categorical_gender, drop_first=True)"
   ]
  },
  {
   "cell_type": "code",
   "execution_count": 42,
   "metadata": {},
   "outputs": [],
   "source": [
    "# Feature Engineering\n",
    "# Deriving 'customer_tenure' from 'join_date' and 'last_purchase_date'\n",
    "df['customer_tenure'] = (df['last_purchase_date'] - df['join_date']).dt.days\n",
    "\n",
    "# Deriving duration since last purchase\n",
    "df['days_since_last_purchase'] = (pd.to_datetime('today') - df['last_purchase_date']).dt.days\n",
    "\n",
    "# Calculating interaction between number of site visits and number of clicks\n",
    "df['visits_clicks_interaction'] = df['number_of_site_visits'] * df['number_of_clicks']\n",
    "\n",
    "# Averaging transaction amount per visit\n",
    "df['avg_transaction_amount_per_visit'] = df['transaction_amount'] / df['number_of_site_visits']"
   ]
  },
  {
   "cell_type": "code",
   "execution_count": 43,
   "metadata": {},
   "outputs": [
=======
      "cell_type": "code",
      "execution_count": 27,
      "metadata": {
        "colab": {
          "base_uri": "https://localhost:8080/"
        },
        "id": "y-wLZv1gxsB8",
        "outputId": "b535c87d-eba3-4d41-f049-0af98e1d07cb"
      },
      "outputs": [
        {
          "output_type": "stream",
          "name": "stdout",
          "text": [
            "        customer_id  join_date last_purchase_date   age  gender  \\\n",
            "0                 1 2023-11-20         2024-03-17  56.0  Female   \n",
            "1                 1 2023-11-20         2024-03-17  56.0  Female   \n",
            "2                 1 2023-11-20         2024-03-17  56.0  Female   \n",
            "3                 1 2023-11-20         2024-03-17  56.0  Female   \n",
            "4                 1 2023-11-20         2024-03-17  56.0  Female   \n",
            "...             ...        ...                ...   ...     ...   \n",
            "327246        10000 2023-05-26         2023-09-01  67.0    Male   \n",
            "327247        10000 2023-05-26         2023-09-01  67.0    Male   \n",
            "327248        10000 2023-05-26         2023-09-01  67.0    Male   \n",
            "327249        10000 2023-05-26         2023-09-01  67.0    Male   \n",
            "327250        10000 2023-05-26         2023-09-01  67.0    Male   \n",
            "\n",
            "        number_of_site_visits  number_of_emails_opened  number_of_clicks  \\\n",
            "0                          10                       15                 1   \n",
            "1                          10                       15                 1   \n",
            "2                          10                       15                 1   \n",
            "3                          10                       15                 1   \n",
            "4                          10                       15                 1   \n",
            "...                       ...                      ...               ...   \n",
            "327246                     12                       12                 7   \n",
            "327247                     12                       12                 7   \n",
            "327248                     12                       12                 7   \n",
            "327249                     12                       12                 7   \n",
            "327250                     12                       12                 7   \n",
            "\n",
            "        campaign_id campaign_date  ...  location_Zimmermanfort  \\\n",
            "0                 1    2024-02-29  ...                   False   \n",
            "1                 1    2024-02-29  ...                   False   \n",
            "2                 1    2024-02-29  ...                   False   \n",
            "3                 1    2024-02-29  ...                   False   \n",
            "4                 1    2024-02-29  ...                   False   \n",
            "...             ...           ...  ...                     ...   \n",
            "327246        25200    2023-06-18  ...                   False   \n",
            "327247        25200    2023-06-18  ...                   False   \n",
            "327248        25200    2023-06-18  ...                   False   \n",
            "327249        25200    2023-06-18  ...                   False   \n",
            "327250        25200    2023-06-18  ...                   False   \n",
            "\n",
            "       location_Zimmermanland  location_Zimmermanmouth  location_Zoeshire  \\\n",
            "0                       False                    False              False   \n",
            "1                       False                    False              False   \n",
            "2                       False                    False              False   \n",
            "3                       False                    False              False   \n",
            "4                       False                    False              False   \n",
            "...                       ...                      ...                ...   \n",
            "327246                  False                    False              False   \n",
            "327247                  False                    False              False   \n",
            "327248                  False                    False              False   \n",
            "327249                  False                    False              False   \n",
            "327250                  False                    False              False   \n",
            "\n",
            "        location_Zunigaburgh  response_Yes  promotion_type_Discount  \\\n",
            "0                      False         False                    False   \n",
            "1                      False         False                    False   \n",
            "2                      False         False                    False   \n",
            "3                      False         False                    False   \n",
            "4                      False         False                    False   \n",
            "...                      ...           ...                      ...   \n",
            "327246                 False          True                     True   \n",
            "327247                 False          True                     True   \n",
            "327248                 False          True                     True   \n",
            "327249                 False          True                     True   \n",
            "327250                 False          True                     True   \n",
            "\n",
            "        promotion_type_Free Shipping  product_category_Electronics  \\\n",
            "0                              False                         False   \n",
            "1                              False                         False   \n",
            "2                              False                         False   \n",
            "3                              False                          True   \n",
            "4                              False                          True   \n",
            "...                              ...                           ...   \n",
            "327246                         False                         False   \n",
            "327247                         False                          True   \n",
            "327248                         False                          True   \n",
            "327249                         False                         False   \n",
            "327250                         False                         False   \n",
            "\n",
            "        product_category_Home Goods  \n",
            "0                             False  \n",
            "1                              True  \n",
            "2                              True  \n",
            "3                             False  \n",
            "4                             False  \n",
            "...                             ...  \n",
            "327246                         True  \n",
            "327247                        False  \n",
            "327248                        False  \n",
            "327249                         True  \n",
            "327250                         True  \n",
            "\n",
            "[327251 rows x 7724 columns]\n"
          ]
        }
      ],
      "source": [
        "print(df)"
      ]
    },
>>>>>>> 7e988b133b8c5dfc4cb8184243c14e3acd674373
    {
<<<<<<< HEAD
     "data": {
      "text/html": [
       "<div>\n",
       "<style scoped>\n",
       "    .dataframe tbody tr th:only-of-type {\n",
       "        vertical-align: middle;\n",
       "    }\n",
       "\n",
       "    .dataframe tbody tr th {\n",
       "        vertical-align: top;\n",
       "    }\n",
       "\n",
       "    .dataframe thead th {\n",
       "        text-align: right;\n",
       "    }\n",
       "</style>\n",
       "<table border=\"1\" class=\"dataframe\">\n",
       "  <thead>\n",
       "    <tr style=\"text-align: right;\">\n",
       "      <th></th>\n",
       "      <th>customer_id</th>\n",
       "      <th>join_date</th>\n",
       "      <th>last_purchase_date</th>\n",
       "      <th>age</th>\n",
       "      <th>number_of_site_visits</th>\n",
       "      <th>number_of_emails_opened</th>\n",
       "      <th>number_of_clicks</th>\n",
       "      <th>campaign_id</th>\n",
       "      <th>campaign_date</th>\n",
       "      <th>transaction_id</th>\n",
       "      <th>...</th>\n",
       "      <th>response_Yes</th>\n",
       "      <th>promotion_type_Discount</th>\n",
       "      <th>promotion_type_Free Shipping</th>\n",
       "      <th>product_category_Electronics</th>\n",
       "      <th>product_category_Home Goods</th>\n",
       "      <th>gender_Male</th>\n",
       "      <th>customer_tenure</th>\n",
       "      <th>days_since_last_purchase</th>\n",
       "      <th>visits_clicks_interaction</th>\n",
       "      <th>avg_transaction_amount_per_visit</th>\n",
       "    </tr>\n",
       "  </thead>\n",
       "  <tbody>\n",
       "    <tr>\n",
       "      <th>0</th>\n",
       "      <td>1</td>\n",
       "      <td>2023-11-20</td>\n",
       "      <td>2024-03-17</td>\n",
       "      <td>56.0</td>\n",
       "      <td>10</td>\n",
       "      <td>15</td>\n",
       "      <td>1</td>\n",
       "      <td>1</td>\n",
       "      <td>2024-02-29</td>\n",
       "      <td>1</td>\n",
       "      <td>...</td>\n",
       "      <td>False</td>\n",
       "      <td>False</td>\n",
       "      <td>False</td>\n",
       "      <td>False</td>\n",
       "      <td>False</td>\n",
       "      <td>False</td>\n",
       "      <td>118</td>\n",
       "      <td>115</td>\n",
       "      <td>10</td>\n",
       "      <td>16.556</td>\n",
       "    </tr>\n",
       "    <tr>\n",
       "      <th>1</th>\n",
       "      <td>1</td>\n",
       "      <td>2023-11-20</td>\n",
       "      <td>2024-03-17</td>\n",
       "      <td>56.0</td>\n",
       "      <td>10</td>\n",
       "      <td>15</td>\n",
       "      <td>1</td>\n",
       "      <td>1</td>\n",
       "      <td>2024-02-29</td>\n",
       "      <td>2</td>\n",
       "      <td>...</td>\n",
       "      <td>False</td>\n",
       "      <td>False</td>\n",
       "      <td>False</td>\n",
       "      <td>False</td>\n",
       "      <td>True</td>\n",
       "      <td>False</td>\n",
       "      <td>118</td>\n",
       "      <td>115</td>\n",
       "      <td>10</td>\n",
       "      <td>69.901</td>\n",
       "    </tr>\n",
       "    <tr>\n",
       "      <th>2</th>\n",
       "      <td>1</td>\n",
       "      <td>2023-11-20</td>\n",
       "      <td>2024-03-17</td>\n",
       "      <td>56.0</td>\n",
       "      <td>10</td>\n",
       "      <td>15</td>\n",
       "      <td>1</td>\n",
       "      <td>1</td>\n",
       "      <td>2024-02-29</td>\n",
       "      <td>3</td>\n",
       "      <td>...</td>\n",
       "      <td>False</td>\n",
       "      <td>False</td>\n",
       "      <td>False</td>\n",
       "      <td>False</td>\n",
       "      <td>True</td>\n",
       "      <td>False</td>\n",
       "      <td>118</td>\n",
       "      <td>115</td>\n",
       "      <td>10</td>\n",
       "      <td>14.686</td>\n",
       "    </tr>\n",
       "    <tr>\n",
       "      <th>3</th>\n",
       "      <td>1</td>\n",
       "      <td>2023-11-20</td>\n",
       "      <td>2024-03-17</td>\n",
       "      <td>56.0</td>\n",
       "      <td>10</td>\n",
       "      <td>15</td>\n",
       "      <td>1</td>\n",
       "      <td>1</td>\n",
       "      <td>2024-02-29</td>\n",
       "      <td>4</td>\n",
       "      <td>...</td>\n",
       "      <td>False</td>\n",
       "      <td>False</td>\n",
       "      <td>False</td>\n",
       "      <td>True</td>\n",
       "      <td>False</td>\n",
       "      <td>False</td>\n",
       "      <td>118</td>\n",
       "      <td>115</td>\n",
       "      <td>10</td>\n",
       "      <td>92.746</td>\n",
       "    </tr>\n",
       "    <tr>\n",
       "      <th>4</th>\n",
       "      <td>1</td>\n",
       "      <td>2023-11-20</td>\n",
       "      <td>2024-03-17</td>\n",
       "      <td>56.0</td>\n",
       "      <td>10</td>\n",
       "      <td>15</td>\n",
       "      <td>1</td>\n",
       "      <td>1</td>\n",
       "      <td>2024-02-29</td>\n",
       "      <td>5</td>\n",
       "      <td>...</td>\n",
       "      <td>False</td>\n",
       "      <td>False</td>\n",
       "      <td>False</td>\n",
       "      <td>True</td>\n",
       "      <td>False</td>\n",
       "      <td>False</td>\n",
       "      <td>118</td>\n",
       "      <td>115</td>\n",
       "      <td>10</td>\n",
       "      <td>139.587</td>\n",
       "    </tr>\n",
       "  </tbody>\n",
       "</table>\n",
       "<p>5 rows × 7728 columns</p>\n",
       "</div>"
=======
      "cell_type": "code",
      "execution_count": 28,
      "metadata": {
        "colab": {
          "base_uri": "https://localhost:8080/"
        },
        "id": "SXPPqUYrxsB8",
        "outputId": "a6fe1227-bfd0-4f1d-f3a5-df478f2f8aa8"
      },
      "outputs": [
        {
          "output_type": "execute_result",
          "data": {
            "text/plain": [
              "gender\n",
              "Male      155579\n",
              "Female    153826\n",
              "Name: count, dtype: int64"
            ]
          },
          "metadata": {},
          "execution_count": 28
        }
>>>>>>> 7e988b133b8c5dfc4cb8184243c14e3acd674373
      ],
<<<<<<< HEAD
      "text/plain": [
       "   customer_id  join_date last_purchase_date   age  number_of_site_visits  \\\n",
       "0            1 2023-11-20         2024-03-17  56.0                     10   \n",
       "1            1 2023-11-20         2024-03-17  56.0                     10   \n",
       "2            1 2023-11-20         2024-03-17  56.0                     10   \n",
       "3            1 2023-11-20         2024-03-17  56.0                     10   \n",
       "4            1 2023-11-20         2024-03-17  56.0                     10   \n",
       "\n",
       "   number_of_emails_opened  number_of_clicks  campaign_id campaign_date  \\\n",
       "0                       15                 1            1    2024-02-29   \n",
       "1                       15                 1            1    2024-02-29   \n",
       "2                       15                 1            1    2024-02-29   \n",
       "3                       15                 1            1    2024-02-29   \n",
       "4                       15                 1            1    2024-02-29   \n",
       "\n",
       "   transaction_id  ... response_Yes  promotion_type_Discount  \\\n",
       "0               1  ...        False                    False   \n",
       "1               2  ...        False                    False   \n",
       "2               3  ...        False                    False   \n",
       "3               4  ...        False                    False   \n",
       "4               5  ...        False                    False   \n",
       "\n",
       "   promotion_type_Free Shipping  product_category_Electronics  \\\n",
       "0                         False                         False   \n",
       "1                         False                         False   \n",
       "2                         False                         False   \n",
       "3                         False                          True   \n",
       "4                         False                          True   \n",
       "\n",
       "   product_category_Home Goods  gender_Male  customer_tenure  \\\n",
       "0                        False        False              118   \n",
       "1                         True        False              118   \n",
       "2                         True        False              118   \n",
       "3                        False        False              118   \n",
       "4                        False        False              118   \n",
       "\n",
       "   days_since_last_purchase  visits_clicks_interaction  \\\n",
       "0                       115                         10   \n",
       "1                       115                         10   \n",
       "2                       115                         10   \n",
       "3                       115                         10   \n",
       "4                       115                         10   \n",
       "\n",
       "   avg_transaction_amount_per_visit  \n",
       "0                            16.556  \n",
       "1                            69.901  \n",
       "2                            14.686  \n",
       "3                            92.746  \n",
       "4                           139.587  \n",
       "\n",
       "[5 rows x 7728 columns]"
=======
      "source": [
        "df['gender'].value_counts()"
>>>>>>> 7e988b133b8c5dfc4cb8184243c14e3acd674373
      ]
<<<<<<< HEAD
     },
     "execution_count": 43,
     "metadata": {},
     "output_type": "execute_result"
    }
   ],
   "source": [
    "df.head()"
   ]
  },
  {
   "cell_type": "code",
   "execution_count": 44,
   "metadata": {},
   "outputs": [],
   "source": [
    "# Aggregation by customer_id\n",
    "customer_agg = df.groupby('customer_id').agg({'transaction_amount': ['sum', 'mean', 'count'], 'number_of_site_visits': 'mean', 'number_of_clicks': 'mean','number_of_emails_opened': 'mean'}).reset_index()\n",
    "\n",
    "# Renaming columns after aggregation\n",
    "customer_agg.columns = ['customer_id', 'total_spent', 'avg_spent', 'transaction_count', 'avg_site_visits', 'avg_clicks', 'avg_emails_opened']\n",
    "\n",
    "# Merging the aggregated data with the original dataframe\n",
    "df = pd.merge(df, customer_agg, on='customer_id', how='left')"
   ]
  },
  {
   "cell_type": "code",
   "execution_count": 45,
   "metadata": {},
   "outputs": [],
   "source": [
    "from sklearn.metrics import mean_absolute_error, r2_score\n",
    "from sklearn.ensemble import RandomForestRegressor"
   ]
  },
  {
   "cell_type": "code",
   "execution_count": 46,
   "metadata": {},
   "outputs": [],
   "source": [
    "# Ensuring all columns are numeric\n",
    "df = df.apply(pd.to_numeric)\n",
    "\n",
    "# Defining the target variable (CLV) as the total transaction amount per customer\n",
    "df['CLV'] = df.groupby('customer_id')['transaction_amount'].transform('sum')"
   ]
  },
  {
   "cell_type": "code",
   "execution_count": 47,
   "metadata": {},
   "outputs": [],
   "source": [
    "# Defining the features (excluding the target variable 'CLV')\n",
    "X = df.drop(columns=['CLV', 'customer_id', 'join_date', 'last_purchase_date', 'campaign_date', 'transaction_date'])\n",
    "y = df['CLV']\n",
    "\n",
    "# Spliting the data into training and testing sets\n",
    "from sklearn.model_selection import train_test_split\n",
    "X_train, X_test, y_train, y_test = train_test_split(X, y, test_size=0.2, random_state=42)"
   ]
  },
  {
   "cell_type": "code",
   "execution_count": 48,
   "metadata": {},
   "outputs": [
=======
    },
>>>>>>> 7e988b133b8c5dfc4cb8184243c14e3acd674373
    {
<<<<<<< HEAD
     "ename": "MemoryError",
     "evalue": "Unable to allocate 15.0 GiB for an array with shape (7700, 261800) and data type float64",
     "output_type": "error",
     "traceback": [
      "\u001b[1;31m---------------------------------------------------------------------------\u001b[0m",
      "\u001b[1;31mMemoryError\u001b[0m                               Traceback (most recent call last)",
      "Cell \u001b[1;32mIn[48], line 8\u001b[0m\n\u001b[0;32m      2\u001b[0m models \u001b[38;5;241m=\u001b[39m {\n\u001b[0;32m      3\u001b[0m     \u001b[38;5;124m'\u001b[39m\u001b[38;5;124mLinear Regression\u001b[39m\u001b[38;5;124m'\u001b[39m: LinearRegression(),\n\u001b[0;32m      4\u001b[0m     \u001b[38;5;124m'\u001b[39m\u001b[38;5;124mRandom Forest\u001b[39m\u001b[38;5;124m'\u001b[39m: RandomForestRegressor(random_state\u001b[38;5;241m=\u001b[39m\u001b[38;5;241m42\u001b[39m)\n\u001b[0;32m      5\u001b[0m }\n\u001b[0;32m      7\u001b[0m \u001b[38;5;28;01mfor\u001b[39;00m model_name, model \u001b[38;5;129;01min\u001b[39;00m models\u001b[38;5;241m.\u001b[39mitems():\n\u001b[1;32m----> 8\u001b[0m     \u001b[43mmodel\u001b[49m\u001b[38;5;241;43m.\u001b[39;49m\u001b[43mfit\u001b[49m\u001b[43m(\u001b[49m\u001b[43mX_train\u001b[49m\u001b[43m,\u001b[49m\u001b[43m \u001b[49m\u001b[43my_train\u001b[49m\u001b[43m)\u001b[49m\n\u001b[0;32m      9\u001b[0m     y_pred \u001b[38;5;241m=\u001b[39m model\u001b[38;5;241m.\u001b[39mpredict(X_test)\n\u001b[0;32m     10\u001b[0m     mse \u001b[38;5;241m=\u001b[39m mean_squared_error(y_test, y_pred)\n",
      "File \u001b[1;32mc:\\Users\\nazil\\AppData\\Local\\Programs\\Python\\Python312\\Lib\\site-packages\\sklearn\\base.py:1473\u001b[0m, in \u001b[0;36m_fit_context.<locals>.decorator.<locals>.wrapper\u001b[1;34m(estimator, *args, **kwargs)\u001b[0m\n\u001b[0;32m   1466\u001b[0m     estimator\u001b[38;5;241m.\u001b[39m_validate_params()\n\u001b[0;32m   1468\u001b[0m \u001b[38;5;28;01mwith\u001b[39;00m config_context(\n\u001b[0;32m   1469\u001b[0m     skip_parameter_validation\u001b[38;5;241m=\u001b[39m(\n\u001b[0;32m   1470\u001b[0m         prefer_skip_nested_validation \u001b[38;5;129;01mor\u001b[39;00m global_skip_validation\n\u001b[0;32m   1471\u001b[0m     )\n\u001b[0;32m   1472\u001b[0m ):\n\u001b[1;32m-> 1473\u001b[0m     \u001b[38;5;28;01mreturn\u001b[39;00m \u001b[43mfit_method\u001b[49m\u001b[43m(\u001b[49m\u001b[43mestimator\u001b[49m\u001b[43m,\u001b[49m\u001b[43m \u001b[49m\u001b[38;5;241;43m*\u001b[39;49m\u001b[43margs\u001b[49m\u001b[43m,\u001b[49m\u001b[43m \u001b[49m\u001b[38;5;241;43m*\u001b[39;49m\u001b[38;5;241;43m*\u001b[39;49m\u001b[43mkwargs\u001b[49m\u001b[43m)\u001b[49m\n",
      "File \u001b[1;32mc:\\Users\\nazil\\AppData\\Local\\Programs\\Python\\Python312\\Lib\\site-packages\\sklearn\\linear_model\\_base.py:609\u001b[0m, in \u001b[0;36mLinearRegression.fit\u001b[1;34m(self, X, y, sample_weight)\u001b[0m\n\u001b[0;32m    605\u001b[0m n_jobs_ \u001b[38;5;241m=\u001b[39m \u001b[38;5;28mself\u001b[39m\u001b[38;5;241m.\u001b[39mn_jobs\n\u001b[0;32m    607\u001b[0m accept_sparse \u001b[38;5;241m=\u001b[39m \u001b[38;5;28;01mFalse\u001b[39;00m \u001b[38;5;28;01mif\u001b[39;00m \u001b[38;5;28mself\u001b[39m\u001b[38;5;241m.\u001b[39mpositive \u001b[38;5;28;01melse\u001b[39;00m [\u001b[38;5;124m\"\u001b[39m\u001b[38;5;124mcsr\u001b[39m\u001b[38;5;124m\"\u001b[39m, \u001b[38;5;124m\"\u001b[39m\u001b[38;5;124mcsc\u001b[39m\u001b[38;5;124m\"\u001b[39m, \u001b[38;5;124m\"\u001b[39m\u001b[38;5;124mcoo\u001b[39m\u001b[38;5;124m\"\u001b[39m]\n\u001b[1;32m--> 609\u001b[0m X, y \u001b[38;5;241m=\u001b[39m \u001b[38;5;28;43mself\u001b[39;49m\u001b[38;5;241;43m.\u001b[39;49m\u001b[43m_validate_data\u001b[49m\u001b[43m(\u001b[49m\n\u001b[0;32m    610\u001b[0m \u001b[43m    \u001b[49m\u001b[43mX\u001b[49m\u001b[43m,\u001b[49m\u001b[43m \u001b[49m\u001b[43my\u001b[49m\u001b[43m,\u001b[49m\u001b[43m \u001b[49m\u001b[43maccept_sparse\u001b[49m\u001b[38;5;241;43m=\u001b[39;49m\u001b[43maccept_sparse\u001b[49m\u001b[43m,\u001b[49m\u001b[43m \u001b[49m\u001b[43my_numeric\u001b[49m\u001b[38;5;241;43m=\u001b[39;49m\u001b[38;5;28;43;01mTrue\u001b[39;49;00m\u001b[43m,\u001b[49m\u001b[43m \u001b[49m\u001b[43mmulti_output\u001b[49m\u001b[38;5;241;43m=\u001b[39;49m\u001b[38;5;28;43;01mTrue\u001b[39;49;00m\n\u001b[0;32m    611\u001b[0m \u001b[43m\u001b[49m\u001b[43m)\u001b[49m\n\u001b[0;32m    613\u001b[0m has_sw \u001b[38;5;241m=\u001b[39m sample_weight \u001b[38;5;129;01mis\u001b[39;00m \u001b[38;5;129;01mnot\u001b[39;00m \u001b[38;5;28;01mNone\u001b[39;00m\n\u001b[0;32m    614\u001b[0m \u001b[38;5;28;01mif\u001b[39;00m has_sw:\n",
      "File \u001b[1;32mc:\\Users\\nazil\\AppData\\Local\\Programs\\Python\\Python312\\Lib\\site-packages\\sklearn\\base.py:650\u001b[0m, in \u001b[0;36mBaseEstimator._validate_data\u001b[1;34m(self, X, y, reset, validate_separately, cast_to_ndarray, **check_params)\u001b[0m\n\u001b[0;32m    648\u001b[0m         y \u001b[38;5;241m=\u001b[39m check_array(y, input_name\u001b[38;5;241m=\u001b[39m\u001b[38;5;124m\"\u001b[39m\u001b[38;5;124my\u001b[39m\u001b[38;5;124m\"\u001b[39m, \u001b[38;5;241m*\u001b[39m\u001b[38;5;241m*\u001b[39mcheck_y_params)\n\u001b[0;32m    649\u001b[0m     \u001b[38;5;28;01melse\u001b[39;00m:\n\u001b[1;32m--> 650\u001b[0m         X, y \u001b[38;5;241m=\u001b[39m \u001b[43mcheck_X_y\u001b[49m\u001b[43m(\u001b[49m\u001b[43mX\u001b[49m\u001b[43m,\u001b[49m\u001b[43m \u001b[49m\u001b[43my\u001b[49m\u001b[43m,\u001b[49m\u001b[43m \u001b[49m\u001b[38;5;241;43m*\u001b[39;49m\u001b[38;5;241;43m*\u001b[39;49m\u001b[43mcheck_params\u001b[49m\u001b[43m)\u001b[49m\n\u001b[0;32m    651\u001b[0m     out \u001b[38;5;241m=\u001b[39m X, y\n\u001b[0;32m    653\u001b[0m \u001b[38;5;28;01mif\u001b[39;00m \u001b[38;5;129;01mnot\u001b[39;00m no_val_X \u001b[38;5;129;01mand\u001b[39;00m check_params\u001b[38;5;241m.\u001b[39mget(\u001b[38;5;124m\"\u001b[39m\u001b[38;5;124mensure_2d\u001b[39m\u001b[38;5;124m\"\u001b[39m, \u001b[38;5;28;01mTrue\u001b[39;00m):\n",
      "File \u001b[1;32mc:\\Users\\nazil\\AppData\\Local\\Programs\\Python\\Python312\\Lib\\site-packages\\sklearn\\utils\\validation.py:1273\u001b[0m, in \u001b[0;36mcheck_X_y\u001b[1;34m(X, y, accept_sparse, accept_large_sparse, dtype, order, copy, force_all_finite, ensure_2d, allow_nd, multi_output, ensure_min_samples, ensure_min_features, y_numeric, estimator)\u001b[0m\n\u001b[0;32m   1268\u001b[0m         estimator_name \u001b[38;5;241m=\u001b[39m _check_estimator_name(estimator)\n\u001b[0;32m   1269\u001b[0m     \u001b[38;5;28;01mraise\u001b[39;00m \u001b[38;5;167;01mValueError\u001b[39;00m(\n\u001b[0;32m   1270\u001b[0m         \u001b[38;5;124mf\u001b[39m\u001b[38;5;124m\"\u001b[39m\u001b[38;5;132;01m{\u001b[39;00mestimator_name\u001b[38;5;132;01m}\u001b[39;00m\u001b[38;5;124m requires y to be passed, but the target y is None\u001b[39m\u001b[38;5;124m\"\u001b[39m\n\u001b[0;32m   1271\u001b[0m     )\n\u001b[1;32m-> 1273\u001b[0m X \u001b[38;5;241m=\u001b[39m \u001b[43mcheck_array\u001b[49m\u001b[43m(\u001b[49m\n\u001b[0;32m   1274\u001b[0m \u001b[43m    \u001b[49m\u001b[43mX\u001b[49m\u001b[43m,\u001b[49m\n\u001b[0;32m   1275\u001b[0m \u001b[43m    \u001b[49m\u001b[43maccept_sparse\u001b[49m\u001b[38;5;241;43m=\u001b[39;49m\u001b[43maccept_sparse\u001b[49m\u001b[43m,\u001b[49m\n\u001b[0;32m   1276\u001b[0m \u001b[43m    \u001b[49m\u001b[43maccept_large_sparse\u001b[49m\u001b[38;5;241;43m=\u001b[39;49m\u001b[43maccept_large_sparse\u001b[49m\u001b[43m,\u001b[49m\n\u001b[0;32m   1277\u001b[0m \u001b[43m    \u001b[49m\u001b[43mdtype\u001b[49m\u001b[38;5;241;43m=\u001b[39;49m\u001b[43mdtype\u001b[49m\u001b[43m,\u001b[49m\n\u001b[0;32m   1278\u001b[0m \u001b[43m    \u001b[49m\u001b[43morder\u001b[49m\u001b[38;5;241;43m=\u001b[39;49m\u001b[43morder\u001b[49m\u001b[43m,\u001b[49m\n\u001b[0;32m   1279\u001b[0m \u001b[43m    \u001b[49m\u001b[43mcopy\u001b[49m\u001b[38;5;241;43m=\u001b[39;49m\u001b[43mcopy\u001b[49m\u001b[43m,\u001b[49m\n\u001b[0;32m   1280\u001b[0m \u001b[43m    \u001b[49m\u001b[43mforce_all_finite\u001b[49m\u001b[38;5;241;43m=\u001b[39;49m\u001b[43mforce_all_finite\u001b[49m\u001b[43m,\u001b[49m\n\u001b[0;32m   1281\u001b[0m \u001b[43m    \u001b[49m\u001b[43mensure_2d\u001b[49m\u001b[38;5;241;43m=\u001b[39;49m\u001b[43mensure_2d\u001b[49m\u001b[43m,\u001b[49m\n\u001b[0;32m   1282\u001b[0m \u001b[43m    \u001b[49m\u001b[43mallow_nd\u001b[49m\u001b[38;5;241;43m=\u001b[39;49m\u001b[43mallow_nd\u001b[49m\u001b[43m,\u001b[49m\n\u001b[0;32m   1283\u001b[0m \u001b[43m    \u001b[49m\u001b[43mensure_min_samples\u001b[49m\u001b[38;5;241;43m=\u001b[39;49m\u001b[43mensure_min_samples\u001b[49m\u001b[43m,\u001b[49m\n\u001b[0;32m   1284\u001b[0m \u001b[43m    \u001b[49m\u001b[43mensure_min_features\u001b[49m\u001b[38;5;241;43m=\u001b[39;49m\u001b[43mensure_min_features\u001b[49m\u001b[43m,\u001b[49m\n\u001b[0;32m   1285\u001b[0m \u001b[43m    \u001b[49m\u001b[43mestimator\u001b[49m\u001b[38;5;241;43m=\u001b[39;49m\u001b[43mestimator\u001b[49m\u001b[43m,\u001b[49m\n\u001b[0;32m   1286\u001b[0m \u001b[43m    \u001b[49m\u001b[43minput_name\u001b[49m\u001b[38;5;241;43m=\u001b[39;49m\u001b[38;5;124;43m\"\u001b[39;49m\u001b[38;5;124;43mX\u001b[39;49m\u001b[38;5;124;43m\"\u001b[39;49m\u001b[43m,\u001b[49m\n\u001b[0;32m   1287\u001b[0m \u001b[43m\u001b[49m\u001b[43m)\u001b[49m\n\u001b[0;32m   1289\u001b[0m y \u001b[38;5;241m=\u001b[39m _check_y(y, multi_output\u001b[38;5;241m=\u001b[39mmulti_output, y_numeric\u001b[38;5;241m=\u001b[39my_numeric, estimator\u001b[38;5;241m=\u001b[39mestimator)\n\u001b[0;32m   1291\u001b[0m check_consistent_length(X, y)\n",
      "File \u001b[1;32mc:\\Users\\nazil\\AppData\\Local\\Programs\\Python\\Python312\\Lib\\site-packages\\sklearn\\utils\\validation.py:924\u001b[0m, in \u001b[0;36mcheck_array\u001b[1;34m(array, accept_sparse, accept_large_sparse, dtype, order, copy, force_all_finite, ensure_2d, allow_nd, ensure_min_samples, ensure_min_features, estimator, input_name)\u001b[0m\n\u001b[0;32m    919\u001b[0m \u001b[38;5;28;01mif\u001b[39;00m pandas_requires_conversion:\n\u001b[0;32m    920\u001b[0m     \u001b[38;5;66;03m# pandas dataframe requires conversion earlier to handle extension dtypes with\u001b[39;00m\n\u001b[0;32m    921\u001b[0m     \u001b[38;5;66;03m# nans\u001b[39;00m\n\u001b[0;32m    922\u001b[0m     \u001b[38;5;66;03m# Use the original dtype for conversion if dtype is None\u001b[39;00m\n\u001b[0;32m    923\u001b[0m     new_dtype \u001b[38;5;241m=\u001b[39m dtype_orig \u001b[38;5;28;01mif\u001b[39;00m dtype \u001b[38;5;129;01mis\u001b[39;00m \u001b[38;5;28;01mNone\u001b[39;00m \u001b[38;5;28;01melse\u001b[39;00m dtype\n\u001b[1;32m--> 924\u001b[0m     array \u001b[38;5;241m=\u001b[39m \u001b[43marray\u001b[49m\u001b[38;5;241;43m.\u001b[39;49m\u001b[43mastype\u001b[49m\u001b[43m(\u001b[49m\u001b[43mnew_dtype\u001b[49m\u001b[43m)\u001b[49m\n\u001b[0;32m    925\u001b[0m     \u001b[38;5;66;03m# Since we converted here, we do not need to convert again later\u001b[39;00m\n\u001b[0;32m    926\u001b[0m     dtype \u001b[38;5;241m=\u001b[39m \u001b[38;5;28;01mNone\u001b[39;00m\n",
      "File \u001b[1;32mc:\\Users\\nazil\\AppData\\Local\\Programs\\Python\\Python312\\Lib\\site-packages\\pandas\\core\\generic.py:6643\u001b[0m, in \u001b[0;36mNDFrame.astype\u001b[1;34m(self, dtype, copy, errors)\u001b[0m\n\u001b[0;32m   6637\u001b[0m     results \u001b[38;5;241m=\u001b[39m [\n\u001b[0;32m   6638\u001b[0m         ser\u001b[38;5;241m.\u001b[39mastype(dtype, copy\u001b[38;5;241m=\u001b[39mcopy, errors\u001b[38;5;241m=\u001b[39merrors) \u001b[38;5;28;01mfor\u001b[39;00m _, ser \u001b[38;5;129;01min\u001b[39;00m \u001b[38;5;28mself\u001b[39m\u001b[38;5;241m.\u001b[39mitems()\n\u001b[0;32m   6639\u001b[0m     ]\n\u001b[0;32m   6641\u001b[0m \u001b[38;5;28;01melse\u001b[39;00m:\n\u001b[0;32m   6642\u001b[0m     \u001b[38;5;66;03m# else, only a single dtype is given\u001b[39;00m\n\u001b[1;32m-> 6643\u001b[0m     new_data \u001b[38;5;241m=\u001b[39m \u001b[38;5;28;43mself\u001b[39;49m\u001b[38;5;241;43m.\u001b[39;49m\u001b[43m_mgr\u001b[49m\u001b[38;5;241;43m.\u001b[39;49m\u001b[43mastype\u001b[49m\u001b[43m(\u001b[49m\u001b[43mdtype\u001b[49m\u001b[38;5;241;43m=\u001b[39;49m\u001b[43mdtype\u001b[49m\u001b[43m,\u001b[49m\u001b[43m \u001b[49m\u001b[43mcopy\u001b[49m\u001b[38;5;241;43m=\u001b[39;49m\u001b[43mcopy\u001b[49m\u001b[43m,\u001b[49m\u001b[43m \u001b[49m\u001b[43merrors\u001b[49m\u001b[38;5;241;43m=\u001b[39;49m\u001b[43merrors\u001b[49m\u001b[43m)\u001b[49m\n\u001b[0;32m   6644\u001b[0m     res \u001b[38;5;241m=\u001b[39m \u001b[38;5;28mself\u001b[39m\u001b[38;5;241m.\u001b[39m_constructor_from_mgr(new_data, axes\u001b[38;5;241m=\u001b[39mnew_data\u001b[38;5;241m.\u001b[39maxes)\n\u001b[0;32m   6645\u001b[0m     \u001b[38;5;28;01mreturn\u001b[39;00m res\u001b[38;5;241m.\u001b[39m__finalize__(\u001b[38;5;28mself\u001b[39m, method\u001b[38;5;241m=\u001b[39m\u001b[38;5;124m\"\u001b[39m\u001b[38;5;124mastype\u001b[39m\u001b[38;5;124m\"\u001b[39m)\n",
      "File \u001b[1;32mc:\\Users\\nazil\\AppData\\Local\\Programs\\Python\\Python312\\Lib\\site-packages\\pandas\\core\\internals\\managers.py:430\u001b[0m, in \u001b[0;36mBaseBlockManager.astype\u001b[1;34m(self, dtype, copy, errors)\u001b[0m\n\u001b[0;32m    427\u001b[0m \u001b[38;5;28;01melif\u001b[39;00m using_copy_on_write():\n\u001b[0;32m    428\u001b[0m     copy \u001b[38;5;241m=\u001b[39m \u001b[38;5;28;01mFalse\u001b[39;00m\n\u001b[1;32m--> 430\u001b[0m \u001b[38;5;28;01mreturn\u001b[39;00m \u001b[38;5;28;43mself\u001b[39;49m\u001b[38;5;241;43m.\u001b[39;49m\u001b[43mapply\u001b[49m\u001b[43m(\u001b[49m\n\u001b[0;32m    431\u001b[0m \u001b[43m    \u001b[49m\u001b[38;5;124;43m\"\u001b[39;49m\u001b[38;5;124;43mastype\u001b[39;49m\u001b[38;5;124;43m\"\u001b[39;49m\u001b[43m,\u001b[49m\n\u001b[0;32m    432\u001b[0m \u001b[43m    \u001b[49m\u001b[43mdtype\u001b[49m\u001b[38;5;241;43m=\u001b[39;49m\u001b[43mdtype\u001b[49m\u001b[43m,\u001b[49m\n\u001b[0;32m    433\u001b[0m \u001b[43m    \u001b[49m\u001b[43mcopy\u001b[49m\u001b[38;5;241;43m=\u001b[39;49m\u001b[43mcopy\u001b[49m\u001b[43m,\u001b[49m\n\u001b[0;32m    434\u001b[0m \u001b[43m    \u001b[49m\u001b[43merrors\u001b[49m\u001b[38;5;241;43m=\u001b[39;49m\u001b[43merrors\u001b[49m\u001b[43m,\u001b[49m\n\u001b[0;32m    435\u001b[0m \u001b[43m    \u001b[49m\u001b[43musing_cow\u001b[49m\u001b[38;5;241;43m=\u001b[39;49m\u001b[43musing_copy_on_write\u001b[49m\u001b[43m(\u001b[49m\u001b[43m)\u001b[49m\u001b[43m,\u001b[49m\n\u001b[0;32m    436\u001b[0m \u001b[43m\u001b[49m\u001b[43m)\u001b[49m\n",
      "File \u001b[1;32mc:\\Users\\nazil\\AppData\\Local\\Programs\\Python\\Python312\\Lib\\site-packages\\pandas\\core\\internals\\managers.py:363\u001b[0m, in \u001b[0;36mBaseBlockManager.apply\u001b[1;34m(self, f, align_keys, **kwargs)\u001b[0m\n\u001b[0;32m    361\u001b[0m         applied \u001b[38;5;241m=\u001b[39m b\u001b[38;5;241m.\u001b[39mapply(f, \u001b[38;5;241m*\u001b[39m\u001b[38;5;241m*\u001b[39mkwargs)\n\u001b[0;32m    362\u001b[0m     \u001b[38;5;28;01melse\u001b[39;00m:\n\u001b[1;32m--> 363\u001b[0m         applied \u001b[38;5;241m=\u001b[39m \u001b[38;5;28;43mgetattr\u001b[39;49m\u001b[43m(\u001b[49m\u001b[43mb\u001b[49m\u001b[43m,\u001b[49m\u001b[43m \u001b[49m\u001b[43mf\u001b[49m\u001b[43m)\u001b[49m\u001b[43m(\u001b[49m\u001b[38;5;241;43m*\u001b[39;49m\u001b[38;5;241;43m*\u001b[39;49m\u001b[43mkwargs\u001b[49m\u001b[43m)\u001b[49m\n\u001b[0;32m    364\u001b[0m     result_blocks \u001b[38;5;241m=\u001b[39m extend_blocks(applied, result_blocks)\n\u001b[0;32m    366\u001b[0m out \u001b[38;5;241m=\u001b[39m \u001b[38;5;28mtype\u001b[39m(\u001b[38;5;28mself\u001b[39m)\u001b[38;5;241m.\u001b[39mfrom_blocks(result_blocks, \u001b[38;5;28mself\u001b[39m\u001b[38;5;241m.\u001b[39maxes)\n",
      "File \u001b[1;32mc:\\Users\\nazil\\AppData\\Local\\Programs\\Python\\Python312\\Lib\\site-packages\\pandas\\core\\internals\\blocks.py:758\u001b[0m, in \u001b[0;36mBlock.astype\u001b[1;34m(self, dtype, copy, errors, using_cow, squeeze)\u001b[0m\n\u001b[0;32m    755\u001b[0m         \u001b[38;5;28;01mraise\u001b[39;00m \u001b[38;5;167;01mValueError\u001b[39;00m(\u001b[38;5;124m\"\u001b[39m\u001b[38;5;124mCan not squeeze with more than one column.\u001b[39m\u001b[38;5;124m\"\u001b[39m)\n\u001b[0;32m    756\u001b[0m     values \u001b[38;5;241m=\u001b[39m values[\u001b[38;5;241m0\u001b[39m, :]  \u001b[38;5;66;03m# type: ignore[call-overload]\u001b[39;00m\n\u001b[1;32m--> 758\u001b[0m new_values \u001b[38;5;241m=\u001b[39m \u001b[43mastype_array_safe\u001b[49m\u001b[43m(\u001b[49m\u001b[43mvalues\u001b[49m\u001b[43m,\u001b[49m\u001b[43m \u001b[49m\u001b[43mdtype\u001b[49m\u001b[43m,\u001b[49m\u001b[43m \u001b[49m\u001b[43mcopy\u001b[49m\u001b[38;5;241;43m=\u001b[39;49m\u001b[43mcopy\u001b[49m\u001b[43m,\u001b[49m\u001b[43m \u001b[49m\u001b[43merrors\u001b[49m\u001b[38;5;241;43m=\u001b[39;49m\u001b[43merrors\u001b[49m\u001b[43m)\u001b[49m\n\u001b[0;32m    760\u001b[0m new_values \u001b[38;5;241m=\u001b[39m maybe_coerce_values(new_values)\n\u001b[0;32m    762\u001b[0m refs \u001b[38;5;241m=\u001b[39m \u001b[38;5;28;01mNone\u001b[39;00m\n",
      "File \u001b[1;32mc:\\Users\\nazil\\AppData\\Local\\Programs\\Python\\Python312\\Lib\\site-packages\\pandas\\core\\dtypes\\astype.py:237\u001b[0m, in \u001b[0;36mastype_array_safe\u001b[1;34m(values, dtype, copy, errors)\u001b[0m\n\u001b[0;32m    234\u001b[0m     dtype \u001b[38;5;241m=\u001b[39m dtype\u001b[38;5;241m.\u001b[39mnumpy_dtype\n\u001b[0;32m    236\u001b[0m \u001b[38;5;28;01mtry\u001b[39;00m:\n\u001b[1;32m--> 237\u001b[0m     new_values \u001b[38;5;241m=\u001b[39m \u001b[43mastype_array\u001b[49m\u001b[43m(\u001b[49m\u001b[43mvalues\u001b[49m\u001b[43m,\u001b[49m\u001b[43m \u001b[49m\u001b[43mdtype\u001b[49m\u001b[43m,\u001b[49m\u001b[43m \u001b[49m\u001b[43mcopy\u001b[49m\u001b[38;5;241;43m=\u001b[39;49m\u001b[43mcopy\u001b[49m\u001b[43m)\u001b[49m\n\u001b[0;32m    238\u001b[0m \u001b[38;5;28;01mexcept\u001b[39;00m (\u001b[38;5;167;01mValueError\u001b[39;00m, \u001b[38;5;167;01mTypeError\u001b[39;00m):\n\u001b[0;32m    239\u001b[0m     \u001b[38;5;66;03m# e.g. _astype_nansafe can fail on object-dtype of strings\u001b[39;00m\n\u001b[0;32m    240\u001b[0m     \u001b[38;5;66;03m#  trying to convert to float\u001b[39;00m\n\u001b[0;32m    241\u001b[0m     \u001b[38;5;28;01mif\u001b[39;00m errors \u001b[38;5;241m==\u001b[39m \u001b[38;5;124m\"\u001b[39m\u001b[38;5;124mignore\u001b[39m\u001b[38;5;124m\"\u001b[39m:\n",
      "File \u001b[1;32mc:\\Users\\nazil\\AppData\\Local\\Programs\\Python\\Python312\\Lib\\site-packages\\pandas\\core\\dtypes\\astype.py:182\u001b[0m, in \u001b[0;36mastype_array\u001b[1;34m(values, dtype, copy)\u001b[0m\n\u001b[0;32m    179\u001b[0m     values \u001b[38;5;241m=\u001b[39m values\u001b[38;5;241m.\u001b[39mastype(dtype, copy\u001b[38;5;241m=\u001b[39mcopy)\n\u001b[0;32m    181\u001b[0m \u001b[38;5;28;01melse\u001b[39;00m:\n\u001b[1;32m--> 182\u001b[0m     values \u001b[38;5;241m=\u001b[39m \u001b[43m_astype_nansafe\u001b[49m\u001b[43m(\u001b[49m\u001b[43mvalues\u001b[49m\u001b[43m,\u001b[49m\u001b[43m \u001b[49m\u001b[43mdtype\u001b[49m\u001b[43m,\u001b[49m\u001b[43m \u001b[49m\u001b[43mcopy\u001b[49m\u001b[38;5;241;43m=\u001b[39;49m\u001b[43mcopy\u001b[49m\u001b[43m)\u001b[49m\n\u001b[0;32m    184\u001b[0m \u001b[38;5;66;03m# in pandas we don't store numpy str dtypes, so convert to object\u001b[39;00m\n\u001b[0;32m    185\u001b[0m \u001b[38;5;28;01mif\u001b[39;00m \u001b[38;5;28misinstance\u001b[39m(dtype, np\u001b[38;5;241m.\u001b[39mdtype) \u001b[38;5;129;01mand\u001b[39;00m \u001b[38;5;28missubclass\u001b[39m(values\u001b[38;5;241m.\u001b[39mdtype\u001b[38;5;241m.\u001b[39mtype, \u001b[38;5;28mstr\u001b[39m):\n",
      "File \u001b[1;32mc:\\Users\\nazil\\AppData\\Local\\Programs\\Python\\Python312\\Lib\\site-packages\\pandas\\core\\dtypes\\astype.py:133\u001b[0m, in \u001b[0;36m_astype_nansafe\u001b[1;34m(arr, dtype, copy, skipna)\u001b[0m\n\u001b[0;32m    129\u001b[0m     \u001b[38;5;28;01mraise\u001b[39;00m \u001b[38;5;167;01mValueError\u001b[39;00m(msg)\n\u001b[0;32m    131\u001b[0m \u001b[38;5;28;01mif\u001b[39;00m copy \u001b[38;5;129;01mor\u001b[39;00m arr\u001b[38;5;241m.\u001b[39mdtype \u001b[38;5;241m==\u001b[39m \u001b[38;5;28mobject\u001b[39m \u001b[38;5;129;01mor\u001b[39;00m dtype \u001b[38;5;241m==\u001b[39m \u001b[38;5;28mobject\u001b[39m:\n\u001b[0;32m    132\u001b[0m     \u001b[38;5;66;03m# Explicit copy, or required since NumPy can't view from / to object.\u001b[39;00m\n\u001b[1;32m--> 133\u001b[0m     \u001b[38;5;28;01mreturn\u001b[39;00m \u001b[43marr\u001b[49m\u001b[38;5;241;43m.\u001b[39;49m\u001b[43mastype\u001b[49m\u001b[43m(\u001b[49m\u001b[43mdtype\u001b[49m\u001b[43m,\u001b[49m\u001b[43m \u001b[49m\u001b[43mcopy\u001b[49m\u001b[38;5;241;43m=\u001b[39;49m\u001b[38;5;28;43;01mTrue\u001b[39;49;00m\u001b[43m)\u001b[49m\n\u001b[0;32m    135\u001b[0m \u001b[38;5;28;01mreturn\u001b[39;00m arr\u001b[38;5;241m.\u001b[39mastype(dtype, copy\u001b[38;5;241m=\u001b[39mcopy)\n",
      "\u001b[1;31mMemoryError\u001b[0m: Unable to allocate 15.0 GiB for an array with shape (7700, 261800) and data type float64"
     ]
    }
   ],
   "source": [
    "# Training and evaluate multiple models\n",
    "models = {\n",
    "    'Linear Regression': LinearRegression(),\n",
    "    'Random Forest': RandomForestRegressor(random_state=42)\n",
    "}\n",
    "\n",
    "for model_name, model in models.items():\n",
    "    model.fit(X_train, y_train)\n",
    "    y_pred = model.predict(X_test)\n",
    "    mse = mean_squared_error(y_test, y_pred)\n",
    "    mae = mean_absolute_error(y_test, y_pred)\n",
    "    r2 = r2_score(y_test, y_pred)\n",
    "    print(f\"{model_name} - Mean Squared Error: {mse}, Mean Absolute Error: {mae}, R-squared: {r2}\")"
   ]
  },
  {
   "cell_type": "code",
   "execution_count": null,
   "metadata": {},
   "outputs": [
    {
     "name": "stdout",
     "output_type": "stream",
     "text": [
      "     customer_id            join_date   last_purchase_date        age  \\\n",
      "0              1  1700438400000000000  1710633600000000000  56.000000   \n",
      "24             2  1631059200000000000  1698192000000000000  42.627463   \n",
      "60             3  1622505600000000000  1669507200000000000  43.135803   \n",
      "72             4  1640995200000000000  1661990400000000000  29.000000   \n",
      "152            5  1642982400000000000  1685664000000000000  43.362228   \n",
      "\n",
      "     number_of_site_visits  number_of_emails_opened  number_of_clicks  \\\n",
      "0                       10                       15                 1   \n",
      "24                     285                       49                51   \n",
      "60                     192                       73                25   \n",
      "72                     110                       30                17   \n",
      "152                    161                        2                 7   \n",
      "\n",
      "     campaign_id        campaign_date  transaction_id  ...  total_spent  \\\n",
      "0              1  1709164800000000000               1  ...     14037.92   \n",
      "24             5  1657238400000000000               7  ...     24325.28   \n",
      "60             9  1660176000000000000              16  ...      2909.74   \n",
      "72            11  1654300800000000000              22  ...     31498.72   \n",
      "152           15  1677542400000000000              42  ...     62098.20   \n",
      "\n",
      "      avg_spent  transaction_count  avg_site_visits  avg_clicks  \\\n",
      "0    584.913333                 24             10.0         1.0   \n",
      "24   675.702222                 36            285.0        51.0   \n",
      "60   242.478333                 12            192.0        25.0   \n",
      "72   393.734000                 80            110.0        17.0   \n",
      "152  646.856250                 96            161.0         7.0   \n",
      "\n",
      "     avg_emails_opened  recency  frequency  monetary      CLV  \n",
      "0                 15.0      113          1    165.56   165.56  \n",
      "24                49.0      257          1    443.99   443.99  \n",
      "60                73.0      589          1     68.35    68.35  \n",
      "72                30.0      676          1    204.59   204.59  \n",
      "152                2.0      402          1   1977.50  1977.50  \n",
      "\n",
      "[5 rows x 7738 columns]\n"
     ]
    }
   ],
   "source": [
    "print(df.head())"
   ]
  },
  {
   "cell_type": "code",
   "execution_count": null,
   "metadata": {},
   "outputs": [],
   "source": [
    "df['CLV_Segment'] = pd.qcut(df['CLV'], q=3, labels=['Low', 'Medium', 'High'])"
   ]
  },
  {
   "cell_type": "code",
   "execution_count": null,
   "metadata": {},
   "outputs": [
    {
     "name": "stdout",
     "output_type": "stream",
     "text": [
      "     customer_id  join_date  last_purchase_date   age  gender  location  \\\n",
      "0              1        NaN                 NaN  56.0     NaN       NaN   \n",
      "24             2        NaN                 NaN   NaN     NaN       NaN   \n",
      "60             3        NaN                 NaN   NaN     NaN       NaN   \n",
      "72             4        NaN                 NaN  29.0     NaN       NaN   \n",
      "152            5        NaN                 NaN   NaN     NaN       NaN   \n",
      "\n",
      "     number_of_site_visits  number_of_emails_opened  number_of_clicks  \\\n",
      "0                       10                       15                 1   \n",
      "24                     285                       49                51   \n",
      "60                     192                       73                25   \n",
      "72                     110                       30                17   \n",
      "152                    161                        2                 7   \n",
      "\n",
      "     campaign_id  ...  campaign_date  transaction_id  transaction_date  \\\n",
      "0              1  ...            NaN               1               NaN   \n",
      "24             5  ...            NaN               7               NaN   \n",
      "60             9  ...            NaN              16               NaN   \n",
      "72            11  ...            NaN              22               NaN   \n",
      "152           15  ...            NaN              42               NaN   \n",
      "\n",
      "     transaction_amount  product_category  recency  frequency  monetary  \\\n",
      "0                165.56               NaN      115          1    165.56   \n",
      "24               443.99               NaN      259          1    443.99   \n",
      "60                68.35               NaN      591          1     68.35   \n",
      "72               204.59               NaN      678          1    204.59   \n",
      "152             1977.50               NaN      404          1   1977.50   \n",
      "\n",
      "         CLV  CLV_Segment  \n",
      "0     165.56          Low  \n",
      "24    443.99       Medium  \n",
      "60     68.35          Low  \n",
      "72    204.59          Low  \n",
      "152  1977.50         High  \n",
      "\n",
      "[5 rows x 22 columns]\n"
     ]
    }
   ],
   "source": [
    "print(df.head())"
   ]
  },
  {
   "cell_type": "code",
   "execution_count": null,
   "metadata": {},
   "outputs": [],
   "source": [
    "# Recency, Frequency, Monetary (RFM) Analysis\n",
    "df['recency'] = (pd.to_datetime('today') - pd.to_datetime(df['last_purchase_date'])).dt.days\n",
    "df['frequency'] = df.groupby('customer_id')['transaction_id'].transform('count')\n",
    "df['monetary'] = df.groupby('customer_id')['transaction_amount'].transform('sum')\n",
    "\n",
    "#rfm=['customer_id', 'recency', 'frequency', 'monetary']\n",
    "rfm = df[['customer_id','recency','frequency','monetary']]\n",
    "\n",
    "# Removing duplicates\n",
    "df = df.drop_duplicates(subset='customer_id')"
   ]
  },
  {
   "cell_type": "code",
   "execution_count": null,
   "metadata": {},
   "outputs": [
    {
     "data": {
      "text/html": [
       "<div>\n",
       "<style scoped>\n",
       "    .dataframe tbody tr th:only-of-type {\n",
       "        vertical-align: middle;\n",
       "    }\n",
       "\n",
       "    .dataframe tbody tr th {\n",
       "        vertical-align: top;\n",
       "    }\n",
       "\n",
       "    .dataframe thead th {\n",
       "        text-align: right;\n",
       "    }\n",
       "</style>\n",
       "<table border=\"1\" class=\"dataframe\">\n",
       "  <thead>\n",
       "    <tr style=\"text-align: right;\">\n",
       "      <th></th>\n",
       "      <th>customer_id</th>\n",
       "      <th>recency</th>\n",
       "      <th>frequency</th>\n",
       "      <th>monetary</th>\n",
       "    </tr>\n",
       "  </thead>\n",
       "  <tbody>\n",
       "    <tr>\n",
       "      <th>0</th>\n",
       "      <td>1</td>\n",
       "      <td>NaN</td>\n",
       "      <td>1</td>\n",
       "      <td>165.56</td>\n",
       "    </tr>\n",
       "    <tr>\n",
       "      <th>24</th>\n",
       "      <td>2</td>\n",
       "      <td>NaN</td>\n",
       "      <td>1</td>\n",
       "      <td>443.99</td>\n",
       "    </tr>\n",
       "    <tr>\n",
       "      <th>60</th>\n",
       "      <td>3</td>\n",
       "      <td>NaN</td>\n",
       "      <td>1</td>\n",
       "      <td>68.35</td>\n",
       "    </tr>\n",
       "    <tr>\n",
       "      <th>72</th>\n",
       "      <td>4</td>\n",
       "      <td>NaN</td>\n",
       "      <td>1</td>\n",
       "      <td>204.59</td>\n",
       "    </tr>\n",
       "    <tr>\n",
       "      <th>152</th>\n",
       "      <td>5</td>\n",
       "      <td>NaN</td>\n",
       "      <td>1</td>\n",
       "      <td>1977.50</td>\n",
       "    </tr>\n",
       "    <tr>\n",
       "      <th>...</th>\n",
       "      <td>...</td>\n",
       "      <td>...</td>\n",
       "      <td>...</td>\n",
       "      <td>...</td>\n",
       "    </tr>\n",
       "    <tr>\n",
       "      <th>327162</th>\n",
       "      <td>9996</td>\n",
       "      <td>NaN</td>\n",
       "      <td>1</td>\n",
       "      <td>1726.74</td>\n",
       "    </tr>\n",
       "    <tr>\n",
       "      <th>327192</th>\n",
       "      <td>9997</td>\n",
       "      <td>NaN</td>\n",
       "      <td>1</td>\n",
       "      <td>465.80</td>\n",
       "    </tr>\n",
       "    <tr>\n",
       "      <th>327204</th>\n",
       "      <td>9998</td>\n",
       "      <td>NaN</td>\n",
       "      <td>1</td>\n",
       "      <td>1176.86</td>\n",
       "    </tr>\n",
       "    <tr>\n",
       "      <th>327207</th>\n",
       "      <td>9999</td>\n",
       "      <td>NaN</td>\n",
       "      <td>1</td>\n",
       "      <td>250.62</td>\n",
       "    </tr>\n",
       "    <tr>\n",
       "      <th>327231</th>\n",
       "      <td>10000</td>\n",
       "      <td>NaN</td>\n",
       "      <td>1</td>\n",
       "      <td>1385.55</td>\n",
       "    </tr>\n",
       "  </tbody>\n",
       "</table>\n",
       "<p>10000 rows × 4 columns</p>\n",
       "</div>"
      ],
      "text/plain": [
       "        customer_id  recency  frequency  monetary\n",
       "0                 1      NaN          1    165.56\n",
       "24                2      NaN          1    443.99\n",
       "60                3      NaN          1     68.35\n",
       "72                4      NaN          1    204.59\n",
       "152               5      NaN          1   1977.50\n",
       "...             ...      ...        ...       ...\n",
       "327162         9996      NaN          1   1726.74\n",
       "327192         9997      NaN          1    465.80\n",
       "327204         9998      NaN          1   1176.86\n",
       "327207         9999      NaN          1    250.62\n",
       "327231        10000      NaN          1   1385.55\n",
       "\n",
       "[10000 rows x 4 columns]"
      ]
     },
     "execution_count": 211,
     "metadata": {},
     "output_type": "execute_result"
    }
   ],
   "source": [
    "rfm"
   ]
  },
  {
   "cell_type": "code",
   "execution_count": null,
   "metadata": {},
   "outputs": [],
   "source": [
    "# Assign scores from 1 to 5\n",
    "rfm['r_score'] = pd.cut(rfm['recency'], 5, labels=[5, 4, 3, 2, 1])\n",
    "rfm['f_score'] = pd.cut(rfm['frequency'], 5, labels=[1, 2, 3, 4, 5])\n",
    "rfm['m_score'] = pd.cut(rfm['monetary'], 5, labels=[1, 2, 3, 4, 5])\n",
    "\n",
    "# Combine RFM scores into a single score\n",
    "rfm['rfm_score'] = rfm['r_score'].astype(str) + rfm['f_score'].astype(str) + rfm['m_score'].astype(str)\n"
   ]
  },
  {
   "cell_type": "code",
   "execution_count": null,
   "metadata": {},
   "outputs": [
    {
     "name": "stdout",
     "output_type": "stream",
     "text": [
      "   customer_id  recency  frequency  monetary r_score f_score m_score rfm_score\n",
      "0            1      115         24  14037.92       5       2       1       521\n",
      "1            1      115         24  14037.92       5       2       1       521\n",
      "2            1      115         24  14037.92       5       2       1       521\n",
      "3            1      115         24  14037.92       5       2       1       521\n",
      "4            1      115         24  14037.92       5       2       1       521\n"
     ]
    }
   ],
   "source": [
    "# Display the RFM dataframe\n",
    "print(rfm.head())"
   ]
  },
  {
   "cell_type": "code",
   "execution_count": null,
   "metadata": {},
   "outputs": [],
   "source": [
    "# Create RFM segments\n",
    "rfm['rfm_segment'] = pd.qcut(rfm['rfm_score'].astype(int), q=3, labels=['Low', 'Medium', 'High'])"
   ]
  },
  {
   "cell_type": "code",
   "execution_count": null,
   "metadata": {},
   "outputs": [
    {
     "data": {
      "text/html": [
       "<div>\n",
       "<style scoped>\n",
       "    .dataframe tbody tr th:only-of-type {\n",
       "        vertical-align: middle;\n",
       "    }\n",
       "\n",
       "    .dataframe tbody tr th {\n",
       "        vertical-align: top;\n",
       "    }\n",
       "\n",
       "    .dataframe thead th {\n",
       "        text-align: right;\n",
       "    }\n",
       "</style>\n",
       "<table border=\"1\" class=\"dataframe\">\n",
       "  <thead>\n",
       "    <tr style=\"text-align: right;\">\n",
       "      <th></th>\n",
       "      <th>customer_id</th>\n",
       "      <th>recency</th>\n",
       "      <th>frequency</th>\n",
       "      <th>monetary</th>\n",
       "      <th>r_score</th>\n",
       "      <th>f_score</th>\n",
       "      <th>m_score</th>\n",
       "      <th>rfm_score</th>\n",
       "      <th>rfm_segment</th>\n",
       "    </tr>\n",
       "  </thead>\n",
       "  <tbody>\n",
       "    <tr>\n",
       "      <th>0</th>\n",
       "      <td>1</td>\n",
       "      <td>115</td>\n",
       "      <td>24</td>\n",
       "      <td>14037.92</td>\n",
       "      <td>5</td>\n",
       "      <td>2</td>\n",
       "      <td>1</td>\n",
       "      <td>521</td>\n",
       "      <td>Medium</td>\n",
       "    </tr>\n",
       "    <tr>\n",
       "      <th>1</th>\n",
       "      <td>1</td>\n",
       "      <td>115</td>\n",
       "      <td>24</td>\n",
       "      <td>14037.92</td>\n",
       "      <td>5</td>\n",
       "      <td>2</td>\n",
       "      <td>1</td>\n",
       "      <td>521</td>\n",
       "      <td>Medium</td>\n",
       "    </tr>\n",
       "    <tr>\n",
       "      <th>2</th>\n",
       "      <td>1</td>\n",
       "      <td>115</td>\n",
       "      <td>24</td>\n",
       "      <td>14037.92</td>\n",
       "      <td>5</td>\n",
       "      <td>2</td>\n",
       "      <td>1</td>\n",
       "      <td>521</td>\n",
       "      <td>Medium</td>\n",
       "    </tr>\n",
       "    <tr>\n",
       "      <th>3</th>\n",
       "      <td>1</td>\n",
       "      <td>115</td>\n",
       "      <td>24</td>\n",
       "      <td>14037.92</td>\n",
       "      <td>5</td>\n",
       "      <td>2</td>\n",
       "      <td>1</td>\n",
       "      <td>521</td>\n",
       "      <td>Medium</td>\n",
       "    </tr>\n",
       "    <tr>\n",
       "      <th>4</th>\n",
       "      <td>1</td>\n",
       "      <td>115</td>\n",
       "      <td>24</td>\n",
       "      <td>14037.92</td>\n",
       "      <td>5</td>\n",
       "      <td>2</td>\n",
       "      <td>1</td>\n",
       "      <td>521</td>\n",
       "      <td>Medium</td>\n",
       "    </tr>\n",
       "  </tbody>\n",
       "</table>\n",
       "</div>"
=======
      "cell_type": "code",
      "execution_count": 29,
      "metadata": {
        "colab": {
          "base_uri": "https://localhost:8080/"
        },
        "id": "-rQ3zKKJxsB8",
        "outputId": "32ba830a-ca21-42f1-e555-4a3b77bddc17"
      },
      "outputs": [
        {
          "output_type": "execute_result",
          "data": {
            "text/plain": [
              "(327251, 7724)"
            ]
          },
          "metadata": {},
          "execution_count": 29
        }
>>>>>>> 7e988b133b8c5dfc4cb8184243c14e3acd674373
      ],
<<<<<<< HEAD
      "text/plain": [
       "   customer_id  recency  frequency  monetary r_score f_score m_score  \\\n",
       "0            1      115         24  14037.92       5       2       1   \n",
       "1            1      115         24  14037.92       5       2       1   \n",
       "2            1      115         24  14037.92       5       2       1   \n",
       "3            1      115         24  14037.92       5       2       1   \n",
       "4            1      115         24  14037.92       5       2       1   \n",
       "\n",
       "  rfm_score rfm_segment  \n",
       "0       521      Medium  \n",
       "1       521      Medium  \n",
       "2       521      Medium  \n",
       "3       521      Medium  \n",
       "4       521      Medium  "
=======
      "source": [
        "df.shape"
>>>>>>> 7e988b133b8c5dfc4cb8184243c14e3acd674373
      ]
<<<<<<< HEAD
     },
     "execution_count": 201,
     "metadata": {},
     "output_type": "execute_result"
    }
   ],
   "source": [
    "rfm.head()"
   ]
  },
  {
   "cell_type": "code",
   "execution_count": null,
   "metadata": {},
   "outputs": [],
   "source": [
    "# Merge RFM data with CLV\n",
    "rfm_clv = rfm.merge(df, on='customer_id')"
   ]
  },
  {
   "cell_type": "code",
   "execution_count": null,
   "metadata": {},
   "outputs": [
    {
     "name": "stderr",
     "output_type": "stream",
     "text": [
      "C:\\Users\\nazil\\AppData\\Local\\Temp\\ipykernel_348\\1694815778.py:2: FutureWarning: The default of observed=False is deprecated and will be changed to True in a future version of pandas. Pass observed=False to retain current behavior or observed=True to adopt the future default and silence this warning.\n",
      "  average_clv_by_segment = rfm_clv.groupby('rfm_segment')['CLV'].mean().reset_index()\n"
     ]
    },
    {
     "ename": "KeyError",
     "evalue": "'Column not found: CLV'",
     "output_type": "error",
     "traceback": [
      "\u001b[1;31m---------------------------------------------------------------------------\u001b[0m",
      "\u001b[1;31mKeyError\u001b[0m                                  Traceback (most recent call last)",
      "Cell \u001b[1;32mIn[195], line 2\u001b[0m\n\u001b[0;32m      1\u001b[0m \u001b[38;5;66;03m# Calculate average CLV for each RFM segment\u001b[39;00m\n\u001b[1;32m----> 2\u001b[0m average_clv_by_segment \u001b[38;5;241m=\u001b[39m \u001b[43mrfm_clv\u001b[49m\u001b[38;5;241;43m.\u001b[39;49m\u001b[43mgroupby\u001b[49m\u001b[43m(\u001b[49m\u001b[38;5;124;43m'\u001b[39;49m\u001b[38;5;124;43mrfm_segment\u001b[39;49m\u001b[38;5;124;43m'\u001b[39;49m\u001b[43m)\u001b[49m\u001b[43m[\u001b[49m\u001b[38;5;124;43m'\u001b[39;49m\u001b[38;5;124;43mCLV\u001b[39;49m\u001b[38;5;124;43m'\u001b[39;49m\u001b[43m]\u001b[49m\u001b[38;5;241m.\u001b[39mmean()\u001b[38;5;241m.\u001b[39mreset_index()\n\u001b[0;32m      4\u001b[0m \u001b[38;5;28mprint\u001b[39m(average_clv_by_segment)\n",
      "File \u001b[1;32mc:\\Users\\nazil\\AppData\\Local\\Programs\\Python\\Python312\\Lib\\site-packages\\pandas\\core\\groupby\\generic.py:1951\u001b[0m, in \u001b[0;36mDataFrameGroupBy.__getitem__\u001b[1;34m(self, key)\u001b[0m\n\u001b[0;32m   1944\u001b[0m \u001b[38;5;28;01mif\u001b[39;00m \u001b[38;5;28misinstance\u001b[39m(key, \u001b[38;5;28mtuple\u001b[39m) \u001b[38;5;129;01mand\u001b[39;00m \u001b[38;5;28mlen\u001b[39m(key) \u001b[38;5;241m>\u001b[39m \u001b[38;5;241m1\u001b[39m:\n\u001b[0;32m   1945\u001b[0m     \u001b[38;5;66;03m# if len == 1, then it becomes a SeriesGroupBy and this is actually\u001b[39;00m\n\u001b[0;32m   1946\u001b[0m     \u001b[38;5;66;03m# valid syntax, so don't raise\u001b[39;00m\n\u001b[0;32m   1947\u001b[0m     \u001b[38;5;28;01mraise\u001b[39;00m \u001b[38;5;167;01mValueError\u001b[39;00m(\n\u001b[0;32m   1948\u001b[0m         \u001b[38;5;124m\"\u001b[39m\u001b[38;5;124mCannot subset columns with a tuple with more than one element. \u001b[39m\u001b[38;5;124m\"\u001b[39m\n\u001b[0;32m   1949\u001b[0m         \u001b[38;5;124m\"\u001b[39m\u001b[38;5;124mUse a list instead.\u001b[39m\u001b[38;5;124m\"\u001b[39m\n\u001b[0;32m   1950\u001b[0m     )\n\u001b[1;32m-> 1951\u001b[0m \u001b[38;5;28;01mreturn\u001b[39;00m \u001b[38;5;28;43msuper\u001b[39;49m\u001b[43m(\u001b[49m\u001b[43m)\u001b[49m\u001b[38;5;241;43m.\u001b[39;49m\u001b[38;5;21;43m__getitem__\u001b[39;49m\u001b[43m(\u001b[49m\u001b[43mkey\u001b[49m\u001b[43m)\u001b[49m\n",
      "File \u001b[1;32mc:\\Users\\nazil\\AppData\\Local\\Programs\\Python\\Python312\\Lib\\site-packages\\pandas\\core\\base.py:244\u001b[0m, in \u001b[0;36mSelectionMixin.__getitem__\u001b[1;34m(self, key)\u001b[0m\n\u001b[0;32m    242\u001b[0m \u001b[38;5;28;01melse\u001b[39;00m:\n\u001b[0;32m    243\u001b[0m     \u001b[38;5;28;01mif\u001b[39;00m key \u001b[38;5;129;01mnot\u001b[39;00m \u001b[38;5;129;01min\u001b[39;00m \u001b[38;5;28mself\u001b[39m\u001b[38;5;241m.\u001b[39mobj:\n\u001b[1;32m--> 244\u001b[0m         \u001b[38;5;28;01mraise\u001b[39;00m \u001b[38;5;167;01mKeyError\u001b[39;00m(\u001b[38;5;124mf\u001b[39m\u001b[38;5;124m\"\u001b[39m\u001b[38;5;124mColumn not found: \u001b[39m\u001b[38;5;132;01m{\u001b[39;00mkey\u001b[38;5;132;01m}\u001b[39;00m\u001b[38;5;124m\"\u001b[39m)\n\u001b[0;32m    245\u001b[0m     ndim \u001b[38;5;241m=\u001b[39m \u001b[38;5;28mself\u001b[39m\u001b[38;5;241m.\u001b[39mobj[key]\u001b[38;5;241m.\u001b[39mndim\n\u001b[0;32m    246\u001b[0m     \u001b[38;5;28;01mreturn\u001b[39;00m \u001b[38;5;28mself\u001b[39m\u001b[38;5;241m.\u001b[39m_gotitem(key, ndim\u001b[38;5;241m=\u001b[39mndim)\n",
      "\u001b[1;31mKeyError\u001b[0m: 'Column not found: CLV'"
     ]
    }
   ],
   "source": [
    "# Calculate average CLV for each RFM segment\n",
    "average_clv_by_segment = rfm_clv.groupby('rfm_segment')['CLV'].mean().reset_index()\n",
    "\n",
    "print(average_clv_by_segment)"
   ]
  },
  {
   "cell_type": "code",
   "execution_count": null,
   "metadata": {},
   "outputs": [],
   "source": [
    "import matplotlib.pyplot as plt\n",
    "import seaborn as sns"
   ]
  },
  {
   "cell_type": "code",
   "execution_count": null,
   "metadata": {},
   "outputs": [
    {
     "data": {
      "image/png": "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",
      "text/plain": [
       "<Figure size 640x480 with 1 Axes>"
      ]
     },
     "metadata": {},
     "output_type": "display_data"
    }
   ],
   "source": [
    "sns.countplot(x='CLV_Segment', data=df)\n",
    "plt.title('Distribution of CLV Segments')\n",
    "plt.xlabel('CLV Segment')\n",
    "plt.ylabel('Count')\n",
    "plt.show()"
   ]
  },
  {
   "cell_type": "code",
   "execution_count": null,
   "metadata": {},
   "outputs": [
    {
     "data": {
      "image/png": "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",
      "text/plain": [
       "<Figure size 1000x600 with 1 Axes>"
      ]
     },
     "metadata": {},
     "output_type": "display_data"
    }
   ],
   "source": [
    "plt.figure(figsize=(10, 6))\n",
    "sns.scatterplot(x=df['CLV'], y=df['predicted_CLV'])\n",
    "plt.title('Actual CLV vs Predicted CLV')\n",
    "plt.xlabel('Actual CLV')\n",
    "plt.ylabel('Predicted CLV')\n",
    "plt.show()"
   ]
  },
  {
   "cell_type": "code",
   "execution_count": null,
   "metadata": {},
   "outputs": [
    {
     "data": {
      "image/png": "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",
      "text/plain": [
       "<Figure size 1000x600 with 1 Axes>"
      ]
     },
     "metadata": {},
     "output_type": "display_data"
    }
   ],
   "source": [
    "plt.figure(figsize=(10, 6))\n",
    "sns.barplot(x='CLV_Segment', y='CLV', data=df, estimator=np.mean)\n",
    "plt.title('Average CLV per Segment')\n",
    "plt.xlabel('CLV Segment')\n",
    "plt.ylabel('Average CLV')\n",
    "plt.show()"
   ]
  },
  {
   "cell_type": "code",
   "execution_count": null,
   "metadata": {},
   "outputs": [],
   "source": [
    "from sklearn.model_selection import train_test_split\n",
    "from sklearn.linear_model import LinearRegression\n",
    "from sklearn.metrics import mean_absolute_error, r2_score\n",
    "\n",
    "# Assuming df is your dataframe and 'CLV' is the target variable\n",
    "\n",
    "# Split data into train (20%), test (20%), and predict (60%)\n",
    "train_size = 0.2\n",
    "test_size = 0.2\n",
    "predict_size = 0.6\n",
    "\n",
    "df = df.apply(pd.to_numeric, errors='coerce')\n",
    "\n",
    "X = df.drop(columns=['CLV', 'customer_id', 'join_date', 'last_purchase_date', 'campaign_date', 'transaction_date'])\n",
    "y = df['CLV']"
   ]
  },
  {
   "cell_type": "code",
   "execution_count": null,
   "metadata": {},
   "outputs": [],
   "source": [
    "# First split to get training and remaining data\n",
    "X_train, X_temp, y_train, y_temp = train_test_split(X, y, train_size=train_size, random_state=42)\n",
    "\n",
    "# Second split to get testing and prediction data\n",
    "test_size_adjusted = test_size / (1 - train_size)\n",
    "X_test, X_predict, y_test, y_predict = train_test_split(X_temp, y_temp, test_size=test_size_adjusted, random_state=42)"
   ]
  },
  {
   "cell_type": "code",
   "execution_count": null,
   "metadata": {},
   "outputs": [],
   "source": [
    "from sklearn.impute import SimpleImputer\n",
    "from sklearn.pipeline import Pipeline\n",
    "from sklearn.preprocessing import StandardScaler\n",
    "\n",
    "# Define a pipeline with imputation and model\n",
    "pipeline = Pipeline([\n",
    "    ('imputer', SimpleImputer(strategy='mean')),  # Impute missing values with mean\n",
    "    ('scaler', StandardScaler()),  # Standardize features\n",
    "    ('model', LinearRegression())\n",
    "])"
   ]
  },
  {
   "cell_type": "code",
   "execution_count": null,
   "metadata": {},
   "outputs": [
=======
    },
>>>>>>> 7e988b133b8c5dfc4cb8184243c14e3acd674373
    {
<<<<<<< HEAD
     "name": "stderr",
     "output_type": "stream",
     "text": [
      "c:\\Users\\nazil\\AppData\\Local\\Programs\\Python\\Python312\\Lib\\site-packages\\sklearn\\impute\\_base.py:597: UserWarning: Skipping features without any observed values: ['CLV_Segment']. At least one non-missing value is needed for imputation with strategy='mean'.\n",
      "  warnings.warn(\n",
      "c:\\Users\\nazil\\AppData\\Local\\Programs\\Python\\Python312\\Lib\\site-packages\\sklearn\\impute\\_base.py:597: UserWarning: Skipping features without any observed values: ['CLV_Segment']. At least one non-missing value is needed for imputation with strategy='mean'.\n",
      "  warnings.warn(\n"
     ]
    },
    {
     "name": "stdout",
     "output_type": "stream",
     "text": [
      "Test MAE: 2.740000724024464\n",
      "Test R2: 0.9999549201650335\n"
     ]
=======
      "cell_type": "code",
      "execution_count": 30,
      "metadata": {
        "id": "C_H-LUPdxsB8"
      },
      "outputs": [],
      "source": [
        "df.replace({'gender': {'female': True, 'male': False}}, inplace=True)"
      ]
    },
    {
      "cell_type": "code",
      "execution_count": 31,
      "metadata": {
        "id": "Y65SoRTTxsB8"
      },
      "outputs": [],
      "source": [
        "df['gender'].interpolate(method='nearest', inplace= True)"
      ]
    },
    {
      "cell_type": "code",
      "execution_count": 32,
      "metadata": {
        "colab": {
          "base_uri": "https://localhost:8080/"
        },
        "id": "-GaSWLCwxsB9",
        "outputId": "34494938-9ab8-4a09-fa91-bfddee5eb326"
      },
      "outputs": [
        {
          "output_type": "stream",
          "name": "stdout",
          "text": [
            "customer_id                     False\n",
            "join_date                       False\n",
            "last_purchase_date              False\n",
            "age                             False\n",
            "gender                           True\n",
            "                                ...  \n",
            "response_Yes                    False\n",
            "promotion_type_Discount         False\n",
            "promotion_type_Free Shipping    False\n",
            "product_category_Electronics    False\n",
            "product_category_Home Goods     False\n",
            "Length: 7724, dtype: bool\n"
          ]
        }
      ],
      "source": [
        "# Check if there are any missing values in each column\n",
        "missing_any = df.isnull().any()\n",
        "\n",
        "print(missing_any)"
      ]
    },
    {
      "cell_type": "code",
      "execution_count": 33,
      "metadata": {
        "colab": {
          "base_uri": "https://localhost:8080/"
        },
        "id": "_q2B-5vhxsB9",
        "outputId": "a33b217d-a440-49a1-f042-2d3e943fbaef"
      },
      "outputs": [
        {
          "output_type": "stream",
          "name": "stdout",
          "text": [
            "   customer_id  join_date last_purchase_date   age  gender  \\\n",
            "0            1 2023-11-20         2024-03-17  56.0  Female   \n",
            "1            1 2023-11-20         2024-03-17  56.0  Female   \n",
            "2            1 2023-11-20         2024-03-17  56.0  Female   \n",
            "3            1 2023-11-20         2024-03-17  56.0  Female   \n",
            "4            1 2023-11-20         2024-03-17  56.0  Female   \n",
            "\n",
            "   number_of_site_visits  number_of_emails_opened  number_of_clicks  \\\n",
            "0                     10                       15                 1   \n",
            "1                     10                       15                 1   \n",
            "2                     10                       15                 1   \n",
            "3                     10                       15                 1   \n",
            "4                     10                       15                 1   \n",
            "\n",
            "   campaign_id campaign_date  ...  location_Zimmermanfort  \\\n",
            "0            1    2024-02-29  ...                   False   \n",
            "1            1    2024-02-29  ...                   False   \n",
            "2            1    2024-02-29  ...                   False   \n",
            "3            1    2024-02-29  ...                   False   \n",
            "4            1    2024-02-29  ...                   False   \n",
            "\n",
            "  location_Zimmermanland  location_Zimmermanmouth  location_Zoeshire  \\\n",
            "0                  False                    False              False   \n",
            "1                  False                    False              False   \n",
            "2                  False                    False              False   \n",
            "3                  False                    False              False   \n",
            "4                  False                    False              False   \n",
            "\n",
            "   location_Zunigaburgh  response_Yes  promotion_type_Discount  \\\n",
            "0                 False         False                    False   \n",
            "1                 False         False                    False   \n",
            "2                 False         False                    False   \n",
            "3                 False         False                    False   \n",
            "4                 False         False                    False   \n",
            "\n",
            "   promotion_type_Free Shipping  product_category_Electronics  \\\n",
            "0                         False                         False   \n",
            "1                         False                         False   \n",
            "2                         False                         False   \n",
            "3                         False                          True   \n",
            "4                         False                          True   \n",
            "\n",
            "   product_category_Home Goods  \n",
            "0                        False  \n",
            "1                         True  \n",
            "2                         True  \n",
            "3                        False  \n",
            "4                        False  \n",
            "\n",
            "[5 rows x 7724 columns]\n"
          ]
        }
      ],
      "source": [
        "print(df.head())"
      ]
    },
    {
      "cell_type": "code",
      "execution_count": 34,
      "metadata": {
        "id": "TBl60XdDxsB9"
      },
      "outputs": [],
      "source": [
        "# Separate df into present and missing gender\n",
        "df_gender_present = df.dropna(subset=['gender'])\n",
        "df_gender_missing = df[df['gender'].isnull()]"
      ]
    },
    {
      "cell_type": "code",
      "execution_count": 35,
      "metadata": {
        "id": "A5cgcZc3xsB-"
      },
      "outputs": [],
      "source": [
        "# Select relevant features for predicting gender\n",
        "X_gender_present = df_gender_present[['location_Zimmermanfort', 'location_Zimmermanland', 'location_Zimmermanmouth', 'location_Zoeshire', 'location_Zunigaburgh', 'number_of_site_visits', 'number_of_emails_opened', 'number_of_clicks', 'response_Yes']]\n",
        "y_gender_present = df_gender_present['gender']\n",
        "\n",
        "X_gender_missing = df_gender_missing[['location_Zimmermanfort', 'location_Zimmermanland', 'location_Zimmermanmouth', 'location_Zoeshire', 'location_Zunigaburgh', 'number_of_site_visits', 'number_of_emails_opened', 'number_of_clicks', 'response_Yes']]"
      ]
    },
    {
      "cell_type": "code",
      "execution_count": 36,
      "metadata": {
        "colab": {
          "base_uri": "https://localhost:8080/",
          "height": 74
        },
        "id": "VXAtIhBvxsB-",
        "outputId": "c4ac9a75-e025-4419-d7e2-1d2aaca4dda0"
      },
      "outputs": [
        {
          "output_type": "execute_result",
          "data": {
            "text/plain": [
              "LogisticRegression()"
            ],
            "text/html": [
              "<style>#sk-container-id-2 {color: black;background-color: white;}#sk-container-id-2 pre{padding: 0;}#sk-container-id-2 div.sk-toggleable {background-color: white;}#sk-container-id-2 label.sk-toggleable__label {cursor: pointer;display: block;width: 100%;margin-bottom: 0;padding: 0.3em;box-sizing: border-box;text-align: center;}#sk-container-id-2 label.sk-toggleable__label-arrow:before {content: \"▸\";float: left;margin-right: 0.25em;color: #696969;}#sk-container-id-2 label.sk-toggleable__label-arrow:hover:before {color: black;}#sk-container-id-2 div.sk-estimator:hover label.sk-toggleable__label-arrow:before {color: black;}#sk-container-id-2 div.sk-toggleable__content {max-height: 0;max-width: 0;overflow: hidden;text-align: left;background-color: #f0f8ff;}#sk-container-id-2 div.sk-toggleable__content pre {margin: 0.2em;color: black;border-radius: 0.25em;background-color: #f0f8ff;}#sk-container-id-2 input.sk-toggleable__control:checked~div.sk-toggleable__content {max-height: 200px;max-width: 100%;overflow: auto;}#sk-container-id-2 input.sk-toggleable__control:checked~label.sk-toggleable__label-arrow:before {content: \"▾\";}#sk-container-id-2 div.sk-estimator input.sk-toggleable__control:checked~label.sk-toggleable__label {background-color: #d4ebff;}#sk-container-id-2 div.sk-label input.sk-toggleable__control:checked~label.sk-toggleable__label {background-color: #d4ebff;}#sk-container-id-2 input.sk-hidden--visually {border: 0;clip: rect(1px 1px 1px 1px);clip: rect(1px, 1px, 1px, 1px);height: 1px;margin: -1px;overflow: hidden;padding: 0;position: absolute;width: 1px;}#sk-container-id-2 div.sk-estimator {font-family: monospace;background-color: #f0f8ff;border: 1px dotted black;border-radius: 0.25em;box-sizing: border-box;margin-bottom: 0.5em;}#sk-container-id-2 div.sk-estimator:hover {background-color: #d4ebff;}#sk-container-id-2 div.sk-parallel-item::after {content: \"\";width: 100%;border-bottom: 1px solid gray;flex-grow: 1;}#sk-container-id-2 div.sk-label:hover label.sk-toggleable__label {background-color: #d4ebff;}#sk-container-id-2 div.sk-serial::before {content: \"\";position: absolute;border-left: 1px solid gray;box-sizing: border-box;top: 0;bottom: 0;left: 50%;z-index: 0;}#sk-container-id-2 div.sk-serial {display: flex;flex-direction: column;align-items: center;background-color: white;padding-right: 0.2em;padding-left: 0.2em;position: relative;}#sk-container-id-2 div.sk-item {position: relative;z-index: 1;}#sk-container-id-2 div.sk-parallel {display: flex;align-items: stretch;justify-content: center;background-color: white;position: relative;}#sk-container-id-2 div.sk-item::before, #sk-container-id-2 div.sk-parallel-item::before {content: \"\";position: absolute;border-left: 1px solid gray;box-sizing: border-box;top: 0;bottom: 0;left: 50%;z-index: -1;}#sk-container-id-2 div.sk-parallel-item {display: flex;flex-direction: column;z-index: 1;position: relative;background-color: white;}#sk-container-id-2 div.sk-parallel-item:first-child::after {align-self: flex-end;width: 50%;}#sk-container-id-2 div.sk-parallel-item:last-child::after {align-self: flex-start;width: 50%;}#sk-container-id-2 div.sk-parallel-item:only-child::after {width: 0;}#sk-container-id-2 div.sk-dashed-wrapped {border: 1px dashed gray;margin: 0 0.4em 0.5em 0.4em;box-sizing: border-box;padding-bottom: 0.4em;background-color: white;}#sk-container-id-2 div.sk-label label {font-family: monospace;font-weight: bold;display: inline-block;line-height: 1.2em;}#sk-container-id-2 div.sk-label-container {text-align: center;}#sk-container-id-2 div.sk-container {/* jupyter's `normalize.less` sets `[hidden] { display: none; }` but bootstrap.min.css set `[hidden] { display: none !important; }` so we also need the `!important` here to be able to override the default hidden behavior on the sphinx rendered scikit-learn.org. See: https://github.com/scikit-learn/scikit-learn/issues/21755 */display: inline-block !important;position: relative;}#sk-container-id-2 div.sk-text-repr-fallback {display: none;}</style><div id=\"sk-container-id-2\" class=\"sk-top-container\"><div class=\"sk-text-repr-fallback\"><pre>LogisticRegression()</pre><b>In a Jupyter environment, please rerun this cell to show the HTML representation or trust the notebook. <br />On GitHub, the HTML representation is unable to render, please try loading this page with nbviewer.org.</b></div><div class=\"sk-container\" hidden><div class=\"sk-item\"><div class=\"sk-estimator sk-toggleable\"><input class=\"sk-toggleable__control sk-hidden--visually\" id=\"sk-estimator-id-2\" type=\"checkbox\" checked><label for=\"sk-estimator-id-2\" class=\"sk-toggleable__label sk-toggleable__label-arrow\">LogisticRegression</label><div class=\"sk-toggleable__content\"><pre>LogisticRegression()</pre></div></div></div></div></div>"
            ]
          },
          "metadata": {},
          "execution_count": 36
        }
      ],
      "source": [
        "# Train a Logistic Regression model for gender prediction\n",
        "model_gender = LogisticRegression()\n",
        "model_gender.fit(X_gender_present, y_gender_present)"
      ]
    },
    {
      "cell_type": "code",
      "execution_count": 38,
      "metadata": {
        "id": "2oPHTSoXxsB-"
      },
      "outputs": [],
      "source": [
        "# Predict missing genders\n",
        "predicted_gender = model_gender.predict(X_gender_missing)"
      ]
    },
    {
      "cell_type": "code",
      "execution_count": 39,
      "metadata": {
        "colab": {
          "base_uri": "https://localhost:8080/"
        },
        "id": "3pN534roxsB_",
        "outputId": "024da27b-02e2-4b20-cb65-be1b523e633b"
      },
      "outputs": [
        {
          "output_type": "stream",
          "name": "stdout",
          "text": [
            "        customer_id  join_date last_purchase_date   age  gender  \\\n",
            "0                 1 2023-11-20         2024-03-17  56.0  Female   \n",
            "1                 1 2023-11-20         2024-03-17  56.0  Female   \n",
            "2                 1 2023-11-20         2024-03-17  56.0  Female   \n",
            "3                 1 2023-11-20         2024-03-17  56.0  Female   \n",
            "4                 1 2023-11-20         2024-03-17  56.0  Female   \n",
            "...             ...        ...                ...   ...     ...   \n",
            "327246        10000 2023-05-26         2023-09-01  67.0    Male   \n",
            "327247        10000 2023-05-26         2023-09-01  67.0    Male   \n",
            "327248        10000 2023-05-26         2023-09-01  67.0    Male   \n",
            "327249        10000 2023-05-26         2023-09-01  67.0    Male   \n",
            "327250        10000 2023-05-26         2023-09-01  67.0    Male   \n",
            "\n",
            "        number_of_site_visits  number_of_emails_opened  number_of_clicks  \\\n",
            "0                          10                       15                 1   \n",
            "1                          10                       15                 1   \n",
            "2                          10                       15                 1   \n",
            "3                          10                       15                 1   \n",
            "4                          10                       15                 1   \n",
            "...                       ...                      ...               ...   \n",
            "327246                     12                       12                 7   \n",
            "327247                     12                       12                 7   \n",
            "327248                     12                       12                 7   \n",
            "327249                     12                       12                 7   \n",
            "327250                     12                       12                 7   \n",
            "\n",
            "        campaign_id campaign_date  ...  location_Zimmermanfort  \\\n",
            "0                 1    2024-02-29  ...                   False   \n",
            "1                 1    2024-02-29  ...                   False   \n",
            "2                 1    2024-02-29  ...                   False   \n",
            "3                 1    2024-02-29  ...                   False   \n",
            "4                 1    2024-02-29  ...                   False   \n",
            "...             ...           ...  ...                     ...   \n",
            "327246        25200    2023-06-18  ...                   False   \n",
            "327247        25200    2023-06-18  ...                   False   \n",
            "327248        25200    2023-06-18  ...                   False   \n",
            "327249        25200    2023-06-18  ...                   False   \n",
            "327250        25200    2023-06-18  ...                   False   \n",
            "\n",
            "       location_Zimmermanland  location_Zimmermanmouth  location_Zoeshire  \\\n",
            "0                       False                    False              False   \n",
            "1                       False                    False              False   \n",
            "2                       False                    False              False   \n",
            "3                       False                    False              False   \n",
            "4                       False                    False              False   \n",
            "...                       ...                      ...                ...   \n",
            "327246                  False                    False              False   \n",
            "327247                  False                    False              False   \n",
            "327248                  False                    False              False   \n",
            "327249                  False                    False              False   \n",
            "327250                  False                    False              False   \n",
            "\n",
            "        location_Zunigaburgh  response_Yes  promotion_type_Discount  \\\n",
            "0                      False         False                    False   \n",
            "1                      False         False                    False   \n",
            "2                      False         False                    False   \n",
            "3                      False         False                    False   \n",
            "4                      False         False                    False   \n",
            "...                      ...           ...                      ...   \n",
            "327246                 False          True                     True   \n",
            "327247                 False          True                     True   \n",
            "327248                 False          True                     True   \n",
            "327249                 False          True                     True   \n",
            "327250                 False          True                     True   \n",
            "\n",
            "        promotion_type_Free Shipping  product_category_Electronics  \\\n",
            "0                              False                         False   \n",
            "1                              False                         False   \n",
            "2                              False                         False   \n",
            "3                              False                          True   \n",
            "4                              False                          True   \n",
            "...                              ...                           ...   \n",
            "327246                         False                         False   \n",
            "327247                         False                          True   \n",
            "327248                         False                          True   \n",
            "327249                         False                         False   \n",
            "327250                         False                         False   \n",
            "\n",
            "        product_category_Home Goods  \n",
            "0                             False  \n",
            "1                              True  \n",
            "2                              True  \n",
            "3                             False  \n",
            "4                             False  \n",
            "...                             ...  \n",
            "327246                         True  \n",
            "327247                        False  \n",
            "327248                        False  \n",
            "327249                         True  \n",
            "327250                         True  \n",
            "\n",
            "[327251 rows x 7724 columns]\n"
          ]
        }
      ],
      "source": [
        "# Replace missing genders in original dataframe\n",
        "df.loc[df['gender'].isnull(), 'gender'] = predicted_gender\n",
        "\n",
        "# Print the updated dataset\n",
        "print(df)"
      ]
    },
    {
      "cell_type": "code",
      "execution_count": 40,
      "metadata": {
        "colab": {
          "base_uri": "https://localhost:8080/"
        },
        "id": "b8XneS-mxsB_",
        "outputId": "dfc5aae5-82d8-4375-bcb0-fba4cf3dbeda"
      },
      "outputs": [
        {
          "output_type": "stream",
          "name": "stdout",
          "text": [
            "customer_id                     False\n",
            "join_date                       False\n",
            "last_purchase_date              False\n",
            "age                             False\n",
            "gender                          False\n",
            "                                ...  \n",
            "response_Yes                    False\n",
            "promotion_type_Discount         False\n",
            "promotion_type_Free Shipping    False\n",
            "product_category_Electronics    False\n",
            "product_category_Home Goods     False\n",
            "Length: 7724, dtype: bool\n"
          ]
        }
      ],
      "source": [
        "# Check if there are any missing values in each column\n",
        "missing_any = df.isnull().any()\n",
        "\n",
        "print(missing_any)"
      ]
    },
    {
      "cell_type": "code",
      "execution_count": 41,
      "metadata": {
        "id": "w-G4M9gxxsB_"
      },
      "outputs": [],
      "source": [
        "# Handle categorical variables using one-hot encoding\n",
        "categorical_gender = ['gender']\n",
        "df = pd.get_dummies(df, columns=categorical_gender, drop_first=True)"
      ]
    },
    {
      "cell_type": "code",
      "execution_count": 42,
      "metadata": {
        "id": "uKdFb3DkxsB_"
      },
      "outputs": [],
      "source": [
        "# Create a 'customer_tenure' feature from 'join_date' and 'last_purchase_date'\n",
        "df['customer_tenure'] = (df['last_purchase_date'] - df['join_date']).dt.days\n",
        "\n",
        "# Duration since last purchase\n",
        "df['days_since_last_purchase'] = (pd.to_datetime('today') - df['last_purchase_date']).dt.days"
      ]
    },
    {
      "cell_type": "code",
      "execution_count": 43,
      "metadata": {
        "colab": {
          "base_uri": "https://localhost:8080/",
          "height": 359
        },
        "id": "5sjPJwKqxsB_",
        "outputId": "1e478c13-6ec3-439e-d2fd-1078a592e264"
      },
      "outputs": [
        {
          "output_type": "execute_result",
          "data": {
            "text/plain": [
              "   customer_id  join_date last_purchase_date   age  number_of_site_visits  \\\n",
              "0            1 2023-11-20         2024-03-17  56.0                     10   \n",
              "1            1 2023-11-20         2024-03-17  56.0                     10   \n",
              "2            1 2023-11-20         2024-03-17  56.0                     10   \n",
              "3            1 2023-11-20         2024-03-17  56.0                     10   \n",
              "4            1 2023-11-20         2024-03-17  56.0                     10   \n",
              "\n",
              "   number_of_emails_opened  number_of_clicks  campaign_id campaign_date  \\\n",
              "0                       15                 1            1    2024-02-29   \n",
              "1                       15                 1            1    2024-02-29   \n",
              "2                       15                 1            1    2024-02-29   \n",
              "3                       15                 1            1    2024-02-29   \n",
              "4                       15                 1            1    2024-02-29   \n",
              "\n",
              "   transaction_id  ... location_Zoeshire  location_Zunigaburgh  response_Yes  \\\n",
              "0               1  ...             False                 False         False   \n",
              "1               2  ...             False                 False         False   \n",
              "2               3  ...             False                 False         False   \n",
              "3               4  ...             False                 False         False   \n",
              "4               5  ...             False                 False         False   \n",
              "\n",
              "   promotion_type_Discount  promotion_type_Free Shipping  \\\n",
              "0                    False                         False   \n",
              "1                    False                         False   \n",
              "2                    False                         False   \n",
              "3                    False                         False   \n",
              "4                    False                         False   \n",
              "\n",
              "   product_category_Electronics  product_category_Home Goods  gender_Male  \\\n",
              "0                         False                        False        False   \n",
              "1                         False                         True        False   \n",
              "2                         False                         True        False   \n",
              "3                          True                        False        False   \n",
              "4                          True                        False        False   \n",
              "\n",
              "   customer_tenure  days_since_last_purchase  \n",
              "0              118                       115  \n",
              "1              118                       115  \n",
              "2              118                       115  \n",
              "3              118                       115  \n",
              "4              118                       115  \n",
              "\n",
              "[5 rows x 7726 columns]"
            ],
            "text/html": [
              "\n",
              "  <div id=\"df-8b29a419-4777-48c2-ba1c-34343a8f1acc\" class=\"colab-df-container\">\n",
              "    <div>\n",
              "<style scoped>\n",
              "    .dataframe tbody tr th:only-of-type {\n",
              "        vertical-align: middle;\n",
              "    }\n",
              "\n",
              "    .dataframe tbody tr th {\n",
              "        vertical-align: top;\n",
              "    }\n",
              "\n",
              "    .dataframe thead th {\n",
              "        text-align: right;\n",
              "    }\n",
              "</style>\n",
              "<table border=\"1\" class=\"dataframe\">\n",
              "  <thead>\n",
              "    <tr style=\"text-align: right;\">\n",
              "      <th></th>\n",
              "      <th>customer_id</th>\n",
              "      <th>join_date</th>\n",
              "      <th>last_purchase_date</th>\n",
              "      <th>age</th>\n",
              "      <th>number_of_site_visits</th>\n",
              "      <th>number_of_emails_opened</th>\n",
              "      <th>number_of_clicks</th>\n",
              "      <th>campaign_id</th>\n",
              "      <th>campaign_date</th>\n",
              "      <th>transaction_id</th>\n",
              "      <th>...</th>\n",
              "      <th>location_Zoeshire</th>\n",
              "      <th>location_Zunigaburgh</th>\n",
              "      <th>response_Yes</th>\n",
              "      <th>promotion_type_Discount</th>\n",
              "      <th>promotion_type_Free Shipping</th>\n",
              "      <th>product_category_Electronics</th>\n",
              "      <th>product_category_Home Goods</th>\n",
              "      <th>gender_Male</th>\n",
              "      <th>customer_tenure</th>\n",
              "      <th>days_since_last_purchase</th>\n",
              "    </tr>\n",
              "  </thead>\n",
              "  <tbody>\n",
              "    <tr>\n",
              "      <th>0</th>\n",
              "      <td>1</td>\n",
              "      <td>2023-11-20</td>\n",
              "      <td>2024-03-17</td>\n",
              "      <td>56.0</td>\n",
              "      <td>10</td>\n",
              "      <td>15</td>\n",
              "      <td>1</td>\n",
              "      <td>1</td>\n",
              "      <td>2024-02-29</td>\n",
              "      <td>1</td>\n",
              "      <td>...</td>\n",
              "      <td>False</td>\n",
              "      <td>False</td>\n",
              "      <td>False</td>\n",
              "      <td>False</td>\n",
              "      <td>False</td>\n",
              "      <td>False</td>\n",
              "      <td>False</td>\n",
              "      <td>False</td>\n",
              "      <td>118</td>\n",
              "      <td>115</td>\n",
              "    </tr>\n",
              "    <tr>\n",
              "      <th>1</th>\n",
              "      <td>1</td>\n",
              "      <td>2023-11-20</td>\n",
              "      <td>2024-03-17</td>\n",
              "      <td>56.0</td>\n",
              "      <td>10</td>\n",
              "      <td>15</td>\n",
              "      <td>1</td>\n",
              "      <td>1</td>\n",
              "      <td>2024-02-29</td>\n",
              "      <td>2</td>\n",
              "      <td>...</td>\n",
              "      <td>False</td>\n",
              "      <td>False</td>\n",
              "      <td>False</td>\n",
              "      <td>False</td>\n",
              "      <td>False</td>\n",
              "      <td>False</td>\n",
              "      <td>True</td>\n",
              "      <td>False</td>\n",
              "      <td>118</td>\n",
              "      <td>115</td>\n",
              "    </tr>\n",
              "    <tr>\n",
              "      <th>2</th>\n",
              "      <td>1</td>\n",
              "      <td>2023-11-20</td>\n",
              "      <td>2024-03-17</td>\n",
              "      <td>56.0</td>\n",
              "      <td>10</td>\n",
              "      <td>15</td>\n",
              "      <td>1</td>\n",
              "      <td>1</td>\n",
              "      <td>2024-02-29</td>\n",
              "      <td>3</td>\n",
              "      <td>...</td>\n",
              "      <td>False</td>\n",
              "      <td>False</td>\n",
              "      <td>False</td>\n",
              "      <td>False</td>\n",
              "      <td>False</td>\n",
              "      <td>False</td>\n",
              "      <td>True</td>\n",
              "      <td>False</td>\n",
              "      <td>118</td>\n",
              "      <td>115</td>\n",
              "    </tr>\n",
              "    <tr>\n",
              "      <th>3</th>\n",
              "      <td>1</td>\n",
              "      <td>2023-11-20</td>\n",
              "      <td>2024-03-17</td>\n",
              "      <td>56.0</td>\n",
              "      <td>10</td>\n",
              "      <td>15</td>\n",
              "      <td>1</td>\n",
              "      <td>1</td>\n",
              "      <td>2024-02-29</td>\n",
              "      <td>4</td>\n",
              "      <td>...</td>\n",
              "      <td>False</td>\n",
              "      <td>False</td>\n",
              "      <td>False</td>\n",
              "      <td>False</td>\n",
              "      <td>False</td>\n",
              "      <td>True</td>\n",
              "      <td>False</td>\n",
              "      <td>False</td>\n",
              "      <td>118</td>\n",
              "      <td>115</td>\n",
              "    </tr>\n",
              "    <tr>\n",
              "      <th>4</th>\n",
              "      <td>1</td>\n",
              "      <td>2023-11-20</td>\n",
              "      <td>2024-03-17</td>\n",
              "      <td>56.0</td>\n",
              "      <td>10</td>\n",
              "      <td>15</td>\n",
              "      <td>1</td>\n",
              "      <td>1</td>\n",
              "      <td>2024-02-29</td>\n",
              "      <td>5</td>\n",
              "      <td>...</td>\n",
              "      <td>False</td>\n",
              "      <td>False</td>\n",
              "      <td>False</td>\n",
              "      <td>False</td>\n",
              "      <td>False</td>\n",
              "      <td>True</td>\n",
              "      <td>False</td>\n",
              "      <td>False</td>\n",
              "      <td>118</td>\n",
              "      <td>115</td>\n",
              "    </tr>\n",
              "  </tbody>\n",
              "</table>\n",
              "<p>5 rows × 7726 columns</p>\n",
              "</div>\n",
              "    <div class=\"colab-df-buttons\">\n",
              "\n",
              "  <div class=\"colab-df-container\">\n",
              "    <button class=\"colab-df-convert\" onclick=\"convertToInteractive('df-8b29a419-4777-48c2-ba1c-34343a8f1acc')\"\n",
              "            title=\"Convert this dataframe to an interactive table.\"\n",
              "            style=\"display:none;\">\n",
              "\n",
              "  <svg xmlns=\"http://www.w3.org/2000/svg\" height=\"24px\" viewBox=\"0 -960 960 960\">\n",
              "    <path d=\"M120-120v-720h720v720H120Zm60-500h600v-160H180v160Zm220 220h160v-160H400v160Zm0 220h160v-160H400v160ZM180-400h160v-160H180v160Zm440 0h160v-160H620v160ZM180-180h160v-160H180v160Zm440 0h160v-160H620v160Z\"/>\n",
              "  </svg>\n",
              "    </button>\n",
              "\n",
              "  <style>\n",
              "    .colab-df-container {\n",
              "      display:flex;\n",
              "      gap: 12px;\n",
              "    }\n",
              "\n",
              "    .colab-df-convert {\n",
              "      background-color: #E8F0FE;\n",
              "      border: none;\n",
              "      border-radius: 50%;\n",
              "      cursor: pointer;\n",
              "      display: none;\n",
              "      fill: #1967D2;\n",
              "      height: 32px;\n",
              "      padding: 0 0 0 0;\n",
              "      width: 32px;\n",
              "    }\n",
              "\n",
              "    .colab-df-convert:hover {\n",
              "      background-color: #E2EBFA;\n",
              "      box-shadow: 0px 1px 2px rgba(60, 64, 67, 0.3), 0px 1px 3px 1px rgba(60, 64, 67, 0.15);\n",
              "      fill: #174EA6;\n",
              "    }\n",
              "\n",
              "    .colab-df-buttons div {\n",
              "      margin-bottom: 4px;\n",
              "    }\n",
              "\n",
              "    [theme=dark] .colab-df-convert {\n",
              "      background-color: #3B4455;\n",
              "      fill: #D2E3FC;\n",
              "    }\n",
              "\n",
              "    [theme=dark] .colab-df-convert:hover {\n",
              "      background-color: #434B5C;\n",
              "      box-shadow: 0px 1px 3px 1px rgba(0, 0, 0, 0.15);\n",
              "      filter: drop-shadow(0px 1px 2px rgba(0, 0, 0, 0.3));\n",
              "      fill: #FFFFFF;\n",
              "    }\n",
              "  </style>\n",
              "\n",
              "    <script>\n",
              "      const buttonEl =\n",
              "        document.querySelector('#df-8b29a419-4777-48c2-ba1c-34343a8f1acc button.colab-df-convert');\n",
              "      buttonEl.style.display =\n",
              "        google.colab.kernel.accessAllowed ? 'block' : 'none';\n",
              "\n",
              "      async function convertToInteractive(key) {\n",
              "        const element = document.querySelector('#df-8b29a419-4777-48c2-ba1c-34343a8f1acc');\n",
              "        const dataTable =\n",
              "          await google.colab.kernel.invokeFunction('convertToInteractive',\n",
              "                                                    [key], {});\n",
              "        if (!dataTable) return;\n",
              "\n",
              "        const docLinkHtml = 'Like what you see? Visit the ' +\n",
              "          '<a target=\"_blank\" href=https://colab.research.google.com/notebooks/data_table.ipynb>data table notebook</a>'\n",
              "          + ' to learn more about interactive tables.';\n",
              "        element.innerHTML = '';\n",
              "        dataTable['output_type'] = 'display_data';\n",
              "        await google.colab.output.renderOutput(dataTable, element);\n",
              "        const docLink = document.createElement('div');\n",
              "        docLink.innerHTML = docLinkHtml;\n",
              "        element.appendChild(docLink);\n",
              "      }\n",
              "    </script>\n",
              "  </div>\n",
              "\n",
              "\n",
              "<div id=\"df-6b114b11-c1b3-45de-8700-a14d2aba887a\">\n",
              "  <button class=\"colab-df-quickchart\" onclick=\"quickchart('df-6b114b11-c1b3-45de-8700-a14d2aba887a')\"\n",
              "            title=\"Suggest charts\"\n",
              "            style=\"display:none;\">\n",
              "\n",
              "<svg xmlns=\"http://www.w3.org/2000/svg\" height=\"24px\"viewBox=\"0 0 24 24\"\n",
              "     width=\"24px\">\n",
              "    <g>\n",
              "        <path d=\"M19 3H5c-1.1 0-2 .9-2 2v14c0 1.1.9 2 2 2h14c1.1 0 2-.9 2-2V5c0-1.1-.9-2-2-2zM9 17H7v-7h2v7zm4 0h-2V7h2v10zm4 0h-2v-4h2v4z\"/>\n",
              "    </g>\n",
              "</svg>\n",
              "  </button>\n",
              "\n",
              "<style>\n",
              "  .colab-df-quickchart {\n",
              "      --bg-color: #E8F0FE;\n",
              "      --fill-color: #1967D2;\n",
              "      --hover-bg-color: #E2EBFA;\n",
              "      --hover-fill-color: #174EA6;\n",
              "      --disabled-fill-color: #AAA;\n",
              "      --disabled-bg-color: #DDD;\n",
              "  }\n",
              "\n",
              "  [theme=dark] .colab-df-quickchart {\n",
              "      --bg-color: #3B4455;\n",
              "      --fill-color: #D2E3FC;\n",
              "      --hover-bg-color: #434B5C;\n",
              "      --hover-fill-color: #FFFFFF;\n",
              "      --disabled-bg-color: #3B4455;\n",
              "      --disabled-fill-color: #666;\n",
              "  }\n",
              "\n",
              "  .colab-df-quickchart {\n",
              "    background-color: var(--bg-color);\n",
              "    border: none;\n",
              "    border-radius: 50%;\n",
              "    cursor: pointer;\n",
              "    display: none;\n",
              "    fill: var(--fill-color);\n",
              "    height: 32px;\n",
              "    padding: 0;\n",
              "    width: 32px;\n",
              "  }\n",
              "\n",
              "  .colab-df-quickchart:hover {\n",
              "    background-color: var(--hover-bg-color);\n",
              "    box-shadow: 0 1px 2px rgba(60, 64, 67, 0.3), 0 1px 3px 1px rgba(60, 64, 67, 0.15);\n",
              "    fill: var(--button-hover-fill-color);\n",
              "  }\n",
              "\n",
              "  .colab-df-quickchart-complete:disabled,\n",
              "  .colab-df-quickchart-complete:disabled:hover {\n",
              "    background-color: var(--disabled-bg-color);\n",
              "    fill: var(--disabled-fill-color);\n",
              "    box-shadow: none;\n",
              "  }\n",
              "\n",
              "  .colab-df-spinner {\n",
              "    border: 2px solid var(--fill-color);\n",
              "    border-color: transparent;\n",
              "    border-bottom-color: var(--fill-color);\n",
              "    animation:\n",
              "      spin 1s steps(1) infinite;\n",
              "  }\n",
              "\n",
              "  @keyframes spin {\n",
              "    0% {\n",
              "      border-color: transparent;\n",
              "      border-bottom-color: var(--fill-color);\n",
              "      border-left-color: var(--fill-color);\n",
              "    }\n",
              "    20% {\n",
              "      border-color: transparent;\n",
              "      border-left-color: var(--fill-color);\n",
              "      border-top-color: var(--fill-color);\n",
              "    }\n",
              "    30% {\n",
              "      border-color: transparent;\n",
              "      border-left-color: var(--fill-color);\n",
              "      border-top-color: var(--fill-color);\n",
              "      border-right-color: var(--fill-color);\n",
              "    }\n",
              "    40% {\n",
              "      border-color: transparent;\n",
              "      border-right-color: var(--fill-color);\n",
              "      border-top-color: var(--fill-color);\n",
              "    }\n",
              "    60% {\n",
              "      border-color: transparent;\n",
              "      border-right-color: var(--fill-color);\n",
              "    }\n",
              "    80% {\n",
              "      border-color: transparent;\n",
              "      border-right-color: var(--fill-color);\n",
              "      border-bottom-color: var(--fill-color);\n",
              "    }\n",
              "    90% {\n",
              "      border-color: transparent;\n",
              "      border-bottom-color: var(--fill-color);\n",
              "    }\n",
              "  }\n",
              "</style>\n",
              "\n",
              "  <script>\n",
              "    async function quickchart(key) {\n",
              "      const quickchartButtonEl =\n",
              "        document.querySelector('#' + key + ' button');\n",
              "      quickchartButtonEl.disabled = true;  // To prevent multiple clicks.\n",
              "      quickchartButtonEl.classList.add('colab-df-spinner');\n",
              "      try {\n",
              "        const charts = await google.colab.kernel.invokeFunction(\n",
              "            'suggestCharts', [key], {});\n",
              "      } catch (error) {\n",
              "        console.error('Error during call to suggestCharts:', error);\n",
              "      }\n",
              "      quickchartButtonEl.classList.remove('colab-df-spinner');\n",
              "      quickchartButtonEl.classList.add('colab-df-quickchart-complete');\n",
              "    }\n",
              "    (() => {\n",
              "      let quickchartButtonEl =\n",
              "        document.querySelector('#df-6b114b11-c1b3-45de-8700-a14d2aba887a button');\n",
              "      quickchartButtonEl.style.display =\n",
              "        google.colab.kernel.accessAllowed ? 'block' : 'none';\n",
              "    })();\n",
              "  </script>\n",
              "</div>\n",
              "\n",
              "    </div>\n",
              "  </div>\n"
            ],
            "application/vnd.google.colaboratory.intrinsic+json": {
              "type": "dataframe",
              "variable_name": "df"
            }
          },
          "metadata": {},
          "execution_count": 43
        }
      ],
      "source": [
        "df.head()"
      ]
    },
    {
      "cell_type": "code",
      "execution_count": 44,
      "metadata": {
        "id": "Uz1QkOL1xsCS"
      },
      "outputs": [],
      "source": [
        "# New feature: Interaction between number of site visits and number of clicks\n",
        "df['visits_clicks_interaction'] = df['number_of_site_visits'] * df['number_of_clicks']\n",
        "\n",
        "# New Feature: Average transaction amount per visit\n",
        "df['avg_transaction_amount_per_visit'] = df['transaction_amount'] / df['number_of_site_visits']\n"
      ]
    },
    {
      "cell_type": "code",
      "execution_count": 45,
      "metadata": {
        "colab": {
          "base_uri": "https://localhost:8080/",
          "height": 359
        },
        "id": "tXI95eUsxsCS",
        "outputId": "46e0a9cf-7cef-4a3a-e55b-744343c0afb3"
      },
      "outputs": [
        {
          "output_type": "execute_result",
          "data": {
            "text/plain": [
              "   customer_id  join_date last_purchase_date   age  number_of_site_visits  \\\n",
              "0            1 2023-11-20         2024-03-17  56.0                     10   \n",
              "1            1 2023-11-20         2024-03-17  56.0                     10   \n",
              "2            1 2023-11-20         2024-03-17  56.0                     10   \n",
              "3            1 2023-11-20         2024-03-17  56.0                     10   \n",
              "4            1 2023-11-20         2024-03-17  56.0                     10   \n",
              "\n",
              "   number_of_emails_opened  number_of_clicks  campaign_id campaign_date  \\\n",
              "0                       15                 1            1    2024-02-29   \n",
              "1                       15                 1            1    2024-02-29   \n",
              "2                       15                 1            1    2024-02-29   \n",
              "3                       15                 1            1    2024-02-29   \n",
              "4                       15                 1            1    2024-02-29   \n",
              "\n",
              "   transaction_id  ... response_Yes  promotion_type_Discount  \\\n",
              "0               1  ...        False                    False   \n",
              "1               2  ...        False                    False   \n",
              "2               3  ...        False                    False   \n",
              "3               4  ...        False                    False   \n",
              "4               5  ...        False                    False   \n",
              "\n",
              "   promotion_type_Free Shipping  product_category_Electronics  \\\n",
              "0                         False                         False   \n",
              "1                         False                         False   \n",
              "2                         False                         False   \n",
              "3                         False                          True   \n",
              "4                         False                          True   \n",
              "\n",
              "   product_category_Home Goods  gender_Male  customer_tenure  \\\n",
              "0                        False        False              118   \n",
              "1                         True        False              118   \n",
              "2                         True        False              118   \n",
              "3                        False        False              118   \n",
              "4                        False        False              118   \n",
              "\n",
              "   days_since_last_purchase  visits_clicks_interaction  \\\n",
              "0                       115                         10   \n",
              "1                       115                         10   \n",
              "2                       115                         10   \n",
              "3                       115                         10   \n",
              "4                       115                         10   \n",
              "\n",
              "   avg_transaction_amount_per_visit  \n",
              "0                            16.556  \n",
              "1                            69.901  \n",
              "2                            14.686  \n",
              "3                            92.746  \n",
              "4                           139.587  \n",
              "\n",
              "[5 rows x 7728 columns]"
            ],
            "text/html": [
              "\n",
              "  <div id=\"df-adc20514-7591-4a74-95f6-ddcea9a74d0f\" class=\"colab-df-container\">\n",
              "    <div>\n",
              "<style scoped>\n",
              "    .dataframe tbody tr th:only-of-type {\n",
              "        vertical-align: middle;\n",
              "    }\n",
              "\n",
              "    .dataframe tbody tr th {\n",
              "        vertical-align: top;\n",
              "    }\n",
              "\n",
              "    .dataframe thead th {\n",
              "        text-align: right;\n",
              "    }\n",
              "</style>\n",
              "<table border=\"1\" class=\"dataframe\">\n",
              "  <thead>\n",
              "    <tr style=\"text-align: right;\">\n",
              "      <th></th>\n",
              "      <th>customer_id</th>\n",
              "      <th>join_date</th>\n",
              "      <th>last_purchase_date</th>\n",
              "      <th>age</th>\n",
              "      <th>number_of_site_visits</th>\n",
              "      <th>number_of_emails_opened</th>\n",
              "      <th>number_of_clicks</th>\n",
              "      <th>campaign_id</th>\n",
              "      <th>campaign_date</th>\n",
              "      <th>transaction_id</th>\n",
              "      <th>...</th>\n",
              "      <th>response_Yes</th>\n",
              "      <th>promotion_type_Discount</th>\n",
              "      <th>promotion_type_Free Shipping</th>\n",
              "      <th>product_category_Electronics</th>\n",
              "      <th>product_category_Home Goods</th>\n",
              "      <th>gender_Male</th>\n",
              "      <th>customer_tenure</th>\n",
              "      <th>days_since_last_purchase</th>\n",
              "      <th>visits_clicks_interaction</th>\n",
              "      <th>avg_transaction_amount_per_visit</th>\n",
              "    </tr>\n",
              "  </thead>\n",
              "  <tbody>\n",
              "    <tr>\n",
              "      <th>0</th>\n",
              "      <td>1</td>\n",
              "      <td>2023-11-20</td>\n",
              "      <td>2024-03-17</td>\n",
              "      <td>56.0</td>\n",
              "      <td>10</td>\n",
              "      <td>15</td>\n",
              "      <td>1</td>\n",
              "      <td>1</td>\n",
              "      <td>2024-02-29</td>\n",
              "      <td>1</td>\n",
              "      <td>...</td>\n",
              "      <td>False</td>\n",
              "      <td>False</td>\n",
              "      <td>False</td>\n",
              "      <td>False</td>\n",
              "      <td>False</td>\n",
              "      <td>False</td>\n",
              "      <td>118</td>\n",
              "      <td>115</td>\n",
              "      <td>10</td>\n",
              "      <td>16.556</td>\n",
              "    </tr>\n",
              "    <tr>\n",
              "      <th>1</th>\n",
              "      <td>1</td>\n",
              "      <td>2023-11-20</td>\n",
              "      <td>2024-03-17</td>\n",
              "      <td>56.0</td>\n",
              "      <td>10</td>\n",
              "      <td>15</td>\n",
              "      <td>1</td>\n",
              "      <td>1</td>\n",
              "      <td>2024-02-29</td>\n",
              "      <td>2</td>\n",
              "      <td>...</td>\n",
              "      <td>False</td>\n",
              "      <td>False</td>\n",
              "      <td>False</td>\n",
              "      <td>False</td>\n",
              "      <td>True</td>\n",
              "      <td>False</td>\n",
              "      <td>118</td>\n",
              "      <td>115</td>\n",
              "      <td>10</td>\n",
              "      <td>69.901</td>\n",
              "    </tr>\n",
              "    <tr>\n",
              "      <th>2</th>\n",
              "      <td>1</td>\n",
              "      <td>2023-11-20</td>\n",
              "      <td>2024-03-17</td>\n",
              "      <td>56.0</td>\n",
              "      <td>10</td>\n",
              "      <td>15</td>\n",
              "      <td>1</td>\n",
              "      <td>1</td>\n",
              "      <td>2024-02-29</td>\n",
              "      <td>3</td>\n",
              "      <td>...</td>\n",
              "      <td>False</td>\n",
              "      <td>False</td>\n",
              "      <td>False</td>\n",
              "      <td>False</td>\n",
              "      <td>True</td>\n",
              "      <td>False</td>\n",
              "      <td>118</td>\n",
              "      <td>115</td>\n",
              "      <td>10</td>\n",
              "      <td>14.686</td>\n",
              "    </tr>\n",
              "    <tr>\n",
              "      <th>3</th>\n",
              "      <td>1</td>\n",
              "      <td>2023-11-20</td>\n",
              "      <td>2024-03-17</td>\n",
              "      <td>56.0</td>\n",
              "      <td>10</td>\n",
              "      <td>15</td>\n",
              "      <td>1</td>\n",
              "      <td>1</td>\n",
              "      <td>2024-02-29</td>\n",
              "      <td>4</td>\n",
              "      <td>...</td>\n",
              "      <td>False</td>\n",
              "      <td>False</td>\n",
              "      <td>False</td>\n",
              "      <td>True</td>\n",
              "      <td>False</td>\n",
              "      <td>False</td>\n",
              "      <td>118</td>\n",
              "      <td>115</td>\n",
              "      <td>10</td>\n",
              "      <td>92.746</td>\n",
              "    </tr>\n",
              "    <tr>\n",
              "      <th>4</th>\n",
              "      <td>1</td>\n",
              "      <td>2023-11-20</td>\n",
              "      <td>2024-03-17</td>\n",
              "      <td>56.0</td>\n",
              "      <td>10</td>\n",
              "      <td>15</td>\n",
              "      <td>1</td>\n",
              "      <td>1</td>\n",
              "      <td>2024-02-29</td>\n",
              "      <td>5</td>\n",
              "      <td>...</td>\n",
              "      <td>False</td>\n",
              "      <td>False</td>\n",
              "      <td>False</td>\n",
              "      <td>True</td>\n",
              "      <td>False</td>\n",
              "      <td>False</td>\n",
              "      <td>118</td>\n",
              "      <td>115</td>\n",
              "      <td>10</td>\n",
              "      <td>139.587</td>\n",
              "    </tr>\n",
              "  </tbody>\n",
              "</table>\n",
              "<p>5 rows × 7728 columns</p>\n",
              "</div>\n",
              "    <div class=\"colab-df-buttons\">\n",
              "\n",
              "  <div class=\"colab-df-container\">\n",
              "    <button class=\"colab-df-convert\" onclick=\"convertToInteractive('df-adc20514-7591-4a74-95f6-ddcea9a74d0f')\"\n",
              "            title=\"Convert this dataframe to an interactive table.\"\n",
              "            style=\"display:none;\">\n",
              "\n",
              "  <svg xmlns=\"http://www.w3.org/2000/svg\" height=\"24px\" viewBox=\"0 -960 960 960\">\n",
              "    <path d=\"M120-120v-720h720v720H120Zm60-500h600v-160H180v160Zm220 220h160v-160H400v160Zm0 220h160v-160H400v160ZM180-400h160v-160H180v160Zm440 0h160v-160H620v160ZM180-180h160v-160H180v160Zm440 0h160v-160H620v160Z\"/>\n",
              "  </svg>\n",
              "    </button>\n",
              "\n",
              "  <style>\n",
              "    .colab-df-container {\n",
              "      display:flex;\n",
              "      gap: 12px;\n",
              "    }\n",
              "\n",
              "    .colab-df-convert {\n",
              "      background-color: #E8F0FE;\n",
              "      border: none;\n",
              "      border-radius: 50%;\n",
              "      cursor: pointer;\n",
              "      display: none;\n",
              "      fill: #1967D2;\n",
              "      height: 32px;\n",
              "      padding: 0 0 0 0;\n",
              "      width: 32px;\n",
              "    }\n",
              "\n",
              "    .colab-df-convert:hover {\n",
              "      background-color: #E2EBFA;\n",
              "      box-shadow: 0px 1px 2px rgba(60, 64, 67, 0.3), 0px 1px 3px 1px rgba(60, 64, 67, 0.15);\n",
              "      fill: #174EA6;\n",
              "    }\n",
              "\n",
              "    .colab-df-buttons div {\n",
              "      margin-bottom: 4px;\n",
              "    }\n",
              "\n",
              "    [theme=dark] .colab-df-convert {\n",
              "      background-color: #3B4455;\n",
              "      fill: #D2E3FC;\n",
              "    }\n",
              "\n",
              "    [theme=dark] .colab-df-convert:hover {\n",
              "      background-color: #434B5C;\n",
              "      box-shadow: 0px 1px 3px 1px rgba(0, 0, 0, 0.15);\n",
              "      filter: drop-shadow(0px 1px 2px rgba(0, 0, 0, 0.3));\n",
              "      fill: #FFFFFF;\n",
              "    }\n",
              "  </style>\n",
              "\n",
              "    <script>\n",
              "      const buttonEl =\n",
              "        document.querySelector('#df-adc20514-7591-4a74-95f6-ddcea9a74d0f button.colab-df-convert');\n",
              "      buttonEl.style.display =\n",
              "        google.colab.kernel.accessAllowed ? 'block' : 'none';\n",
              "\n",
              "      async function convertToInteractive(key) {\n",
              "        const element = document.querySelector('#df-adc20514-7591-4a74-95f6-ddcea9a74d0f');\n",
              "        const dataTable =\n",
              "          await google.colab.kernel.invokeFunction('convertToInteractive',\n",
              "                                                    [key], {});\n",
              "        if (!dataTable) return;\n",
              "\n",
              "        const docLinkHtml = 'Like what you see? Visit the ' +\n",
              "          '<a target=\"_blank\" href=https://colab.research.google.com/notebooks/data_table.ipynb>data table notebook</a>'\n",
              "          + ' to learn more about interactive tables.';\n",
              "        element.innerHTML = '';\n",
              "        dataTable['output_type'] = 'display_data';\n",
              "        await google.colab.output.renderOutput(dataTable, element);\n",
              "        const docLink = document.createElement('div');\n",
              "        docLink.innerHTML = docLinkHtml;\n",
              "        element.appendChild(docLink);\n",
              "      }\n",
              "    </script>\n",
              "  </div>\n",
              "\n",
              "\n",
              "<div id=\"df-14b93838-5185-4626-a5a7-5ae5d1267843\">\n",
              "  <button class=\"colab-df-quickchart\" onclick=\"quickchart('df-14b93838-5185-4626-a5a7-5ae5d1267843')\"\n",
              "            title=\"Suggest charts\"\n",
              "            style=\"display:none;\">\n",
              "\n",
              "<svg xmlns=\"http://www.w3.org/2000/svg\" height=\"24px\"viewBox=\"0 0 24 24\"\n",
              "     width=\"24px\">\n",
              "    <g>\n",
              "        <path d=\"M19 3H5c-1.1 0-2 .9-2 2v14c0 1.1.9 2 2 2h14c1.1 0 2-.9 2-2V5c0-1.1-.9-2-2-2zM9 17H7v-7h2v7zm4 0h-2V7h2v10zm4 0h-2v-4h2v4z\"/>\n",
              "    </g>\n",
              "</svg>\n",
              "  </button>\n",
              "\n",
              "<style>\n",
              "  .colab-df-quickchart {\n",
              "      --bg-color: #E8F0FE;\n",
              "      --fill-color: #1967D2;\n",
              "      --hover-bg-color: #E2EBFA;\n",
              "      --hover-fill-color: #174EA6;\n",
              "      --disabled-fill-color: #AAA;\n",
              "      --disabled-bg-color: #DDD;\n",
              "  }\n",
              "\n",
              "  [theme=dark] .colab-df-quickchart {\n",
              "      --bg-color: #3B4455;\n",
              "      --fill-color: #D2E3FC;\n",
              "      --hover-bg-color: #434B5C;\n",
              "      --hover-fill-color: #FFFFFF;\n",
              "      --disabled-bg-color: #3B4455;\n",
              "      --disabled-fill-color: #666;\n",
              "  }\n",
              "\n",
              "  .colab-df-quickchart {\n",
              "    background-color: var(--bg-color);\n",
              "    border: none;\n",
              "    border-radius: 50%;\n",
              "    cursor: pointer;\n",
              "    display: none;\n",
              "    fill: var(--fill-color);\n",
              "    height: 32px;\n",
              "    padding: 0;\n",
              "    width: 32px;\n",
              "  }\n",
              "\n",
              "  .colab-df-quickchart:hover {\n",
              "    background-color: var(--hover-bg-color);\n",
              "    box-shadow: 0 1px 2px rgba(60, 64, 67, 0.3), 0 1px 3px 1px rgba(60, 64, 67, 0.15);\n",
              "    fill: var(--button-hover-fill-color);\n",
              "  }\n",
              "\n",
              "  .colab-df-quickchart-complete:disabled,\n",
              "  .colab-df-quickchart-complete:disabled:hover {\n",
              "    background-color: var(--disabled-bg-color);\n",
              "    fill: var(--disabled-fill-color);\n",
              "    box-shadow: none;\n",
              "  }\n",
              "\n",
              "  .colab-df-spinner {\n",
              "    border: 2px solid var(--fill-color);\n",
              "    border-color: transparent;\n",
              "    border-bottom-color: var(--fill-color);\n",
              "    animation:\n",
              "      spin 1s steps(1) infinite;\n",
              "  }\n",
              "\n",
              "  @keyframes spin {\n",
              "    0% {\n",
              "      border-color: transparent;\n",
              "      border-bottom-color: var(--fill-color);\n",
              "      border-left-color: var(--fill-color);\n",
              "    }\n",
              "    20% {\n",
              "      border-color: transparent;\n",
              "      border-left-color: var(--fill-color);\n",
              "      border-top-color: var(--fill-color);\n",
              "    }\n",
              "    30% {\n",
              "      border-color: transparent;\n",
              "      border-left-color: var(--fill-color);\n",
              "      border-top-color: var(--fill-color);\n",
              "      border-right-color: var(--fill-color);\n",
              "    }\n",
              "    40% {\n",
              "      border-color: transparent;\n",
              "      border-right-color: var(--fill-color);\n",
              "      border-top-color: var(--fill-color);\n",
              "    }\n",
              "    60% {\n",
              "      border-color: transparent;\n",
              "      border-right-color: var(--fill-color);\n",
              "    }\n",
              "    80% {\n",
              "      border-color: transparent;\n",
              "      border-right-color: var(--fill-color);\n",
              "      border-bottom-color: var(--fill-color);\n",
              "    }\n",
              "    90% {\n",
              "      border-color: transparent;\n",
              "      border-bottom-color: var(--fill-color);\n",
              "    }\n",
              "  }\n",
              "</style>\n",
              "\n",
              "  <script>\n",
              "    async function quickchart(key) {\n",
              "      const quickchartButtonEl =\n",
              "        document.querySelector('#' + key + ' button');\n",
              "      quickchartButtonEl.disabled = true;  // To prevent multiple clicks.\n",
              "      quickchartButtonEl.classList.add('colab-df-spinner');\n",
              "      try {\n",
              "        const charts = await google.colab.kernel.invokeFunction(\n",
              "            'suggestCharts', [key], {});\n",
              "      } catch (error) {\n",
              "        console.error('Error during call to suggestCharts:', error);\n",
              "      }\n",
              "      quickchartButtonEl.classList.remove('colab-df-spinner');\n",
              "      quickchartButtonEl.classList.add('colab-df-quickchart-complete');\n",
              "    }\n",
              "    (() => {\n",
              "      let quickchartButtonEl =\n",
              "        document.querySelector('#df-14b93838-5185-4626-a5a7-5ae5d1267843 button');\n",
              "      quickchartButtonEl.style.display =\n",
              "        google.colab.kernel.accessAllowed ? 'block' : 'none';\n",
              "    })();\n",
              "  </script>\n",
              "</div>\n",
              "\n",
              "    </div>\n",
              "  </div>\n"
            ],
            "application/vnd.google.colaboratory.intrinsic+json": {
              "type": "dataframe",
              "variable_name": "df"
            }
          },
          "metadata": {},
          "execution_count": 45
        }
      ],
      "source": [
        "df.head()"
      ]
    },
    {
      "cell_type": "code",
      "execution_count": 46,
      "metadata": {
        "id": "NA4I6AyDxsCS"
      },
      "outputs": [],
      "source": [
        "# Aggregation: Aggregation by customer_id if needed\n",
        "customer_agg = df.groupby('customer_id').agg({\n",
        "    'transaction_amount': ['sum', 'mean', 'count'],\n",
        "    'number_of_site_visits': 'mean',\n",
        "    'number_of_clicks': 'mean',\n",
        "    'number_of_emails_opened': 'mean'\n",
        "}).reset_index()\n",
        "\n",
        "# Rename columns after aggregation\n",
        "customer_agg.columns = ['customer_id', 'total_spent', 'avg_spent', 'transaction_count',\n",
        "                        'avg_site_visits', 'avg_clicks', 'avg_emails_opened']\n",
        "\n",
        "# Merge the aggregated data back with the original dataframe\n",
        "df = pd.merge(df, customer_agg, on='customer_id', how='left')\n"
      ]
    },
    {
      "cell_type": "code",
      "execution_count": 48,
      "metadata": {
        "id": "9WARlQ9lxsCT"
      },
      "outputs": [],
      "source": [
        "from sklearn.model_selection import train_test_split, cross_val_score, GridSearchCV\n",
        "from sklearn.linear_model import LinearRegression\n",
        "from sklearn.ensemble import RandomForestRegressor\n",
        "from sklearn.metrics import mean_squared_error, r2_score, mean_absolute_error\n",
        "import seaborn as sns\n",
        "import matplotlib.pyplot as plt"
      ]
    },
    {
      "cell_type": "code",
      "execution_count": 49,
      "metadata": {
        "id": "XWCpMyOBxsCT"
      },
      "outputs": [],
      "source": [
        "# Ensure all columns are numeric\n",
        "df = df.apply(pd.to_numeric)\n",
        "\n",
        "# Define the target variable (CLV) as the total transaction amount per customer\n",
        "df['CLV'] = df.groupby('customer_id')['transaction_amount'].transform('sum')\n",
        "\n",
        "# Drop duplicate customer records if necessary\n",
        "df = df.drop_duplicates(subset='customer_id')"
      ]
    },
    {
      "cell_type": "code",
      "execution_count": 50,
      "metadata": {
        "id": "l1K1vW4BxsCT"
      },
      "outputs": [],
      "source": [
        "# Define the features (excluding the target variable 'CLV')\n",
        "X = df.drop(columns=['CLV', 'customer_id', 'join_date', 'last_purchase_date', 'campaign_date', 'transaction_date'])\n",
        "y = df['CLV']\n",
        "\n",
        "# Split the data into training and testing sets\n",
        "from sklearn.model_selection import train_test_split\n",
        "X_train, X_test, y_train, y_test = train_test_split(X, y, test_size=0.2, random_state=42)"
      ]
    },
    {
      "cell_type": "code",
      "execution_count": 51,
      "metadata": {
        "colab": {
          "base_uri": "https://localhost:8080/"
        },
        "id": "kKxSGWatxsCT",
        "outputId": "ad56a671-63c0-44fe-9410-1a61c793787d"
      },
      "outputs": [
        {
          "output_type": "stream",
          "name": "stdout",
          "text": [
            "Linear Regression - Mean Squared Error: 5.545285764052068e-10, Mean Absolute Error: 6.581518950197207e-07, R-squared: 0.9999999999999979\n",
            "Random Forest - Mean Squared Error: 0.17301627722997906, Mean Absolute Error: 0.22880289999998404, R-squared: 0.9999993334177945\n"
          ]
        }
      ],
      "source": [
        "# Train and evaluate multiple models\n",
        "models = {\n",
        "    'Linear Regression': LinearRegression(),\n",
        "    'Random Forest': RandomForestRegressor(random_state=42)\n",
        "}\n",
        "\n",
        "for model_name, model in models.items():\n",
        "    model.fit(X_train, y_train)\n",
        "    y_pred = model.predict(X_test)\n",
        "    mse = mean_squared_error(y_test, y_pred)\n",
        "    mae = mean_absolute_error(y_test, y_pred)\n",
        "    r2 = r2_score(y_test, y_pred)\n",
        "    print(f\"{model_name} - Mean Squared Error: {mse}, Mean Absolute Error: {mae}, R-squared: {r2}\")"
      ]
    },
    {
      "cell_type": "code",
      "source": [
        "print(df.head())"
      ],
      "metadata": {
        "colab": {
          "base_uri": "https://localhost:8080/"
        },
        "id": "Pln4IS2uzdI8",
        "outputId": "5a6ad9fc-07d9-48f4-fcc4-557108997eaa"
      },
      "execution_count": 52,
      "outputs": [
        {
          "output_type": "stream",
          "name": "stdout",
          "text": [
            "     customer_id            join_date   last_purchase_date        age  \\\n",
            "0              1  1700438400000000000  1710633600000000000  56.000000   \n",
            "24             2  1631059200000000000  1698192000000000000  42.627463   \n",
            "60             3  1622505600000000000  1669507200000000000  43.135803   \n",
            "72             4  1640995200000000000  1661990400000000000  29.000000   \n",
            "152            5  1642982400000000000  1685664000000000000  43.362228   \n",
            "\n",
            "     number_of_site_visits  number_of_emails_opened  number_of_clicks  \\\n",
            "0                       10                       15                 1   \n",
            "24                     285                       49                51   \n",
            "60                     192                       73                25   \n",
            "72                     110                       30                17   \n",
            "152                    161                        2                 7   \n",
            "\n",
            "     campaign_id        campaign_date  transaction_id  ...  total_spent  \\\n",
            "0              1  1709164800000000000               1  ...     14037.92   \n",
            "24             5  1657238400000000000               7  ...     24325.28   \n",
            "60             9  1660176000000000000              16  ...      2909.74   \n",
            "72            11  1654300800000000000              22  ...     31498.72   \n",
            "152           15  1677542400000000000              42  ...     62098.20   \n",
            "\n",
            "      avg_spent  transaction_count  avg_site_visits  avg_clicks  \\\n",
            "0    584.913333                 24             10.0         1.0   \n",
            "24   675.702222                 36            285.0        51.0   \n",
            "60   242.478333                 12            192.0        25.0   \n",
            "72   393.734000                 80            110.0        17.0   \n",
            "152  646.856250                 96            161.0         7.0   \n",
            "\n",
            "     avg_emails_opened  recency  frequency  monetary      CLV  \n",
            "0                 15.0      115         24  14037.92   165.56  \n",
            "24                49.0      259         36  24325.28   443.99  \n",
            "60                73.0      591         12   2909.74    68.35  \n",
            "72                30.0      678         80  31498.72   204.59  \n",
            "152                2.0      404         96  62098.20  1977.50  \n",
            "\n",
            "[5 rows x 7738 columns]\n"
          ]
        }
      ]
    },
    {
      "cell_type": "code",
      "source": [
        "df['CLV_Segment'] = pd.qcut(df['CLV'], q=3, labels=['Low', 'Medium', 'High'])"
      ],
      "metadata": {
        "id": "9z_ZkzOYzuca"
      },
      "execution_count": 53,
      "outputs": []
    },
    {
      "cell_type": "code",
      "source": [
        "print(df.head())"
      ],
      "metadata": {
        "colab": {
          "base_uri": "https://localhost:8080/"
        },
        "id": "T6QfgEF0zxZ2",
        "outputId": "7ce0a76e-aa62-47cd-8829-15aab770efe0"
      },
      "execution_count": 54,
      "outputs": [
        {
          "output_type": "stream",
          "name": "stdout",
          "text": [
            "     customer_id            join_date   last_purchase_date        age  \\\n",
            "0              1  1700438400000000000  1710633600000000000  56.000000   \n",
            "24             2  1631059200000000000  1698192000000000000  42.627463   \n",
            "60             3  1622505600000000000  1669507200000000000  43.135803   \n",
            "72             4  1640995200000000000  1661990400000000000  29.000000   \n",
            "152            5  1642982400000000000  1685664000000000000  43.362228   \n",
            "\n",
            "     number_of_site_visits  number_of_emails_opened  number_of_clicks  \\\n",
            "0                       10                       15                 1   \n",
            "24                     285                       49                51   \n",
            "60                     192                       73                25   \n",
            "72                     110                       30                17   \n",
            "152                    161                        2                 7   \n",
            "\n",
            "     campaign_id        campaign_date  transaction_id  ...   avg_spent  \\\n",
            "0              1  1709164800000000000               1  ...  584.913333   \n",
            "24             5  1657238400000000000               7  ...  675.702222   \n",
            "60             9  1660176000000000000              16  ...  242.478333   \n",
            "72            11  1654300800000000000              22  ...  393.734000   \n",
            "152           15  1677542400000000000              42  ...  646.856250   \n",
            "\n",
            "     transaction_count  avg_site_visits  avg_clicks  avg_emails_opened  \\\n",
            "0                   24             10.0         1.0               15.0   \n",
            "24                  36            285.0        51.0               49.0   \n",
            "60                  12            192.0        25.0               73.0   \n",
            "72                  80            110.0        17.0               30.0   \n",
            "152                 96            161.0         7.0                2.0   \n",
            "\n",
            "     recency  frequency  monetary      CLV  CLV_Segment  \n",
            "0        115         24  14037.92   165.56          Low  \n",
            "24       259         36  24325.28   443.99       Medium  \n",
            "60       591         12   2909.74    68.35          Low  \n",
            "72       678         80  31498.72   204.59          Low  \n",
            "152      404         96  62098.20  1977.50         High  \n",
            "\n",
            "[5 rows x 7739 columns]\n"
          ]
        }
      ]
    },
    {
      "cell_type": "code",
      "source": [
        "# Recency, Frequency, Monetary (RFM) Analysis\n",
        "df['recency'] = (pd.to_datetime('today') - pd.to_datetime(df['last_purchase_date'])).dt.days\n",
        "df['frequency'] = df.groupby('customer_id')['transaction_id'].transform('count')\n",
        "df['monetary'] = df.groupby('customer_id')['transaction_amount'].transform('sum')\n",
        "\n",
        "#rfm=['customer_id', 'recency', 'frequency', 'monetary']\n",
        "rfm = df[['customer_id','recency','frequency','monetary']]\n",
        "\n",
        "# Removing duplicates\n",
        "df = df.drop_duplicates(subset='customer_id')"
      ],
      "metadata": {
        "id": "EEOrtlxvz1if"
      },
      "execution_count": 55,
      "outputs": []
    },
    {
      "cell_type": "code",
      "source": [
        "rfm"
      ],
      "metadata": {
        "colab": {
          "base_uri": "https://localhost:8080/",
          "height": 423
        },
        "id": "076Z2mOCz54G",
        "outputId": "e8a3ce4c-6513-43af-eb40-8b1adcd23ff2"
      },
      "execution_count": 56,
      "outputs": [
        {
          "output_type": "execute_result",
          "data": {
            "text/plain": [
              "        customer_id  recency  frequency  monetary\n",
              "0                 1      115          1    165.56\n",
              "24                2      259          1    443.99\n",
              "60                3      591          1     68.35\n",
              "72                4      678          1    204.59\n",
              "152               5      404          1   1977.50\n",
              "...             ...      ...        ...       ...\n",
              "327162         9996      332          1   1726.74\n",
              "327192         9997      532          1    465.80\n",
              "327204         9998      162          1   1176.86\n",
              "327207         9999      726          1    250.62\n",
              "327231        10000      313          1   1385.55\n",
              "\n",
              "[10000 rows x 4 columns]"
            ],
            "text/html": [
              "\n",
              "  <div id=\"df-b7225a52-c0a1-4086-97b1-d469e2075e3c\" class=\"colab-df-container\">\n",
              "    <div>\n",
              "<style scoped>\n",
              "    .dataframe tbody tr th:only-of-type {\n",
              "        vertical-align: middle;\n",
              "    }\n",
              "\n",
              "    .dataframe tbody tr th {\n",
              "        vertical-align: top;\n",
              "    }\n",
              "\n",
              "    .dataframe thead th {\n",
              "        text-align: right;\n",
              "    }\n",
              "</style>\n",
              "<table border=\"1\" class=\"dataframe\">\n",
              "  <thead>\n",
              "    <tr style=\"text-align: right;\">\n",
              "      <th></th>\n",
              "      <th>customer_id</th>\n",
              "      <th>recency</th>\n",
              "      <th>frequency</th>\n",
              "      <th>monetary</th>\n",
              "    </tr>\n",
              "  </thead>\n",
              "  <tbody>\n",
              "    <tr>\n",
              "      <th>0</th>\n",
              "      <td>1</td>\n",
              "      <td>115</td>\n",
              "      <td>1</td>\n",
              "      <td>165.56</td>\n",
              "    </tr>\n",
              "    <tr>\n",
              "      <th>24</th>\n",
              "      <td>2</td>\n",
              "      <td>259</td>\n",
              "      <td>1</td>\n",
              "      <td>443.99</td>\n",
              "    </tr>\n",
              "    <tr>\n",
              "      <th>60</th>\n",
              "      <td>3</td>\n",
              "      <td>591</td>\n",
              "      <td>1</td>\n",
              "      <td>68.35</td>\n",
              "    </tr>\n",
              "    <tr>\n",
              "      <th>72</th>\n",
              "      <td>4</td>\n",
              "      <td>678</td>\n",
              "      <td>1</td>\n",
              "      <td>204.59</td>\n",
              "    </tr>\n",
              "    <tr>\n",
              "      <th>152</th>\n",
              "      <td>5</td>\n",
              "      <td>404</td>\n",
              "      <td>1</td>\n",
              "      <td>1977.50</td>\n",
              "    </tr>\n",
              "    <tr>\n",
              "      <th>...</th>\n",
              "      <td>...</td>\n",
              "      <td>...</td>\n",
              "      <td>...</td>\n",
              "      <td>...</td>\n",
              "    </tr>\n",
              "    <tr>\n",
              "      <th>327162</th>\n",
              "      <td>9996</td>\n",
              "      <td>332</td>\n",
              "      <td>1</td>\n",
              "      <td>1726.74</td>\n",
              "    </tr>\n",
              "    <tr>\n",
              "      <th>327192</th>\n",
              "      <td>9997</td>\n",
              "      <td>532</td>\n",
              "      <td>1</td>\n",
              "      <td>465.80</td>\n",
              "    </tr>\n",
              "    <tr>\n",
              "      <th>327204</th>\n",
              "      <td>9998</td>\n",
              "      <td>162</td>\n",
              "      <td>1</td>\n",
              "      <td>1176.86</td>\n",
              "    </tr>\n",
              "    <tr>\n",
              "      <th>327207</th>\n",
              "      <td>9999</td>\n",
              "      <td>726</td>\n",
              "      <td>1</td>\n",
              "      <td>250.62</td>\n",
              "    </tr>\n",
              "    <tr>\n",
              "      <th>327231</th>\n",
              "      <td>10000</td>\n",
              "      <td>313</td>\n",
              "      <td>1</td>\n",
              "      <td>1385.55</td>\n",
              "    </tr>\n",
              "  </tbody>\n",
              "</table>\n",
              "<p>10000 rows × 4 columns</p>\n",
              "</div>\n",
              "    <div class=\"colab-df-buttons\">\n",
              "\n",
              "  <div class=\"colab-df-container\">\n",
              "    <button class=\"colab-df-convert\" onclick=\"convertToInteractive('df-b7225a52-c0a1-4086-97b1-d469e2075e3c')\"\n",
              "            title=\"Convert this dataframe to an interactive table.\"\n",
              "            style=\"display:none;\">\n",
              "\n",
              "  <svg xmlns=\"http://www.w3.org/2000/svg\" height=\"24px\" viewBox=\"0 -960 960 960\">\n",
              "    <path d=\"M120-120v-720h720v720H120Zm60-500h600v-160H180v160Zm220 220h160v-160H400v160Zm0 220h160v-160H400v160ZM180-400h160v-160H180v160Zm440 0h160v-160H620v160ZM180-180h160v-160H180v160Zm440 0h160v-160H620v160Z\"/>\n",
              "  </svg>\n",
              "    </button>\n",
              "\n",
              "  <style>\n",
              "    .colab-df-container {\n",
              "      display:flex;\n",
              "      gap: 12px;\n",
              "    }\n",
              "\n",
              "    .colab-df-convert {\n",
              "      background-color: #E8F0FE;\n",
              "      border: none;\n",
              "      border-radius: 50%;\n",
              "      cursor: pointer;\n",
              "      display: none;\n",
              "      fill: #1967D2;\n",
              "      height: 32px;\n",
              "      padding: 0 0 0 0;\n",
              "      width: 32px;\n",
              "    }\n",
              "\n",
              "    .colab-df-convert:hover {\n",
              "      background-color: #E2EBFA;\n",
              "      box-shadow: 0px 1px 2px rgba(60, 64, 67, 0.3), 0px 1px 3px 1px rgba(60, 64, 67, 0.15);\n",
              "      fill: #174EA6;\n",
              "    }\n",
              "\n",
              "    .colab-df-buttons div {\n",
              "      margin-bottom: 4px;\n",
              "    }\n",
              "\n",
              "    [theme=dark] .colab-df-convert {\n",
              "      background-color: #3B4455;\n",
              "      fill: #D2E3FC;\n",
              "    }\n",
              "\n",
              "    [theme=dark] .colab-df-convert:hover {\n",
              "      background-color: #434B5C;\n",
              "      box-shadow: 0px 1px 3px 1px rgba(0, 0, 0, 0.15);\n",
              "      filter: drop-shadow(0px 1px 2px rgba(0, 0, 0, 0.3));\n",
              "      fill: #FFFFFF;\n",
              "    }\n",
              "  </style>\n",
              "\n",
              "    <script>\n",
              "      const buttonEl =\n",
              "        document.querySelector('#df-b7225a52-c0a1-4086-97b1-d469e2075e3c button.colab-df-convert');\n",
              "      buttonEl.style.display =\n",
              "        google.colab.kernel.accessAllowed ? 'block' : 'none';\n",
              "\n",
              "      async function convertToInteractive(key) {\n",
              "        const element = document.querySelector('#df-b7225a52-c0a1-4086-97b1-d469e2075e3c');\n",
              "        const dataTable =\n",
              "          await google.colab.kernel.invokeFunction('convertToInteractive',\n",
              "                                                    [key], {});\n",
              "        if (!dataTable) return;\n",
              "\n",
              "        const docLinkHtml = 'Like what you see? Visit the ' +\n",
              "          '<a target=\"_blank\" href=https://colab.research.google.com/notebooks/data_table.ipynb>data table notebook</a>'\n",
              "          + ' to learn more about interactive tables.';\n",
              "        element.innerHTML = '';\n",
              "        dataTable['output_type'] = 'display_data';\n",
              "        await google.colab.output.renderOutput(dataTable, element);\n",
              "        const docLink = document.createElement('div');\n",
              "        docLink.innerHTML = docLinkHtml;\n",
              "        element.appendChild(docLink);\n",
              "      }\n",
              "    </script>\n",
              "  </div>\n",
              "\n",
              "\n",
              "<div id=\"df-9d82391b-726a-47c8-b51f-2e3c912d988b\">\n",
              "  <button class=\"colab-df-quickchart\" onclick=\"quickchart('df-9d82391b-726a-47c8-b51f-2e3c912d988b')\"\n",
              "            title=\"Suggest charts\"\n",
              "            style=\"display:none;\">\n",
              "\n",
              "<svg xmlns=\"http://www.w3.org/2000/svg\" height=\"24px\"viewBox=\"0 0 24 24\"\n",
              "     width=\"24px\">\n",
              "    <g>\n",
              "        <path d=\"M19 3H5c-1.1 0-2 .9-2 2v14c0 1.1.9 2 2 2h14c1.1 0 2-.9 2-2V5c0-1.1-.9-2-2-2zM9 17H7v-7h2v7zm4 0h-2V7h2v10zm4 0h-2v-4h2v4z\"/>\n",
              "    </g>\n",
              "</svg>\n",
              "  </button>\n",
              "\n",
              "<style>\n",
              "  .colab-df-quickchart {\n",
              "      --bg-color: #E8F0FE;\n",
              "      --fill-color: #1967D2;\n",
              "      --hover-bg-color: #E2EBFA;\n",
              "      --hover-fill-color: #174EA6;\n",
              "      --disabled-fill-color: #AAA;\n",
              "      --disabled-bg-color: #DDD;\n",
              "  }\n",
              "\n",
              "  [theme=dark] .colab-df-quickchart {\n",
              "      --bg-color: #3B4455;\n",
              "      --fill-color: #D2E3FC;\n",
              "      --hover-bg-color: #434B5C;\n",
              "      --hover-fill-color: #FFFFFF;\n",
              "      --disabled-bg-color: #3B4455;\n",
              "      --disabled-fill-color: #666;\n",
              "  }\n",
              "\n",
              "  .colab-df-quickchart {\n",
              "    background-color: var(--bg-color);\n",
              "    border: none;\n",
              "    border-radius: 50%;\n",
              "    cursor: pointer;\n",
              "    display: none;\n",
              "    fill: var(--fill-color);\n",
              "    height: 32px;\n",
              "    padding: 0;\n",
              "    width: 32px;\n",
              "  }\n",
              "\n",
              "  .colab-df-quickchart:hover {\n",
              "    background-color: var(--hover-bg-color);\n",
              "    box-shadow: 0 1px 2px rgba(60, 64, 67, 0.3), 0 1px 3px 1px rgba(60, 64, 67, 0.15);\n",
              "    fill: var(--button-hover-fill-color);\n",
              "  }\n",
              "\n",
              "  .colab-df-quickchart-complete:disabled,\n",
              "  .colab-df-quickchart-complete:disabled:hover {\n",
              "    background-color: var(--disabled-bg-color);\n",
              "    fill: var(--disabled-fill-color);\n",
              "    box-shadow: none;\n",
              "  }\n",
              "\n",
              "  .colab-df-spinner {\n",
              "    border: 2px solid var(--fill-color);\n",
              "    border-color: transparent;\n",
              "    border-bottom-color: var(--fill-color);\n",
              "    animation:\n",
              "      spin 1s steps(1) infinite;\n",
              "  }\n",
              "\n",
              "  @keyframes spin {\n",
              "    0% {\n",
              "      border-color: transparent;\n",
              "      border-bottom-color: var(--fill-color);\n",
              "      border-left-color: var(--fill-color);\n",
              "    }\n",
              "    20% {\n",
              "      border-color: transparent;\n",
              "      border-left-color: var(--fill-color);\n",
              "      border-top-color: var(--fill-color);\n",
              "    }\n",
              "    30% {\n",
              "      border-color: transparent;\n",
              "      border-left-color: var(--fill-color);\n",
              "      border-top-color: var(--fill-color);\n",
              "      border-right-color: var(--fill-color);\n",
              "    }\n",
              "    40% {\n",
              "      border-color: transparent;\n",
              "      border-right-color: var(--fill-color);\n",
              "      border-top-color: var(--fill-color);\n",
              "    }\n",
              "    60% {\n",
              "      border-color: transparent;\n",
              "      border-right-color: var(--fill-color);\n",
              "    }\n",
              "    80% {\n",
              "      border-color: transparent;\n",
              "      border-right-color: var(--fill-color);\n",
              "      border-bottom-color: var(--fill-color);\n",
              "    }\n",
              "    90% {\n",
              "      border-color: transparent;\n",
              "      border-bottom-color: var(--fill-color);\n",
              "    }\n",
              "  }\n",
              "</style>\n",
              "\n",
              "  <script>\n",
              "    async function quickchart(key) {\n",
              "      const quickchartButtonEl =\n",
              "        document.querySelector('#' + key + ' button');\n",
              "      quickchartButtonEl.disabled = true;  // To prevent multiple clicks.\n",
              "      quickchartButtonEl.classList.add('colab-df-spinner');\n",
              "      try {\n",
              "        const charts = await google.colab.kernel.invokeFunction(\n",
              "            'suggestCharts', [key], {});\n",
              "      } catch (error) {\n",
              "        console.error('Error during call to suggestCharts:', error);\n",
              "      }\n",
              "      quickchartButtonEl.classList.remove('colab-df-spinner');\n",
              "      quickchartButtonEl.classList.add('colab-df-quickchart-complete');\n",
              "    }\n",
              "    (() => {\n",
              "      let quickchartButtonEl =\n",
              "        document.querySelector('#df-9d82391b-726a-47c8-b51f-2e3c912d988b button');\n",
              "      quickchartButtonEl.style.display =\n",
              "        google.colab.kernel.accessAllowed ? 'block' : 'none';\n",
              "    })();\n",
              "  </script>\n",
              "</div>\n",
              "\n",
              "  <div id=\"id_b05aec8d-0523-462d-8fc0-daf43fe9c312\">\n",
              "    <style>\n",
              "      .colab-df-generate {\n",
              "        background-color: #E8F0FE;\n",
              "        border: none;\n",
              "        border-radius: 50%;\n",
              "        cursor: pointer;\n",
              "        display: none;\n",
              "        fill: #1967D2;\n",
              "        height: 32px;\n",
              "        padding: 0 0 0 0;\n",
              "        width: 32px;\n",
              "      }\n",
              "\n",
              "      .colab-df-generate:hover {\n",
              "        background-color: #E2EBFA;\n",
              "        box-shadow: 0px 1px 2px rgba(60, 64, 67, 0.3), 0px 1px 3px 1px rgba(60, 64, 67, 0.15);\n",
              "        fill: #174EA6;\n",
              "      }\n",
              "\n",
              "      [theme=dark] .colab-df-generate {\n",
              "        background-color: #3B4455;\n",
              "        fill: #D2E3FC;\n",
              "      }\n",
              "\n",
              "      [theme=dark] .colab-df-generate:hover {\n",
              "        background-color: #434B5C;\n",
              "        box-shadow: 0px 1px 3px 1px rgba(0, 0, 0, 0.15);\n",
              "        filter: drop-shadow(0px 1px 2px rgba(0, 0, 0, 0.3));\n",
              "        fill: #FFFFFF;\n",
              "      }\n",
              "    </style>\n",
              "    <button class=\"colab-df-generate\" onclick=\"generateWithVariable('rfm')\"\n",
              "            title=\"Generate code using this dataframe.\"\n",
              "            style=\"display:none;\">\n",
              "\n",
              "  <svg xmlns=\"http://www.w3.org/2000/svg\" height=\"24px\"viewBox=\"0 0 24 24\"\n",
              "       width=\"24px\">\n",
              "    <path d=\"M7,19H8.4L18.45,9,17,7.55,7,17.6ZM5,21V16.75L18.45,3.32a2,2,0,0,1,2.83,0l1.4,1.43a1.91,1.91,0,0,1,.58,1.4,1.91,1.91,0,0,1-.58,1.4L9.25,21ZM18.45,9,17,7.55Zm-12,3A5.31,5.31,0,0,0,4.9,8.1,5.31,5.31,0,0,0,1,6.5,5.31,5.31,0,0,0,4.9,4.9,5.31,5.31,0,0,0,6.5,1,5.31,5.31,0,0,0,8.1,4.9,5.31,5.31,0,0,0,12,6.5,5.46,5.46,0,0,0,6.5,12Z\"/>\n",
              "  </svg>\n",
              "    </button>\n",
              "    <script>\n",
              "      (() => {\n",
              "      const buttonEl =\n",
              "        document.querySelector('#id_b05aec8d-0523-462d-8fc0-daf43fe9c312 button.colab-df-generate');\n",
              "      buttonEl.style.display =\n",
              "        google.colab.kernel.accessAllowed ? 'block' : 'none';\n",
              "\n",
              "      buttonEl.onclick = () => {\n",
              "        google.colab.notebook.generateWithVariable('rfm');\n",
              "      }\n",
              "      })();\n",
              "    </script>\n",
              "  </div>\n",
              "\n",
              "    </div>\n",
              "  </div>\n"
            ],
            "application/vnd.google.colaboratory.intrinsic+json": {
              "type": "dataframe",
              "variable_name": "rfm",
              "summary": "{\n  \"name\": \"rfm\",\n  \"rows\": 10000,\n  \"fields\": [\n    {\n      \"column\": \"customer_id\",\n      \"properties\": {\n        \"dtype\": \"number\",\n        \"std\": 2886,\n        \"min\": 1,\n        \"max\": 10000,\n        \"num_unique_values\": 10000,\n        \"samples\": [\n          6253,\n          4685,\n          1732\n        ],\n        \"semantic_type\": \"\",\n        \"description\": \"\"\n      }\n    },\n    {\n      \"column\": \"recency\",\n      \"properties\": {\n        \"dtype\": \"number\",\n        \"std\": 352,\n        \"min\": 40,\n        \"max\": 1627,\n        \"num_unique_values\": 1386,\n        \"samples\": [\n          447,\n          62,\n          1625\n        ],\n        \"semantic_type\": \"\",\n        \"description\": \"\"\n      }\n    },\n    {\n      \"column\": \"frequency\",\n      \"properties\": {\n        \"dtype\": \"number\",\n        \"std\": 0,\n        \"min\": 1,\n        \"max\": 1,\n        \"num_unique_values\": 1,\n        \"samples\": [\n          1\n        ],\n        \"semantic_type\": \"\",\n        \"description\": \"\"\n      }\n    },\n    {\n      \"column\": \"monetary\",\n      \"properties\": {\n        \"dtype\": \"number\",\n        \"std\": 497.57629189214595,\n        \"min\": 10.02,\n        \"max\": 1999.74,\n        \"num_unique_values\": 9593,\n        \"samples\": [\n          1017.88\n        ],\n        \"semantic_type\": \"\",\n        \"description\": \"\"\n      }\n    }\n  ]\n}"
            }
          },
          "metadata": {},
          "execution_count": 56
        }
      ]
    },
    {
      "cell_type": "code",
      "source": [
        "# Assign scores from 1 to 5\n",
        "rfm['r_score'] = pd.cut(rfm['recency'], 5, labels=[5, 4, 3, 2, 1])\n",
        "rfm['f_score'] = pd.cut(rfm['frequency'], 5, labels=[1, 2, 3, 4, 5])\n",
        "rfm['m_score'] = pd.cut(rfm['monetary'], 5, labels=[1, 2, 3, 4, 5])\n",
        "\n",
        "# Combine RFM scores into a single score\n",
        "rfm['rfm_score'] = rfm['r_score'].astype(str) + rfm['f_score'].astype(str) + rfm['m_score'].astype(str)"
      ],
      "metadata": {
        "id": "ZlRzvbwb0FLy"
      },
      "execution_count": 57,
      "outputs": []
    },
    {
      "cell_type": "code",
      "source": [
        "# Display the RFM dataframe\n",
        "print(rfm.head())"
      ],
      "metadata": {
        "colab": {
          "base_uri": "https://localhost:8080/"
        },
        "id": "ORbR9Bqe0IGh",
        "outputId": "1ae7cf2f-ed39-4880-e364-3fab1b031f40"
      },
      "execution_count": 58,
      "outputs": [
        {
          "output_type": "stream",
          "name": "stdout",
          "text": [
            "     customer_id  recency  frequency  monetary r_score f_score m_score  \\\n",
            "0              1      115          1    165.56       5       3       1   \n",
            "24             2      259          1    443.99       5       3       2   \n",
            "60             3      591          1     68.35       4       3       1   \n",
            "72             4      678          1    204.59       3       3       1   \n",
            "152            5      404          1   1977.50       4       3       5   \n",
            "\n",
            "    rfm_score  \n",
            "0         531  \n",
            "24        532  \n",
            "60        431  \n",
            "72        331  \n",
            "152       435  \n"
          ]
        }
      ]
    },
    {
      "cell_type": "code",
      "source": [
        "# Create RFM segments\n",
        "rfm['rfm_segment'] = pd.qcut(rfm['rfm_score'].astype(int), q=3, labels=['Low', 'Medium', 'High'])"
      ],
      "metadata": {
        "id": "QgZTqMXE0Nn2"
      },
      "execution_count": 59,
      "outputs": []
    },
    {
      "cell_type": "code",
      "source": [
        "# Merge RFM data with CLV\n",
        "rfm_clv = rfm.merge(df, on='customer_id')"
      ],
      "metadata": {
        "id": "rDp-IRPE0Qld"
      },
      "execution_count": 60,
      "outputs": []
    },
    {
      "cell_type": "code",
      "source": [
        "# Calculate average CLV for each RFM segment\n",
        "average_clv_by_segment = rfm_clv.groupby('rfm_segment')['CLV'].mean().reset_index()\n",
        "\n",
        "print(average_clv_by_segment)"
      ],
      "metadata": {
        "colab": {
          "base_uri": "https://localhost:8080/"
        },
        "id": "FyJ4leq90bZq",
        "outputId": "d6813d2d-0c6d-4210-e472-a74b3d1f6952"
      },
      "execution_count": 61,
      "outputs": [
        {
          "output_type": "stream",
          "name": "stdout",
          "text": [
            "  rfm_segment         CLV\n",
            "0         Low  478.056995\n",
            "1      Medium  471.375356\n",
            "2        High  945.139731\n"
          ]
        }
      ]
    },
    {
      "cell_type": "code",
      "source": [
        "import seaborn as sns\n",
        "import matplotlib.pyplot as plt\n",
        "\n",
        "# Bar plot of average CLV by RFM segment\n",
        "plt.figure(figsize=(10, 6))\n",
        "sns.barplot(x='rfm_segment', y='CLV', data=average_clv_by_segment)\n",
        "plt.title('Average CLV by RFM Segment')\n",
        "plt.xlabel('RFM Segment')\n",
        "plt.ylabel('Average Predicted CLV')\n",
        "plt.show()\n"
      ],
      "metadata": {
        "colab": {
          "base_uri": "https://localhost:8080/",
          "height": 564
        },
        "id": "Ef4a3JbM0d5i",
        "outputId": "c017011d-8433-4025-97e2-7e4eddd10bd0"
      },
      "execution_count": 63,
      "outputs": [
        {
          "output_type": "display_data",
          "data": {
            "text/plain": [
              "<Figure size 1000x600 with 1 Axes>"
            ],
            "image/png": "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\n"
          },
          "metadata": {}
        }
      ]
    },
    {
      "cell_type": "code",
      "source": [
        "# Further segment customers based on CLV\n",
        "rfm_clv['CLV_Segment'] = pd.qcut(rfm_clv['CLV'], q=3, labels=['Low CLV', 'Medium CLV', 'High CLV'])\n",
        "\n",
        "# Display the combined segments\n",
        "print(rfm_clv)"
      ],
      "metadata": {
        "colab": {
          "base_uri": "https://localhost:8080/"
        },
        "id": "0SU39Jkb044M",
        "outputId": "01e6baba-8932-4763-f613-0e5cc66214ae"
      },
      "execution_count": 64,
      "outputs": [
        {
          "output_type": "stream",
          "name": "stdout",
          "text": [
            "      customer_id  recency_x  frequency_x  monetary_x r_score f_score m_score  \\\n",
            "0               1        115            1      165.56       5       3       1   \n",
            "1               2        259            1      443.99       5       3       2   \n",
            "2               3        591            1       68.35       4       3       1   \n",
            "3               4        678            1      204.59       3       3       1   \n",
            "4               5        404            1     1977.50       4       3       5   \n",
            "...           ...        ...          ...         ...     ...     ...     ...   \n",
            "9995         9996        332            1     1726.74       5       3       5   \n",
            "9996         9997        532            1      465.80       4       3       2   \n",
            "9997         9998        162            1     1176.86       5       3       3   \n",
            "9998         9999        726            1      250.62       3       3       1   \n",
            "9999        10000        313            1     1385.55       5       3       4   \n",
            "\n",
            "     rfm_score rfm_segment            join_date  ...    avg_spent  \\\n",
            "0          531      Medium  1700438400000000000  ...   584.913333   \n",
            "1          532        High  1631059200000000000  ...   675.702222   \n",
            "2          431         Low  1622505600000000000  ...   242.478333   \n",
            "3          331         Low  1640995200000000000  ...   393.734000   \n",
            "4          435      Medium  1642982400000000000  ...   646.856250   \n",
            "...        ...         ...                  ...  ...          ...   \n",
            "9995       535        High  1671148800000000000  ...   549.820000   \n",
            "9996       432      Medium  1657324800000000000  ...   487.358333   \n",
            "9997       533        High  1694908800000000000  ...  1167.710000   \n",
            "9998       331         Low  1652140800000000000  ...   560.155000   \n",
            "9999       534        High  1685059200000000000  ...   577.583000   \n",
            "\n",
            "      transaction_count  avg_site_visits  avg_clicks  avg_emails_opened  \\\n",
            "0                    24             10.0         1.0               15.0   \n",
            "1                    36            285.0        51.0               49.0   \n",
            "2                    12            192.0        25.0               73.0   \n",
            "3                    80            110.0        17.0               30.0   \n",
            "4                    96            161.0         7.0                2.0   \n",
            "...                 ...              ...         ...                ...   \n",
            "9995                 30            119.0        16.0               47.0   \n",
            "9996                 12              3.0        14.0               33.0   \n",
            "9997                  3             53.0         5.0               17.0   \n",
            "9998                 24             23.0         4.0                5.0   \n",
            "9999                 20             12.0         7.0               12.0   \n",
            "\n",
            "      recency_y  frequency_y  monetary_y      CLV  CLV_Segment  \n",
            "0           115            1      165.56   165.56      Low CLV  \n",
            "1           259            1      443.99   443.99   Medium CLV  \n",
            "2           591            1       68.35    68.35      Low CLV  \n",
            "3           678            1      204.59   204.59      Low CLV  \n",
            "4           404            1     1977.50  1977.50     High CLV  \n",
            "...         ...          ...         ...      ...          ...  \n",
            "9995        332            1     1726.74  1726.74     High CLV  \n",
            "9996        532            1      465.80   465.80   Medium CLV  \n",
            "9997        162            1     1176.86  1176.86     High CLV  \n",
            "9998        726            1      250.62   250.62      Low CLV  \n",
            "9999        313            1     1385.55  1385.55     High CLV  \n",
            "\n",
            "[10000 rows x 7747 columns]\n"
          ]
        }
      ]
    },
    {
      "cell_type": "code",
      "source": [
        "# Visualize combined segments\n",
        "plt.figure(figsize=(10, 6))\n",
        "sns.countplot(x='rfm_segment', hue='CLV_Segment', data=rfm_clv)\n",
        "plt.title('RFM Segment vs CLV Segment')\n",
        "plt.xlabel('RFM Segment')\n",
        "plt.ylabel('Count')\n",
        "plt.legend(title='CLV Segment')\n",
        "plt.show()\n"
      ],
      "metadata": {
        "colab": {
          "base_uri": "https://localhost:8080/",
          "height": 564
        },
        "id": "sgTQJo_L1EcH",
        "outputId": "ae88463f-ca47-4a61-86b0-da76d54d1266"
      },
      "execution_count": 65,
      "outputs": [
        {
          "output_type": "display_data",
          "data": {
            "text/plain": [
              "<Figure size 1000x600 with 1 Axes>"
            ],
            "image/png": "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\n"
          },
          "metadata": {}
        }
      ]
>>>>>>> 7e988b133b8c5dfc4cb8184243c14e3acd674373
    }
<<<<<<< HEAD
   ],
   "source": [
    "# Train the model\n",
    "pipeline.fit(X_train, y_train)\n",
    "\n",
    "# Test the model\n",
    "y_test_pred = pipeline.predict(X_test)\n",
    "test_mae = mean_absolute_error(y_test, y_test_pred)\n",
    "test_r2 = r2_score(y_test, y_test_pred)\n",
    "\n",
    "print(\"Test MAE:\", test_mae)\n",
    "print(\"Test R2:\", test_r2)"
   ]
=======
  ],
  "metadata": {
    "kernelspec": {
      "display_name": "Python 3",
      "language": "python",
      "name": "python3"
    },
    "language_info": {
      "codemirror_mode": {
        "name": "ipython",
        "version": 3
      },
      "file_extension": ".py",
      "mimetype": "text/x-python",
      "name": "python",
      "nbconvert_exporter": "python",
      "pygments_lexer": "ipython3",
      "version": "3.12.3"
    },
    "colab": {
      "provenance": []
    }
>>>>>>> 7e988b133b8c5dfc4cb8184243c14e3acd674373
  },
<<<<<<< HEAD
  {
   "cell_type": "code",
   "execution_count": null,
   "metadata": {},
   "outputs": [
    {
     "name": "stderr",
     "output_type": "stream",
     "text": [
      "c:\\Users\\nazil\\AppData\\Local\\Programs\\Python\\Python312\\Lib\\site-packages\\sklearn\\impute\\_base.py:597: UserWarning: Skipping features without any observed values: ['CLV_Segment']. At least one non-missing value is needed for imputation with strategy='mean'.\n",
      "  warnings.warn(\n"
     ]
    }
   ],
   "source": [
    "# Predict on the remaining 60%\n",
    "y_predict_pred = pipeline.predict(X_predict)\n",
    "df_predict = X_predict.copy()\n",
    "df_predict['predicted_CLV'] = y_predict_pred"
   ]
  },
  {
   "cell_type": "code",
   "execution_count": null,
   "metadata": {},
   "outputs": [],
   "source": [
    "# Add predicted CLV back to the original dataframe\n",
    "df.loc[df_predict.index, 'predicted_CLV'] = df_predict['predicted_CLV']\n",
    "\n",
    "# Optional: Segment CLV\n",
    "df['CLV_Segment'] = pd.qcut(df['predicted_CLV'], q=3, labels=['Low', 'Medium', 'High'])"
   ]
  },
  {
   "cell_type": "code",
   "execution_count": null,
   "metadata": {},
   "outputs": [
    {
     "data": {
      "image/png": "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",
      "text/plain": [
       "<Figure size 640x480 with 1 Axes>"
      ]
     },
     "metadata": {},
     "output_type": "display_data"
    },
    {
     "data": {
      "image/png": "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",
      "text/plain": [
       "<Figure size 1000x600 with 1 Axes>"
      ]
     },
     "metadata": {},
     "output_type": "display_data"
    }
   ],
   "source": [
    "sns.countplot(x='CLV_Segment', data=df)\n",
    "plt.title('Distribution of CLV Segments')\n",
    "plt.xlabel('CLV Segment')\n",
    "plt.ylabel('Count')\n",
    "plt.show()\n",
    "\n",
    "plt.figure(figsize=(10, 6))\n",
    "sns.scatterplot(x=df['CLV'], y=df['predicted_CLV'])\n",
    "plt.title('Actual CLV vs Predicted CLV')\n",
    "plt.xlabel('Actual CLV')\n",
    "plt.ylabel('Predicted CLV')\n",
    "plt.show()"
   ]
  },
  {
   "cell_type": "code",
   "execution_count": null,
   "metadata": {},
   "outputs": [
    {
     "name": "stdout",
     "output_type": "stream",
     "text": [
      "     customer_id            join_date   last_purchase_date        age  \\\n",
      "0              1  1700438400000000000  1710633600000000000  56.000000   \n",
      "24             2  1631059200000000000  1698192000000000000  42.627463   \n",
      "60             3  1622505600000000000  1669507200000000000  43.135803   \n",
      "72             4  1640995200000000000  1661990400000000000  29.000000   \n",
      "152            5  1642982400000000000  1685664000000000000  43.362228   \n",
      "\n",
      "     number_of_site_visits  number_of_emails_opened  number_of_clicks  \\\n",
      "0                       10                       15                 1   \n",
      "24                     285                       49                51   \n",
      "60                     192                       73                25   \n",
      "72                     110                       30                17   \n",
      "152                    161                        2                 7   \n",
      "\n",
      "     campaign_id        campaign_date  transaction_id  ...  transaction_count  \\\n",
      "0              1  1709164800000000000               1  ...                 24   \n",
      "24             5  1657238400000000000               7  ...                 36   \n",
      "60             9  1660176000000000000              16  ...                 12   \n",
      "72            11  1654300800000000000              22  ...                 80   \n",
      "152           15  1677542400000000000              42  ...                 96   \n",
      "\n",
      "     avg_site_visits  avg_clicks  avg_emails_opened  recency  frequency  \\\n",
      "0               10.0         1.0               15.0      112         24   \n",
      "24             285.0        51.0               49.0      256         36   \n",
      "60             192.0        25.0               73.0      588         12   \n",
      "72             110.0        17.0               30.0      675         80   \n",
      "152            161.0         7.0                2.0      401         96   \n",
      "\n",
      "     monetary      CLV  predicted_CLV  CLV_Segment  \n",
      "0    14037.92   165.56         165.56          Low  \n",
      "24   24325.28   443.99         443.99       Medium  \n",
      "60    2909.74    68.35          68.35          Low  \n",
      "72   31498.72   204.59         204.59          Low  \n",
      "152  62098.20  1977.50        1977.50         High  \n",
      "\n",
      "[5 rows x 7740 columns]\n"
     ]
    }
   ],
   "source": [
    "print(df.head())"
   ]
  }
 ],
 "metadata": {
  "kernelspec": {
   "display_name": "Python 3",
   "language": "python",
   "name": "python3"
  },
  "language_info": {
   "codemirror_mode": {
    "name": "ipython",
    "version": 3
   },
   "file_extension": ".py",
   "mimetype": "text/x-python",
   "name": "python",
   "nbconvert_exporter": "python",
   "pygments_lexer": "ipython3",
   "version": "3.12.3"
  }
 },
 "nbformat": 4,
 "nbformat_minor": 2
=======
  "nbformat": 4,
  "nbformat_minor": 0
>>>>>>> 7e988b133b8c5dfc4cb8184243c14e3acd674373
}