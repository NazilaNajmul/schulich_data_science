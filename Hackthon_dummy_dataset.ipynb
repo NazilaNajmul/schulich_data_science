{
 "cells": [
  {
   "cell_type": "code",
   "execution_count": 1,
   "metadata": {},
   "outputs": [],
   "source": [
    "import pandas as pd\n",
    "import numpy as np\n",
    "import random\n",
    "from faker import Faker\n",
    "from datetime import datetime, timedelta"
   ]
  },
  {
   "cell_type": "code",
   "execution_count": 2,
   "metadata": {},
   "outputs": [],
   "source": [
    "# Initialize Faker and random seed for reproducibility\n",
    "faker = Faker()\n",
    "random.seed(42)\n",
    "np.random.seed(42)"
   ]
  },
  {
   "cell_type": "code",
   "execution_count": 3,
   "metadata": {},
   "outputs": [],
   "source": [
    "# Hardcoded values for generating data\n",
    "country_codes = ['DE', 'FR', 'RU', 'IT', 'ES', 'PL']  # Example EU and Russian countries\n",
    "product_codes = [f'P{str(i).zfill(4)}' for i in range(1, 51)]  # 50 unique products\n",
    "routes = [f'R{str(i).zfill(3)}' for i in range(1, 21)]  # 20 delivery routes\n",
    "currencies = ['EUR', 'RUB', 'USD']\n",
    "seasons = {'Winter': [12, 1, 2], 'Spring': [3, 4, 5], 'Summer': [6, 7, 8], 'Autumn': [9, 10, 11]}"
   ]
  },
  {
   "cell_type": "code",
   "execution_count": 4,
   "metadata": {},
   "outputs": [],
   "source": [
    "# Helper function to calculate season\n",
    "def get_season(month):\n",
    "    for season, months in seasons.items():\n",
    "        if month in months:\n",
    "            return season\n",
    "    return 'Unknown'"
   ]
  },
  {
   "cell_type": "code",
   "execution_count": 6,
   "metadata": {},
   "outputs": [],
   "source": [
    "from datetime import date, timedelta"
   ]
  },
  {
   "cell_type": "code",
   "execution_count": 7,
   "metadata": {},
   "outputs": [],
   "source": [
    "# Corrected start and end dates\n",
    "start_date = date(2009, 1, 1)  # Using datetime.date objects\n",
    "end_date = date(2011, 12, 31)\n"
   ]
  },
  {
   "cell_type": "code",
   "execution_count": 8,
   "metadata": {},
   "outputs": [],
   "source": [
    "# Generate fake data\n",
    "num_rows = 2421\n",
    "data = []\n",
    "\n",
    "for _ in range(num_rows):\n",
    "    order_date = faker.date_between(start_date=start_date, end_date=end_date)\n",
    "    requested_delivery_date = order_date + timedelta(days=random.randint(30, 180))  # 1-6 months lead time\n",
    "    country_code = random.choice(country_codes)\n",
    "    product_code = random.choice(product_codes)\n",
    "    description = f\"{faker.word()} {faker.word()}\"\n",
    "    order_type = \"VO\"  # Vendor Order, constant\n",
    "    customer_order_code = faker.unique.uuid4()[:8]  # Unique short ID\n",
    "    value = round(random.uniform(50, 500), 2)  # Price between 50 and 500\n",
    "    currency = random.choice(currencies)\n",
    "    items = random.randint(1, 100)  # Quantity between 1 and 100\n",
    "    route = random.choice(routes)\n",
    "    month = order_date.month\n",
    "    season = get_season(month)\n",
    "    \n",
    "    data.append([\n",
    "        order_date, requested_delivery_date, country_code, product_code, description, order_type,\n",
    "        customer_order_code, value, currency, items, route, season\n",
    "    ])"
   ]
  },
  {
   "cell_type": "code",
   "execution_count": 10,
   "metadata": {},
   "outputs": [],
   "source": [
    "# Convert to DataFrame\n",
    "columns = [\n",
    "    \"Order Date\", \"Requested Delivery Date\", \"Customer Country Code\", \"Product Code\",\n",
    "    \"Description\", \"Order Type\", \"Customer Order Code\", \"Value\", \"Currency\", \"Items\", \"Route\", \"Season\"\n",
    "]\n",
    "df = pd.DataFrame(data, columns=columns)"
   ]
  },
  {
   "cell_type": "code",
   "execution_count": 14,
   "metadata": {},
   "outputs": [],
   "source": [
    "# Save as CSV\n",
    "output_file = \"C:/MBAN- Schulich/MBAN- Sem 2/Predictive Modeling/Hackathon main/fake_xyz_apparel_data.csv\"\n",
    "df.to_csv(output_file, index=False)"
   ]
  }
 ],
 "metadata": {
  "kernelspec": {
   "display_name": "Python 3",
   "language": "python",
   "name": "python3"
  },
  "language_info": {
   "codemirror_mode": {
    "name": "ipython",
    "version": 3
   },
   "file_extension": ".py",
   "mimetype": "text/x-python",
   "name": "python",
   "nbconvert_exporter": "python",
   "pygments_lexer": "ipython3",
   "version": "3.12.3"
  }
 },
 "nbformat": 4,
 "nbformat_minor": 2
}
