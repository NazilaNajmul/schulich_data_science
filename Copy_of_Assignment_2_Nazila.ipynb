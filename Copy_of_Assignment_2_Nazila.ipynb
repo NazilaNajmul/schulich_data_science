{
  "cells": [
    {
      "cell_type": "markdown",
      "metadata": {
        "id": "view-in-github",
        "colab_type": "text"
      },
      "source": [
        "<a href=\"https://colab.research.google.com/github/NazilaNajmul/schulich_data_science/blob/main/Copy_of_Assignment_2_Nazila.ipynb\" target=\"_parent\"><img src=\"https://colab.research.google.com/assets/colab-badge.svg\" alt=\"Open In Colab\"/></a>"
      ]
    },
    {
      "cell_type": "code",
      "execution_count": null,
      "metadata": {
        "id": "im_PARIOxsBy",
        "outputId": "d831cdd2-2169-438c-9e23-f0bc40c4e6ed",
        "colab": {
          "base_uri": "https://localhost:8080/"
        }
      },
      "outputs": [
        {
          "output_type": "stream",
          "name": "stdout",
          "text": [
            "Requirement already satisfied: statsmodels in /usr/local/lib/python3.10/dist-packages (0.14.2)\n",
            "Requirement already satisfied: numpy>=1.22.3 in /usr/local/lib/python3.10/dist-packages (from statsmodels) (1.25.2)\n",
            "Requirement already satisfied: scipy!=1.9.2,>=1.8 in /usr/local/lib/python3.10/dist-packages (from statsmodels) (1.11.4)\n",
            "Requirement already satisfied: pandas!=2.1.0,>=1.4 in /usr/local/lib/python3.10/dist-packages (from statsmodels) (2.0.3)\n",
            "Requirement already satisfied: patsy>=0.5.6 in /usr/local/lib/python3.10/dist-packages (from statsmodels) (0.5.6)\n",
            "Requirement already satisfied: packaging>=21.3 in /usr/local/lib/python3.10/dist-packages (from statsmodels) (24.1)\n",
            "Requirement already satisfied: python-dateutil>=2.8.2 in /usr/local/lib/python3.10/dist-packages (from pandas!=2.1.0,>=1.4->statsmodels) (2.8.2)\n",
            "Requirement already satisfied: pytz>=2020.1 in /usr/local/lib/python3.10/dist-packages (from pandas!=2.1.0,>=1.4->statsmodels) (2023.4)\n",
            "Requirement already satisfied: tzdata>=2022.1 in /usr/local/lib/python3.10/dist-packages (from pandas!=2.1.0,>=1.4->statsmodels) (2024.1)\n",
            "Requirement already satisfied: six in /usr/local/lib/python3.10/dist-packages (from patsy>=0.5.6->statsmodels) (1.16.0)\n"
          ]
        }
      ],
      "source": [
        "pip install statsmodels"
      ]
    },
    {
      "cell_type": "code",
      "execution_count": null,
      "metadata": {
        "id": "GhZzuv11xsB1",
        "outputId": "d71b204a-914c-40a2-801f-fd497a825f1b",
        "colab": {
          "base_uri": "https://localhost:8080/"
        }
      },
      "outputs": [
        {
          "output_type": "stream",
          "name": "stdout",
          "text": [
            "Requirement already satisfied: scikit-learn in /usr/local/lib/python3.10/dist-packages (1.2.2)\n",
            "Requirement already satisfied: numpy>=1.17.3 in /usr/local/lib/python3.10/dist-packages (from scikit-learn) (1.25.2)\n",
            "Requirement already satisfied: scipy>=1.3.2 in /usr/local/lib/python3.10/dist-packages (from scikit-learn) (1.11.4)\n",
            "Requirement already satisfied: joblib>=1.1.1 in /usr/local/lib/python3.10/dist-packages (from scikit-learn) (1.4.2)\n",
            "Requirement already satisfied: threadpoolctl>=2.0.0 in /usr/local/lib/python3.10/dist-packages (from scikit-learn) (3.5.0)\n"
          ]
        }
      ],
      "source": [
        "pip install scikit-learn"
      ]
    },
    {
      "cell_type": "code",
      "execution_count": null,
      "metadata": {
        "id": "Mp8Y46R0xsB1"
      },
      "outputs": [],
      "source": [
        "import pandas as pd\n",
        "import numpy as np"
      ]
    },
    {
      "cell_type": "code",
      "execution_count": null,
      "metadata": {
        "id": "Kw1OQXWDxsB2"
      },
      "outputs": [],
      "source": [
        "#load all the csv files\n",
        "customer= pd.read_csv('https://raw.githubusercontent.com/delinai/schulich_ds1_2024/main/Datasets/customers_final.csv')\n",
        "engagements= pd.read_csv(\"https://raw.githubusercontent.com/delinai/schulich_ds1_2024/main/Datasets/engagements_final.csv\")\n",
        "marketing= pd.read_csv(\"https://raw.githubusercontent.com/delinai/schulich_ds1_2024/main/Datasets/marketing_final.csv\")\n",
        "transactions= pd.read_csv(\"https://raw.githubusercontent.com/delinai/schulich_ds1_2024/main/Datasets/transactions_final.csv\")"
      ]
    },
    {
      "cell_type": "code",
      "execution_count": null,
      "metadata": {
        "id": "1vhLcco5xsB2",
        "outputId": "d21afcc3-cec4-4672-996b-c3d78e9180fa",
        "colab": {
          "base_uri": "https://localhost:8080/"
        }
      },
      "outputs": [
        {
          "output_type": "stream",
          "name": "stdout",
          "text": [
            "   customer_id   join_date last_purchase_date   age  gender           location\n",
            "0            1  2023-11-20         2024-03-17  56.0  Female  North Shannonbury\n",
            "1            2  2021-09-08         2023-10-25   NaN    Male          Hillville\n",
            "2            3  2021-06-01         2022-11-27   NaN     NaN   North Latoyatown\n",
            "3            4  2022-01-01         2022-09-01  29.0    Male          Grossstad\n",
            "4            5  2022-01-24         2023-06-02   NaN    Male   East Matthewfort\n",
            "   customer_id  number_of_site_visits  number_of_emails_opened  \\\n",
            "0            1                     10                       15   \n",
            "1            2                    285                       49   \n",
            "2            3                    192                       73   \n",
            "3            4                    110                       30   \n",
            "4            5                    161                        2   \n",
            "\n",
            "   number_of_clicks  \n",
            "0                 1  \n",
            "1                51  \n",
            "2                25  \n",
            "3                17  \n",
            "4                 7  \n",
            "   campaign_id  customer_id response   promotion_type campaign_date\n",
            "0            1            1       No  Buy One Get One    2024-02-29\n",
            "1            2            1       No         Discount    2024-01-24\n",
            "2            3            1       No    Free Shipping    2024-03-05\n",
            "3            4            1      Yes  Buy One Get One    2024-01-10\n",
            "4            5            2      Yes    Free Shipping    2022-07-08\n",
            "   transaction_id  customer_id transaction_date  transaction_amount  \\\n",
            "0               1            1       2024-02-03              165.56   \n",
            "1               2            1       2024-03-02              699.01   \n",
            "2               3            1       2024-03-12              146.86   \n",
            "3               4            1       2024-01-20              927.46   \n",
            "4               5            1       2024-02-25             1395.87   \n",
            "\n",
            "  product_category  \n",
            "0         Clothing  \n",
            "1       Home Goods  \n",
            "2       Home Goods  \n",
            "3      Electronics  \n",
            "4      Electronics  \n"
          ]
        }
      ],
      "source": [
        "#Heads of each dataset\n",
        "print(customer.head())\n",
        "print(engagements.head())\n",
        "print(marketing.head())\n",
        "print(transactions.head())"
      ]
    },
    {
      "cell_type": "code",
      "execution_count": null,
      "metadata": {
        "id": "RRTCiPIuxsB3"
      },
      "outputs": [],
      "source": [
        "# Merge customer with engagement\n",
        "merged_df = pd.merge(customer, engagements, on='customer_id', how='inner')"
      ]
    },
    {
      "cell_type": "code",
      "execution_count": null,
      "metadata": {
        "id": "T9Ja5y68xsB3",
        "outputId": "7a5f19fd-f172-41cc-845e-dc6c3fc72f9e",
        "colab": {
          "base_uri": "https://localhost:8080/"
        }
      },
      "outputs": [
        {
          "output_type": "stream",
          "name": "stdout",
          "text": [
            "   customer_id   join_date last_purchase_date   age  gender  \\\n",
            "0            1  2023-11-20         2024-03-17  56.0  Female   \n",
            "1            2  2021-09-08         2023-10-25   NaN    Male   \n",
            "2            3  2021-06-01         2022-11-27   NaN     NaN   \n",
            "3            4  2022-01-01         2022-09-01  29.0    Male   \n",
            "4            5  2022-01-24         2023-06-02   NaN    Male   \n",
            "\n",
            "            location  number_of_site_visits  number_of_emails_opened  \\\n",
            "0  North Shannonbury                     10                       15   \n",
            "1          Hillville                    285                       49   \n",
            "2   North Latoyatown                    192                       73   \n",
            "3          Grossstad                    110                       30   \n",
            "4   East Matthewfort                    161                        2   \n",
            "\n",
            "   number_of_clicks  \n",
            "0                 1  \n",
            "1                51  \n",
            "2                25  \n",
            "3                17  \n",
            "4                 7  \n"
          ]
        }
      ],
      "source": [
        "print(merged_df.head())"
      ]
    },
    {
      "cell_type": "code",
      "execution_count": null,
      "metadata": {
        "id": "VEbzIC42xsB3"
      },
      "outputs": [],
      "source": [
        "# Merge the result with marketing\n",
        "merged_df2 = pd.merge(merged_df, marketing, on='customer_id', how='inner')"
      ]
    },
    {
      "cell_type": "code",
      "execution_count": null,
      "metadata": {
        "id": "21O5B_HkxsB3",
        "outputId": "ec107245-bc5c-4821-ee4a-1c1c0846ec1d",
        "colab": {
          "base_uri": "https://localhost:8080/"
        }
      },
      "outputs": [
        {
          "output_type": "stream",
          "name": "stdout",
          "text": [
            "   customer_id   join_date last_purchase_date   age  gender  \\\n",
            "0            1  2023-11-20         2024-03-17  56.0  Female   \n",
            "1            1  2023-11-20         2024-03-17  56.0  Female   \n",
            "2            1  2023-11-20         2024-03-17  56.0  Female   \n",
            "3            1  2023-11-20         2024-03-17  56.0  Female   \n",
            "4            2  2021-09-08         2023-10-25   NaN    Male   \n",
            "\n",
            "            location  number_of_site_visits  number_of_emails_opened  \\\n",
            "0  North Shannonbury                     10                       15   \n",
            "1  North Shannonbury                     10                       15   \n",
            "2  North Shannonbury                     10                       15   \n",
            "3  North Shannonbury                     10                       15   \n",
            "4          Hillville                    285                       49   \n",
            "\n",
            "   number_of_clicks  campaign_id response   promotion_type campaign_date  \n",
            "0                 1            1       No  Buy One Get One    2024-02-29  \n",
            "1                 1            2       No         Discount    2024-01-24  \n",
            "2                 1            3       No    Free Shipping    2024-03-05  \n",
            "3                 1            4      Yes  Buy One Get One    2024-01-10  \n",
            "4                51            5      Yes    Free Shipping    2022-07-08  \n"
          ]
        }
      ],
      "source": [
        "print(merged_df2.head())"
      ]
    },
    {
      "cell_type": "code",
      "execution_count": null,
      "metadata": {
        "id": "sha0hcHnxsB4"
      },
      "outputs": [],
      "source": [
        "# Merge the result with transactions\n",
        "df = pd.merge(merged_df2, transactions, on='customer_id', how='inner')"
      ]
    },
    {
      "cell_type": "code",
      "execution_count": null,
      "metadata": {
        "id": "xE_IENV6xsB4",
        "outputId": "deb3523f-39f1-4b6d-b810-71a62f117449",
        "colab": {
          "base_uri": "https://localhost:8080/"
        }
      },
      "outputs": [
        {
          "output_type": "stream",
          "name": "stdout",
          "text": [
            "   customer_id   join_date last_purchase_date   age  gender  \\\n",
            "0            1  2023-11-20         2024-03-17  56.0  Female   \n",
            "1            1  2023-11-20         2024-03-17  56.0  Female   \n",
            "2            1  2023-11-20         2024-03-17  56.0  Female   \n",
            "3            1  2023-11-20         2024-03-17  56.0  Female   \n",
            "4            1  2023-11-20         2024-03-17  56.0  Female   \n",
            "\n",
            "            location  number_of_site_visits  number_of_emails_opened  \\\n",
            "0  North Shannonbury                     10                       15   \n",
            "1  North Shannonbury                     10                       15   \n",
            "2  North Shannonbury                     10                       15   \n",
            "3  North Shannonbury                     10                       15   \n",
            "4  North Shannonbury                     10                       15   \n",
            "\n",
            "   number_of_clicks  campaign_id response   promotion_type campaign_date  \\\n",
            "0                 1            1       No  Buy One Get One    2024-02-29   \n",
            "1                 1            1       No  Buy One Get One    2024-02-29   \n",
            "2                 1            1       No  Buy One Get One    2024-02-29   \n",
            "3                 1            1       No  Buy One Get One    2024-02-29   \n",
            "4                 1            1       No  Buy One Get One    2024-02-29   \n",
            "\n",
            "   transaction_id transaction_date  transaction_amount product_category  \n",
            "0               1       2024-02-03              165.56         Clothing  \n",
            "1               2       2024-03-02              699.01       Home Goods  \n",
            "2               3       2024-03-12              146.86       Home Goods  \n",
            "3               4       2024-01-20              927.46      Electronics  \n",
            "4               5       2024-02-25             1395.87      Electronics  \n"
          ]
        }
      ],
      "source": [
        "print(df.head())"
      ]
    },
    {
      "cell_type": "code",
      "execution_count": null,
      "metadata": {
        "id": "cLp0NoAOxsB4",
        "outputId": "25661d92-dfbf-4e43-a6f8-b1aab3dc5d1c",
        "colab": {
          "base_uri": "https://localhost:8080/"
        }
      },
      "outputs": [
        {
          "output_type": "stream",
          "name": "stdout",
          "text": [
            "<class 'pandas.core.frame.DataFrame'>\n",
            "RangeIndex: 327251 entries, 0 to 327250\n",
            "Data columns (total 17 columns):\n",
            " #   Column                   Non-Null Count   Dtype  \n",
            "---  ------                   --------------   -----  \n",
            " 0   customer_id              327251 non-null  int64  \n",
            " 1   join_date                327251 non-null  object \n",
            " 2   last_purchase_date       327251 non-null  object \n",
            " 3   age                      293971 non-null  float64\n",
            " 4   gender                   309405 non-null  object \n",
            " 5   location                 327251 non-null  object \n",
            " 6   number_of_site_visits    327251 non-null  int64  \n",
            " 7   number_of_emails_opened  327251 non-null  int64  \n",
            " 8   number_of_clicks         327251 non-null  int64  \n",
            " 9   campaign_id              327251 non-null  int64  \n",
            " 10  response                 327251 non-null  object \n",
            " 11  promotion_type           327251 non-null  object \n",
            " 12  campaign_date            327251 non-null  object \n",
            " 13  transaction_id           327251 non-null  int64  \n",
            " 14  transaction_date         327251 non-null  object \n",
            " 15  transaction_amount       327251 non-null  float64\n",
            " 16  product_category         327251 non-null  object \n",
            "dtypes: float64(2), int64(6), object(9)\n",
            "memory usage: 42.4+ MB\n"
          ]
        }
      ],
      "source": [
        "df.info()"
      ]
    },
    {
      "cell_type": "code",
      "execution_count": null,
      "metadata": {
        "id": "zdmeRC1vxsB5"
      },
      "outputs": [],
      "source": [
        "# Convert date columns to datetime\n",
        "date_columns = ['join_date', 'last_purchase_date', 'campaign_date', 'transaction_date']\n",
        "for col in date_columns:\n",
        "    df[col] = pd.to_datetime(df[col])\n",
        "\n",
        "# Extract year, month, day from each date column\n",
        "for col in date_columns:\n",
        "    df[f'{col}_year'] = df[col].dt.year\n",
        "    df[f'{col}_month'] = df[col].dt.month\n",
        "    df[f'{col}_day'] = df[col].dt.day"
      ]
    },
    {
      "cell_type": "code",
      "execution_count": null,
      "metadata": {
        "id": "-3iZyDZJxsB5",
        "outputId": "ee5b6862-4c18-4dc1-ffc4-e3373953583c",
        "colab": {
          "base_uri": "https://localhost:8080/"
        }
      },
      "outputs": [
        {
          "output_type": "stream",
          "name": "stdout",
          "text": [
            "customer_id                     0\n",
            "join_date                       0\n",
            "last_purchase_date              0\n",
            "age                         33280\n",
            "gender                      17846\n",
            "location                        0\n",
            "number_of_site_visits           0\n",
            "number_of_emails_opened         0\n",
            "number_of_clicks                0\n",
            "campaign_id                     0\n",
            "response                        0\n",
            "promotion_type                  0\n",
            "campaign_date                   0\n",
            "transaction_id                  0\n",
            "transaction_date                0\n",
            "transaction_amount              0\n",
            "product_category                0\n",
            "join_date_year                  0\n",
            "join_date_month                 0\n",
            "join_date_day                   0\n",
            "last_purchase_date_year         0\n",
            "last_purchase_date_month        0\n",
            "last_purchase_date_day          0\n",
            "campaign_date_year              0\n",
            "campaign_date_month             0\n",
            "campaign_date_day               0\n",
            "transaction_date_year           0\n",
            "transaction_date_month          0\n",
            "transaction_date_day            0\n",
            "dtype: int64\n"
          ]
        }
      ],
      "source": [
        "# Check for missing values\n",
        "missing_values = df.isnull().sum()\n",
        "\n",
        "print(missing_values)"
      ]
    },
    {
      "cell_type": "code",
      "execution_count": null,
      "metadata": {
        "id": "EuMaTG48xsB5",
        "outputId": "4ba4efb0-7454-431c-d228-2f2007cbf02a",
        "colab": {
          "base_uri": "https://localhost:8080/"
        }
      },
      "outputs": [
        {
          "output_type": "stream",
          "name": "stdout",
          "text": [
            "customer_id                 False\n",
            "join_date                   False\n",
            "last_purchase_date          False\n",
            "age                          True\n",
            "gender                       True\n",
            "location                    False\n",
            "number_of_site_visits       False\n",
            "number_of_emails_opened     False\n",
            "number_of_clicks            False\n",
            "campaign_id                 False\n",
            "response                    False\n",
            "promotion_type              False\n",
            "campaign_date               False\n",
            "transaction_id              False\n",
            "transaction_date            False\n",
            "transaction_amount          False\n",
            "product_category            False\n",
            "join_date_year              False\n",
            "join_date_month             False\n",
            "join_date_day               False\n",
            "last_purchase_date_year     False\n",
            "last_purchase_date_month    False\n",
            "last_purchase_date_day      False\n",
            "campaign_date_year          False\n",
            "campaign_date_month         False\n",
            "campaign_date_day           False\n",
            "transaction_date_year       False\n",
            "transaction_date_month      False\n",
            "transaction_date_day        False\n",
            "dtype: bool\n"
          ]
        }
      ],
      "source": [
        "# Check if there are any missing values in each column\n",
        "missing_any = df.isnull().any()\n",
        "\n",
        "print(missing_any)"
      ]
    },
    {
      "cell_type": "code",
      "execution_count": null,
      "metadata": {
        "id": "EHcenT_5xsB6"
      },
      "outputs": [],
      "source": [
        "from sklearn.model_selection import train_test_split\n",
        "from sklearn.linear_model import LinearRegression, LogisticRegression\n",
        "from sklearn.metrics import mean_squared_error, accuracy_score\n",
        "from sklearn.impute import SimpleImputer"
      ]
    },
    {
      "cell_type": "code",
      "execution_count": null,
      "metadata": {
        "id": "PetZpJ30xsB6"
      },
      "outputs": [],
      "source": [
        "# Example data preparation\n",
        "df_age_present = df.dropna(subset=['age'])\n",
        "df_age_missing = df[df['age'].isnull()]"
      ]
    },
    {
      "cell_type": "code",
      "execution_count": null,
      "metadata": {
        "id": "73UwAxC1xsB7"
      },
      "outputs": [],
      "source": [
        "# Select relevant features for predicting age\n",
        "X_age_present = df_age_present[['number_of_site_visits', 'number_of_emails_opened', 'number_of_clicks', 'transaction_amount']]\n",
        "y_age_present = df_age_present['age']\n",
        "X_age_missing = df_age_missing[['number_of_site_visits', 'number_of_emails_opened', 'number_of_clicks', 'transaction_amount']]"
      ]
    },
    {
      "cell_type": "code",
      "execution_count": null,
      "metadata": {
        "id": "yRCUjAYZxsB7",
        "outputId": "154927ff-0fbe-44d2-b394-8055d3c55f82",
        "colab": {
          "base_uri": "https://localhost:8080/",
          "height": 74
        }
      },
      "outputs": [
        {
          "output_type": "execute_result",
          "data": {
            "text/plain": [
              "LinearRegression()"
            ],
            "text/html": [
              "<style>#sk-container-id-1 {color: black;background-color: white;}#sk-container-id-1 pre{padding: 0;}#sk-container-id-1 div.sk-toggleable {background-color: white;}#sk-container-id-1 label.sk-toggleable__label {cursor: pointer;display: block;width: 100%;margin-bottom: 0;padding: 0.3em;box-sizing: border-box;text-align: center;}#sk-container-id-1 label.sk-toggleable__label-arrow:before {content: \"▸\";float: left;margin-right: 0.25em;color: #696969;}#sk-container-id-1 label.sk-toggleable__label-arrow:hover:before {color: black;}#sk-container-id-1 div.sk-estimator:hover label.sk-toggleable__label-arrow:before {color: black;}#sk-container-id-1 div.sk-toggleable__content {max-height: 0;max-width: 0;overflow: hidden;text-align: left;background-color: #f0f8ff;}#sk-container-id-1 div.sk-toggleable__content pre {margin: 0.2em;color: black;border-radius: 0.25em;background-color: #f0f8ff;}#sk-container-id-1 input.sk-toggleable__control:checked~div.sk-toggleable__content {max-height: 200px;max-width: 100%;overflow: auto;}#sk-container-id-1 input.sk-toggleable__control:checked~label.sk-toggleable__label-arrow:before {content: \"▾\";}#sk-container-id-1 div.sk-estimator input.sk-toggleable__control:checked~label.sk-toggleable__label {background-color: #d4ebff;}#sk-container-id-1 div.sk-label input.sk-toggleable__control:checked~label.sk-toggleable__label {background-color: #d4ebff;}#sk-container-id-1 input.sk-hidden--visually {border: 0;clip: rect(1px 1px 1px 1px);clip: rect(1px, 1px, 1px, 1px);height: 1px;margin: -1px;overflow: hidden;padding: 0;position: absolute;width: 1px;}#sk-container-id-1 div.sk-estimator {font-family: monospace;background-color: #f0f8ff;border: 1px dotted black;border-radius: 0.25em;box-sizing: border-box;margin-bottom: 0.5em;}#sk-container-id-1 div.sk-estimator:hover {background-color: #d4ebff;}#sk-container-id-1 div.sk-parallel-item::after {content: \"\";width: 100%;border-bottom: 1px solid gray;flex-grow: 1;}#sk-container-id-1 div.sk-label:hover label.sk-toggleable__label {background-color: #d4ebff;}#sk-container-id-1 div.sk-serial::before {content: \"\";position: absolute;border-left: 1px solid gray;box-sizing: border-box;top: 0;bottom: 0;left: 50%;z-index: 0;}#sk-container-id-1 div.sk-serial {display: flex;flex-direction: column;align-items: center;background-color: white;padding-right: 0.2em;padding-left: 0.2em;position: relative;}#sk-container-id-1 div.sk-item {position: relative;z-index: 1;}#sk-container-id-1 div.sk-parallel {display: flex;align-items: stretch;justify-content: center;background-color: white;position: relative;}#sk-container-id-1 div.sk-item::before, #sk-container-id-1 div.sk-parallel-item::before {content: \"\";position: absolute;border-left: 1px solid gray;box-sizing: border-box;top: 0;bottom: 0;left: 50%;z-index: -1;}#sk-container-id-1 div.sk-parallel-item {display: flex;flex-direction: column;z-index: 1;position: relative;background-color: white;}#sk-container-id-1 div.sk-parallel-item:first-child::after {align-self: flex-end;width: 50%;}#sk-container-id-1 div.sk-parallel-item:last-child::after {align-self: flex-start;width: 50%;}#sk-container-id-1 div.sk-parallel-item:only-child::after {width: 0;}#sk-container-id-1 div.sk-dashed-wrapped {border: 1px dashed gray;margin: 0 0.4em 0.5em 0.4em;box-sizing: border-box;padding-bottom: 0.4em;background-color: white;}#sk-container-id-1 div.sk-label label {font-family: monospace;font-weight: bold;display: inline-block;line-height: 1.2em;}#sk-container-id-1 div.sk-label-container {text-align: center;}#sk-container-id-1 div.sk-container {/* jupyter's `normalize.less` sets `[hidden] { display: none; }` but bootstrap.min.css set `[hidden] { display: none !important; }` so we also need the `!important` here to be able to override the default hidden behavior on the sphinx rendered scikit-learn.org. See: https://github.com/scikit-learn/scikit-learn/issues/21755 */display: inline-block !important;position: relative;}#sk-container-id-1 div.sk-text-repr-fallback {display: none;}</style><div id=\"sk-container-id-1\" class=\"sk-top-container\"><div class=\"sk-text-repr-fallback\"><pre>LinearRegression()</pre><b>In a Jupyter environment, please rerun this cell to show the HTML representation or trust the notebook. <br />On GitHub, the HTML representation is unable to render, please try loading this page with nbviewer.org.</b></div><div class=\"sk-container\" hidden><div class=\"sk-item\"><div class=\"sk-estimator sk-toggleable\"><input class=\"sk-toggleable__control sk-hidden--visually\" id=\"sk-estimator-id-1\" type=\"checkbox\" checked><label for=\"sk-estimator-id-1\" class=\"sk-toggleable__label sk-toggleable__label-arrow\">LinearRegression</label><div class=\"sk-toggleable__content\"><pre>LinearRegression()</pre></div></div></div></div></div>"
            ]
          },
          "metadata": {},
          "execution_count": 22
        }
      ],
      "source": [
        "# Train a Linear Regression model for age prediction\n",
        "model_age = LinearRegression()\n",
        "model_age.fit(X_age_present, y_age_present)"
      ]
    },
    {
      "cell_type": "code",
      "execution_count": null,
      "metadata": {
        "id": "ga_hwuAhxsB7"
      },
      "outputs": [],
      "source": [
        "# Predict missing ages\n",
        "predicted_age = model_age.predict(X_age_missing)"
      ]
    },
    {
      "cell_type": "code",
      "execution_count": null,
      "metadata": {
        "id": "fSIuNQYuxsB7"
      },
      "outputs": [],
      "source": [
        "# Replace missing ages in original dataframe\n",
        "df.loc[df['age'].isnull(), 'age'] = predicted_age"
      ]
    },
    {
      "cell_type": "code",
      "execution_count": null,
      "metadata": {
        "id": "cJnzLq4vxsB8",
        "outputId": "8d6ce7a7-e74d-4f61-b482-9bd1f0a28c13",
        "colab": {
          "base_uri": "https://localhost:8080/"
        }
      },
      "outputs": [
        {
          "output_type": "stream",
          "name": "stdout",
          "text": [
            "<class 'pandas.core.frame.DataFrame'>\n",
            "RangeIndex: 327251 entries, 0 to 327250\n",
            "Data columns (total 29 columns):\n",
            " #   Column                    Non-Null Count   Dtype         \n",
            "---  ------                    --------------   -----         \n",
            " 0   customer_id               327251 non-null  int64         \n",
            " 1   join_date                 327251 non-null  datetime64[ns]\n",
            " 2   last_purchase_date        327251 non-null  datetime64[ns]\n",
            " 3   age                       327251 non-null  float64       \n",
            " 4   gender                    309405 non-null  object        \n",
            " 5   location                  327251 non-null  object        \n",
            " 6   number_of_site_visits     327251 non-null  int64         \n",
            " 7   number_of_emails_opened   327251 non-null  int64         \n",
            " 8   number_of_clicks          327251 non-null  int64         \n",
            " 9   campaign_id               327251 non-null  int64         \n",
            " 10  response                  327251 non-null  object        \n",
            " 11  promotion_type            327251 non-null  object        \n",
            " 12  campaign_date             327251 non-null  datetime64[ns]\n",
            " 13  transaction_id            327251 non-null  int64         \n",
            " 14  transaction_date          327251 non-null  datetime64[ns]\n",
            " 15  transaction_amount        327251 non-null  float64       \n",
            " 16  product_category          327251 non-null  object        \n",
            " 17  join_date_year            327251 non-null  int32         \n",
            " 18  join_date_month           327251 non-null  int32         \n",
            " 19  join_date_day             327251 non-null  int32         \n",
            " 20  last_purchase_date_year   327251 non-null  int32         \n",
            " 21  last_purchase_date_month  327251 non-null  int32         \n",
            " 22  last_purchase_date_day    327251 non-null  int32         \n",
            " 23  campaign_date_year        327251 non-null  int32         \n",
            " 24  campaign_date_month       327251 non-null  int32         \n",
            " 25  campaign_date_day         327251 non-null  int32         \n",
            " 26  transaction_date_year     327251 non-null  int32         \n",
            " 27  transaction_date_month    327251 non-null  int32         \n",
            " 28  transaction_date_day      327251 non-null  int32         \n",
            "dtypes: datetime64[ns](4), float64(2), int32(12), int64(6), object(5)\n",
            "memory usage: 57.4+ MB\n",
            "None\n"
          ]
        }
      ],
      "source": [
        "print(df.info())"
      ]
    },
    {
      "cell_type": "code",
      "execution_count": null,
      "metadata": {
        "id": "FZDUI7WWxsB8"
      },
      "outputs": [],
      "source": [
        "# Handle categorical variables using one-hot encoding\n",
        "categorical_columns = ['location', 'response', 'promotion_type', 'product_category']\n",
        "df = pd.get_dummies(df, columns=categorical_columns, drop_first=True)"
      ]
    },
    {
      "cell_type": "code",
      "execution_count": null,
      "metadata": {
        "id": "y-wLZv1gxsB8",
        "outputId": "b535c87d-eba3-4d41-f049-0af98e1d07cb",
        "colab": {
          "base_uri": "https://localhost:8080/"
        }
      },
      "outputs": [
        {
          "output_type": "stream",
          "name": "stdout",
          "text": [
            "        customer_id  join_date last_purchase_date   age  gender  \\\n",
            "0                 1 2023-11-20         2024-03-17  56.0  Female   \n",
            "1                 1 2023-11-20         2024-03-17  56.0  Female   \n",
            "2                 1 2023-11-20         2024-03-17  56.0  Female   \n",
            "3                 1 2023-11-20         2024-03-17  56.0  Female   \n",
            "4                 1 2023-11-20         2024-03-17  56.0  Female   \n",
            "...             ...        ...                ...   ...     ...   \n",
            "327246        10000 2023-05-26         2023-09-01  67.0    Male   \n",
            "327247        10000 2023-05-26         2023-09-01  67.0    Male   \n",
            "327248        10000 2023-05-26         2023-09-01  67.0    Male   \n",
            "327249        10000 2023-05-26         2023-09-01  67.0    Male   \n",
            "327250        10000 2023-05-26         2023-09-01  67.0    Male   \n",
            "\n",
            "        number_of_site_visits  number_of_emails_opened  number_of_clicks  \\\n",
            "0                          10                       15                 1   \n",
            "1                          10                       15                 1   \n",
            "2                          10                       15                 1   \n",
            "3                          10                       15                 1   \n",
            "4                          10                       15                 1   \n",
            "...                       ...                      ...               ...   \n",
            "327246                     12                       12                 7   \n",
            "327247                     12                       12                 7   \n",
            "327248                     12                       12                 7   \n",
            "327249                     12                       12                 7   \n",
            "327250                     12                       12                 7   \n",
            "\n",
            "        campaign_id campaign_date  ...  location_Zimmermanfort  \\\n",
            "0                 1    2024-02-29  ...                   False   \n",
            "1                 1    2024-02-29  ...                   False   \n",
            "2                 1    2024-02-29  ...                   False   \n",
            "3                 1    2024-02-29  ...                   False   \n",
            "4                 1    2024-02-29  ...                   False   \n",
            "...             ...           ...  ...                     ...   \n",
            "327246        25200    2023-06-18  ...                   False   \n",
            "327247        25200    2023-06-18  ...                   False   \n",
            "327248        25200    2023-06-18  ...                   False   \n",
            "327249        25200    2023-06-18  ...                   False   \n",
            "327250        25200    2023-06-18  ...                   False   \n",
            "\n",
            "       location_Zimmermanland  location_Zimmermanmouth  location_Zoeshire  \\\n",
            "0                       False                    False              False   \n",
            "1                       False                    False              False   \n",
            "2                       False                    False              False   \n",
            "3                       False                    False              False   \n",
            "4                       False                    False              False   \n",
            "...                       ...                      ...                ...   \n",
            "327246                  False                    False              False   \n",
            "327247                  False                    False              False   \n",
            "327248                  False                    False              False   \n",
            "327249                  False                    False              False   \n",
            "327250                  False                    False              False   \n",
            "\n",
            "        location_Zunigaburgh  response_Yes  promotion_type_Discount  \\\n",
            "0                      False         False                    False   \n",
            "1                      False         False                    False   \n",
            "2                      False         False                    False   \n",
            "3                      False         False                    False   \n",
            "4                      False         False                    False   \n",
            "...                      ...           ...                      ...   \n",
            "327246                 False          True                     True   \n",
            "327247                 False          True                     True   \n",
            "327248                 False          True                     True   \n",
            "327249                 False          True                     True   \n",
            "327250                 False          True                     True   \n",
            "\n",
            "        promotion_type_Free Shipping  product_category_Electronics  \\\n",
            "0                              False                         False   \n",
            "1                              False                         False   \n",
            "2                              False                         False   \n",
            "3                              False                          True   \n",
            "4                              False                          True   \n",
            "...                              ...                           ...   \n",
            "327246                         False                         False   \n",
            "327247                         False                          True   \n",
            "327248                         False                          True   \n",
            "327249                         False                         False   \n",
            "327250                         False                         False   \n",
            "\n",
            "        product_category_Home Goods  \n",
            "0                             False  \n",
            "1                              True  \n",
            "2                              True  \n",
            "3                             False  \n",
            "4                             False  \n",
            "...                             ...  \n",
            "327246                         True  \n",
            "327247                        False  \n",
            "327248                        False  \n",
            "327249                         True  \n",
            "327250                         True  \n",
            "\n",
            "[327251 rows x 7724 columns]\n"
          ]
        }
      ],
      "source": [
        "print(df)"
      ]
    },
    {
      "cell_type": "code",
      "execution_count": null,
      "metadata": {
        "id": "SXPPqUYrxsB8",
        "outputId": "a6fe1227-bfd0-4f1d-f3a5-df478f2f8aa8",
        "colab": {
          "base_uri": "https://localhost:8080/"
        }
      },
      "outputs": [
        {
          "output_type": "execute_result",
          "data": {
            "text/plain": [
              "gender\n",
              "Male      155579\n",
              "Female    153826\n",
              "Name: count, dtype: int64"
            ]
          },
          "metadata": {},
          "execution_count": 28
        }
      ],
      "source": [
        "df['gender'].value_counts()"
      ]
    },
    {
      "cell_type": "code",
      "execution_count": null,
      "metadata": {
        "id": "-rQ3zKKJxsB8",
        "outputId": "32ba830a-ca21-42f1-e555-4a3b77bddc17",
        "colab": {
          "base_uri": "https://localhost:8080/"
        }
      },
      "outputs": [
        {
          "output_type": "execute_result",
          "data": {
            "text/plain": [
              "(327251, 7724)"
            ]
          },
          "metadata": {},
          "execution_count": 29
        }
      ],
      "source": [
        "df.shape"
      ]
    },
    {
      "cell_type": "code",
      "execution_count": null,
      "metadata": {
        "id": "C_H-LUPdxsB8"
      },
      "outputs": [],
      "source": [
        "df.replace({'gender': {'female': True, 'male': False}}, inplace=True)"
      ]
    },
    {
      "cell_type": "code",
      "execution_count": null,
      "metadata": {
        "id": "Y65SoRTTxsB8"
      },
      "outputs": [],
      "source": [
        "df['gender'].interpolate(method='nearest', inplace= True)"
      ]
    },
    {
      "cell_type": "code",
      "execution_count": null,
      "metadata": {
        "id": "-GaSWLCwxsB9",
        "outputId": "34494938-9ab8-4a09-fa91-bfddee5eb326",
        "colab": {
          "base_uri": "https://localhost:8080/"
        }
      },
      "outputs": [
        {
          "output_type": "stream",
          "name": "stdout",
          "text": [
            "customer_id                     False\n",
            "join_date                       False\n",
            "last_purchase_date              False\n",
            "age                             False\n",
            "gender                           True\n",
            "                                ...  \n",
            "response_Yes                    False\n",
            "promotion_type_Discount         False\n",
            "promotion_type_Free Shipping    False\n",
            "product_category_Electronics    False\n",
            "product_category_Home Goods     False\n",
            "Length: 7724, dtype: bool\n"
          ]
        }
      ],
      "source": [
        "# Check if there are any missing values in each column\n",
        "missing_any = df.isnull().any()\n",
        "\n",
        "print(missing_any)"
      ]
    },
    {
      "cell_type": "code",
      "execution_count": null,
      "metadata": {
        "id": "_q2B-5vhxsB9",
        "outputId": "a33b217d-a440-49a1-f042-2d3e943fbaef",
        "colab": {
          "base_uri": "https://localhost:8080/"
        }
      },
      "outputs": [
        {
          "output_type": "stream",
          "name": "stdout",
          "text": [
            "   customer_id  join_date last_purchase_date   age  gender  \\\n",
            "0            1 2023-11-20         2024-03-17  56.0  Female   \n",
            "1            1 2023-11-20         2024-03-17  56.0  Female   \n",
            "2            1 2023-11-20         2024-03-17  56.0  Female   \n",
            "3            1 2023-11-20         2024-03-17  56.0  Female   \n",
            "4            1 2023-11-20         2024-03-17  56.0  Female   \n",
            "\n",
            "   number_of_site_visits  number_of_emails_opened  number_of_clicks  \\\n",
            "0                     10                       15                 1   \n",
            "1                     10                       15                 1   \n",
            "2                     10                       15                 1   \n",
            "3                     10                       15                 1   \n",
            "4                     10                       15                 1   \n",
            "\n",
            "   campaign_id campaign_date  ...  location_Zimmermanfort  \\\n",
            "0            1    2024-02-29  ...                   False   \n",
            "1            1    2024-02-29  ...                   False   \n",
            "2            1    2024-02-29  ...                   False   \n",
            "3            1    2024-02-29  ...                   False   \n",
            "4            1    2024-02-29  ...                   False   \n",
            "\n",
            "  location_Zimmermanland  location_Zimmermanmouth  location_Zoeshire  \\\n",
            "0                  False                    False              False   \n",
            "1                  False                    False              False   \n",
            "2                  False                    False              False   \n",
            "3                  False                    False              False   \n",
            "4                  False                    False              False   \n",
            "\n",
            "   location_Zunigaburgh  response_Yes  promotion_type_Discount  \\\n",
            "0                 False         False                    False   \n",
            "1                 False         False                    False   \n",
            "2                 False         False                    False   \n",
            "3                 False         False                    False   \n",
            "4                 False         False                    False   \n",
            "\n",
            "   promotion_type_Free Shipping  product_category_Electronics  \\\n",
            "0                         False                         False   \n",
            "1                         False                         False   \n",
            "2                         False                         False   \n",
            "3                         False                          True   \n",
            "4                         False                          True   \n",
            "\n",
            "   product_category_Home Goods  \n",
            "0                        False  \n",
            "1                         True  \n",
            "2                         True  \n",
            "3                        False  \n",
            "4                        False  \n",
            "\n",
            "[5 rows x 7724 columns]\n"
          ]
        }
      ],
      "source": [
        "print(df.head())"
      ]
    },
    {
      "cell_type": "code",
      "execution_count": null,
      "metadata": {
        "id": "TBl60XdDxsB9"
      },
      "outputs": [],
      "source": [
        "# Separate df into present and missing gender\n",
        "df_gender_present = df.dropna(subset=['gender'])\n",
        "df_gender_missing = df[df['gender'].isnull()]"
      ]
    },
    {
      "cell_type": "code",
      "execution_count": null,
      "metadata": {
        "id": "A5cgcZc3xsB-"
      },
      "outputs": [],
      "source": [
        "# Select relevant features for predicting gender\n",
        "X_gender_present = df_gender_present[['location_Zimmermanfort', 'location_Zimmermanland', 'location_Zimmermanmouth', 'location_Zoeshire', 'location_Zunigaburgh', 'number_of_site_visits', 'number_of_emails_opened', 'number_of_clicks', 'response_Yes']]\n",
        "y_gender_present = df_gender_present['gender']\n",
        "\n",
        "X_gender_missing = df_gender_missing[['location_Zimmermanfort', 'location_Zimmermanland', 'location_Zimmermanmouth', 'location_Zoeshire', 'location_Zunigaburgh', 'number_of_site_visits', 'number_of_emails_opened', 'number_of_clicks', 'response_Yes']]"
      ]
    },
    {
      "cell_type": "code",
      "execution_count": null,
      "metadata": {
        "id": "VXAtIhBvxsB-",
        "outputId": "c4ac9a75-e025-4419-d7e2-1d2aaca4dda0",
        "colab": {
          "base_uri": "https://localhost:8080/",
          "height": 74
        }
      },
      "outputs": [
        {
          "output_type": "execute_result",
          "data": {
            "text/plain": [
              "LogisticRegression()"
            ],
            "text/html": [
              "<style>#sk-container-id-2 {color: black;background-color: white;}#sk-container-id-2 pre{padding: 0;}#sk-container-id-2 div.sk-toggleable {background-color: white;}#sk-container-id-2 label.sk-toggleable__label {cursor: pointer;display: block;width: 100%;margin-bottom: 0;padding: 0.3em;box-sizing: border-box;text-align: center;}#sk-container-id-2 label.sk-toggleable__label-arrow:before {content: \"▸\";float: left;margin-right: 0.25em;color: #696969;}#sk-container-id-2 label.sk-toggleable__label-arrow:hover:before {color: black;}#sk-container-id-2 div.sk-estimator:hover label.sk-toggleable__label-arrow:before {color: black;}#sk-container-id-2 div.sk-toggleable__content {max-height: 0;max-width: 0;overflow: hidden;text-align: left;background-color: #f0f8ff;}#sk-container-id-2 div.sk-toggleable__content pre {margin: 0.2em;color: black;border-radius: 0.25em;background-color: #f0f8ff;}#sk-container-id-2 input.sk-toggleable__control:checked~div.sk-toggleable__content {max-height: 200px;max-width: 100%;overflow: auto;}#sk-container-id-2 input.sk-toggleable__control:checked~label.sk-toggleable__label-arrow:before {content: \"▾\";}#sk-container-id-2 div.sk-estimator input.sk-toggleable__control:checked~label.sk-toggleable__label {background-color: #d4ebff;}#sk-container-id-2 div.sk-label input.sk-toggleable__control:checked~label.sk-toggleable__label {background-color: #d4ebff;}#sk-container-id-2 input.sk-hidden--visually {border: 0;clip: rect(1px 1px 1px 1px);clip: rect(1px, 1px, 1px, 1px);height: 1px;margin: -1px;overflow: hidden;padding: 0;position: absolute;width: 1px;}#sk-container-id-2 div.sk-estimator {font-family: monospace;background-color: #f0f8ff;border: 1px dotted black;border-radius: 0.25em;box-sizing: border-box;margin-bottom: 0.5em;}#sk-container-id-2 div.sk-estimator:hover {background-color: #d4ebff;}#sk-container-id-2 div.sk-parallel-item::after {content: \"\";width: 100%;border-bottom: 1px solid gray;flex-grow: 1;}#sk-container-id-2 div.sk-label:hover label.sk-toggleable__label {background-color: #d4ebff;}#sk-container-id-2 div.sk-serial::before {content: \"\";position: absolute;border-left: 1px solid gray;box-sizing: border-box;top: 0;bottom: 0;left: 50%;z-index: 0;}#sk-container-id-2 div.sk-serial {display: flex;flex-direction: column;align-items: center;background-color: white;padding-right: 0.2em;padding-left: 0.2em;position: relative;}#sk-container-id-2 div.sk-item {position: relative;z-index: 1;}#sk-container-id-2 div.sk-parallel {display: flex;align-items: stretch;justify-content: center;background-color: white;position: relative;}#sk-container-id-2 div.sk-item::before, #sk-container-id-2 div.sk-parallel-item::before {content: \"\";position: absolute;border-left: 1px solid gray;box-sizing: border-box;top: 0;bottom: 0;left: 50%;z-index: -1;}#sk-container-id-2 div.sk-parallel-item {display: flex;flex-direction: column;z-index: 1;position: relative;background-color: white;}#sk-container-id-2 div.sk-parallel-item:first-child::after {align-self: flex-end;width: 50%;}#sk-container-id-2 div.sk-parallel-item:last-child::after {align-self: flex-start;width: 50%;}#sk-container-id-2 div.sk-parallel-item:only-child::after {width: 0;}#sk-container-id-2 div.sk-dashed-wrapped {border: 1px dashed gray;margin: 0 0.4em 0.5em 0.4em;box-sizing: border-box;padding-bottom: 0.4em;background-color: white;}#sk-container-id-2 div.sk-label label {font-family: monospace;font-weight: bold;display: inline-block;line-height: 1.2em;}#sk-container-id-2 div.sk-label-container {text-align: center;}#sk-container-id-2 div.sk-container {/* jupyter's `normalize.less` sets `[hidden] { display: none; }` but bootstrap.min.css set `[hidden] { display: none !important; }` so we also need the `!important` here to be able to override the default hidden behavior on the sphinx rendered scikit-learn.org. See: https://github.com/scikit-learn/scikit-learn/issues/21755 */display: inline-block !important;position: relative;}#sk-container-id-2 div.sk-text-repr-fallback {display: none;}</style><div id=\"sk-container-id-2\" class=\"sk-top-container\"><div class=\"sk-text-repr-fallback\"><pre>LogisticRegression()</pre><b>In a Jupyter environment, please rerun this cell to show the HTML representation or trust the notebook. <br />On GitHub, the HTML representation is unable to render, please try loading this page with nbviewer.org.</b></div><div class=\"sk-container\" hidden><div class=\"sk-item\"><div class=\"sk-estimator sk-toggleable\"><input class=\"sk-toggleable__control sk-hidden--visually\" id=\"sk-estimator-id-2\" type=\"checkbox\" checked><label for=\"sk-estimator-id-2\" class=\"sk-toggleable__label sk-toggleable__label-arrow\">LogisticRegression</label><div class=\"sk-toggleable__content\"><pre>LogisticRegression()</pre></div></div></div></div></div>"
            ]
          },
          "metadata": {},
          "execution_count": 36
        }
      ],
      "source": [
        "# Train a Logistic Regression model for gender prediction\n",
        "model_gender = LogisticRegression()\n",
        "model_gender.fit(X_gender_present, y_gender_present)"
      ]
    },
    {
      "cell_type": "code",
      "execution_count": null,
      "metadata": {
        "id": "2oPHTSoXxsB-"
      },
      "outputs": [],
      "source": [
        "# Predict missing genders\n",
        "predicted_gender = model_gender.predict(X_gender_missing)"
      ]
    },
    {
      "cell_type": "code",
      "execution_count": null,
      "metadata": {
        "id": "3pN534roxsB_",
        "outputId": "024da27b-02e2-4b20-cb65-be1b523e633b",
        "colab": {
          "base_uri": "https://localhost:8080/"
        }
      },
      "outputs": [
        {
          "output_type": "stream",
          "name": "stdout",
          "text": [
            "        customer_id  join_date last_purchase_date   age  gender  \\\n",
            "0                 1 2023-11-20         2024-03-17  56.0  Female   \n",
            "1                 1 2023-11-20         2024-03-17  56.0  Female   \n",
            "2                 1 2023-11-20         2024-03-17  56.0  Female   \n",
            "3                 1 2023-11-20         2024-03-17  56.0  Female   \n",
            "4                 1 2023-11-20         2024-03-17  56.0  Female   \n",
            "...             ...        ...                ...   ...     ...   \n",
            "327246        10000 2023-05-26         2023-09-01  67.0    Male   \n",
            "327247        10000 2023-05-26         2023-09-01  67.0    Male   \n",
            "327248        10000 2023-05-26         2023-09-01  67.0    Male   \n",
            "327249        10000 2023-05-26         2023-09-01  67.0    Male   \n",
            "327250        10000 2023-05-26         2023-09-01  67.0    Male   \n",
            "\n",
            "        number_of_site_visits  number_of_emails_opened  number_of_clicks  \\\n",
            "0                          10                       15                 1   \n",
            "1                          10                       15                 1   \n",
            "2                          10                       15                 1   \n",
            "3                          10                       15                 1   \n",
            "4                          10                       15                 1   \n",
            "...                       ...                      ...               ...   \n",
            "327246                     12                       12                 7   \n",
            "327247                     12                       12                 7   \n",
            "327248                     12                       12                 7   \n",
            "327249                     12                       12                 7   \n",
            "327250                     12                       12                 7   \n",
            "\n",
            "        campaign_id campaign_date  ...  location_Zimmermanfort  \\\n",
            "0                 1    2024-02-29  ...                   False   \n",
            "1                 1    2024-02-29  ...                   False   \n",
            "2                 1    2024-02-29  ...                   False   \n",
            "3                 1    2024-02-29  ...                   False   \n",
            "4                 1    2024-02-29  ...                   False   \n",
            "...             ...           ...  ...                     ...   \n",
            "327246        25200    2023-06-18  ...                   False   \n",
            "327247        25200    2023-06-18  ...                   False   \n",
            "327248        25200    2023-06-18  ...                   False   \n",
            "327249        25200    2023-06-18  ...                   False   \n",
            "327250        25200    2023-06-18  ...                   False   \n",
            "\n",
            "       location_Zimmermanland  location_Zimmermanmouth  location_Zoeshire  \\\n",
            "0                       False                    False              False   \n",
            "1                       False                    False              False   \n",
            "2                       False                    False              False   \n",
            "3                       False                    False              False   \n",
            "4                       False                    False              False   \n",
            "...                       ...                      ...                ...   \n",
            "327246                  False                    False              False   \n",
            "327247                  False                    False              False   \n",
            "327248                  False                    False              False   \n",
            "327249                  False                    False              False   \n",
            "327250                  False                    False              False   \n",
            "\n",
            "        location_Zunigaburgh  response_Yes  promotion_type_Discount  \\\n",
            "0                      False         False                    False   \n",
            "1                      False         False                    False   \n",
            "2                      False         False                    False   \n",
            "3                      False         False                    False   \n",
            "4                      False         False                    False   \n",
            "...                      ...           ...                      ...   \n",
            "327246                 False          True                     True   \n",
            "327247                 False          True                     True   \n",
            "327248                 False          True                     True   \n",
            "327249                 False          True                     True   \n",
            "327250                 False          True                     True   \n",
            "\n",
            "        promotion_type_Free Shipping  product_category_Electronics  \\\n",
            "0                              False                         False   \n",
            "1                              False                         False   \n",
            "2                              False                         False   \n",
            "3                              False                          True   \n",
            "4                              False                          True   \n",
            "...                              ...                           ...   \n",
            "327246                         False                         False   \n",
            "327247                         False                          True   \n",
            "327248                         False                          True   \n",
            "327249                         False                         False   \n",
            "327250                         False                         False   \n",
            "\n",
            "        product_category_Home Goods  \n",
            "0                             False  \n",
            "1                              True  \n",
            "2                              True  \n",
            "3                             False  \n",
            "4                             False  \n",
            "...                             ...  \n",
            "327246                         True  \n",
            "327247                        False  \n",
            "327248                        False  \n",
            "327249                         True  \n",
            "327250                         True  \n",
            "\n",
            "[327251 rows x 7724 columns]\n"
          ]
        }
      ],
      "source": [
        "# Replace missing genders in original dataframe\n",
        "df.loc[df['gender'].isnull(), 'gender'] = predicted_gender\n",
        "\n",
        "# Print the updated dataset\n",
        "print(df)"
      ]
    },
    {
      "cell_type": "code",
      "execution_count": null,
      "metadata": {
        "id": "b8XneS-mxsB_",
        "outputId": "dfc5aae5-82d8-4375-bcb0-fba4cf3dbeda",
        "colab": {
          "base_uri": "https://localhost:8080/"
        }
      },
      "outputs": [
        {
          "output_type": "stream",
          "name": "stdout",
          "text": [
            "customer_id                     False\n",
            "join_date                       False\n",
            "last_purchase_date              False\n",
            "age                             False\n",
            "gender                          False\n",
            "                                ...  \n",
            "response_Yes                    False\n",
            "promotion_type_Discount         False\n",
            "promotion_type_Free Shipping    False\n",
            "product_category_Electronics    False\n",
            "product_category_Home Goods     False\n",
            "Length: 7724, dtype: bool\n"
          ]
        }
      ],
      "source": [
        "# Check if there are any missing values in each column\n",
        "missing_any = df.isnull().any()\n",
        "\n",
        "print(missing_any)"
      ]
    },
    {
      "cell_type": "code",
      "execution_count": null,
      "metadata": {
        "id": "w-G4M9gxxsB_"
      },
      "outputs": [],
      "source": [
        "# Handle categorical variables using one-hot encoding\n",
        "categorical_gender = ['gender']\n",
        "df = pd.get_dummies(df, columns=categorical_gender, drop_first=True)"
      ]
    },
    {
      "cell_type": "code",
      "execution_count": null,
      "metadata": {
        "id": "uKdFb3DkxsB_"
      },
      "outputs": [],
      "source": [
        "# Create a 'customer_tenure' feature from 'join_date' and 'last_purchase_date'\n",
        "df['customer_tenure'] = (df['last_purchase_date'] - df['join_date']).dt.days\n",
        "\n",
        "# Duration since last purchase\n",
        "df['days_since_last_purchase'] = (pd.to_datetime('today') - df['last_purchase_date']).dt.days"
      ]
    },
    {
      "cell_type": "code",
      "execution_count": null,
      "metadata": {
        "id": "5sjPJwKqxsB_",
        "outputId": "1e478c13-6ec3-439e-d2fd-1078a592e264",
        "colab": {
          "base_uri": "https://localhost:8080/",
          "height": 359
        }
      },
      "outputs": [
        {
          "output_type": "execute_result",
          "data": {
            "text/plain": [
              "   customer_id  join_date last_purchase_date   age  number_of_site_visits  \\\n",
              "0            1 2023-11-20         2024-03-17  56.0                     10   \n",
              "1            1 2023-11-20         2024-03-17  56.0                     10   \n",
              "2            1 2023-11-20         2024-03-17  56.0                     10   \n",
              "3            1 2023-11-20         2024-03-17  56.0                     10   \n",
              "4            1 2023-11-20         2024-03-17  56.0                     10   \n",
              "\n",
              "   number_of_emails_opened  number_of_clicks  campaign_id campaign_date  \\\n",
              "0                       15                 1            1    2024-02-29   \n",
              "1                       15                 1            1    2024-02-29   \n",
              "2                       15                 1            1    2024-02-29   \n",
              "3                       15                 1            1    2024-02-29   \n",
              "4                       15                 1            1    2024-02-29   \n",
              "\n",
              "   transaction_id  ... location_Zoeshire  location_Zunigaburgh  response_Yes  \\\n",
              "0               1  ...             False                 False         False   \n",
              "1               2  ...             False                 False         False   \n",
              "2               3  ...             False                 False         False   \n",
              "3               4  ...             False                 False         False   \n",
              "4               5  ...             False                 False         False   \n",
              "\n",
              "   promotion_type_Discount  promotion_type_Free Shipping  \\\n",
              "0                    False                         False   \n",
              "1                    False                         False   \n",
              "2                    False                         False   \n",
              "3                    False                         False   \n",
              "4                    False                         False   \n",
              "\n",
              "   product_category_Electronics  product_category_Home Goods  gender_Male  \\\n",
              "0                         False                        False        False   \n",
              "1                         False                         True        False   \n",
              "2                         False                         True        False   \n",
              "3                          True                        False        False   \n",
              "4                          True                        False        False   \n",
              "\n",
              "   customer_tenure  days_since_last_purchase  \n",
              "0              118                       115  \n",
              "1              118                       115  \n",
              "2              118                       115  \n",
              "3              118                       115  \n",
              "4              118                       115  \n",
              "\n",
              "[5 rows x 7726 columns]"
            ],
            "text/html": [
              "\n",
              "  <div id=\"df-8b29a419-4777-48c2-ba1c-34343a8f1acc\" class=\"colab-df-container\">\n",
              "    <div>\n",
              "<style scoped>\n",
              "    .dataframe tbody tr th:only-of-type {\n",
              "        vertical-align: middle;\n",
              "    }\n",
              "\n",
              "    .dataframe tbody tr th {\n",
              "        vertical-align: top;\n",
              "    }\n",
              "\n",
              "    .dataframe thead th {\n",
              "        text-align: right;\n",
              "    }\n",
              "</style>\n",
              "<table border=\"1\" class=\"dataframe\">\n",
              "  <thead>\n",
              "    <tr style=\"text-align: right;\">\n",
              "      <th></th>\n",
              "      <th>customer_id</th>\n",
              "      <th>join_date</th>\n",
              "      <th>last_purchase_date</th>\n",
              "      <th>age</th>\n",
              "      <th>number_of_site_visits</th>\n",
              "      <th>number_of_emails_opened</th>\n",
              "      <th>number_of_clicks</th>\n",
              "      <th>campaign_id</th>\n",
              "      <th>campaign_date</th>\n",
              "      <th>transaction_id</th>\n",
              "      <th>...</th>\n",
              "      <th>location_Zoeshire</th>\n",
              "      <th>location_Zunigaburgh</th>\n",
              "      <th>response_Yes</th>\n",
              "      <th>promotion_type_Discount</th>\n",
              "      <th>promotion_type_Free Shipping</th>\n",
              "      <th>product_category_Electronics</th>\n",
              "      <th>product_category_Home Goods</th>\n",
              "      <th>gender_Male</th>\n",
              "      <th>customer_tenure</th>\n",
              "      <th>days_since_last_purchase</th>\n",
              "    </tr>\n",
              "  </thead>\n",
              "  <tbody>\n",
              "    <tr>\n",
              "      <th>0</th>\n",
              "      <td>1</td>\n",
              "      <td>2023-11-20</td>\n",
              "      <td>2024-03-17</td>\n",
              "      <td>56.0</td>\n",
              "      <td>10</td>\n",
              "      <td>15</td>\n",
              "      <td>1</td>\n",
              "      <td>1</td>\n",
              "      <td>2024-02-29</td>\n",
              "      <td>1</td>\n",
              "      <td>...</td>\n",
              "      <td>False</td>\n",
              "      <td>False</td>\n",
              "      <td>False</td>\n",
              "      <td>False</td>\n",
              "      <td>False</td>\n",
              "      <td>False</td>\n",
              "      <td>False</td>\n",
              "      <td>False</td>\n",
              "      <td>118</td>\n",
              "      <td>115</td>\n",
              "    </tr>\n",
              "    <tr>\n",
              "      <th>1</th>\n",
              "      <td>1</td>\n",
              "      <td>2023-11-20</td>\n",
              "      <td>2024-03-17</td>\n",
              "      <td>56.0</td>\n",
              "      <td>10</td>\n",
              "      <td>15</td>\n",
              "      <td>1</td>\n",
              "      <td>1</td>\n",
              "      <td>2024-02-29</td>\n",
              "      <td>2</td>\n",
              "      <td>...</td>\n",
              "      <td>False</td>\n",
              "      <td>False</td>\n",
              "      <td>False</td>\n",
              "      <td>False</td>\n",
              "      <td>False</td>\n",
              "      <td>False</td>\n",
              "      <td>True</td>\n",
              "      <td>False</td>\n",
              "      <td>118</td>\n",
              "      <td>115</td>\n",
              "    </tr>\n",
              "    <tr>\n",
              "      <th>2</th>\n",
              "      <td>1</td>\n",
              "      <td>2023-11-20</td>\n",
              "      <td>2024-03-17</td>\n",
              "      <td>56.0</td>\n",
              "      <td>10</td>\n",
              "      <td>15</td>\n",
              "      <td>1</td>\n",
              "      <td>1</td>\n",
              "      <td>2024-02-29</td>\n",
              "      <td>3</td>\n",
              "      <td>...</td>\n",
              "      <td>False</td>\n",
              "      <td>False</td>\n",
              "      <td>False</td>\n",
              "      <td>False</td>\n",
              "      <td>False</td>\n",
              "      <td>False</td>\n",
              "      <td>True</td>\n",
              "      <td>False</td>\n",
              "      <td>118</td>\n",
              "      <td>115</td>\n",
              "    </tr>\n",
              "    <tr>\n",
              "      <th>3</th>\n",
              "      <td>1</td>\n",
              "      <td>2023-11-20</td>\n",
              "      <td>2024-03-17</td>\n",
              "      <td>56.0</td>\n",
              "      <td>10</td>\n",
              "      <td>15</td>\n",
              "      <td>1</td>\n",
              "      <td>1</td>\n",
              "      <td>2024-02-29</td>\n",
              "      <td>4</td>\n",
              "      <td>...</td>\n",
              "      <td>False</td>\n",
              "      <td>False</td>\n",
              "      <td>False</td>\n",
              "      <td>False</td>\n",
              "      <td>False</td>\n",
              "      <td>True</td>\n",
              "      <td>False</td>\n",
              "      <td>False</td>\n",
              "      <td>118</td>\n",
              "      <td>115</td>\n",
              "    </tr>\n",
              "    <tr>\n",
              "      <th>4</th>\n",
              "      <td>1</td>\n",
              "      <td>2023-11-20</td>\n",
              "      <td>2024-03-17</td>\n",
              "      <td>56.0</td>\n",
              "      <td>10</td>\n",
              "      <td>15</td>\n",
              "      <td>1</td>\n",
              "      <td>1</td>\n",
              "      <td>2024-02-29</td>\n",
              "      <td>5</td>\n",
              "      <td>...</td>\n",
              "      <td>False</td>\n",
              "      <td>False</td>\n",
              "      <td>False</td>\n",
              "      <td>False</td>\n",
              "      <td>False</td>\n",
              "      <td>True</td>\n",
              "      <td>False</td>\n",
              "      <td>False</td>\n",
              "      <td>118</td>\n",
              "      <td>115</td>\n",
              "    </tr>\n",
              "  </tbody>\n",
              "</table>\n",
              "<p>5 rows × 7726 columns</p>\n",
              "</div>\n",
              "    <div class=\"colab-df-buttons\">\n",
              "\n",
              "  <div class=\"colab-df-container\">\n",
              "    <button class=\"colab-df-convert\" onclick=\"convertToInteractive('df-8b29a419-4777-48c2-ba1c-34343a8f1acc')\"\n",
              "            title=\"Convert this dataframe to an interactive table.\"\n",
              "            style=\"display:none;\">\n",
              "\n",
              "  <svg xmlns=\"http://www.w3.org/2000/svg\" height=\"24px\" viewBox=\"0 -960 960 960\">\n",
              "    <path d=\"M120-120v-720h720v720H120Zm60-500h600v-160H180v160Zm220 220h160v-160H400v160Zm0 220h160v-160H400v160ZM180-400h160v-160H180v160Zm440 0h160v-160H620v160ZM180-180h160v-160H180v160Zm440 0h160v-160H620v160Z\"/>\n",
              "  </svg>\n",
              "    </button>\n",
              "\n",
              "  <style>\n",
              "    .colab-df-container {\n",
              "      display:flex;\n",
              "      gap: 12px;\n",
              "    }\n",
              "\n",
              "    .colab-df-convert {\n",
              "      background-color: #E8F0FE;\n",
              "      border: none;\n",
              "      border-radius: 50%;\n",
              "      cursor: pointer;\n",
              "      display: none;\n",
              "      fill: #1967D2;\n",
              "      height: 32px;\n",
              "      padding: 0 0 0 0;\n",
              "      width: 32px;\n",
              "    }\n",
              "\n",
              "    .colab-df-convert:hover {\n",
              "      background-color: #E2EBFA;\n",
              "      box-shadow: 0px 1px 2px rgba(60, 64, 67, 0.3), 0px 1px 3px 1px rgba(60, 64, 67, 0.15);\n",
              "      fill: #174EA6;\n",
              "    }\n",
              "\n",
              "    .colab-df-buttons div {\n",
              "      margin-bottom: 4px;\n",
              "    }\n",
              "\n",
              "    [theme=dark] .colab-df-convert {\n",
              "      background-color: #3B4455;\n",
              "      fill: #D2E3FC;\n",
              "    }\n",
              "\n",
              "    [theme=dark] .colab-df-convert:hover {\n",
              "      background-color: #434B5C;\n",
              "      box-shadow: 0px 1px 3px 1px rgba(0, 0, 0, 0.15);\n",
              "      filter: drop-shadow(0px 1px 2px rgba(0, 0, 0, 0.3));\n",
              "      fill: #FFFFFF;\n",
              "    }\n",
              "  </style>\n",
              "\n",
              "    <script>\n",
              "      const buttonEl =\n",
              "        document.querySelector('#df-8b29a419-4777-48c2-ba1c-34343a8f1acc button.colab-df-convert');\n",
              "      buttonEl.style.display =\n",
              "        google.colab.kernel.accessAllowed ? 'block' : 'none';\n",
              "\n",
              "      async function convertToInteractive(key) {\n",
              "        const element = document.querySelector('#df-8b29a419-4777-48c2-ba1c-34343a8f1acc');\n",
              "        const dataTable =\n",
              "          await google.colab.kernel.invokeFunction('convertToInteractive',\n",
              "                                                    [key], {});\n",
              "        if (!dataTable) return;\n",
              "\n",
              "        const docLinkHtml = 'Like what you see? Visit the ' +\n",
              "          '<a target=\"_blank\" href=https://colab.research.google.com/notebooks/data_table.ipynb>data table notebook</a>'\n",
              "          + ' to learn more about interactive tables.';\n",
              "        element.innerHTML = '';\n",
              "        dataTable['output_type'] = 'display_data';\n",
              "        await google.colab.output.renderOutput(dataTable, element);\n",
              "        const docLink = document.createElement('div');\n",
              "        docLink.innerHTML = docLinkHtml;\n",
              "        element.appendChild(docLink);\n",
              "      }\n",
              "    </script>\n",
              "  </div>\n",
              "\n",
              "\n",
              "<div id=\"df-6b114b11-c1b3-45de-8700-a14d2aba887a\">\n",
              "  <button class=\"colab-df-quickchart\" onclick=\"quickchart('df-6b114b11-c1b3-45de-8700-a14d2aba887a')\"\n",
              "            title=\"Suggest charts\"\n",
              "            style=\"display:none;\">\n",
              "\n",
              "<svg xmlns=\"http://www.w3.org/2000/svg\" height=\"24px\"viewBox=\"0 0 24 24\"\n",
              "     width=\"24px\">\n",
              "    <g>\n",
              "        <path d=\"M19 3H5c-1.1 0-2 .9-2 2v14c0 1.1.9 2 2 2h14c1.1 0 2-.9 2-2V5c0-1.1-.9-2-2-2zM9 17H7v-7h2v7zm4 0h-2V7h2v10zm4 0h-2v-4h2v4z\"/>\n",
              "    </g>\n",
              "</svg>\n",
              "  </button>\n",
              "\n",
              "<style>\n",
              "  .colab-df-quickchart {\n",
              "      --bg-color: #E8F0FE;\n",
              "      --fill-color: #1967D2;\n",
              "      --hover-bg-color: #E2EBFA;\n",
              "      --hover-fill-color: #174EA6;\n",
              "      --disabled-fill-color: #AAA;\n",
              "      --disabled-bg-color: #DDD;\n",
              "  }\n",
              "\n",
              "  [theme=dark] .colab-df-quickchart {\n",
              "      --bg-color: #3B4455;\n",
              "      --fill-color: #D2E3FC;\n",
              "      --hover-bg-color: #434B5C;\n",
              "      --hover-fill-color: #FFFFFF;\n",
              "      --disabled-bg-color: #3B4455;\n",
              "      --disabled-fill-color: #666;\n",
              "  }\n",
              "\n",
              "  .colab-df-quickchart {\n",
              "    background-color: var(--bg-color);\n",
              "    border: none;\n",
              "    border-radius: 50%;\n",
              "    cursor: pointer;\n",
              "    display: none;\n",
              "    fill: var(--fill-color);\n",
              "    height: 32px;\n",
              "    padding: 0;\n",
              "    width: 32px;\n",
              "  }\n",
              "\n",
              "  .colab-df-quickchart:hover {\n",
              "    background-color: var(--hover-bg-color);\n",
              "    box-shadow: 0 1px 2px rgba(60, 64, 67, 0.3), 0 1px 3px 1px rgba(60, 64, 67, 0.15);\n",
              "    fill: var(--button-hover-fill-color);\n",
              "  }\n",
              "\n",
              "  .colab-df-quickchart-complete:disabled,\n",
              "  .colab-df-quickchart-complete:disabled:hover {\n",
              "    background-color: var(--disabled-bg-color);\n",
              "    fill: var(--disabled-fill-color);\n",
              "    box-shadow: none;\n",
              "  }\n",
              "\n",
              "  .colab-df-spinner {\n",
              "    border: 2px solid var(--fill-color);\n",
              "    border-color: transparent;\n",
              "    border-bottom-color: var(--fill-color);\n",
              "    animation:\n",
              "      spin 1s steps(1) infinite;\n",
              "  }\n",
              "\n",
              "  @keyframes spin {\n",
              "    0% {\n",
              "      border-color: transparent;\n",
              "      border-bottom-color: var(--fill-color);\n",
              "      border-left-color: var(--fill-color);\n",
              "    }\n",
              "    20% {\n",
              "      border-color: transparent;\n",
              "      border-left-color: var(--fill-color);\n",
              "      border-top-color: var(--fill-color);\n",
              "    }\n",
              "    30% {\n",
              "      border-color: transparent;\n",
              "      border-left-color: var(--fill-color);\n",
              "      border-top-color: var(--fill-color);\n",
              "      border-right-color: var(--fill-color);\n",
              "    }\n",
              "    40% {\n",
              "      border-color: transparent;\n",
              "      border-right-color: var(--fill-color);\n",
              "      border-top-color: var(--fill-color);\n",
              "    }\n",
              "    60% {\n",
              "      border-color: transparent;\n",
              "      border-right-color: var(--fill-color);\n",
              "    }\n",
              "    80% {\n",
              "      border-color: transparent;\n",
              "      border-right-color: var(--fill-color);\n",
              "      border-bottom-color: var(--fill-color);\n",
              "    }\n",
              "    90% {\n",
              "      border-color: transparent;\n",
              "      border-bottom-color: var(--fill-color);\n",
              "    }\n",
              "  }\n",
              "</style>\n",
              "\n",
              "  <script>\n",
              "    async function quickchart(key) {\n",
              "      const quickchartButtonEl =\n",
              "        document.querySelector('#' + key + ' button');\n",
              "      quickchartButtonEl.disabled = true;  // To prevent multiple clicks.\n",
              "      quickchartButtonEl.classList.add('colab-df-spinner');\n",
              "      try {\n",
              "        const charts = await google.colab.kernel.invokeFunction(\n",
              "            'suggestCharts', [key], {});\n",
              "      } catch (error) {\n",
              "        console.error('Error during call to suggestCharts:', error);\n",
              "      }\n",
              "      quickchartButtonEl.classList.remove('colab-df-spinner');\n",
              "      quickchartButtonEl.classList.add('colab-df-quickchart-complete');\n",
              "    }\n",
              "    (() => {\n",
              "      let quickchartButtonEl =\n",
              "        document.querySelector('#df-6b114b11-c1b3-45de-8700-a14d2aba887a button');\n",
              "      quickchartButtonEl.style.display =\n",
              "        google.colab.kernel.accessAllowed ? 'block' : 'none';\n",
              "    })();\n",
              "  </script>\n",
              "</div>\n",
              "\n",
              "    </div>\n",
              "  </div>\n"
            ],
            "application/vnd.google.colaboratory.intrinsic+json": {
              "type": "dataframe",
              "variable_name": "df"
            }
          },
          "metadata": {},
          "execution_count": 43
        }
      ],
      "source": [
        "df.head()"
      ]
    },
    {
      "cell_type": "code",
      "execution_count": null,
      "metadata": {
        "id": "Uz1QkOL1xsCS"
      },
      "outputs": [],
      "source": [
        "# New feature: Interaction between number of site visits and number of clicks\n",
        "df['visits_clicks_interaction'] = df['number_of_site_visits'] * df['number_of_clicks']\n",
        "\n",
        "# New Feature: Average transaction amount per visit\n",
        "df['avg_transaction_amount_per_visit'] = df['transaction_amount'] / df['number_of_site_visits']\n"
      ]
    },
    {
      "cell_type": "code",
      "execution_count": null,
      "metadata": {
        "id": "tXI95eUsxsCS",
        "outputId": "46e0a9cf-7cef-4a3a-e55b-744343c0afb3",
        "colab": {
          "base_uri": "https://localhost:8080/",
          "height": 359
        }
      },
      "outputs": [
        {
          "output_type": "execute_result",
          "data": {
            "text/plain": [
              "   customer_id  join_date last_purchase_date   age  number_of_site_visits  \\\n",
              "0            1 2023-11-20         2024-03-17  56.0                     10   \n",
              "1            1 2023-11-20         2024-03-17  56.0                     10   \n",
              "2            1 2023-11-20         2024-03-17  56.0                     10   \n",
              "3            1 2023-11-20         2024-03-17  56.0                     10   \n",
              "4            1 2023-11-20         2024-03-17  56.0                     10   \n",
              "\n",
              "   number_of_emails_opened  number_of_clicks  campaign_id campaign_date  \\\n",
              "0                       15                 1            1    2024-02-29   \n",
              "1                       15                 1            1    2024-02-29   \n",
              "2                       15                 1            1    2024-02-29   \n",
              "3                       15                 1            1    2024-02-29   \n",
              "4                       15                 1            1    2024-02-29   \n",
              "\n",
              "   transaction_id  ... response_Yes  promotion_type_Discount  \\\n",
              "0               1  ...        False                    False   \n",
              "1               2  ...        False                    False   \n",
              "2               3  ...        False                    False   \n",
              "3               4  ...        False                    False   \n",
              "4               5  ...        False                    False   \n",
              "\n",
              "   promotion_type_Free Shipping  product_category_Electronics  \\\n",
              "0                         False                         False   \n",
              "1                         False                         False   \n",
              "2                         False                         False   \n",
              "3                         False                          True   \n",
              "4                         False                          True   \n",
              "\n",
              "   product_category_Home Goods  gender_Male  customer_tenure  \\\n",
              "0                        False        False              118   \n",
              "1                         True        False              118   \n",
              "2                         True        False              118   \n",
              "3                        False        False              118   \n",
              "4                        False        False              118   \n",
              "\n",
              "   days_since_last_purchase  visits_clicks_interaction  \\\n",
              "0                       115                         10   \n",
              "1                       115                         10   \n",
              "2                       115                         10   \n",
              "3                       115                         10   \n",
              "4                       115                         10   \n",
              "\n",
              "   avg_transaction_amount_per_visit  \n",
              "0                            16.556  \n",
              "1                            69.901  \n",
              "2                            14.686  \n",
              "3                            92.746  \n",
              "4                           139.587  \n",
              "\n",
              "[5 rows x 7728 columns]"
            ],
            "text/html": [
              "\n",
              "  <div id=\"df-adc20514-7591-4a74-95f6-ddcea9a74d0f\" class=\"colab-df-container\">\n",
              "    <div>\n",
              "<style scoped>\n",
              "    .dataframe tbody tr th:only-of-type {\n",
              "        vertical-align: middle;\n",
              "    }\n",
              "\n",
              "    .dataframe tbody tr th {\n",
              "        vertical-align: top;\n",
              "    }\n",
              "\n",
              "    .dataframe thead th {\n",
              "        text-align: right;\n",
              "    }\n",
              "</style>\n",
              "<table border=\"1\" class=\"dataframe\">\n",
              "  <thead>\n",
              "    <tr style=\"text-align: right;\">\n",
              "      <th></th>\n",
              "      <th>customer_id</th>\n",
              "      <th>join_date</th>\n",
              "      <th>last_purchase_date</th>\n",
              "      <th>age</th>\n",
              "      <th>number_of_site_visits</th>\n",
              "      <th>number_of_emails_opened</th>\n",
              "      <th>number_of_clicks</th>\n",
              "      <th>campaign_id</th>\n",
              "      <th>campaign_date</th>\n",
              "      <th>transaction_id</th>\n",
              "      <th>...</th>\n",
              "      <th>response_Yes</th>\n",
              "      <th>promotion_type_Discount</th>\n",
              "      <th>promotion_type_Free Shipping</th>\n",
              "      <th>product_category_Electronics</th>\n",
              "      <th>product_category_Home Goods</th>\n",
              "      <th>gender_Male</th>\n",
              "      <th>customer_tenure</th>\n",
              "      <th>days_since_last_purchase</th>\n",
              "      <th>visits_clicks_interaction</th>\n",
              "      <th>avg_transaction_amount_per_visit</th>\n",
              "    </tr>\n",
              "  </thead>\n",
              "  <tbody>\n",
              "    <tr>\n",
              "      <th>0</th>\n",
              "      <td>1</td>\n",
              "      <td>2023-11-20</td>\n",
              "      <td>2024-03-17</td>\n",
              "      <td>56.0</td>\n",
              "      <td>10</td>\n",
              "      <td>15</td>\n",
              "      <td>1</td>\n",
              "      <td>1</td>\n",
              "      <td>2024-02-29</td>\n",
              "      <td>1</td>\n",
              "      <td>...</td>\n",
              "      <td>False</td>\n",
              "      <td>False</td>\n",
              "      <td>False</td>\n",
              "      <td>False</td>\n",
              "      <td>False</td>\n",
              "      <td>False</td>\n",
              "      <td>118</td>\n",
              "      <td>115</td>\n",
              "      <td>10</td>\n",
              "      <td>16.556</td>\n",
              "    </tr>\n",
              "    <tr>\n",
              "      <th>1</th>\n",
              "      <td>1</td>\n",
              "      <td>2023-11-20</td>\n",
              "      <td>2024-03-17</td>\n",
              "      <td>56.0</td>\n",
              "      <td>10</td>\n",
              "      <td>15</td>\n",
              "      <td>1</td>\n",
              "      <td>1</td>\n",
              "      <td>2024-02-29</td>\n",
              "      <td>2</td>\n",
              "      <td>...</td>\n",
              "      <td>False</td>\n",
              "      <td>False</td>\n",
              "      <td>False</td>\n",
              "      <td>False</td>\n",
              "      <td>True</td>\n",
              "      <td>False</td>\n",
              "      <td>118</td>\n",
              "      <td>115</td>\n",
              "      <td>10</td>\n",
              "      <td>69.901</td>\n",
              "    </tr>\n",
              "    <tr>\n",
              "      <th>2</th>\n",
              "      <td>1</td>\n",
              "      <td>2023-11-20</td>\n",
              "      <td>2024-03-17</td>\n",
              "      <td>56.0</td>\n",
              "      <td>10</td>\n",
              "      <td>15</td>\n",
              "      <td>1</td>\n",
              "      <td>1</td>\n",
              "      <td>2024-02-29</td>\n",
              "      <td>3</td>\n",
              "      <td>...</td>\n",
              "      <td>False</td>\n",
              "      <td>False</td>\n",
              "      <td>False</td>\n",
              "      <td>False</td>\n",
              "      <td>True</td>\n",
              "      <td>False</td>\n",
              "      <td>118</td>\n",
              "      <td>115</td>\n",
              "      <td>10</td>\n",
              "      <td>14.686</td>\n",
              "    </tr>\n",
              "    <tr>\n",
              "      <th>3</th>\n",
              "      <td>1</td>\n",
              "      <td>2023-11-20</td>\n",
              "      <td>2024-03-17</td>\n",
              "      <td>56.0</td>\n",
              "      <td>10</td>\n",
              "      <td>15</td>\n",
              "      <td>1</td>\n",
              "      <td>1</td>\n",
              "      <td>2024-02-29</td>\n",
              "      <td>4</td>\n",
              "      <td>...</td>\n",
              "      <td>False</td>\n",
              "      <td>False</td>\n",
              "      <td>False</td>\n",
              "      <td>True</td>\n",
              "      <td>False</td>\n",
              "      <td>False</td>\n",
              "      <td>118</td>\n",
              "      <td>115</td>\n",
              "      <td>10</td>\n",
              "      <td>92.746</td>\n",
              "    </tr>\n",
              "    <tr>\n",
              "      <th>4</th>\n",
              "      <td>1</td>\n",
              "      <td>2023-11-20</td>\n",
              "      <td>2024-03-17</td>\n",
              "      <td>56.0</td>\n",
              "      <td>10</td>\n",
              "      <td>15</td>\n",
              "      <td>1</td>\n",
              "      <td>1</td>\n",
              "      <td>2024-02-29</td>\n",
              "      <td>5</td>\n",
              "      <td>...</td>\n",
              "      <td>False</td>\n",
              "      <td>False</td>\n",
              "      <td>False</td>\n",
              "      <td>True</td>\n",
              "      <td>False</td>\n",
              "      <td>False</td>\n",
              "      <td>118</td>\n",
              "      <td>115</td>\n",
              "      <td>10</td>\n",
              "      <td>139.587</td>\n",
              "    </tr>\n",
              "  </tbody>\n",
              "</table>\n",
              "<p>5 rows × 7728 columns</p>\n",
              "</div>\n",
              "    <div class=\"colab-df-buttons\">\n",
              "\n",
              "  <div class=\"colab-df-container\">\n",
              "    <button class=\"colab-df-convert\" onclick=\"convertToInteractive('df-adc20514-7591-4a74-95f6-ddcea9a74d0f')\"\n",
              "            title=\"Convert this dataframe to an interactive table.\"\n",
              "            style=\"display:none;\">\n",
              "\n",
              "  <svg xmlns=\"http://www.w3.org/2000/svg\" height=\"24px\" viewBox=\"0 -960 960 960\">\n",
              "    <path d=\"M120-120v-720h720v720H120Zm60-500h600v-160H180v160Zm220 220h160v-160H400v160Zm0 220h160v-160H400v160ZM180-400h160v-160H180v160Zm440 0h160v-160H620v160ZM180-180h160v-160H180v160Zm440 0h160v-160H620v160Z\"/>\n",
              "  </svg>\n",
              "    </button>\n",
              "\n",
              "  <style>\n",
              "    .colab-df-container {\n",
              "      display:flex;\n",
              "      gap: 12px;\n",
              "    }\n",
              "\n",
              "    .colab-df-convert {\n",
              "      background-color: #E8F0FE;\n",
              "      border: none;\n",
              "      border-radius: 50%;\n",
              "      cursor: pointer;\n",
              "      display: none;\n",
              "      fill: #1967D2;\n",
              "      height: 32px;\n",
              "      padding: 0 0 0 0;\n",
              "      width: 32px;\n",
              "    }\n",
              "\n",
              "    .colab-df-convert:hover {\n",
              "      background-color: #E2EBFA;\n",
              "      box-shadow: 0px 1px 2px rgba(60, 64, 67, 0.3), 0px 1px 3px 1px rgba(60, 64, 67, 0.15);\n",
              "      fill: #174EA6;\n",
              "    }\n",
              "\n",
              "    .colab-df-buttons div {\n",
              "      margin-bottom: 4px;\n",
              "    }\n",
              "\n",
              "    [theme=dark] .colab-df-convert {\n",
              "      background-color: #3B4455;\n",
              "      fill: #D2E3FC;\n",
              "    }\n",
              "\n",
              "    [theme=dark] .colab-df-convert:hover {\n",
              "      background-color: #434B5C;\n",
              "      box-shadow: 0px 1px 3px 1px rgba(0, 0, 0, 0.15);\n",
              "      filter: drop-shadow(0px 1px 2px rgba(0, 0, 0, 0.3));\n",
              "      fill: #FFFFFF;\n",
              "    }\n",
              "  </style>\n",
              "\n",
              "    <script>\n",
              "      const buttonEl =\n",
              "        document.querySelector('#df-adc20514-7591-4a74-95f6-ddcea9a74d0f button.colab-df-convert');\n",
              "      buttonEl.style.display =\n",
              "        google.colab.kernel.accessAllowed ? 'block' : 'none';\n",
              "\n",
              "      async function convertToInteractive(key) {\n",
              "        const element = document.querySelector('#df-adc20514-7591-4a74-95f6-ddcea9a74d0f');\n",
              "        const dataTable =\n",
              "          await google.colab.kernel.invokeFunction('convertToInteractive',\n",
              "                                                    [key], {});\n",
              "        if (!dataTable) return;\n",
              "\n",
              "        const docLinkHtml = 'Like what you see? Visit the ' +\n",
              "          '<a target=\"_blank\" href=https://colab.research.google.com/notebooks/data_table.ipynb>data table notebook</a>'\n",
              "          + ' to learn more about interactive tables.';\n",
              "        element.innerHTML = '';\n",
              "        dataTable['output_type'] = 'display_data';\n",
              "        await google.colab.output.renderOutput(dataTable, element);\n",
              "        const docLink = document.createElement('div');\n",
              "        docLink.innerHTML = docLinkHtml;\n",
              "        element.appendChild(docLink);\n",
              "      }\n",
              "    </script>\n",
              "  </div>\n",
              "\n",
              "\n",
              "<div id=\"df-14b93838-5185-4626-a5a7-5ae5d1267843\">\n",
              "  <button class=\"colab-df-quickchart\" onclick=\"quickchart('df-14b93838-5185-4626-a5a7-5ae5d1267843')\"\n",
              "            title=\"Suggest charts\"\n",
              "            style=\"display:none;\">\n",
              "\n",
              "<svg xmlns=\"http://www.w3.org/2000/svg\" height=\"24px\"viewBox=\"0 0 24 24\"\n",
              "     width=\"24px\">\n",
              "    <g>\n",
              "        <path d=\"M19 3H5c-1.1 0-2 .9-2 2v14c0 1.1.9 2 2 2h14c1.1 0 2-.9 2-2V5c0-1.1-.9-2-2-2zM9 17H7v-7h2v7zm4 0h-2V7h2v10zm4 0h-2v-4h2v4z\"/>\n",
              "    </g>\n",
              "</svg>\n",
              "  </button>\n",
              "\n",
              "<style>\n",
              "  .colab-df-quickchart {\n",
              "      --bg-color: #E8F0FE;\n",
              "      --fill-color: #1967D2;\n",
              "      --hover-bg-color: #E2EBFA;\n",
              "      --hover-fill-color: #174EA6;\n",
              "      --disabled-fill-color: #AAA;\n",
              "      --disabled-bg-color: #DDD;\n",
              "  }\n",
              "\n",
              "  [theme=dark] .colab-df-quickchart {\n",
              "      --bg-color: #3B4455;\n",
              "      --fill-color: #D2E3FC;\n",
              "      --hover-bg-color: #434B5C;\n",
              "      --hover-fill-color: #FFFFFF;\n",
              "      --disabled-bg-color: #3B4455;\n",
              "      --disabled-fill-color: #666;\n",
              "  }\n",
              "\n",
              "  .colab-df-quickchart {\n",
              "    background-color: var(--bg-color);\n",
              "    border: none;\n",
              "    border-radius: 50%;\n",
              "    cursor: pointer;\n",
              "    display: none;\n",
              "    fill: var(--fill-color);\n",
              "    height: 32px;\n",
              "    padding: 0;\n",
              "    width: 32px;\n",
              "  }\n",
              "\n",
              "  .colab-df-quickchart:hover {\n",
              "    background-color: var(--hover-bg-color);\n",
              "    box-shadow: 0 1px 2px rgba(60, 64, 67, 0.3), 0 1px 3px 1px rgba(60, 64, 67, 0.15);\n",
              "    fill: var(--button-hover-fill-color);\n",
              "  }\n",
              "\n",
              "  .colab-df-quickchart-complete:disabled,\n",
              "  .colab-df-quickchart-complete:disabled:hover {\n",
              "    background-color: var(--disabled-bg-color);\n",
              "    fill: var(--disabled-fill-color);\n",
              "    box-shadow: none;\n",
              "  }\n",
              "\n",
              "  .colab-df-spinner {\n",
              "    border: 2px solid var(--fill-color);\n",
              "    border-color: transparent;\n",
              "    border-bottom-color: var(--fill-color);\n",
              "    animation:\n",
              "      spin 1s steps(1) infinite;\n",
              "  }\n",
              "\n",
              "  @keyframes spin {\n",
              "    0% {\n",
              "      border-color: transparent;\n",
              "      border-bottom-color: var(--fill-color);\n",
              "      border-left-color: var(--fill-color);\n",
              "    }\n",
              "    20% {\n",
              "      border-color: transparent;\n",
              "      border-left-color: var(--fill-color);\n",
              "      border-top-color: var(--fill-color);\n",
              "    }\n",
              "    30% {\n",
              "      border-color: transparent;\n",
              "      border-left-color: var(--fill-color);\n",
              "      border-top-color: var(--fill-color);\n",
              "      border-right-color: var(--fill-color);\n",
              "    }\n",
              "    40% {\n",
              "      border-color: transparent;\n",
              "      border-right-color: var(--fill-color);\n",
              "      border-top-color: var(--fill-color);\n",
              "    }\n",
              "    60% {\n",
              "      border-color: transparent;\n",
              "      border-right-color: var(--fill-color);\n",
              "    }\n",
              "    80% {\n",
              "      border-color: transparent;\n",
              "      border-right-color: var(--fill-color);\n",
              "      border-bottom-color: var(--fill-color);\n",
              "    }\n",
              "    90% {\n",
              "      border-color: transparent;\n",
              "      border-bottom-color: var(--fill-color);\n",
              "    }\n",
              "  }\n",
              "</style>\n",
              "\n",
              "  <script>\n",
              "    async function quickchart(key) {\n",
              "      const quickchartButtonEl =\n",
              "        document.querySelector('#' + key + ' button');\n",
              "      quickchartButtonEl.disabled = true;  // To prevent multiple clicks.\n",
              "      quickchartButtonEl.classList.add('colab-df-spinner');\n",
              "      try {\n",
              "        const charts = await google.colab.kernel.invokeFunction(\n",
              "            'suggestCharts', [key], {});\n",
              "      } catch (error) {\n",
              "        console.error('Error during call to suggestCharts:', error);\n",
              "      }\n",
              "      quickchartButtonEl.classList.remove('colab-df-spinner');\n",
              "      quickchartButtonEl.classList.add('colab-df-quickchart-complete');\n",
              "    }\n",
              "    (() => {\n",
              "      let quickchartButtonEl =\n",
              "        document.querySelector('#df-14b93838-5185-4626-a5a7-5ae5d1267843 button');\n",
              "      quickchartButtonEl.style.display =\n",
              "        google.colab.kernel.accessAllowed ? 'block' : 'none';\n",
              "    })();\n",
              "  </script>\n",
              "</div>\n",
              "\n",
              "    </div>\n",
              "  </div>\n"
            ],
            "application/vnd.google.colaboratory.intrinsic+json": {
              "type": "dataframe",
              "variable_name": "df"
            }
          },
          "metadata": {},
          "execution_count": 45
        }
      ],
      "source": [
        "df.head()"
      ]
    },
    {
      "cell_type": "code",
      "execution_count": null,
      "metadata": {
        "id": "NA4I6AyDxsCS"
      },
      "outputs": [],
      "source": [
        "# Aggregation: Aggregation by customer_id if needed\n",
        "customer_agg = df.groupby('customer_id').agg({\n",
        "    'transaction_amount': ['sum', 'mean', 'count'],\n",
        "    'number_of_site_visits': 'mean',\n",
        "    'number_of_clicks': 'mean',\n",
        "    'number_of_emails_opened': 'mean'\n",
        "}).reset_index()\n",
        "\n",
        "# Rename columns after aggregation\n",
        "customer_agg.columns = ['customer_id', 'total_spent', 'avg_spent', 'transaction_count',\n",
        "                        'avg_site_visits', 'avg_clicks', 'avg_emails_opened']\n",
        "\n",
        "# Merge the aggregated data back with the original dataframe\n",
        "df = pd.merge(df, customer_agg, on='customer_id', how='left')\n"
      ]
    },
    {
      "cell_type": "code",
      "execution_count": null,
      "metadata": {
        "id": "9WARlQ9lxsCT"
      },
      "outputs": [],
      "source": [
        "from sklearn.model_selection import train_test_split, cross_val_score, GridSearchCV\n",
        "from sklearn.linear_model import LinearRegression\n",
        "from sklearn.ensemble import RandomForestRegressor\n",
        "from sklearn.metrics import mean_squared_error, r2_score, mean_absolute_error\n",
        "import seaborn as sns\n",
        "import matplotlib.pyplot as plt"
      ]
    },
    {
      "cell_type": "code",
      "execution_count": null,
      "metadata": {
        "id": "XWCpMyOBxsCT"
      },
      "outputs": [],
      "source": [
        "# Ensure all columns are numeric\n",
        "df = df.apply(pd.to_numeric)\n",
        "\n",
        "# Define the target variable (CLV) as the total transaction amount per customer\n",
        "df['CLV'] = df.groupby('customer_id')['transaction_amount'].transform('sum')\n",
        "\n",
        "# Drop duplicate customer records if necessary\n",
        "df = df.drop_duplicates(subset='customer_id')"
      ]
    },
    {
      "cell_type": "code",
      "execution_count": null,
      "metadata": {
        "id": "l1K1vW4BxsCT"
      },
      "outputs": [],
      "source": [
        "# Define the features (excluding the target variable 'CLV')\n",
        "X = df.drop(columns=['CLV', 'customer_id', 'join_date', 'last_purchase_date', 'campaign_date', 'transaction_date'])\n",
        "y = df['CLV']\n",
        "\n",
        "# Split the data into training and testing sets\n",
        "from sklearn.model_selection import train_test_split\n",
        "X_train, X_test, y_train, y_test = train_test_split(X, y, test_size=0.2, random_state=42)"
      ]
    },
    {
      "cell_type": "code",
      "execution_count": null,
      "metadata": {
        "id": "kKxSGWatxsCT",
        "outputId": "ad56a671-63c0-44fe-9410-1a61c793787d",
        "colab": {
          "base_uri": "https://localhost:8080/"
        }
      },
      "outputs": [
        {
          "output_type": "stream",
          "name": "stdout",
          "text": [
            "Linear Regression - Mean Squared Error: 5.545285764052068e-10, Mean Absolute Error: 6.581518950197207e-07, R-squared: 0.9999999999999979\n",
            "Random Forest - Mean Squared Error: 0.17301627722997906, Mean Absolute Error: 0.22880289999998404, R-squared: 0.9999993334177945\n"
          ]
        }
      ],
      "source": [
        "# Train and evaluate multiple models\n",
        "models = {\n",
        "    'Linear Regression': LinearRegression(),\n",
        "    'Random Forest': RandomForestRegressor(random_state=42)\n",
        "}\n",
        "\n",
        "for model_name, model in models.items():\n",
        "    model.fit(X_train, y_train)\n",
        "    y_pred = model.predict(X_test)\n",
        "    mse = mean_squared_error(y_test, y_pred)\n",
        "    mae = mean_absolute_error(y_test, y_pred)\n",
        "    r2 = r2_score(y_test, y_pred)\n",
        "    print(f\"{model_name} - Mean Squared Error: {mse}, Mean Absolute Error: {mae}, R-squared: {r2}\")"
      ]
    },
    {
      "cell_type": "code",
      "source": [
        "print(df.head())"
      ],
      "metadata": {
        "id": "Pln4IS2uzdI8",
        "outputId": "5a6ad9fc-07d9-48f4-fcc4-557108997eaa",
        "colab": {
          "base_uri": "https://localhost:8080/"
        }
      },
      "execution_count": null,
      "outputs": [
        {
          "output_type": "stream",
          "name": "stdout",
          "text": [
            "     customer_id            join_date   last_purchase_date        age  \\\n",
            "0              1  1700438400000000000  1710633600000000000  56.000000   \n",
            "24             2  1631059200000000000  1698192000000000000  42.627463   \n",
            "60             3  1622505600000000000  1669507200000000000  43.135803   \n",
            "72             4  1640995200000000000  1661990400000000000  29.000000   \n",
            "152            5  1642982400000000000  1685664000000000000  43.362228   \n",
            "\n",
            "     number_of_site_visits  number_of_emails_opened  number_of_clicks  \\\n",
            "0                       10                       15                 1   \n",
            "24                     285                       49                51   \n",
            "60                     192                       73                25   \n",
            "72                     110                       30                17   \n",
            "152                    161                        2                 7   \n",
            "\n",
            "     campaign_id        campaign_date  transaction_id  ...  total_spent  \\\n",
            "0              1  1709164800000000000               1  ...     14037.92   \n",
            "24             5  1657238400000000000               7  ...     24325.28   \n",
            "60             9  1660176000000000000              16  ...      2909.74   \n",
            "72            11  1654300800000000000              22  ...     31498.72   \n",
            "152           15  1677542400000000000              42  ...     62098.20   \n",
            "\n",
            "      avg_spent  transaction_count  avg_site_visits  avg_clicks  \\\n",
            "0    584.913333                 24             10.0         1.0   \n",
            "24   675.702222                 36            285.0        51.0   \n",
            "60   242.478333                 12            192.0        25.0   \n",
            "72   393.734000                 80            110.0        17.0   \n",
            "152  646.856250                 96            161.0         7.0   \n",
            "\n",
            "     avg_emails_opened  recency  frequency  monetary      CLV  \n",
            "0                 15.0      115         24  14037.92   165.56  \n",
            "24                49.0      259         36  24325.28   443.99  \n",
            "60                73.0      591         12   2909.74    68.35  \n",
            "72                30.0      678         80  31498.72   204.59  \n",
            "152                2.0      404         96  62098.20  1977.50  \n",
            "\n",
            "[5 rows x 7738 columns]\n"
          ]
        }
      ]
    },
    {
      "cell_type": "code",
      "source": [
        "df['CLV_Segment'] = pd.qcut(df['CLV'], q=3, labels=['Low', 'Medium', 'High'])"
      ],
      "metadata": {
        "id": "9z_ZkzOYzuca"
      },
      "execution_count": null,
      "outputs": []
    },
    {
      "cell_type": "code",
      "source": [
        "print(df.head())"
      ],
      "metadata": {
        "id": "T6QfgEF0zxZ2",
        "outputId": "7ce0a76e-aa62-47cd-8829-15aab770efe0",
        "colab": {
          "base_uri": "https://localhost:8080/"
        }
      },
      "execution_count": null,
      "outputs": [
        {
          "output_type": "stream",
          "name": "stdout",
          "text": [
            "     customer_id            join_date   last_purchase_date        age  \\\n",
            "0              1  1700438400000000000  1710633600000000000  56.000000   \n",
            "24             2  1631059200000000000  1698192000000000000  42.627463   \n",
            "60             3  1622505600000000000  1669507200000000000  43.135803   \n",
            "72             4  1640995200000000000  1661990400000000000  29.000000   \n",
            "152            5  1642982400000000000  1685664000000000000  43.362228   \n",
            "\n",
            "     number_of_site_visits  number_of_emails_opened  number_of_clicks  \\\n",
            "0                       10                       15                 1   \n",
            "24                     285                       49                51   \n",
            "60                     192                       73                25   \n",
            "72                     110                       30                17   \n",
            "152                    161                        2                 7   \n",
            "\n",
            "     campaign_id        campaign_date  transaction_id  ...   avg_spent  \\\n",
            "0              1  1709164800000000000               1  ...  584.913333   \n",
            "24             5  1657238400000000000               7  ...  675.702222   \n",
            "60             9  1660176000000000000              16  ...  242.478333   \n",
            "72            11  1654300800000000000              22  ...  393.734000   \n",
            "152           15  1677542400000000000              42  ...  646.856250   \n",
            "\n",
            "     transaction_count  avg_site_visits  avg_clicks  avg_emails_opened  \\\n",
            "0                   24             10.0         1.0               15.0   \n",
            "24                  36            285.0        51.0               49.0   \n",
            "60                  12            192.0        25.0               73.0   \n",
            "72                  80            110.0        17.0               30.0   \n",
            "152                 96            161.0         7.0                2.0   \n",
            "\n",
            "     recency  frequency  monetary      CLV  CLV_Segment  \n",
            "0        115         24  14037.92   165.56          Low  \n",
            "24       259         36  24325.28   443.99       Medium  \n",
            "60       591         12   2909.74    68.35          Low  \n",
            "72       678         80  31498.72   204.59          Low  \n",
            "152      404         96  62098.20  1977.50         High  \n",
            "\n",
            "[5 rows x 7739 columns]\n"
          ]
        }
      ]
    },
    {
      "cell_type": "code",
      "source": [
        "# Recency, Frequency, Monetary (RFM) Analysis\n",
        "df['recency'] = (pd.to_datetime('today') - pd.to_datetime(df['last_purchase_date'])).dt.days\n",
        "df['frequency'] = df.groupby('customer_id')['transaction_id'].transform('count')\n",
        "df['monetary'] = df.groupby('customer_id')['transaction_amount'].transform('sum')\n",
        "\n",
        "#rfm=['customer_id', 'recency', 'frequency', 'monetary']\n",
        "rfm = df[['customer_id','recency','frequency','monetary']]\n",
        "\n",
        "# Removing duplicates\n",
        "df = df.drop_duplicates(subset='customer_id')"
      ],
      "metadata": {
        "id": "EEOrtlxvz1if"
      },
      "execution_count": null,
      "outputs": []
    },
    {
      "cell_type": "code",
      "source": [
        "rfm"
      ],
      "metadata": {
        "id": "076Z2mOCz54G",
        "outputId": "e8a3ce4c-6513-43af-eb40-8b1adcd23ff2",
        "colab": {
          "base_uri": "https://localhost:8080/",
          "height": 423
        }
      },
      "execution_count": null,
      "outputs": [
        {
          "output_type": "execute_result",
          "data": {
            "text/plain": [
              "        customer_id  recency  frequency  monetary\n",
              "0                 1      115          1    165.56\n",
              "24                2      259          1    443.99\n",
              "60                3      591          1     68.35\n",
              "72                4      678          1    204.59\n",
              "152               5      404          1   1977.50\n",
              "...             ...      ...        ...       ...\n",
              "327162         9996      332          1   1726.74\n",
              "327192         9997      532          1    465.80\n",
              "327204         9998      162          1   1176.86\n",
              "327207         9999      726          1    250.62\n",
              "327231        10000      313          1   1385.55\n",
              "\n",
              "[10000 rows x 4 columns]"
            ],
            "text/html": [
              "\n",
              "  <div id=\"df-b7225a52-c0a1-4086-97b1-d469e2075e3c\" class=\"colab-df-container\">\n",
              "    <div>\n",
              "<style scoped>\n",
              "    .dataframe tbody tr th:only-of-type {\n",
              "        vertical-align: middle;\n",
              "    }\n",
              "\n",
              "    .dataframe tbody tr th {\n",
              "        vertical-align: top;\n",
              "    }\n",
              "\n",
              "    .dataframe thead th {\n",
              "        text-align: right;\n",
              "    }\n",
              "</style>\n",
              "<table border=\"1\" class=\"dataframe\">\n",
              "  <thead>\n",
              "    <tr style=\"text-align: right;\">\n",
              "      <th></th>\n",
              "      <th>customer_id</th>\n",
              "      <th>recency</th>\n",
              "      <th>frequency</th>\n",
              "      <th>monetary</th>\n",
              "    </tr>\n",
              "  </thead>\n",
              "  <tbody>\n",
              "    <tr>\n",
              "      <th>0</th>\n",
              "      <td>1</td>\n",
              "      <td>115</td>\n",
              "      <td>1</td>\n",
              "      <td>165.56</td>\n",
              "    </tr>\n",
              "    <tr>\n",
              "      <th>24</th>\n",
              "      <td>2</td>\n",
              "      <td>259</td>\n",
              "      <td>1</td>\n",
              "      <td>443.99</td>\n",
              "    </tr>\n",
              "    <tr>\n",
              "      <th>60</th>\n",
              "      <td>3</td>\n",
              "      <td>591</td>\n",
              "      <td>1</td>\n",
              "      <td>68.35</td>\n",
              "    </tr>\n",
              "    <tr>\n",
              "      <th>72</th>\n",
              "      <td>4</td>\n",
              "      <td>678</td>\n",
              "      <td>1</td>\n",
              "      <td>204.59</td>\n",
              "    </tr>\n",
              "    <tr>\n",
              "      <th>152</th>\n",
              "      <td>5</td>\n",
              "      <td>404</td>\n",
              "      <td>1</td>\n",
              "      <td>1977.50</td>\n",
              "    </tr>\n",
              "    <tr>\n",
              "      <th>...</th>\n",
              "      <td>...</td>\n",
              "      <td>...</td>\n",
              "      <td>...</td>\n",
              "      <td>...</td>\n",
              "    </tr>\n",
              "    <tr>\n",
              "      <th>327162</th>\n",
              "      <td>9996</td>\n",
              "      <td>332</td>\n",
              "      <td>1</td>\n",
              "      <td>1726.74</td>\n",
              "    </tr>\n",
              "    <tr>\n",
              "      <th>327192</th>\n",
              "      <td>9997</td>\n",
              "      <td>532</td>\n",
              "      <td>1</td>\n",
              "      <td>465.80</td>\n",
              "    </tr>\n",
              "    <tr>\n",
              "      <th>327204</th>\n",
              "      <td>9998</td>\n",
              "      <td>162</td>\n",
              "      <td>1</td>\n",
              "      <td>1176.86</td>\n",
              "    </tr>\n",
              "    <tr>\n",
              "      <th>327207</th>\n",
              "      <td>9999</td>\n",
              "      <td>726</td>\n",
              "      <td>1</td>\n",
              "      <td>250.62</td>\n",
              "    </tr>\n",
              "    <tr>\n",
              "      <th>327231</th>\n",
              "      <td>10000</td>\n",
              "      <td>313</td>\n",
              "      <td>1</td>\n",
              "      <td>1385.55</td>\n",
              "    </tr>\n",
              "  </tbody>\n",
              "</table>\n",
              "<p>10000 rows × 4 columns</p>\n",
              "</div>\n",
              "    <div class=\"colab-df-buttons\">\n",
              "\n",
              "  <div class=\"colab-df-container\">\n",
              "    <button class=\"colab-df-convert\" onclick=\"convertToInteractive('df-b7225a52-c0a1-4086-97b1-d469e2075e3c')\"\n",
              "            title=\"Convert this dataframe to an interactive table.\"\n",
              "            style=\"display:none;\">\n",
              "\n",
              "  <svg xmlns=\"http://www.w3.org/2000/svg\" height=\"24px\" viewBox=\"0 -960 960 960\">\n",
              "    <path d=\"M120-120v-720h720v720H120Zm60-500h600v-160H180v160Zm220 220h160v-160H400v160Zm0 220h160v-160H400v160ZM180-400h160v-160H180v160Zm440 0h160v-160H620v160ZM180-180h160v-160H180v160Zm440 0h160v-160H620v160Z\"/>\n",
              "  </svg>\n",
              "    </button>\n",
              "\n",
              "  <style>\n",
              "    .colab-df-container {\n",
              "      display:flex;\n",
              "      gap: 12px;\n",
              "    }\n",
              "\n",
              "    .colab-df-convert {\n",
              "      background-color: #E8F0FE;\n",
              "      border: none;\n",
              "      border-radius: 50%;\n",
              "      cursor: pointer;\n",
              "      display: none;\n",
              "      fill: #1967D2;\n",
              "      height: 32px;\n",
              "      padding: 0 0 0 0;\n",
              "      width: 32px;\n",
              "    }\n",
              "\n",
              "    .colab-df-convert:hover {\n",
              "      background-color: #E2EBFA;\n",
              "      box-shadow: 0px 1px 2px rgba(60, 64, 67, 0.3), 0px 1px 3px 1px rgba(60, 64, 67, 0.15);\n",
              "      fill: #174EA6;\n",
              "    }\n",
              "\n",
              "    .colab-df-buttons div {\n",
              "      margin-bottom: 4px;\n",
              "    }\n",
              "\n",
              "    [theme=dark] .colab-df-convert {\n",
              "      background-color: #3B4455;\n",
              "      fill: #D2E3FC;\n",
              "    }\n",
              "\n",
              "    [theme=dark] .colab-df-convert:hover {\n",
              "      background-color: #434B5C;\n",
              "      box-shadow: 0px 1px 3px 1px rgba(0, 0, 0, 0.15);\n",
              "      filter: drop-shadow(0px 1px 2px rgba(0, 0, 0, 0.3));\n",
              "      fill: #FFFFFF;\n",
              "    }\n",
              "  </style>\n",
              "\n",
              "    <script>\n",
              "      const buttonEl =\n",
              "        document.querySelector('#df-b7225a52-c0a1-4086-97b1-d469e2075e3c button.colab-df-convert');\n",
              "      buttonEl.style.display =\n",
              "        google.colab.kernel.accessAllowed ? 'block' : 'none';\n",
              "\n",
              "      async function convertToInteractive(key) {\n",
              "        const element = document.querySelector('#df-b7225a52-c0a1-4086-97b1-d469e2075e3c');\n",
              "        const dataTable =\n",
              "          await google.colab.kernel.invokeFunction('convertToInteractive',\n",
              "                                                    [key], {});\n",
              "        if (!dataTable) return;\n",
              "\n",
              "        const docLinkHtml = 'Like what you see? Visit the ' +\n",
              "          '<a target=\"_blank\" href=https://colab.research.google.com/notebooks/data_table.ipynb>data table notebook</a>'\n",
              "          + ' to learn more about interactive tables.';\n",
              "        element.innerHTML = '';\n",
              "        dataTable['output_type'] = 'display_data';\n",
              "        await google.colab.output.renderOutput(dataTable, element);\n",
              "        const docLink = document.createElement('div');\n",
              "        docLink.innerHTML = docLinkHtml;\n",
              "        element.appendChild(docLink);\n",
              "      }\n",
              "    </script>\n",
              "  </div>\n",
              "\n",
              "\n",
              "<div id=\"df-9d82391b-726a-47c8-b51f-2e3c912d988b\">\n",
              "  <button class=\"colab-df-quickchart\" onclick=\"quickchart('df-9d82391b-726a-47c8-b51f-2e3c912d988b')\"\n",
              "            title=\"Suggest charts\"\n",
              "            style=\"display:none;\">\n",
              "\n",
              "<svg xmlns=\"http://www.w3.org/2000/svg\" height=\"24px\"viewBox=\"0 0 24 24\"\n",
              "     width=\"24px\">\n",
              "    <g>\n",
              "        <path d=\"M19 3H5c-1.1 0-2 .9-2 2v14c0 1.1.9 2 2 2h14c1.1 0 2-.9 2-2V5c0-1.1-.9-2-2-2zM9 17H7v-7h2v7zm4 0h-2V7h2v10zm4 0h-2v-4h2v4z\"/>\n",
              "    </g>\n",
              "</svg>\n",
              "  </button>\n",
              "\n",
              "<style>\n",
              "  .colab-df-quickchart {\n",
              "      --bg-color: #E8F0FE;\n",
              "      --fill-color: #1967D2;\n",
              "      --hover-bg-color: #E2EBFA;\n",
              "      --hover-fill-color: #174EA6;\n",
              "      --disabled-fill-color: #AAA;\n",
              "      --disabled-bg-color: #DDD;\n",
              "  }\n",
              "\n",
              "  [theme=dark] .colab-df-quickchart {\n",
              "      --bg-color: #3B4455;\n",
              "      --fill-color: #D2E3FC;\n",
              "      --hover-bg-color: #434B5C;\n",
              "      --hover-fill-color: #FFFFFF;\n",
              "      --disabled-bg-color: #3B4455;\n",
              "      --disabled-fill-color: #666;\n",
              "  }\n",
              "\n",
              "  .colab-df-quickchart {\n",
              "    background-color: var(--bg-color);\n",
              "    border: none;\n",
              "    border-radius: 50%;\n",
              "    cursor: pointer;\n",
              "    display: none;\n",
              "    fill: var(--fill-color);\n",
              "    height: 32px;\n",
              "    padding: 0;\n",
              "    width: 32px;\n",
              "  }\n",
              "\n",
              "  .colab-df-quickchart:hover {\n",
              "    background-color: var(--hover-bg-color);\n",
              "    box-shadow: 0 1px 2px rgba(60, 64, 67, 0.3), 0 1px 3px 1px rgba(60, 64, 67, 0.15);\n",
              "    fill: var(--button-hover-fill-color);\n",
              "  }\n",
              "\n",
              "  .colab-df-quickchart-complete:disabled,\n",
              "  .colab-df-quickchart-complete:disabled:hover {\n",
              "    background-color: var(--disabled-bg-color);\n",
              "    fill: var(--disabled-fill-color);\n",
              "    box-shadow: none;\n",
              "  }\n",
              "\n",
              "  .colab-df-spinner {\n",
              "    border: 2px solid var(--fill-color);\n",
              "    border-color: transparent;\n",
              "    border-bottom-color: var(--fill-color);\n",
              "    animation:\n",
              "      spin 1s steps(1) infinite;\n",
              "  }\n",
              "\n",
              "  @keyframes spin {\n",
              "    0% {\n",
              "      border-color: transparent;\n",
              "      border-bottom-color: var(--fill-color);\n",
              "      border-left-color: var(--fill-color);\n",
              "    }\n",
              "    20% {\n",
              "      border-color: transparent;\n",
              "      border-left-color: var(--fill-color);\n",
              "      border-top-color: var(--fill-color);\n",
              "    }\n",
              "    30% {\n",
              "      border-color: transparent;\n",
              "      border-left-color: var(--fill-color);\n",
              "      border-top-color: var(--fill-color);\n",
              "      border-right-color: var(--fill-color);\n",
              "    }\n",
              "    40% {\n",
              "      border-color: transparent;\n",
              "      border-right-color: var(--fill-color);\n",
              "      border-top-color: var(--fill-color);\n",
              "    }\n",
              "    60% {\n",
              "      border-color: transparent;\n",
              "      border-right-color: var(--fill-color);\n",
              "    }\n",
              "    80% {\n",
              "      border-color: transparent;\n",
              "      border-right-color: var(--fill-color);\n",
              "      border-bottom-color: var(--fill-color);\n",
              "    }\n",
              "    90% {\n",
              "      border-color: transparent;\n",
              "      border-bottom-color: var(--fill-color);\n",
              "    }\n",
              "  }\n",
              "</style>\n",
              "\n",
              "  <script>\n",
              "    async function quickchart(key) {\n",
              "      const quickchartButtonEl =\n",
              "        document.querySelector('#' + key + ' button');\n",
              "      quickchartButtonEl.disabled = true;  // To prevent multiple clicks.\n",
              "      quickchartButtonEl.classList.add('colab-df-spinner');\n",
              "      try {\n",
              "        const charts = await google.colab.kernel.invokeFunction(\n",
              "            'suggestCharts', [key], {});\n",
              "      } catch (error) {\n",
              "        console.error('Error during call to suggestCharts:', error);\n",
              "      }\n",
              "      quickchartButtonEl.classList.remove('colab-df-spinner');\n",
              "      quickchartButtonEl.classList.add('colab-df-quickchart-complete');\n",
              "    }\n",
              "    (() => {\n",
              "      let quickchartButtonEl =\n",
              "        document.querySelector('#df-9d82391b-726a-47c8-b51f-2e3c912d988b button');\n",
              "      quickchartButtonEl.style.display =\n",
              "        google.colab.kernel.accessAllowed ? 'block' : 'none';\n",
              "    })();\n",
              "  </script>\n",
              "</div>\n",
              "\n",
              "  <div id=\"id_b05aec8d-0523-462d-8fc0-daf43fe9c312\">\n",
              "    <style>\n",
              "      .colab-df-generate {\n",
              "        background-color: #E8F0FE;\n",
              "        border: none;\n",
              "        border-radius: 50%;\n",
              "        cursor: pointer;\n",
              "        display: none;\n",
              "        fill: #1967D2;\n",
              "        height: 32px;\n",
              "        padding: 0 0 0 0;\n",
              "        width: 32px;\n",
              "      }\n",
              "\n",
              "      .colab-df-generate:hover {\n",
              "        background-color: #E2EBFA;\n",
              "        box-shadow: 0px 1px 2px rgba(60, 64, 67, 0.3), 0px 1px 3px 1px rgba(60, 64, 67, 0.15);\n",
              "        fill: #174EA6;\n",
              "      }\n",
              "\n",
              "      [theme=dark] .colab-df-generate {\n",
              "        background-color: #3B4455;\n",
              "        fill: #D2E3FC;\n",
              "      }\n",
              "\n",
              "      [theme=dark] .colab-df-generate:hover {\n",
              "        background-color: #434B5C;\n",
              "        box-shadow: 0px 1px 3px 1px rgba(0, 0, 0, 0.15);\n",
              "        filter: drop-shadow(0px 1px 2px rgba(0, 0, 0, 0.3));\n",
              "        fill: #FFFFFF;\n",
              "      }\n",
              "    </style>\n",
              "    <button class=\"colab-df-generate\" onclick=\"generateWithVariable('rfm')\"\n",
              "            title=\"Generate code using this dataframe.\"\n",
              "            style=\"display:none;\">\n",
              "\n",
              "  <svg xmlns=\"http://www.w3.org/2000/svg\" height=\"24px\"viewBox=\"0 0 24 24\"\n",
              "       width=\"24px\">\n",
              "    <path d=\"M7,19H8.4L18.45,9,17,7.55,7,17.6ZM5,21V16.75L18.45,3.32a2,2,0,0,1,2.83,0l1.4,1.43a1.91,1.91,0,0,1,.58,1.4,1.91,1.91,0,0,1-.58,1.4L9.25,21ZM18.45,9,17,7.55Zm-12,3A5.31,5.31,0,0,0,4.9,8.1,5.31,5.31,0,0,0,1,6.5,5.31,5.31,0,0,0,4.9,4.9,5.31,5.31,0,0,0,6.5,1,5.31,5.31,0,0,0,8.1,4.9,5.31,5.31,0,0,0,12,6.5,5.46,5.46,0,0,0,6.5,12Z\"/>\n",
              "  </svg>\n",
              "    </button>\n",
              "    <script>\n",
              "      (() => {\n",
              "      const buttonEl =\n",
              "        document.querySelector('#id_b05aec8d-0523-462d-8fc0-daf43fe9c312 button.colab-df-generate');\n",
              "      buttonEl.style.display =\n",
              "        google.colab.kernel.accessAllowed ? 'block' : 'none';\n",
              "\n",
              "      buttonEl.onclick = () => {\n",
              "        google.colab.notebook.generateWithVariable('rfm');\n",
              "      }\n",
              "      })();\n",
              "    </script>\n",
              "  </div>\n",
              "\n",
              "    </div>\n",
              "  </div>\n"
            ],
            "application/vnd.google.colaboratory.intrinsic+json": {
              "type": "dataframe",
              "variable_name": "rfm",
              "summary": "{\n  \"name\": \"rfm\",\n  \"rows\": 10000,\n  \"fields\": [\n    {\n      \"column\": \"customer_id\",\n      \"properties\": {\n        \"dtype\": \"number\",\n        \"std\": 2886,\n        \"min\": 1,\n        \"max\": 10000,\n        \"num_unique_values\": 10000,\n        \"samples\": [\n          6253,\n          4685,\n          1732\n        ],\n        \"semantic_type\": \"\",\n        \"description\": \"\"\n      }\n    },\n    {\n      \"column\": \"recency\",\n      \"properties\": {\n        \"dtype\": \"number\",\n        \"std\": 352,\n        \"min\": 40,\n        \"max\": 1627,\n        \"num_unique_values\": 1386,\n        \"samples\": [\n          447,\n          62,\n          1625\n        ],\n        \"semantic_type\": \"\",\n        \"description\": \"\"\n      }\n    },\n    {\n      \"column\": \"frequency\",\n      \"properties\": {\n        \"dtype\": \"number\",\n        \"std\": 0,\n        \"min\": 1,\n        \"max\": 1,\n        \"num_unique_values\": 1,\n        \"samples\": [\n          1\n        ],\n        \"semantic_type\": \"\",\n        \"description\": \"\"\n      }\n    },\n    {\n      \"column\": \"monetary\",\n      \"properties\": {\n        \"dtype\": \"number\",\n        \"std\": 497.57629189214595,\n        \"min\": 10.02,\n        \"max\": 1999.74,\n        \"num_unique_values\": 9593,\n        \"samples\": [\n          1017.88\n        ],\n        \"semantic_type\": \"\",\n        \"description\": \"\"\n      }\n    }\n  ]\n}"
            }
          },
          "metadata": {},
          "execution_count": 56
        }
      ]
    },
    {
      "cell_type": "code",
      "source": [
        "# Assign scores from 1 to 5\n",
        "rfm['r_score'] = pd.cut(rfm['recency'], 5, labels=[5, 4, 3, 2, 1])\n",
        "rfm['f_score'] = pd.cut(rfm['frequency'], 5, labels=[1, 2, 3, 4, 5])\n",
        "rfm['m_score'] = pd.cut(rfm['monetary'], 5, labels=[1, 2, 3, 4, 5])\n",
        "\n",
        "# Combine RFM scores into a single score\n",
        "rfm['rfm_score'] = rfm['r_score'].astype(str) + rfm['f_score'].astype(str) + rfm['m_score'].astype(str)"
      ],
      "metadata": {
        "id": "ZlRzvbwb0FLy"
      },
      "execution_count": null,
      "outputs": []
    },
    {
      "cell_type": "code",
      "source": [
        "# Display the RFM dataframe\n",
        "print(rfm.head())"
      ],
      "metadata": {
        "id": "ORbR9Bqe0IGh",
        "outputId": "1ae7cf2f-ed39-4880-e364-3fab1b031f40",
        "colab": {
          "base_uri": "https://localhost:8080/"
        }
      },
      "execution_count": null,
      "outputs": [
        {
          "output_type": "stream",
          "name": "stdout",
          "text": [
            "     customer_id  recency  frequency  monetary r_score f_score m_score  \\\n",
            "0              1      115          1    165.56       5       3       1   \n",
            "24             2      259          1    443.99       5       3       2   \n",
            "60             3      591          1     68.35       4       3       1   \n",
            "72             4      678          1    204.59       3       3       1   \n",
            "152            5      404          1   1977.50       4       3       5   \n",
            "\n",
            "    rfm_score  \n",
            "0         531  \n",
            "24        532  \n",
            "60        431  \n",
            "72        331  \n",
            "152       435  \n"
          ]
        }
      ]
    },
    {
      "cell_type": "code",
      "source": [
        "# Create RFM segments\n",
        "rfm['rfm_segment'] = pd.qcut(rfm['rfm_score'].astype(int), q=3, labels=['Low', 'Medium', 'High'])"
      ],
      "metadata": {
        "id": "QgZTqMXE0Nn2"
      },
      "execution_count": null,
      "outputs": []
    },
    {
      "cell_type": "code",
      "source": [
        "# Merge RFM data with CLV\n",
        "rfm_clv = rfm.merge(df, on='customer_id')"
      ],
      "metadata": {
        "id": "rDp-IRPE0Qld"
      },
      "execution_count": null,
      "outputs": []
    },
    {
      "cell_type": "code",
      "source": [
        "# Calculate average CLV for each RFM segment\n",
        "average_clv_by_segment = rfm_clv.groupby('rfm_segment')['CLV'].mean().reset_index()\n",
        "\n",
        "print(average_clv_by_segment)"
      ],
      "metadata": {
        "id": "FyJ4leq90bZq",
        "outputId": "d6813d2d-0c6d-4210-e472-a74b3d1f6952",
        "colab": {
          "base_uri": "https://localhost:8080/"
        }
      },
      "execution_count": null,
      "outputs": [
        {
          "output_type": "stream",
          "name": "stdout",
          "text": [
            "  rfm_segment         CLV\n",
            "0         Low  478.056995\n",
            "1      Medium  471.375356\n",
            "2        High  945.139731\n"
          ]
        }
      ]
    },
    {
      "cell_type": "code",
      "source": [
        "import seaborn as sns\n",
        "import matplotlib.pyplot as plt\n",
        "\n",
        "# Bar plot of average CLV by RFM segment\n",
        "plt.figure(figsize=(10, 6))\n",
        "sns.barplot(x='rfm_segment', y='CLV', data=average_clv_by_segment)\n",
        "plt.title('Average CLV by RFM Segment')\n",
        "plt.xlabel('RFM Segment')\n",
        "plt.ylabel('Average Predicted CLV')\n",
        "plt.show()\n"
      ],
      "metadata": {
        "id": "Ef4a3JbM0d5i",
        "outputId": "c017011d-8433-4025-97e2-7e4eddd10bd0",
        "colab": {
          "base_uri": "https://localhost:8080/",
          "height": 564
        }
      },
      "execution_count": null,
      "outputs": [
        {
          "output_type": "display_data",
          "data": {
            "text/plain": [
              "<Figure size 1000x600 with 1 Axes>"
            ],
            "image/png": "[encoded data removed]"
          },
          "metadata": {}
        }
      ]
    },
    {
      "cell_type": "code",
      "source": [
        "# Further segment customers based on CLV\n",
        "rfm_clv['CLV_Segment'] = pd.qcut(rfm_clv['CLV'], q=3, labels=['Low CLV', 'Medium CLV', 'High CLV'])\n",
        "\n",
        "# Display the combined segments\n",
        "print(rfm_clv)"
      ],
      "metadata": {
        "id": "0SU39Jkb044M",
        "outputId": "01e6baba-8932-4763-f613-0e5cc66214ae",
        "colab": {
          "base_uri": "https://localhost:8080/"
        }
      },
      "execution_count": null,
      "outputs": [
        {
          "output_type": "stream",
          "name": "stdout",
          "text": [
            "      customer_id  recency_x  frequency_x  monetary_x r_score f_score m_score  \\\n",
            "0               1        115            1      165.56       5       3       1   \n",
            "1               2        259            1      443.99       5       3       2   \n",
            "2               3        591            1       68.35       4       3       1   \n",
            "3               4        678            1      204.59       3       3       1   \n",
            "4               5        404            1     1977.50       4       3       5   \n",
            "...           ...        ...          ...         ...     ...     ...     ...   \n",
            "9995         9996        332            1     1726.74       5       3       5   \n",
            "9996         9997        532            1      465.80       4       3       2   \n",
            "9997         9998        162            1     1176.86       5       3       3   \n",
            "9998         9999        726            1      250.62       3       3       1   \n",
            "9999        10000        313            1     1385.55       5       3       4   \n",
            "\n",
            "     rfm_score rfm_segment            join_date  ...    avg_spent  \\\n",
            "0          531      Medium  1700438400000000000  ...   584.913333   \n",
            "1          532        High  1631059200000000000  ...   675.702222   \n",
            "2          431         Low  1622505600000000000  ...   242.478333   \n",
            "3          331         Low  1640995200000000000  ...   393.734000   \n",
            "4          435      Medium  1642982400000000000  ...   646.856250   \n",
            "...        ...         ...                  ...  ...          ...   \n",
            "9995       535        High  1671148800000000000  ...   549.820000   \n",
            "9996       432      Medium  1657324800000000000  ...   487.358333   \n",
            "9997       533        High  1694908800000000000  ...  1167.710000   \n",
            "9998       331         Low  1652140800000000000  ...   560.155000   \n",
            "9999       534        High  1685059200000000000  ...   577.583000   \n",
            "\n",
            "      transaction_count  avg_site_visits  avg_clicks  avg_emails_opened  \\\n",
            "0                    24             10.0         1.0               15.0   \n",
            "1                    36            285.0        51.0               49.0   \n",
            "2                    12            192.0        25.0               73.0   \n",
            "3                    80            110.0        17.0               30.0   \n",
            "4                    96            161.0         7.0                2.0   \n",
            "...                 ...              ...         ...                ...   \n",
            "9995                 30            119.0        16.0               47.0   \n",
            "9996                 12              3.0        14.0               33.0   \n",
            "9997                  3             53.0         5.0               17.0   \n",
            "9998                 24             23.0         4.0                5.0   \n",
            "9999                 20             12.0         7.0               12.0   \n",
            "\n",
            "      recency_y  frequency_y  monetary_y      CLV  CLV_Segment  \n",
            "0           115            1      165.56   165.56      Low CLV  \n",
            "1           259            1      443.99   443.99   Medium CLV  \n",
            "2           591            1       68.35    68.35      Low CLV  \n",
            "3           678            1      204.59   204.59      Low CLV  \n",
            "4           404            1     1977.50  1977.50     High CLV  \n",
            "...         ...          ...         ...      ...          ...  \n",
            "9995        332            1     1726.74  1726.74     High CLV  \n",
            "9996        532            1      465.80   465.80   Medium CLV  \n",
            "9997        162            1     1176.86  1176.86     High CLV  \n",
            "9998        726            1      250.62   250.62      Low CLV  \n",
            "9999        313            1     1385.55  1385.55     High CLV  \n",
            "\n",
            "[10000 rows x 7747 columns]\n"
          ]
        }
      ]
    },
    {
      "cell_type": "code",
      "source": [
        "# Visualize combined segments\n",
        "plt.figure(figsize=(10, 6))\n",
        "sns.countplot(x='rfm_segment', hue='CLV_Segment', data=rfm_clv)\n",
        "plt.title('RFM Segment vs CLV Segment')\n",
        "plt.xlabel('RFM Segment')\n",
        "plt.ylabel('Count')\n",
        "plt.legend(title='CLV Segment')\n",
        "plt.show()\n"
      ],
      "metadata": {
        "id": "sgTQJo_L1EcH",
        "outputId": "ae88463f-ca47-4a61-86b0-da76d54d1266",
        "colab": {
          "base_uri": "https://localhost:8080/",
          "height": 564
        }
      },
      "execution_count": null,
      "outputs": [
        {
          "output_type": "display_data",
          "data": {
            "text/plain": [
              "<Figure size 1000x600 with 1 Axes>"
            ],
            "image/png": "[encoded data removed]"
          },
          "metadata": {}
        }
      ]
    }
  ],
  "metadata": {
    "kernelspec": {
      "display_name": "Python 3",
      "language": "python",
      "name": "python3"
    },
    "language_info": {
      "codemirror_mode": {
        "name": "ipython",
        "version": 3
      },
      "file_extension": ".py",
      "mimetype": "text/x-python",
      "name": "python",
      "nbconvert_exporter": "python",
      "pygments_lexer": "ipython3",
      "version": "3.12.3"
    },
    "colab": {
      "provenance": [],
      "include_colab_link": true
    }
  },
  "nbformat": 4,
  "nbformat_minor": 0
}