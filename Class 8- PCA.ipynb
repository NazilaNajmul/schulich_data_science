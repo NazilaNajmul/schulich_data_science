{
 "cells": [
  {
   "cell_type": "code",
   "execution_count": 1,
   "metadata": {},
   "outputs": [
    {
     "name": "stdout",
     "output_type": "stream",
     "text": [
      "Number of components: 2, F1 Score: 0.9667\n",
      "Number of components: 3, F1 Score: 0.9733\n",
      "Number of components: 4, F1 Score: 0.9733\n"
     ]
    }
   ],
   "source": [
    "import numpy as np\n",
    "from sklearn.decomposition import PCA\n",
    "from sklearn.datasets import load_iris\n",
    "from sklearn.linear_model import LogisticRegression\n",
    "from sklearn.metrics import f1_score\n",
    "\n",
    "# Load the Iris dataset\n",
    "X, y = load_iris(return_X_y=True)\n",
    "\n",
    "# List to store F1 scores for different numbers of principal components\n",
    "f1_scores = []\n",
    "\n",
    "# Loop over the desired number of principal components\n",
    "for n_components in [2, 3, 4]:\n",
    "    # Apply PCA\n",
    "    pca = PCA(n_components=n_components)\n",
    "    Z = pca.fit_transform(X)\n",
    "    \n",
    "    # Fit Logistic Regression model\n",
    "    model = LogisticRegression(random_state=0, max_iter=1000).fit(Z, y)\n",
    "    \n",
    "    # Make predictions\n",
    "    predictions = model.predict(Z)\n",
    "    \n",
    "    # Calculate F1 score\n",
    "    f1 = f1_score(y, predictions, average='weighted')\n",
    "    f1_scores.append((n_components, f1))\n",
    "\n",
    "# Display the F1 scores\n",
    "for n_components, f1 in f1_scores:\n",
    "    print(f\"Number of components: {n_components}, F1 Score: {f1:.4f}\")"
   ]
  }
 ],
 "metadata": {
  "kernelspec": {
   "display_name": "Python 3",
   "language": "python",
   "name": "python3"
  },
  "language_info": {
   "codemirror_mode": {
    "name": "ipython",
    "version": 3
   },
   "file_extension": ".py",
   "mimetype": "text/x-python",
   "name": "python",
   "nbconvert_exporter": "python",
   "pygments_lexer": "ipython3",
   "version": "3.12.3"
  }
 },
 "nbformat": 4,
 "nbformat_minor": 2
}
